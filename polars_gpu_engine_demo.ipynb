{
  "cells": [
    {
      "cell_type": "markdown",
      "id": "3ee31ce0-49be-4f82-ab61-4d7f830ddca7",
      "metadata": {
        "id": "3ee31ce0-49be-4f82-ab61-4d7f830ddca7"
      },
      "source": [
        "## Introduction to the Polars GPU Engine\n",
        "\n",
        "Polars is a popular single machine DataFrame library powered by an OLAP Query Engine. Beginning in the v1.3 release, Polars can now leverage NVIDIA GPUs for even higher performance through its GPU engine (powered by RAPIDS cuDF).\n",
        "\n",
        "Designed to make processing 10-100+ GBs of data feel interactive with just a single GPU, this new engine is built directly into the Polars Lazy API – just pass <font color=\"#76B900\">**engine=\"gpu\"**</font> to the `collect` operation.\n",
        "\n",
        "The GPU engine fully utilizes the Polars optimizer to ensure efficient execution and minimal memory usage, is compatible with the ecosystem of tools built for Polars, and has graceful CPU fallback for unsupported queries.\n",
        "\n",
        "This notebook is a short introduction to the Polars GPU engine, powered by cuDF."
      ]
    },
    {
      "cell_type": "code",
      "execution_count": 40,
      "id": "06582ce0-5db4-46e6-8ced-1e65f97e54b1",
      "metadata": {
        "colab": {
          "base_uri": "https://localhost:8080/"
        },
        "id": "06582ce0-5db4-46e6-8ced-1e65f97e54b1",
        "outputId": "b0ff691e-a8d3-4b75-bd6b-6d030164f421"
      },
      "outputs": [
        {
          "output_type": "stream",
          "name": "stdout",
          "text": [
            "Mon Oct 28 08:10:18 2024       \n",
            "+---------------------------------------------------------------------------------------+\n",
            "| NVIDIA-SMI 535.104.05             Driver Version: 535.104.05   CUDA Version: 12.2     |\n",
            "|-----------------------------------------+----------------------+----------------------+\n",
            "| GPU  Name                 Persistence-M | Bus-Id        Disp.A | Volatile Uncorr. ECC |\n",
            "| Fan  Temp   Perf          Pwr:Usage/Cap |         Memory-Usage | GPU-Util  Compute M. |\n",
            "|                                         |                      |               MIG M. |\n",
            "|=========================================+======================+======================|\n",
            "|   0  Tesla T4                       Off | 00000000:00:04.0 Off |                    0 |\n",
            "| N/A   47C    P0              28W /  70W |   7641MiB / 15360MiB |      0%      Default |\n"
          ]
        }
      ],
      "source": [
        "!nvidia-smi | head"
      ]
    },
    {
      "cell_type": "markdown",
      "id": "W_-gtW5OFaXw",
      "metadata": {
        "id": "W_-gtW5OFaXw"
      },
      "source": [
        "# Setup"
      ]
    },
    {
      "cell_type": "markdown",
      "id": "TabS5fiHG0dG",
      "metadata": {
        "id": "TabS5fiHG0dG"
      },
      "source": [
        "## Installing the Polars GPU Engine\n",
        "\n",
        "Install Polars with GPU Engine by using a feature flag in the standard pip install command  `pip install polars[gpu] --extra-index-url=https://pypi.nvidia.com`.\n",
        "\n",
        "Since this notebook may be used in environments with an existing Polars installation (e.g., Google Colab), we'll add the `-U` flag to upgrade Polars if it's already present."
      ]
    },
    {
      "cell_type": "code",
      "execution_count": 41,
      "id": "vu5rC3MQf3wr",
      "metadata": {
        "id": "vu5rC3MQf3wr",
        "outputId": "b1096c47-d926-4baf-aa93-99ef8539a7b0",
        "colab": {
          "base_uri": "https://localhost:8080/"
        }
      },
      "outputs": [
        {
          "output_type": "stream",
          "name": "stdout",
          "text": [
            "Requirement already satisfied: polars==1.5 in /usr/local/lib/python3.10/dist-packages (1.5.0)\n",
            "Looking in indexes: https://pypi.org/simple, https://pypi.anaconda.org/rapidsai-wheels-nightly/simple\n",
            "Processing ./cudf_polars_cu12-24.8.0a433-py3-none-any.whl\n",
            "Requirement already satisfied: cudf-cu12==24.8.*,>=0.0.0a0 in /usr/local/lib/python3.10/dist-packages (from cudf-polars-cu12==24.8.0a433) (24.8.3)\n",
            "Requirement already satisfied: polars>=1.3 in /usr/local/lib/python3.10/dist-packages (from cudf-polars-cu12==24.8.0a433) (1.5.0)\n",
            "Requirement already satisfied: cachetools in /usr/local/lib/python3.10/dist-packages (from cudf-cu12==24.8.*,>=0.0.0a0->cudf-polars-cu12==24.8.0a433) (5.5.0)\n",
            "Requirement already satisfied: cuda-python<13.0a0,>=12.0 in /usr/local/lib/python3.10/dist-packages (from cudf-cu12==24.8.*,>=0.0.0a0->cudf-polars-cu12==24.8.0a433) (12.2.1)\n",
            "Requirement already satisfied: cupy-cuda12x>=12.0.0 in /usr/local/lib/python3.10/dist-packages (from cudf-cu12==24.8.*,>=0.0.0a0->cudf-polars-cu12==24.8.0a433) (12.2.0)\n",
            "Requirement already satisfied: fsspec>=0.6.0 in /usr/local/lib/python3.10/dist-packages (from cudf-cu12==24.8.*,>=0.0.0a0->cudf-polars-cu12==24.8.0a433) (2024.6.1)\n",
            "Requirement already satisfied: numba>=0.57 in /usr/local/lib/python3.10/dist-packages (from cudf-cu12==24.8.*,>=0.0.0a0->cudf-polars-cu12==24.8.0a433) (0.60.0)\n",
            "Requirement already satisfied: numpy<2.0a0,>=1.23 in /usr/local/lib/python3.10/dist-packages (from cudf-cu12==24.8.*,>=0.0.0a0->cudf-polars-cu12==24.8.0a433) (1.26.4)\n",
            "Requirement already satisfied: nvtx>=0.2.1 in /usr/local/lib/python3.10/dist-packages (from cudf-cu12==24.8.*,>=0.0.0a0->cudf-polars-cu12==24.8.0a433) (0.2.10)\n",
            "Requirement already satisfied: packaging in /usr/local/lib/python3.10/dist-packages (from cudf-cu12==24.8.*,>=0.0.0a0->cudf-polars-cu12==24.8.0a433) (24.1)\n",
            "Requirement already satisfied: pandas<2.2.3dev0,>=2.0 in /usr/local/lib/python3.10/dist-packages (from cudf-cu12==24.8.*,>=0.0.0a0->cudf-polars-cu12==24.8.0a433) (2.2.2)\n",
            "Requirement already satisfied: pyarrow<16.2.0a0,>=16.1.0 in /usr/local/lib/python3.10/dist-packages (from cudf-cu12==24.8.*,>=0.0.0a0->cudf-polars-cu12==24.8.0a433) (16.1.0)\n",
            "Requirement already satisfied: pynvjitlink-cu12 in /usr/local/lib/python3.10/dist-packages (from cudf-cu12==24.8.*,>=0.0.0a0->cudf-polars-cu12==24.8.0a433) (0.3.0)\n",
            "Requirement already satisfied: rich in /usr/local/lib/python3.10/dist-packages (from cudf-cu12==24.8.*,>=0.0.0a0->cudf-polars-cu12==24.8.0a433) (13.9.3)\n",
            "Requirement already satisfied: rmm-cu12==24.8.* in /usr/local/lib/python3.10/dist-packages (from cudf-cu12==24.8.*,>=0.0.0a0->cudf-polars-cu12==24.8.0a433) (24.8.2)\n",
            "Requirement already satisfied: typing_extensions>=4.0.0 in /usr/local/lib/python3.10/dist-packages (from cudf-cu12==24.8.*,>=0.0.0a0->cudf-polars-cu12==24.8.0a433) (4.12.2)\n",
            "Requirement already satisfied: cython in /usr/local/lib/python3.10/dist-packages (from cuda-python<13.0a0,>=12.0->cudf-cu12==24.8.*,>=0.0.0a0->cudf-polars-cu12==24.8.0a433) (3.0.11)\n",
            "Requirement already satisfied: fastrlock>=0.5 in /usr/local/lib/python3.10/dist-packages (from cupy-cuda12x>=12.0.0->cudf-cu12==24.8.*,>=0.0.0a0->cudf-polars-cu12==24.8.0a433) (0.8.2)\n",
            "Requirement already satisfied: llvmlite<0.44,>=0.43.0dev0 in /usr/local/lib/python3.10/dist-packages (from numba>=0.57->cudf-cu12==24.8.*,>=0.0.0a0->cudf-polars-cu12==24.8.0a433) (0.43.0)\n",
            "Requirement already satisfied: python-dateutil>=2.8.2 in /usr/local/lib/python3.10/dist-packages (from pandas<2.2.3dev0,>=2.0->cudf-cu12==24.8.*,>=0.0.0a0->cudf-polars-cu12==24.8.0a433) (2.8.2)\n",
            "Requirement already satisfied: pytz>=2020.1 in /usr/local/lib/python3.10/dist-packages (from pandas<2.2.3dev0,>=2.0->cudf-cu12==24.8.*,>=0.0.0a0->cudf-polars-cu12==24.8.0a433) (2024.2)\n",
            "Requirement already satisfied: tzdata>=2022.7 in /usr/local/lib/python3.10/dist-packages (from pandas<2.2.3dev0,>=2.0->cudf-cu12==24.8.*,>=0.0.0a0->cudf-polars-cu12==24.8.0a433) (2024.2)\n",
            "Requirement already satisfied: markdown-it-py>=2.2.0 in /usr/local/lib/python3.10/dist-packages (from rich->cudf-cu12==24.8.*,>=0.0.0a0->cudf-polars-cu12==24.8.0a433) (3.0.0)\n",
            "Requirement already satisfied: pygments<3.0.0,>=2.13.0 in /usr/local/lib/python3.10/dist-packages (from rich->cudf-cu12==24.8.*,>=0.0.0a0->cudf-polars-cu12==24.8.0a433) (2.18.0)\n",
            "Requirement already satisfied: mdurl~=0.1 in /usr/local/lib/python3.10/dist-packages (from markdown-it-py>=2.2.0->rich->cudf-cu12==24.8.*,>=0.0.0a0->cudf-polars-cu12==24.8.0a433) (0.1.2)\n",
            "Requirement already satisfied: six>=1.5 in /usr/local/lib/python3.10/dist-packages (from python-dateutil>=2.8.2->pandas<2.2.3dev0,>=2.0->cudf-cu12==24.8.*,>=0.0.0a0->cudf-polars-cu12==24.8.0a433) (1.16.0)\n",
            "cudf-polars-cu12 is already installed with the same version as the provided wheel. Use --force-reinstall to force an installation of the wheel.\n"
          ]
        }
      ],
      "source": [
        "!pip install polars==1.5\n",
        "!pip install \"cudf_polars_cu12-24.8.0a433-py3-none-any.whl\" --extra-index-url=https://pypi.anaconda.org/rapidsai-wheels-nightly/simple"
      ]
    },
    {
      "cell_type": "markdown",
      "id": "VennSeDTFf6W",
      "metadata": {
        "id": "VennSeDTFf6W"
      },
      "source": [
        "# Install Other Important Dependencies\n",
        "To use the built-in data visualization capabilities of Polars, you'll need to install a few additional dependencies.  We'll also install pynvml to help us determine which dataset size to use."
      ]
    },
    {
      "cell_type": "code",
      "execution_count": 42,
      "id": "FkCyRc9ufSWS",
      "metadata": {
        "id": "FkCyRc9ufSWS",
        "outputId": "a8bebc24-986d-40d4-e59a-54dc4ef0b637",
        "colab": {
          "base_uri": "https://localhost:8080/"
        }
      },
      "outputs": [
        {
          "output_type": "stream",
          "name": "stdout",
          "text": [
            "Requirement already satisfied: hvplot in /usr/local/lib/python3.10/dist-packages (0.11.1)\n",
            "Requirement already satisfied: jupyter_bokeh in /usr/local/lib/python3.10/dist-packages (4.0.5)\n",
            "Requirement already satisfied: holoviews==1.19 in /usr/local/lib/python3.10/dist-packages (1.19.0)\n",
            "Requirement already satisfied: pynvml in /usr/local/lib/python3.10/dist-packages (11.5.3)\n",
            "Requirement already satisfied: bokeh>=3.1 in /usr/local/lib/python3.10/dist-packages (from holoviews==1.19) (3.4.3)\n",
            "Requirement already satisfied: colorcet in /usr/local/lib/python3.10/dist-packages (from holoviews==1.19) (3.1.0)\n",
            "Requirement already satisfied: numpy>=1.21 in /usr/local/lib/python3.10/dist-packages (from holoviews==1.19) (1.26.4)\n",
            "Requirement already satisfied: packaging in /usr/local/lib/python3.10/dist-packages (from holoviews==1.19) (24.1)\n",
            "Requirement already satisfied: pandas>=1.3 in /usr/local/lib/python3.10/dist-packages (from holoviews==1.19) (2.2.2)\n",
            "Requirement already satisfied: panel>=1.0 in /usr/local/lib/python3.10/dist-packages (from holoviews==1.19) (1.4.5)\n",
            "Requirement already satisfied: param<3.0,>=2.0 in /usr/local/lib/python3.10/dist-packages (from holoviews==1.19) (2.1.1)\n",
            "Requirement already satisfied: pyviz-comms>=2.1 in /usr/local/lib/python3.10/dist-packages (from holoviews==1.19) (3.0.3)\n",
            "Requirement already satisfied: ipywidgets==8.* in /usr/local/lib/python3.10/dist-packages (from jupyter_bokeh) (8.1.5)\n",
            "Requirement already satisfied: Jinja2>=2.9 in /usr/local/lib/python3.10/dist-packages (from bokeh>=3.1->holoviews==1.19) (3.1.4)\n",
            "Requirement already satisfied: contourpy>=1.2 in /usr/local/lib/python3.10/dist-packages (from bokeh>=3.1->holoviews==1.19) (1.3.0)\n",
            "Requirement already satisfied: pillow>=7.1.0 in /usr/local/lib/python3.10/dist-packages (from bokeh>=3.1->holoviews==1.19) (10.4.0)\n",
            "Requirement already satisfied: PyYAML>=3.10 in /usr/local/lib/python3.10/dist-packages (from bokeh>=3.1->holoviews==1.19) (6.0.2)\n",
            "Requirement already satisfied: tornado>=6.2 in /usr/local/lib/python3.10/dist-packages (from bokeh>=3.1->holoviews==1.19) (6.3.3)\n",
            "Requirement already satisfied: xyzservices>=2021.09.1 in /usr/local/lib/python3.10/dist-packages (from bokeh>=3.1->holoviews==1.19) (2024.9.0)\n",
            "Requirement already satisfied: comm>=0.1.3 in /usr/local/lib/python3.10/dist-packages (from ipywidgets==8.*->jupyter_bokeh) (0.2.2)\n",
            "Requirement already satisfied: ipython>=6.1.0 in /usr/local/lib/python3.10/dist-packages (from ipywidgets==8.*->jupyter_bokeh) (7.34.0)\n",
            "Requirement already satisfied: traitlets>=4.3.1 in /usr/local/lib/python3.10/dist-packages (from ipywidgets==8.*->jupyter_bokeh) (5.7.1)\n",
            "Requirement already satisfied: widgetsnbextension~=4.0.12 in /usr/local/lib/python3.10/dist-packages (from ipywidgets==8.*->jupyter_bokeh) (4.0.13)\n",
            "Requirement already satisfied: jupyterlab-widgets~=3.0.12 in /usr/local/lib/python3.10/dist-packages (from ipywidgets==8.*->jupyter_bokeh) (3.0.13)\n",
            "Requirement already satisfied: python-dateutil>=2.8.2 in /usr/local/lib/python3.10/dist-packages (from pandas>=1.3->holoviews==1.19) (2.8.2)\n",
            "Requirement already satisfied: pytz>=2020.1 in /usr/local/lib/python3.10/dist-packages (from pandas>=1.3->holoviews==1.19) (2024.2)\n",
            "Requirement already satisfied: tzdata>=2022.7 in /usr/local/lib/python3.10/dist-packages (from pandas>=1.3->holoviews==1.19) (2024.2)\n",
            "Requirement already satisfied: markdown in /usr/local/lib/python3.10/dist-packages (from panel>=1.0->holoviews==1.19) (3.7)\n",
            "Requirement already satisfied: markdown-it-py in /usr/local/lib/python3.10/dist-packages (from panel>=1.0->holoviews==1.19) (3.0.0)\n",
            "Requirement already satisfied: linkify-it-py in /usr/local/lib/python3.10/dist-packages (from panel>=1.0->holoviews==1.19) (2.0.3)\n",
            "Requirement already satisfied: mdit-py-plugins in /usr/local/lib/python3.10/dist-packages (from panel>=1.0->holoviews==1.19) (0.4.2)\n",
            "Requirement already satisfied: requests in /usr/local/lib/python3.10/dist-packages (from panel>=1.0->holoviews==1.19) (2.32.3)\n",
            "Requirement already satisfied: tqdm>=4.48.0 in /usr/local/lib/python3.10/dist-packages (from panel>=1.0->holoviews==1.19) (4.66.5)\n",
            "Requirement already satisfied: bleach in /usr/local/lib/python3.10/dist-packages (from panel>=1.0->holoviews==1.19) (6.1.0)\n",
            "Requirement already satisfied: typing-extensions in /usr/local/lib/python3.10/dist-packages (from panel>=1.0->holoviews==1.19) (4.12.2)\n",
            "Requirement already satisfied: setuptools>=18.5 in /usr/local/lib/python3.10/dist-packages (from ipython>=6.1.0->ipywidgets==8.*->jupyter_bokeh) (75.1.0)\n",
            "Requirement already satisfied: jedi>=0.16 in /usr/local/lib/python3.10/dist-packages (from ipython>=6.1.0->ipywidgets==8.*->jupyter_bokeh) (0.19.1)\n",
            "Requirement already satisfied: decorator in /usr/local/lib/python3.10/dist-packages (from ipython>=6.1.0->ipywidgets==8.*->jupyter_bokeh) (4.4.2)\n",
            "Requirement already satisfied: pickleshare in /usr/local/lib/python3.10/dist-packages (from ipython>=6.1.0->ipywidgets==8.*->jupyter_bokeh) (0.7.5)\n",
            "Requirement already satisfied: prompt-toolkit!=3.0.0,!=3.0.1,<3.1.0,>=2.0.0 in /usr/local/lib/python3.10/dist-packages (from ipython>=6.1.0->ipywidgets==8.*->jupyter_bokeh) (3.0.48)\n",
            "Requirement already satisfied: pygments in /usr/local/lib/python3.10/dist-packages (from ipython>=6.1.0->ipywidgets==8.*->jupyter_bokeh) (2.18.0)\n",
            "Requirement already satisfied: backcall in /usr/local/lib/python3.10/dist-packages (from ipython>=6.1.0->ipywidgets==8.*->jupyter_bokeh) (0.2.0)\n",
            "Requirement already satisfied: matplotlib-inline in /usr/local/lib/python3.10/dist-packages (from ipython>=6.1.0->ipywidgets==8.*->jupyter_bokeh) (0.1.7)\n",
            "Requirement already satisfied: pexpect>4.3 in /usr/local/lib/python3.10/dist-packages (from ipython>=6.1.0->ipywidgets==8.*->jupyter_bokeh) (4.9.0)\n",
            "Requirement already satisfied: MarkupSafe>=2.0 in /usr/local/lib/python3.10/dist-packages (from Jinja2>=2.9->bokeh>=3.1->holoviews==1.19) (3.0.2)\n",
            "Requirement already satisfied: six>=1.5 in /usr/local/lib/python3.10/dist-packages (from python-dateutil>=2.8.2->pandas>=1.3->holoviews==1.19) (1.16.0)\n",
            "Requirement already satisfied: webencodings in /usr/local/lib/python3.10/dist-packages (from bleach->panel>=1.0->holoviews==1.19) (0.5.1)\n",
            "Requirement already satisfied: uc-micro-py in /usr/local/lib/python3.10/dist-packages (from linkify-it-py->panel>=1.0->holoviews==1.19) (1.0.3)\n",
            "Requirement already satisfied: mdurl~=0.1 in /usr/local/lib/python3.10/dist-packages (from markdown-it-py->panel>=1.0->holoviews==1.19) (0.1.2)\n",
            "Requirement already satisfied: charset-normalizer<4,>=2 in /usr/local/lib/python3.10/dist-packages (from requests->panel>=1.0->holoviews==1.19) (3.4.0)\n",
            "Requirement already satisfied: idna<4,>=2.5 in /usr/local/lib/python3.10/dist-packages (from requests->panel>=1.0->holoviews==1.19) (3.10)\n",
            "Requirement already satisfied: urllib3<3,>=1.21.1 in /usr/local/lib/python3.10/dist-packages (from requests->panel>=1.0->holoviews==1.19) (2.2.3)\n",
            "Requirement already satisfied: certifi>=2017.4.17 in /usr/local/lib/python3.10/dist-packages (from requests->panel>=1.0->holoviews==1.19) (2024.8.30)\n",
            "Requirement already satisfied: parso<0.9.0,>=0.8.3 in /usr/local/lib/python3.10/dist-packages (from jedi>=0.16->ipython>=6.1.0->ipywidgets==8.*->jupyter_bokeh) (0.8.4)\n",
            "Requirement already satisfied: ptyprocess>=0.5 in /usr/local/lib/python3.10/dist-packages (from pexpect>4.3->ipython>=6.1.0->ipywidgets==8.*->jupyter_bokeh) (0.7.0)\n",
            "Requirement already satisfied: wcwidth in /usr/local/lib/python3.10/dist-packages (from prompt-toolkit!=3.0.0,!=3.0.1,<3.1.0,>=2.0.0->ipython>=6.1.0->ipywidgets==8.*->jupyter_bokeh) (0.2.13)\n"
          ]
        }
      ],
      "source": [
        "!pip install hvplot jupyter_bokeh holoviews==1.19 pynvml"
      ]
    },
    {
      "cell_type": "markdown",
      "id": "420f36d3-b9c6-43b1-bdd7-a18ede3a1330",
      "metadata": {
        "id": "420f36d3-b9c6-43b1-bdd7-a18ede3a1330"
      },
      "source": [
        "## Download the Data\n",
        "\n",
        "We'll be working with a roughly 22GB dataset of [simulated financial transactions from Kaggle](https://www.kaggle.com/datasets/conorsully1/simulated-transactions) by default. If you're running this notebook on Google Colab using the T4 GPU in the Colab free tier, we'll download a smaller version of this dataset (about 20% of the size) to fit on the relatively weaker CPU and GPU.\n",
        "\n",
        "We're downloading a copy of this dataset from a GCS bucket hosted by NVIDIA to provide faster download speeds. We'll start by downloading the data. This should take about 30 seconds."
      ]
    },
    {
      "cell_type": "code",
      "execution_count": 43,
      "id": "cea57483-1979-4715-a5c8-c48bc8f63667",
      "metadata": {
        "colab": {
          "base_uri": "https://localhost:8080/"
        },
        "id": "cea57483-1979-4715-a5c8-c48bc8f63667",
        "outputId": "2fd641ce-cea4-45d2-ba89-5a750012f079"
      },
      "outputs": [
        {
          "output_type": "stream",
          "name": "stdout",
          "text": [
            "--2024-10-28 08:13:06--  https://storage.googleapis.com/rapidsai/polars-demo/transactions-t4-20.parquet\n",
            "Resolving storage.googleapis.com (storage.googleapis.com)... 142.250.99.207, 108.177.98.207, 74.125.20.207, ...\n",
            "Connecting to storage.googleapis.com (storage.googleapis.com)|142.250.99.207|:443... connected.\n",
            "HTTP request sent, awaiting response... 200 OK\n",
            "Length: 857658422 (818M) [application/octet-stream]\n",
            "Saving to: ‘transactions.parquet’\n",
            "\n",
            "transactions.parque 100%[===================>] 817.93M   183MB/s    in 8.5s    \n",
            "\n",
            "2024-10-28 08:13:15 (95.8 MB/s) - ‘transactions.parquet’ saved [857658422/857658422]\n",
            "\n",
            "--2024-10-28 08:13:15--  https://storage.googleapis.com/rapidsai/polars-demo/rainfall_data_2010_2020.csv\n",
            "Resolving storage.googleapis.com (storage.googleapis.com)... 142.250.99.207, 108.177.98.207, 74.125.20.207, ...\n",
            "Connecting to storage.googleapis.com (storage.googleapis.com)|142.250.99.207|:443... connected.\n",
            "HTTP request sent, awaiting response... 200 OK\n",
            "Length: 131421 (128K) [text/csv]\n",
            "Saving to: ‘rainfall_data_2010_2020.csv.3’\n",
            "\n",
            "rainfall_data_2010_ 100%[===================>] 128.34K  --.-KB/s    in 0.003s  \n",
            "\n",
            "2024-10-28 08:13:15 (48.0 MB/s) - ‘rainfall_data_2010_2020.csv.3’ saved [131421/131421]\n",
            "\n"
          ]
        }
      ],
      "source": [
        "import pynvml\n",
        "pynvml.nvmlInit()\n",
        "pynvml.nvmlDeviceGetName(pynvml.nvmlDeviceGetHandleByIndex(0))\n",
        "mem = pynvml.nvmlDeviceGetMemoryInfo(pynvml.nvmlDeviceGetHandleByIndex(0))\n",
        "mem = mem.total/1e9\n",
        "if mem < 24:\n",
        "    !wget https://storage.googleapis.com/rapidsai/polars-demo/transactions-t4-20.parquet -O transactions.parquet\n",
        "else:\n",
        "    !wget https://storage.googleapis.com/rapidsai/polars-demo/transactions.parquet -O transactions.parquet\n",
        "\n",
        "!wget https://storage.googleapis.com/rapidsai/polars-demo/rainfall_data_2010_2020.csv"
      ]
    },
    {
      "cell_type": "markdown",
      "id": "c642c436-05cf-472a-833e-4c8872bdd269",
      "metadata": {
        "id": "c642c436-05cf-472a-833e-4c8872bdd269"
      },
      "source": [
        "## Data License and Terms\n",
        "As this dataset originates from Kaggle, it's governed by a Kaggle dataset-specific license and terms of use.\n",
        "\n",
        "> ### CC0 1.0 Universal\n",
        "> **No Copyright**\n",
        "\n",
        ">The person who associated a work with this deed has dedicated the work to the public domain by waiving all of his or her rights to the work worldwide under copyright law, including all related and neighboring rights, to the extent allowed by law.\n",
        "You can copy, modify, distribute and perform the work, even for commercial purposes, all without asking permission. See Other Information below.\n",
        "\n",
        "> **Other Information**\n",
        "\n",
        ">In no way are the patent or trademark rights of any person affected by CC0, nor are the rights that other persons may have in the work or in how the work is used, such as publicity or privacy rights.\n",
        "Unless expressly stated otherwise, the person who associated a work with this deed makes no warranties about the work, and disclaims liability for all uses of the work, to the fullest extent permitted by applicable law.\n",
        "When using or citing the work, you should not imply endorsement by the author or the affirmer.\n"
      ]
    },
    {
      "cell_type": "markdown",
      "id": "a07de20a-ef6f-40fe-ab00-8a11e9c4f1e3",
      "metadata": {
        "id": "a07de20a-ef6f-40fe-ab00-8a11e9c4f1e3"
      },
      "source": [
        "# Getting Started"
      ]
    },
    {
      "cell_type": "markdown",
      "id": "ea333c53-6402-43d6-b196-91d7e199b315",
      "metadata": {
        "id": "ea333c53-6402-43d6-b196-91d7e199b315"
      },
      "source": [
        "With this dataset, we expect to see some meaningful performance benefits using NVIDIA GPUs for computationally heavy queries and limited benefits for basic queries that are primarily bottlenecked by reading data.\n",
        "\n",
        "To begin, let's use Polars to read the parquet file and look at the schema and first few rows."
      ]
    },
    {
      "cell_type": "code",
      "execution_count": 44,
      "id": "eb8364ee-3db7-40ae-80bd-76572c4e41ff",
      "metadata": {
        "id": "eb8364ee-3db7-40ae-80bd-76572c4e41ff",
        "tags": [],
        "outputId": "c00f880c-631e-424c-fa49-28d5187c28db",
        "colab": {
          "base_uri": "https://localhost:8080/",
          "height": 17
        }
      },
      "outputs": [
        {
          "output_type": "display_data",
          "data": {
            "application/javascript": [
              "(function(root) {\n",
              "  function now() {\n",
              "    return new Date();\n",
              "  }\n",
              "\n",
              "  var force = true;\n",
              "  var py_version = '3.4.3'.replace('rc', '-rc.').replace('.dev', '-dev.');\n",
              "  var reloading = false;\n",
              "  var Bokeh = root.Bokeh;\n",
              "\n",
              "  if (typeof (root._bokeh_timeout) === \"undefined\" || force) {\n",
              "    root._bokeh_timeout = Date.now() + 5000;\n",
              "    root._bokeh_failed_load = false;\n",
              "  }\n",
              "\n",
              "  function run_callbacks() {\n",
              "    try {\n",
              "      root._bokeh_onload_callbacks.forEach(function(callback) {\n",
              "        if (callback != null)\n",
              "          callback();\n",
              "      });\n",
              "    } finally {\n",
              "      delete root._bokeh_onload_callbacks;\n",
              "    }\n",
              "    console.debug(\"Bokeh: all callbacks have finished\");\n",
              "  }\n",
              "\n",
              "  function load_libs(css_urls, js_urls, js_modules, js_exports, callback) {\n",
              "    if (css_urls == null) css_urls = [];\n",
              "    if (js_urls == null) js_urls = [];\n",
              "    if (js_modules == null) js_modules = [];\n",
              "    if (js_exports == null) js_exports = {};\n",
              "\n",
              "    root._bokeh_onload_callbacks.push(callback);\n",
              "\n",
              "    if (root._bokeh_is_loading > 0) {\n",
              "      console.debug(\"Bokeh: BokehJS is being loaded, scheduling callback at\", now());\n",
              "      return null;\n",
              "    }\n",
              "    if (js_urls.length === 0 && js_modules.length === 0 && Object.keys(js_exports).length === 0) {\n",
              "      run_callbacks();\n",
              "      return null;\n",
              "    }\n",
              "    if (!reloading) {\n",
              "      console.debug(\"Bokeh: BokehJS not loaded, scheduling load and callback at\", now());\n",
              "    }\n",
              "\n",
              "    function on_load() {\n",
              "      root._bokeh_is_loading--;\n",
              "      if (root._bokeh_is_loading === 0) {\n",
              "        console.debug(\"Bokeh: all BokehJS libraries/stylesheets loaded\");\n",
              "        run_callbacks()\n",
              "      }\n",
              "    }\n",
              "    window._bokeh_on_load = on_load\n",
              "\n",
              "    function on_error() {\n",
              "      console.error(\"failed to load \" + url);\n",
              "    }\n",
              "\n",
              "    var skip = [];\n",
              "    if (window.requirejs) {\n",
              "      window.requirejs.config({'packages': {}, 'paths': {}, 'shim': {}});\n",
              "      root._bokeh_is_loading = css_urls.length + 0;\n",
              "    } else {\n",
              "      root._bokeh_is_loading = css_urls.length + js_urls.length + js_modules.length + Object.keys(js_exports).length;\n",
              "    }\n",
              "\n",
              "    var existing_stylesheets = []\n",
              "    var links = document.getElementsByTagName('link')\n",
              "    for (var i = 0; i < links.length; i++) {\n",
              "      var link = links[i]\n",
              "      if (link.href != null) {\n",
              "\texisting_stylesheets.push(link.href)\n",
              "      }\n",
              "    }\n",
              "    for (var i = 0; i < css_urls.length; i++) {\n",
              "      var url = css_urls[i];\n",
              "      if (existing_stylesheets.indexOf(url) !== -1) {\n",
              "\ton_load()\n",
              "\tcontinue;\n",
              "      }\n",
              "      const element = document.createElement(\"link\");\n",
              "      element.onload = on_load;\n",
              "      element.onerror = on_error;\n",
              "      element.rel = \"stylesheet\";\n",
              "      element.type = \"text/css\";\n",
              "      element.href = url;\n",
              "      console.debug(\"Bokeh: injecting link tag for BokehJS stylesheet: \", url);\n",
              "      document.body.appendChild(element);\n",
              "    }    var existing_scripts = []\n",
              "    var scripts = document.getElementsByTagName('script')\n",
              "    for (var i = 0; i < scripts.length; i++) {\n",
              "      var script = scripts[i]\n",
              "      if (script.src != null) {\n",
              "\texisting_scripts.push(script.src)\n",
              "      }\n",
              "    }\n",
              "    for (var i = 0; i < js_urls.length; i++) {\n",
              "      var url = js_urls[i];\n",
              "      if (skip.indexOf(url) !== -1 || existing_scripts.indexOf(url) !== -1) {\n",
              "\tif (!window.requirejs) {\n",
              "\t  on_load();\n",
              "\t}\n",
              "\tcontinue;\n",
              "      }\n",
              "      var element = document.createElement('script');\n",
              "      element.onload = on_load;\n",
              "      element.onerror = on_error;\n",
              "      element.async = false;\n",
              "      element.src = url;\n",
              "      console.debug(\"Bokeh: injecting script tag for BokehJS library: \", url);\n",
              "      document.head.appendChild(element);\n",
              "    }\n",
              "    for (var i = 0; i < js_modules.length; i++) {\n",
              "      var url = js_modules[i];\n",
              "      if (skip.indexOf(url) !== -1 || existing_scripts.indexOf(url) !== -1) {\n",
              "\tif (!window.requirejs) {\n",
              "\t  on_load();\n",
              "\t}\n",
              "\tcontinue;\n",
              "      }\n",
              "      var element = document.createElement('script');\n",
              "      element.onload = on_load;\n",
              "      element.onerror = on_error;\n",
              "      element.async = false;\n",
              "      element.src = url;\n",
              "      element.type = \"module\";\n",
              "      console.debug(\"Bokeh: injecting script tag for BokehJS library: \", url);\n",
              "      document.head.appendChild(element);\n",
              "    }\n",
              "    for (const name in js_exports) {\n",
              "      var url = js_exports[name];\n",
              "      if (skip.indexOf(url) >= 0 || root[name] != null) {\n",
              "\tif (!window.requirejs) {\n",
              "\t  on_load();\n",
              "\t}\n",
              "\tcontinue;\n",
              "      }\n",
              "      var element = document.createElement('script');\n",
              "      element.onerror = on_error;\n",
              "      element.async = false;\n",
              "      element.type = \"module\";\n",
              "      console.debug(\"Bokeh: injecting script tag for BokehJS library: \", url);\n",
              "      element.textContent = `\n",
              "      import ${name} from \"${url}\"\n",
              "      window.${name} = ${name}\n",
              "      window._bokeh_on_load()\n",
              "      `\n",
              "      document.head.appendChild(element);\n",
              "    }\n",
              "    if (!js_urls.length && !js_modules.length) {\n",
              "      on_load()\n",
              "    }\n",
              "  };\n",
              "\n",
              "  function inject_raw_css(css) {\n",
              "    const element = document.createElement(\"style\");\n",
              "    element.appendChild(document.createTextNode(css));\n",
              "    document.body.appendChild(element);\n",
              "  }\n",
              "\n",
              "  var js_urls = [\"https://cdn.bokeh.org/bokeh/release/bokeh-3.4.3.min.js\", \"https://cdn.bokeh.org/bokeh/release/bokeh-gl-3.4.3.min.js\", \"https://cdn.bokeh.org/bokeh/release/bokeh-widgets-3.4.3.min.js\", \"https://cdn.bokeh.org/bokeh/release/bokeh-tables-3.4.3.min.js\", \"https://cdn.holoviz.org/panel/1.4.5/dist/panel.min.js\"];\n",
              "  var js_modules = [];\n",
              "  var js_exports = {};\n",
              "  var css_urls = [];\n",
              "  var inline_js = [    function(Bokeh) {\n",
              "      Bokeh.set_log_level(\"info\");\n",
              "    },\n",
              "function(Bokeh) {} // ensure no trailing comma for IE\n",
              "  ];\n",
              "\n",
              "  function run_inline_js() {\n",
              "    if ((root.Bokeh !== undefined) || (force === true)) {\n",
              "      for (var i = 0; i < inline_js.length; i++) {\n",
              "\ttry {\n",
              "          inline_js[i].call(root, root.Bokeh);\n",
              "\t} catch(e) {\n",
              "\t  if (!reloading) {\n",
              "\t    throw e;\n",
              "\t  }\n",
              "\t}\n",
              "      }\n",
              "      // Cache old bokeh versions\n",
              "      if (Bokeh != undefined && !reloading) {\n",
              "\tvar NewBokeh = root.Bokeh;\n",
              "\tif (Bokeh.versions === undefined) {\n",
              "\t  Bokeh.versions = new Map();\n",
              "\t}\n",
              "\tif (NewBokeh.version !== Bokeh.version) {\n",
              "\t  Bokeh.versions.set(NewBokeh.version, NewBokeh)\n",
              "\t}\n",
              "\troot.Bokeh = Bokeh;\n",
              "      }} else if (Date.now() < root._bokeh_timeout) {\n",
              "      setTimeout(run_inline_js, 100);\n",
              "    } else if (!root._bokeh_failed_load) {\n",
              "      console.log(\"Bokeh: BokehJS failed to load within specified timeout.\");\n",
              "      root._bokeh_failed_load = true;\n",
              "    }\n",
              "    root._bokeh_is_initializing = false\n",
              "  }\n",
              "\n",
              "  function load_or_wait() {\n",
              "    // Implement a backoff loop that tries to ensure we do not load multiple\n",
              "    // versions of Bokeh and its dependencies at the same time.\n",
              "    // In recent versions we use the root._bokeh_is_initializing flag\n",
              "    // to determine whether there is an ongoing attempt to initialize\n",
              "    // bokeh, however for backward compatibility we also try to ensure\n",
              "    // that we do not start loading a newer (Panel>=1.0 and Bokeh>3) version\n",
              "    // before older versions are fully initialized.\n",
              "    if (root._bokeh_is_initializing && Date.now() > root._bokeh_timeout) {\n",
              "      root._bokeh_is_initializing = false;\n",
              "      root._bokeh_onload_callbacks = undefined;\n",
              "      console.log(\"Bokeh: BokehJS was loaded multiple times but one version failed to initialize.\");\n",
              "      load_or_wait();\n",
              "    } else if (root._bokeh_is_initializing || (typeof root._bokeh_is_initializing === \"undefined\" && root._bokeh_onload_callbacks !== undefined)) {\n",
              "      setTimeout(load_or_wait, 100);\n",
              "    } else {\n",
              "      root._bokeh_is_initializing = true\n",
              "      root._bokeh_onload_callbacks = []\n",
              "      var bokeh_loaded = Bokeh != null && (Bokeh.version === py_version || (Bokeh.versions !== undefined && Bokeh.versions.has(py_version)));\n",
              "      if (!reloading && !bokeh_loaded) {\n",
              "\troot.Bokeh = undefined;\n",
              "      }\n",
              "      load_libs(css_urls, js_urls, js_modules, js_exports, function() {\n",
              "\tconsole.debug(\"Bokeh: BokehJS plotting callback run at\", now());\n",
              "\trun_inline_js();\n",
              "      });\n",
              "    }\n",
              "  }\n",
              "  // Give older versions of the autoload script a head-start to ensure\n",
              "  // they initialize before we start loading newer version.\n",
              "  setTimeout(load_or_wait, 100)\n",
              "}(window));"
            ],
            "application/vnd.holoviews_load.v0+json": "(function(root) {\n  function now() {\n    return new Date();\n  }\n\n  var force = true;\n  var py_version = '3.4.3'.replace('rc', '-rc.').replace('.dev', '-dev.');\n  var reloading = false;\n  var Bokeh = root.Bokeh;\n\n  if (typeof (root._bokeh_timeout) === \"undefined\" || force) {\n    root._bokeh_timeout = Date.now() + 5000;\n    root._bokeh_failed_load = false;\n  }\n\n  function run_callbacks() {\n    try {\n      root._bokeh_onload_callbacks.forEach(function(callback) {\n        if (callback != null)\n          callback();\n      });\n    } finally {\n      delete root._bokeh_onload_callbacks;\n    }\n    console.debug(\"Bokeh: all callbacks have finished\");\n  }\n\n  function load_libs(css_urls, js_urls, js_modules, js_exports, callback) {\n    if (css_urls == null) css_urls = [];\n    if (js_urls == null) js_urls = [];\n    if (js_modules == null) js_modules = [];\n    if (js_exports == null) js_exports = {};\n\n    root._bokeh_onload_callbacks.push(callback);\n\n    if (root._bokeh_is_loading > 0) {\n      console.debug(\"Bokeh: BokehJS is being loaded, scheduling callback at\", now());\n      return null;\n    }\n    if (js_urls.length === 0 && js_modules.length === 0 && Object.keys(js_exports).length === 0) {\n      run_callbacks();\n      return null;\n    }\n    if (!reloading) {\n      console.debug(\"Bokeh: BokehJS not loaded, scheduling load and callback at\", now());\n    }\n\n    function on_load() {\n      root._bokeh_is_loading--;\n      if (root._bokeh_is_loading === 0) {\n        console.debug(\"Bokeh: all BokehJS libraries/stylesheets loaded\");\n        run_callbacks()\n      }\n    }\n    window._bokeh_on_load = on_load\n\n    function on_error() {\n      console.error(\"failed to load \" + url);\n    }\n\n    var skip = [];\n    if (window.requirejs) {\n      window.requirejs.config({'packages': {}, 'paths': {}, 'shim': {}});\n      root._bokeh_is_loading = css_urls.length + 0;\n    } else {\n      root._bokeh_is_loading = css_urls.length + js_urls.length + js_modules.length + Object.keys(js_exports).length;\n    }\n\n    var existing_stylesheets = []\n    var links = document.getElementsByTagName('link')\n    for (var i = 0; i < links.length; i++) {\n      var link = links[i]\n      if (link.href != null) {\n\texisting_stylesheets.push(link.href)\n      }\n    }\n    for (var i = 0; i < css_urls.length; i++) {\n      var url = css_urls[i];\n      if (existing_stylesheets.indexOf(url) !== -1) {\n\ton_load()\n\tcontinue;\n      }\n      const element = document.createElement(\"link\");\n      element.onload = on_load;\n      element.onerror = on_error;\n      element.rel = \"stylesheet\";\n      element.type = \"text/css\";\n      element.href = url;\n      console.debug(\"Bokeh: injecting link tag for BokehJS stylesheet: \", url);\n      document.body.appendChild(element);\n    }    var existing_scripts = []\n    var scripts = document.getElementsByTagName('script')\n    for (var i = 0; i < scripts.length; i++) {\n      var script = scripts[i]\n      if (script.src != null) {\n\texisting_scripts.push(script.src)\n      }\n    }\n    for (var i = 0; i < js_urls.length; i++) {\n      var url = js_urls[i];\n      if (skip.indexOf(url) !== -1 || existing_scripts.indexOf(url) !== -1) {\n\tif (!window.requirejs) {\n\t  on_load();\n\t}\n\tcontinue;\n      }\n      var element = document.createElement('script');\n      element.onload = on_load;\n      element.onerror = on_error;\n      element.async = false;\n      element.src = url;\n      console.debug(\"Bokeh: injecting script tag for BokehJS library: \", url);\n      document.head.appendChild(element);\n    }\n    for (var i = 0; i < js_modules.length; i++) {\n      var url = js_modules[i];\n      if (skip.indexOf(url) !== -1 || existing_scripts.indexOf(url) !== -1) {\n\tif (!window.requirejs) {\n\t  on_load();\n\t}\n\tcontinue;\n      }\n      var element = document.createElement('script');\n      element.onload = on_load;\n      element.onerror = on_error;\n      element.async = false;\n      element.src = url;\n      element.type = \"module\";\n      console.debug(\"Bokeh: injecting script tag for BokehJS library: \", url);\n      document.head.appendChild(element);\n    }\n    for (const name in js_exports) {\n      var url = js_exports[name];\n      if (skip.indexOf(url) >= 0 || root[name] != null) {\n\tif (!window.requirejs) {\n\t  on_load();\n\t}\n\tcontinue;\n      }\n      var element = document.createElement('script');\n      element.onerror = on_error;\n      element.async = false;\n      element.type = \"module\";\n      console.debug(\"Bokeh: injecting script tag for BokehJS library: \", url);\n      element.textContent = `\n      import ${name} from \"${url}\"\n      window.${name} = ${name}\n      window._bokeh_on_load()\n      `\n      document.head.appendChild(element);\n    }\n    if (!js_urls.length && !js_modules.length) {\n      on_load()\n    }\n  };\n\n  function inject_raw_css(css) {\n    const element = document.createElement(\"style\");\n    element.appendChild(document.createTextNode(css));\n    document.body.appendChild(element);\n  }\n\n  var js_urls = [\"https://cdn.bokeh.org/bokeh/release/bokeh-3.4.3.min.js\", \"https://cdn.bokeh.org/bokeh/release/bokeh-gl-3.4.3.min.js\", \"https://cdn.bokeh.org/bokeh/release/bokeh-widgets-3.4.3.min.js\", \"https://cdn.bokeh.org/bokeh/release/bokeh-tables-3.4.3.min.js\", \"https://cdn.holoviz.org/panel/1.4.5/dist/panel.min.js\"];\n  var js_modules = [];\n  var js_exports = {};\n  var css_urls = [];\n  var inline_js = [    function(Bokeh) {\n      Bokeh.set_log_level(\"info\");\n    },\nfunction(Bokeh) {} // ensure no trailing comma for IE\n  ];\n\n  function run_inline_js() {\n    if ((root.Bokeh !== undefined) || (force === true)) {\n      for (var i = 0; i < inline_js.length; i++) {\n\ttry {\n          inline_js[i].call(root, root.Bokeh);\n\t} catch(e) {\n\t  if (!reloading) {\n\t    throw e;\n\t  }\n\t}\n      }\n      // Cache old bokeh versions\n      if (Bokeh != undefined && !reloading) {\n\tvar NewBokeh = root.Bokeh;\n\tif (Bokeh.versions === undefined) {\n\t  Bokeh.versions = new Map();\n\t}\n\tif (NewBokeh.version !== Bokeh.version) {\n\t  Bokeh.versions.set(NewBokeh.version, NewBokeh)\n\t}\n\troot.Bokeh = Bokeh;\n      }} else if (Date.now() < root._bokeh_timeout) {\n      setTimeout(run_inline_js, 100);\n    } else if (!root._bokeh_failed_load) {\n      console.log(\"Bokeh: BokehJS failed to load within specified timeout.\");\n      root._bokeh_failed_load = true;\n    }\n    root._bokeh_is_initializing = false\n  }\n\n  function load_or_wait() {\n    // Implement a backoff loop that tries to ensure we do not load multiple\n    // versions of Bokeh and its dependencies at the same time.\n    // In recent versions we use the root._bokeh_is_initializing flag\n    // to determine whether there is an ongoing attempt to initialize\n    // bokeh, however for backward compatibility we also try to ensure\n    // that we do not start loading a newer (Panel>=1.0 and Bokeh>3) version\n    // before older versions are fully initialized.\n    if (root._bokeh_is_initializing && Date.now() > root._bokeh_timeout) {\n      root._bokeh_is_initializing = false;\n      root._bokeh_onload_callbacks = undefined;\n      console.log(\"Bokeh: BokehJS was loaded multiple times but one version failed to initialize.\");\n      load_or_wait();\n    } else if (root._bokeh_is_initializing || (typeof root._bokeh_is_initializing === \"undefined\" && root._bokeh_onload_callbacks !== undefined)) {\n      setTimeout(load_or_wait, 100);\n    } else {\n      root._bokeh_is_initializing = true\n      root._bokeh_onload_callbacks = []\n      var bokeh_loaded = Bokeh != null && (Bokeh.version === py_version || (Bokeh.versions !== undefined && Bokeh.versions.has(py_version)));\n      if (!reloading && !bokeh_loaded) {\n\troot.Bokeh = undefined;\n      }\n      load_libs(css_urls, js_urls, js_modules, js_exports, function() {\n\tconsole.debug(\"Bokeh: BokehJS plotting callback run at\", now());\n\trun_inline_js();\n      });\n    }\n  }\n  // Give older versions of the autoload script a head-start to ensure\n  // they initialize before we start loading newer version.\n  setTimeout(load_or_wait, 100)\n}(window));"
          },
          "metadata": {}
        },
        {
          "output_type": "display_data",
          "data": {
            "application/vnd.holoviews_load.v0+json": "\nif ((window.PyViz === undefined) || (window.PyViz instanceof HTMLElement)) {\n  window.PyViz = {comms: {}, comm_status:{}, kernels:{}, receivers: {}, plot_index: []}\n}\n\n\n    function JupyterCommManager() {\n    }\n\n    JupyterCommManager.prototype.register_target = function(plot_id, comm_id, msg_handler) {\n      if (window.comm_manager || ((window.Jupyter !== undefined) && (Jupyter.notebook.kernel != null))) {\n        var comm_manager = window.comm_manager || Jupyter.notebook.kernel.comm_manager;\n        comm_manager.register_target(comm_id, function(comm) {\n          comm.on_msg(msg_handler);\n        });\n      } else if ((plot_id in window.PyViz.kernels) && (window.PyViz.kernels[plot_id])) {\n        window.PyViz.kernels[plot_id].registerCommTarget(comm_id, function(comm) {\n          comm.onMsg = msg_handler;\n        });\n      } else if (typeof google != 'undefined' && google.colab.kernel != null) {\n        google.colab.kernel.comms.registerTarget(comm_id, (comm) => {\n          var messages = comm.messages[Symbol.asyncIterator]();\n          function processIteratorResult(result) {\n            var message = result.value;\n            console.log(message)\n            var content = {data: message.data, comm_id};\n            var buffers = []\n            for (var buffer of message.buffers || []) {\n              buffers.push(new DataView(buffer))\n            }\n            var metadata = message.metadata || {};\n            var msg = {content, buffers, metadata}\n            msg_handler(msg);\n            return messages.next().then(processIteratorResult);\n          }\n          return messages.next().then(processIteratorResult);\n        })\n      }\n    }\n\n    JupyterCommManager.prototype.get_client_comm = function(plot_id, comm_id, msg_handler) {\n      if (comm_id in window.PyViz.comms) {\n        return window.PyViz.comms[comm_id];\n      } else if (window.comm_manager || ((window.Jupyter !== undefined) && (Jupyter.notebook.kernel != null))) {\n        var comm_manager = window.comm_manager || Jupyter.notebook.kernel.comm_manager;\n        var comm = comm_manager.new_comm(comm_id, {}, {}, {}, comm_id);\n        if (msg_handler) {\n          comm.on_msg(msg_handler);\n        }\n      } else if ((plot_id in window.PyViz.kernels) && (window.PyViz.kernels[plot_id])) {\n        var comm = window.PyViz.kernels[plot_id].connectToComm(comm_id);\n        comm.open();\n        if (msg_handler) {\n          comm.onMsg = msg_handler;\n        }\n      } else if (typeof google != 'undefined' && google.colab.kernel != null) {\n        var comm_promise = google.colab.kernel.comms.open(comm_id)\n        comm_promise.then((comm) => {\n          window.PyViz.comms[comm_id] = comm;\n          if (msg_handler) {\n            var messages = comm.messages[Symbol.asyncIterator]();\n            function processIteratorResult(result) {\n              var message = result.value;\n              var content = {data: message.data};\n              var metadata = message.metadata || {comm_id};\n              var msg = {content, metadata}\n              msg_handler(msg);\n              return messages.next().then(processIteratorResult);\n            }\n            return messages.next().then(processIteratorResult);\n          }\n        }) \n        var sendClosure = (data, metadata, buffers, disposeOnDone) => {\n          return comm_promise.then((comm) => {\n            comm.send(data, metadata, buffers, disposeOnDone);\n          });\n        };\n        var comm = {\n          send: sendClosure\n        };\n      }\n      window.PyViz.comms[comm_id] = comm;\n      return comm;\n    }\n    window.PyViz.comm_manager = new JupyterCommManager();\n    \n\n\nvar JS_MIME_TYPE = 'application/javascript';\nvar HTML_MIME_TYPE = 'text/html';\nvar EXEC_MIME_TYPE = 'application/vnd.holoviews_exec.v0+json';\nvar CLASS_NAME = 'output';\n\n/**\n * Render data to the DOM node\n */\nfunction render(props, node) {\n  var div = document.createElement(\"div\");\n  var script = document.createElement(\"script\");\n  node.appendChild(div);\n  node.appendChild(script);\n}\n\n/**\n * Handle when a new output is added\n */\nfunction handle_add_output(event, handle) {\n  var output_area = handle.output_area;\n  var output = handle.output;\n  if ((output.data == undefined) || (!output.data.hasOwnProperty(EXEC_MIME_TYPE))) {\n    return\n  }\n  var id = output.metadata[EXEC_MIME_TYPE][\"id\"];\n  var toinsert = output_area.element.find(\".\" + CLASS_NAME.split(' ')[0]);\n  if (id !== undefined) {\n    var nchildren = toinsert.length;\n    var html_node = toinsert[nchildren-1].children[0];\n    html_node.innerHTML = output.data[HTML_MIME_TYPE];\n    var scripts = [];\n    var nodelist = html_node.querySelectorAll(\"script\");\n    for (var i in nodelist) {\n      if (nodelist.hasOwnProperty(i)) {\n        scripts.push(nodelist[i])\n      }\n    }\n\n    scripts.forEach( function (oldScript) {\n      var newScript = document.createElement(\"script\");\n      var attrs = [];\n      var nodemap = oldScript.attributes;\n      for (var j in nodemap) {\n        if (nodemap.hasOwnProperty(j)) {\n          attrs.push(nodemap[j])\n        }\n      }\n      attrs.forEach(function(attr) { newScript.setAttribute(attr.name, attr.value) });\n      newScript.appendChild(document.createTextNode(oldScript.innerHTML));\n      oldScript.parentNode.replaceChild(newScript, oldScript);\n    });\n    if (JS_MIME_TYPE in output.data) {\n      toinsert[nchildren-1].children[1].textContent = output.data[JS_MIME_TYPE];\n    }\n    output_area._hv_plot_id = id;\n    if ((window.Bokeh !== undefined) && (id in Bokeh.index)) {\n      window.PyViz.plot_index[id] = Bokeh.index[id];\n    } else {\n      window.PyViz.plot_index[id] = null;\n    }\n  } else if (output.metadata[EXEC_MIME_TYPE][\"server_id\"] !== undefined) {\n    var bk_div = document.createElement(\"div\");\n    bk_div.innerHTML = output.data[HTML_MIME_TYPE];\n    var script_attrs = bk_div.children[0].attributes;\n    for (var i = 0; i < script_attrs.length; i++) {\n      toinsert[toinsert.length - 1].childNodes[1].setAttribute(script_attrs[i].name, script_attrs[i].value);\n    }\n    // store reference to server id on output_area\n    output_area._bokeh_server_id = output.metadata[EXEC_MIME_TYPE][\"server_id\"];\n  }\n}\n\n/**\n * Handle when an output is cleared or removed\n */\nfunction handle_clear_output(event, handle) {\n  var id = handle.cell.output_area._hv_plot_id;\n  var server_id = handle.cell.output_area._bokeh_server_id;\n  if (((id === undefined) || !(id in PyViz.plot_index)) && (server_id !== undefined)) { return; }\n  var comm = window.PyViz.comm_manager.get_client_comm(\"hv-extension-comm\", \"hv-extension-comm\", function () {});\n  if (server_id !== null) {\n    comm.send({event_type: 'server_delete', 'id': server_id});\n    return;\n  } else if (comm !== null) {\n    comm.send({event_type: 'delete', 'id': id});\n  }\n  delete PyViz.plot_index[id];\n  if ((window.Bokeh !== undefined) & (id in window.Bokeh.index)) {\n    var doc = window.Bokeh.index[id].model.document\n    doc.clear();\n    const i = window.Bokeh.documents.indexOf(doc);\n    if (i > -1) {\n      window.Bokeh.documents.splice(i, 1);\n    }\n  }\n}\n\n/**\n * Handle kernel restart event\n */\nfunction handle_kernel_cleanup(event, handle) {\n  delete PyViz.comms[\"hv-extension-comm\"];\n  window.PyViz.plot_index = {}\n}\n\n/**\n * Handle update_display_data messages\n */\nfunction handle_update_output(event, handle) {\n  handle_clear_output(event, {cell: {output_area: handle.output_area}})\n  handle_add_output(event, handle)\n}\n\nfunction register_renderer(events, OutputArea) {\n  function append_mime(data, metadata, element) {\n    // create a DOM node to render to\n    var toinsert = this.create_output_subarea(\n    metadata,\n    CLASS_NAME,\n    EXEC_MIME_TYPE\n    );\n    this.keyboard_manager.register_events(toinsert);\n    // Render to node\n    var props = {data: data, metadata: metadata[EXEC_MIME_TYPE]};\n    render(props, toinsert[0]);\n    element.append(toinsert);\n    return toinsert\n  }\n\n  events.on('output_added.OutputArea', handle_add_output);\n  events.on('output_updated.OutputArea', handle_update_output);\n  events.on('clear_output.CodeCell', handle_clear_output);\n  events.on('delete.Cell', handle_clear_output);\n  events.on('kernel_ready.Kernel', handle_kernel_cleanup);\n\n  OutputArea.prototype.register_mime_type(EXEC_MIME_TYPE, append_mime, {\n    safe: true,\n    index: 0\n  });\n}\n\nif (window.Jupyter !== undefined) {\n  try {\n    var events = require('base/js/events');\n    var OutputArea = require('notebook/js/outputarea').OutputArea;\n    if (OutputArea.prototype.mime_types().indexOf(EXEC_MIME_TYPE) == -1) {\n      register_renderer(events, OutputArea);\n    }\n  } catch(err) {\n  }\n}\n",
            "application/javascript": [
              "\n",
              "if ((window.PyViz === undefined) || (window.PyViz instanceof HTMLElement)) {\n",
              "  window.PyViz = {comms: {}, comm_status:{}, kernels:{}, receivers: {}, plot_index: []}\n",
              "}\n",
              "\n",
              "\n",
              "    function JupyterCommManager() {\n",
              "    }\n",
              "\n",
              "    JupyterCommManager.prototype.register_target = function(plot_id, comm_id, msg_handler) {\n",
              "      if (window.comm_manager || ((window.Jupyter !== undefined) && (Jupyter.notebook.kernel != null))) {\n",
              "        var comm_manager = window.comm_manager || Jupyter.notebook.kernel.comm_manager;\n",
              "        comm_manager.register_target(comm_id, function(comm) {\n",
              "          comm.on_msg(msg_handler);\n",
              "        });\n",
              "      } else if ((plot_id in window.PyViz.kernels) && (window.PyViz.kernels[plot_id])) {\n",
              "        window.PyViz.kernels[plot_id].registerCommTarget(comm_id, function(comm) {\n",
              "          comm.onMsg = msg_handler;\n",
              "        });\n",
              "      } else if (typeof google != 'undefined' && google.colab.kernel != null) {\n",
              "        google.colab.kernel.comms.registerTarget(comm_id, (comm) => {\n",
              "          var messages = comm.messages[Symbol.asyncIterator]();\n",
              "          function processIteratorResult(result) {\n",
              "            var message = result.value;\n",
              "            console.log(message)\n",
              "            var content = {data: message.data, comm_id};\n",
              "            var buffers = []\n",
              "            for (var buffer of message.buffers || []) {\n",
              "              buffers.push(new DataView(buffer))\n",
              "            }\n",
              "            var metadata = message.metadata || {};\n",
              "            var msg = {content, buffers, metadata}\n",
              "            msg_handler(msg);\n",
              "            return messages.next().then(processIteratorResult);\n",
              "          }\n",
              "          return messages.next().then(processIteratorResult);\n",
              "        })\n",
              "      }\n",
              "    }\n",
              "\n",
              "    JupyterCommManager.prototype.get_client_comm = function(plot_id, comm_id, msg_handler) {\n",
              "      if (comm_id in window.PyViz.comms) {\n",
              "        return window.PyViz.comms[comm_id];\n",
              "      } else if (window.comm_manager || ((window.Jupyter !== undefined) && (Jupyter.notebook.kernel != null))) {\n",
              "        var comm_manager = window.comm_manager || Jupyter.notebook.kernel.comm_manager;\n",
              "        var comm = comm_manager.new_comm(comm_id, {}, {}, {}, comm_id);\n",
              "        if (msg_handler) {\n",
              "          comm.on_msg(msg_handler);\n",
              "        }\n",
              "      } else if ((plot_id in window.PyViz.kernels) && (window.PyViz.kernels[plot_id])) {\n",
              "        var comm = window.PyViz.kernels[plot_id].connectToComm(comm_id);\n",
              "        comm.open();\n",
              "        if (msg_handler) {\n",
              "          comm.onMsg = msg_handler;\n",
              "        }\n",
              "      } else if (typeof google != 'undefined' && google.colab.kernel != null) {\n",
              "        var comm_promise = google.colab.kernel.comms.open(comm_id)\n",
              "        comm_promise.then((comm) => {\n",
              "          window.PyViz.comms[comm_id] = comm;\n",
              "          if (msg_handler) {\n",
              "            var messages = comm.messages[Symbol.asyncIterator]();\n",
              "            function processIteratorResult(result) {\n",
              "              var message = result.value;\n",
              "              var content = {data: message.data};\n",
              "              var metadata = message.metadata || {comm_id};\n",
              "              var msg = {content, metadata}\n",
              "              msg_handler(msg);\n",
              "              return messages.next().then(processIteratorResult);\n",
              "            }\n",
              "            return messages.next().then(processIteratorResult);\n",
              "          }\n",
              "        }) \n",
              "        var sendClosure = (data, metadata, buffers, disposeOnDone) => {\n",
              "          return comm_promise.then((comm) => {\n",
              "            comm.send(data, metadata, buffers, disposeOnDone);\n",
              "          });\n",
              "        };\n",
              "        var comm = {\n",
              "          send: sendClosure\n",
              "        };\n",
              "      }\n",
              "      window.PyViz.comms[comm_id] = comm;\n",
              "      return comm;\n",
              "    }\n",
              "    window.PyViz.comm_manager = new JupyterCommManager();\n",
              "    \n",
              "\n",
              "\n",
              "var JS_MIME_TYPE = 'application/javascript';\n",
              "var HTML_MIME_TYPE = 'text/html';\n",
              "var EXEC_MIME_TYPE = 'application/vnd.holoviews_exec.v0+json';\n",
              "var CLASS_NAME = 'output';\n",
              "\n",
              "/**\n",
              " * Render data to the DOM node\n",
              " */\n",
              "function render(props, node) {\n",
              "  var div = document.createElement(\"div\");\n",
              "  var script = document.createElement(\"script\");\n",
              "  node.appendChild(div);\n",
              "  node.appendChild(script);\n",
              "}\n",
              "\n",
              "/**\n",
              " * Handle when a new output is added\n",
              " */\n",
              "function handle_add_output(event, handle) {\n",
              "  var output_area = handle.output_area;\n",
              "  var output = handle.output;\n",
              "  if ((output.data == undefined) || (!output.data.hasOwnProperty(EXEC_MIME_TYPE))) {\n",
              "    return\n",
              "  }\n",
              "  var id = output.metadata[EXEC_MIME_TYPE][\"id\"];\n",
              "  var toinsert = output_area.element.find(\".\" + CLASS_NAME.split(' ')[0]);\n",
              "  if (id !== undefined) {\n",
              "    var nchildren = toinsert.length;\n",
              "    var html_node = toinsert[nchildren-1].children[0];\n",
              "    html_node.innerHTML = output.data[HTML_MIME_TYPE];\n",
              "    var scripts = [];\n",
              "    var nodelist = html_node.querySelectorAll(\"script\");\n",
              "    for (var i in nodelist) {\n",
              "      if (nodelist.hasOwnProperty(i)) {\n",
              "        scripts.push(nodelist[i])\n",
              "      }\n",
              "    }\n",
              "\n",
              "    scripts.forEach( function (oldScript) {\n",
              "      var newScript = document.createElement(\"script\");\n",
              "      var attrs = [];\n",
              "      var nodemap = oldScript.attributes;\n",
              "      for (var j in nodemap) {\n",
              "        if (nodemap.hasOwnProperty(j)) {\n",
              "          attrs.push(nodemap[j])\n",
              "        }\n",
              "      }\n",
              "      attrs.forEach(function(attr) { newScript.setAttribute(attr.name, attr.value) });\n",
              "      newScript.appendChild(document.createTextNode(oldScript.innerHTML));\n",
              "      oldScript.parentNode.replaceChild(newScript, oldScript);\n",
              "    });\n",
              "    if (JS_MIME_TYPE in output.data) {\n",
              "      toinsert[nchildren-1].children[1].textContent = output.data[JS_MIME_TYPE];\n",
              "    }\n",
              "    output_area._hv_plot_id = id;\n",
              "    if ((window.Bokeh !== undefined) && (id in Bokeh.index)) {\n",
              "      window.PyViz.plot_index[id] = Bokeh.index[id];\n",
              "    } else {\n",
              "      window.PyViz.plot_index[id] = null;\n",
              "    }\n",
              "  } else if (output.metadata[EXEC_MIME_TYPE][\"server_id\"] !== undefined) {\n",
              "    var bk_div = document.createElement(\"div\");\n",
              "    bk_div.innerHTML = output.data[HTML_MIME_TYPE];\n",
              "    var script_attrs = bk_div.children[0].attributes;\n",
              "    for (var i = 0; i < script_attrs.length; i++) {\n",
              "      toinsert[toinsert.length - 1].childNodes[1].setAttribute(script_attrs[i].name, script_attrs[i].value);\n",
              "    }\n",
              "    // store reference to server id on output_area\n",
              "    output_area._bokeh_server_id = output.metadata[EXEC_MIME_TYPE][\"server_id\"];\n",
              "  }\n",
              "}\n",
              "\n",
              "/**\n",
              " * Handle when an output is cleared or removed\n",
              " */\n",
              "function handle_clear_output(event, handle) {\n",
              "  var id = handle.cell.output_area._hv_plot_id;\n",
              "  var server_id = handle.cell.output_area._bokeh_server_id;\n",
              "  if (((id === undefined) || !(id in PyViz.plot_index)) && (server_id !== undefined)) { return; }\n",
              "  var comm = window.PyViz.comm_manager.get_client_comm(\"hv-extension-comm\", \"hv-extension-comm\", function () {});\n",
              "  if (server_id !== null) {\n",
              "    comm.send({event_type: 'server_delete', 'id': server_id});\n",
              "    return;\n",
              "  } else if (comm !== null) {\n",
              "    comm.send({event_type: 'delete', 'id': id});\n",
              "  }\n",
              "  delete PyViz.plot_index[id];\n",
              "  if ((window.Bokeh !== undefined) & (id in window.Bokeh.index)) {\n",
              "    var doc = window.Bokeh.index[id].model.document\n",
              "    doc.clear();\n",
              "    const i = window.Bokeh.documents.indexOf(doc);\n",
              "    if (i > -1) {\n",
              "      window.Bokeh.documents.splice(i, 1);\n",
              "    }\n",
              "  }\n",
              "}\n",
              "\n",
              "/**\n",
              " * Handle kernel restart event\n",
              " */\n",
              "function handle_kernel_cleanup(event, handle) {\n",
              "  delete PyViz.comms[\"hv-extension-comm\"];\n",
              "  window.PyViz.plot_index = {}\n",
              "}\n",
              "\n",
              "/**\n",
              " * Handle update_display_data messages\n",
              " */\n",
              "function handle_update_output(event, handle) {\n",
              "  handle_clear_output(event, {cell: {output_area: handle.output_area}})\n",
              "  handle_add_output(event, handle)\n",
              "}\n",
              "\n",
              "function register_renderer(events, OutputArea) {\n",
              "  function append_mime(data, metadata, element) {\n",
              "    // create a DOM node to render to\n",
              "    var toinsert = this.create_output_subarea(\n",
              "    metadata,\n",
              "    CLASS_NAME,\n",
              "    EXEC_MIME_TYPE\n",
              "    );\n",
              "    this.keyboard_manager.register_events(toinsert);\n",
              "    // Render to node\n",
              "    var props = {data: data, metadata: metadata[EXEC_MIME_TYPE]};\n",
              "    render(props, toinsert[0]);\n",
              "    element.append(toinsert);\n",
              "    return toinsert\n",
              "  }\n",
              "\n",
              "  events.on('output_added.OutputArea', handle_add_output);\n",
              "  events.on('output_updated.OutputArea', handle_update_output);\n",
              "  events.on('clear_output.CodeCell', handle_clear_output);\n",
              "  events.on('delete.Cell', handle_clear_output);\n",
              "  events.on('kernel_ready.Kernel', handle_kernel_cleanup);\n",
              "\n",
              "  OutputArea.prototype.register_mime_type(EXEC_MIME_TYPE, append_mime, {\n",
              "    safe: true,\n",
              "    index: 0\n",
              "  });\n",
              "}\n",
              "\n",
              "if (window.Jupyter !== undefined) {\n",
              "  try {\n",
              "    var events = require('base/js/events');\n",
              "    var OutputArea = require('notebook/js/outputarea').OutputArea;\n",
              "    if (OutputArea.prototype.mime_types().indexOf(EXEC_MIME_TYPE) == -1) {\n",
              "      register_renderer(events, OutputArea);\n",
              "    }\n",
              "  } catch(err) {\n",
              "  }\n",
              "}\n"
            ]
          },
          "metadata": {}
        },
        {
          "output_type": "display_data",
          "data": {
            "text/html": [
              "<style>*[data-root-id],\n",
              "*[data-root-id] > * {\n",
              "  box-sizing: border-box;\n",
              "  font-family: var(--jp-ui-font-family);\n",
              "  font-size: var(--jp-ui-font-size1);\n",
              "  color: var(--vscode-editor-foreground, var(--jp-ui-font-color1));\n",
              "}\n",
              "\n",
              "/* Override VSCode background color */\n",
              ".cell-output-ipywidget-background:has(\n",
              "    > .cell-output-ipywidget-background > .lm-Widget > *[data-root-id]\n",
              "  ),\n",
              ".cell-output-ipywidget-background:has(> .lm-Widget > *[data-root-id]) {\n",
              "  background-color: transparent !important;\n",
              "}\n",
              "</style>"
            ]
          },
          "metadata": {}
        },
        {
          "output_type": "display_data",
          "data": {
            "text/html": [
              "<div id='p1401'>\n",
              "  <div id=\"b04a6eac-cc14-4db2-816f-585fd3b88d36\" data-root-id=\"p1401\" style=\"display: contents;\"></div>\n",
              "</div>\n",
              "<script type=\"application/javascript\">(function(root) {\n",
              "  var docs_json = {\"4acfc195-8102-4ba8-b9f8-f479bcb5ab89\":{\"version\":\"3.4.3\",\"title\":\"Bokeh Application\",\"roots\":[{\"type\":\"object\",\"name\":\"panel.models.browser.BrowserInfo\",\"id\":\"p1401\"},{\"type\":\"object\",\"name\":\"panel.models.comm_manager.CommManager\",\"id\":\"p1402\",\"attributes\":{\"plot_id\":\"p1401\",\"comm_id\":\"2dc5abe22b4a483884af6d400edbfdbb\",\"client_comm_id\":\"faab58c5472c4c10b8e9226187d6a580\"}}],\"defs\":[{\"type\":\"model\",\"name\":\"ReactiveHTML1\"},{\"type\":\"model\",\"name\":\"FlexBox1\",\"properties\":[{\"name\":\"align_content\",\"kind\":\"Any\",\"default\":\"flex-start\"},{\"name\":\"align_items\",\"kind\":\"Any\",\"default\":\"flex-start\"},{\"name\":\"flex_direction\",\"kind\":\"Any\",\"default\":\"row\"},{\"name\":\"flex_wrap\",\"kind\":\"Any\",\"default\":\"wrap\"},{\"name\":\"gap\",\"kind\":\"Any\",\"default\":\"\"},{\"name\":\"justify_content\",\"kind\":\"Any\",\"default\":\"flex-start\"}]},{\"type\":\"model\",\"name\":\"FloatPanel1\",\"properties\":[{\"name\":\"config\",\"kind\":\"Any\",\"default\":{\"type\":\"map\"}},{\"name\":\"contained\",\"kind\":\"Any\",\"default\":true},{\"name\":\"position\",\"kind\":\"Any\",\"default\":\"right-top\"},{\"name\":\"offsetx\",\"kind\":\"Any\",\"default\":null},{\"name\":\"offsety\",\"kind\":\"Any\",\"default\":null},{\"name\":\"theme\",\"kind\":\"Any\",\"default\":\"primary\"},{\"name\":\"status\",\"kind\":\"Any\",\"default\":\"normalized\"}]},{\"type\":\"model\",\"name\":\"GridStack1\",\"properties\":[{\"name\":\"mode\",\"kind\":\"Any\",\"default\":\"warn\"},{\"name\":\"ncols\",\"kind\":\"Any\",\"default\":null},{\"name\":\"nrows\",\"kind\":\"Any\",\"default\":null},{\"name\":\"allow_resize\",\"kind\":\"Any\",\"default\":true},{\"name\":\"allow_drag\",\"kind\":\"Any\",\"default\":true},{\"name\":\"state\",\"kind\":\"Any\",\"default\":[]}]},{\"type\":\"model\",\"name\":\"drag1\",\"properties\":[{\"name\":\"slider_width\",\"kind\":\"Any\",\"default\":5},{\"name\":\"slider_color\",\"kind\":\"Any\",\"default\":\"black\"},{\"name\":\"value\",\"kind\":\"Any\",\"default\":50}]},{\"type\":\"model\",\"name\":\"click1\",\"properties\":[{\"name\":\"terminal_output\",\"kind\":\"Any\",\"default\":\"\"},{\"name\":\"debug_name\",\"kind\":\"Any\",\"default\":\"\"},{\"name\":\"clears\",\"kind\":\"Any\",\"default\":0}]},{\"type\":\"model\",\"name\":\"FastWrapper1\",\"properties\":[{\"name\":\"object\",\"kind\":\"Any\",\"default\":null},{\"name\":\"style\",\"kind\":\"Any\",\"default\":null}]},{\"type\":\"model\",\"name\":\"NotificationAreaBase1\",\"properties\":[{\"name\":\"js_events\",\"kind\":\"Any\",\"default\":{\"type\":\"map\"}},{\"name\":\"position\",\"kind\":\"Any\",\"default\":\"bottom-right\"},{\"name\":\"_clear\",\"kind\":\"Any\",\"default\":0}]},{\"type\":\"model\",\"name\":\"NotificationArea1\",\"properties\":[{\"name\":\"js_events\",\"kind\":\"Any\",\"default\":{\"type\":\"map\"}},{\"name\":\"notifications\",\"kind\":\"Any\",\"default\":[]},{\"name\":\"position\",\"kind\":\"Any\",\"default\":\"bottom-right\"},{\"name\":\"_clear\",\"kind\":\"Any\",\"default\":0},{\"name\":\"types\",\"kind\":\"Any\",\"default\":[{\"type\":\"map\",\"entries\":[[\"type\",\"warning\"],[\"background\",\"#ffc107\"],[\"icon\",{\"type\":\"map\",\"entries\":[[\"className\",\"fas fa-exclamation-triangle\"],[\"tagName\",\"i\"],[\"color\",\"white\"]]}]]},{\"type\":\"map\",\"entries\":[[\"type\",\"info\"],[\"background\",\"#007bff\"],[\"icon\",{\"type\":\"map\",\"entries\":[[\"className\",\"fas fa-info-circle\"],[\"tagName\",\"i\"],[\"color\",\"white\"]]}]]}]}]},{\"type\":\"model\",\"name\":\"Notification\",\"properties\":[{\"name\":\"background\",\"kind\":\"Any\",\"default\":null},{\"name\":\"duration\",\"kind\":\"Any\",\"default\":3000},{\"name\":\"icon\",\"kind\":\"Any\",\"default\":null},{\"name\":\"message\",\"kind\":\"Any\",\"default\":\"\"},{\"name\":\"notification_type\",\"kind\":\"Any\",\"default\":null},{\"name\":\"_destroyed\",\"kind\":\"Any\",\"default\":false}]},{\"type\":\"model\",\"name\":\"TemplateActions1\",\"properties\":[{\"name\":\"open_modal\",\"kind\":\"Any\",\"default\":0},{\"name\":\"close_modal\",\"kind\":\"Any\",\"default\":0}]},{\"type\":\"model\",\"name\":\"BootstrapTemplateActions1\",\"properties\":[{\"name\":\"open_modal\",\"kind\":\"Any\",\"default\":0},{\"name\":\"close_modal\",\"kind\":\"Any\",\"default\":0}]},{\"type\":\"model\",\"name\":\"TemplateEditor1\",\"properties\":[{\"name\":\"layout\",\"kind\":\"Any\",\"default\":[]}]},{\"type\":\"model\",\"name\":\"MaterialTemplateActions1\",\"properties\":[{\"name\":\"open_modal\",\"kind\":\"Any\",\"default\":0},{\"name\":\"close_modal\",\"kind\":\"Any\",\"default\":0}]},{\"type\":\"model\",\"name\":\"copy_to_clipboard1\",\"properties\":[{\"name\":\"fill\",\"kind\":\"Any\",\"default\":\"none\"},{\"name\":\"value\",\"kind\":\"Any\",\"default\":null}]}]}};\n",
              "  var render_items = [{\"docid\":\"4acfc195-8102-4ba8-b9f8-f479bcb5ab89\",\"roots\":{\"p1401\":\"b04a6eac-cc14-4db2-816f-585fd3b88d36\"},\"root_ids\":[\"p1401\"]}];\n",
              "  var docs = Object.values(docs_json)\n",
              "  if (!docs) {\n",
              "    return\n",
              "  }\n",
              "  const py_version = docs[0].version.replace('rc', '-rc.').replace('.dev', '-dev.')\n",
              "  async function embed_document(root) {\n",
              "    var Bokeh = get_bokeh(root)\n",
              "    await Bokeh.embed.embed_items_notebook(docs_json, render_items);\n",
              "    for (const render_item of render_items) {\n",
              "      for (const root_id of render_item.root_ids) {\n",
              "\tconst id_el = document.getElementById(root_id)\n",
              "\tif (id_el.children.length && id_el.children[0].hasAttribute('data-root-id')) {\n",
              "\t  const root_el = id_el.children[0]\n",
              "\t  root_el.id = root_el.id + '-rendered'\n",
              "\t  for (const child of root_el.children) {\n",
              "            // Ensure JupyterLab does not capture keyboard shortcuts\n",
              "            // see: https://jupyterlab.readthedocs.io/en/4.1.x/extension/notebook.html#keyboard-interaction-model\n",
              "\t    child.setAttribute('data-lm-suppress-shortcuts', 'true')\n",
              "\t  }\n",
              "\t}\n",
              "      }\n",
              "    }\n",
              "  }\n",
              "  function get_bokeh(root) {\n",
              "    if (root.Bokeh === undefined) {\n",
              "      return null\n",
              "    } else if (root.Bokeh.version !== py_version) {\n",
              "      if (root.Bokeh.versions === undefined || !root.Bokeh.versions.has(py_version)) {\n",
              "\treturn null\n",
              "      }\n",
              "      return root.Bokeh.versions.get(py_version);\n",
              "    } else if (root.Bokeh.version === py_version) {\n",
              "      return root.Bokeh\n",
              "    }\n",
              "    return null\n",
              "  }\n",
              "  function is_loaded(root) {\n",
              "    var Bokeh = get_bokeh(root)\n",
              "    return (Bokeh != null && Bokeh.Panel !== undefined)\n",
              "  }\n",
              "  if (is_loaded(root)) {\n",
              "    embed_document(root);\n",
              "  } else {\n",
              "    var attempts = 0;\n",
              "    var timer = setInterval(function(root) {\n",
              "      if (is_loaded(root)) {\n",
              "        clearInterval(timer);\n",
              "        embed_document(root);\n",
              "      } else if (document.readyState == \"complete\") {\n",
              "        attempts++;\n",
              "        if (attempts > 200) {\n",
              "          clearInterval(timer);\n",
              "\t  var Bokeh = get_bokeh(root)\n",
              "\t  if (Bokeh == null || Bokeh.Panel == null) {\n",
              "            console.warn(\"Panel: ERROR: Unable to run Panel code because Bokeh or Panel library is missing\");\n",
              "\t  } else {\n",
              "\t    console.warn(\"Panel: WARNING: Attempting to render but not all required libraries could be resolved.\")\n",
              "\t    embed_document(root)\n",
              "\t  }\n",
              "        }\n",
              "      }\n",
              "    }, 25, root)\n",
              "  }\n",
              "})(window);</script>"
            ],
            "application/vnd.holoviews_exec.v0+json": ""
          },
          "metadata": {
            "application/vnd.holoviews_exec.v0+json": {
              "id": "p1401"
            }
          }
        }
      ],
      "source": [
        "import polars as pl\n",
        "import hvplot.polars # Using the hvplot as the plotting backend\n",
        "from polars.testing import assert_frame_equal"
      ]
    },
    {
      "cell_type": "code",
      "execution_count": 45,
      "id": "isB8fVBAqqDJ",
      "metadata": {
        "colab": {
          "base_uri": "https://localhost:8080/",
          "height": 35
        },
        "id": "isB8fVBAqqDJ",
        "outputId": "5da4caef-a0f2-49f9-a44e-9fdb8e4a4447"
      },
      "outputs": [
        {
          "output_type": "execute_result",
          "data": {
            "text/plain": [
              "'1.5.0'"
            ],
            "application/vnd.google.colaboratory.intrinsic+json": {
              "type": "string"
            }
          },
          "metadata": {},
          "execution_count": 45
        }
      ],
      "source": [
        "pl.__version__ # Make sure the version is >= `1.6.0`; If not restart the session."
      ]
    },
    {
      "cell_type": "code",
      "execution_count": 46,
      "id": "a04f58fd-3df5-44ee-9a59-67d5c5146b08",
      "metadata": {
        "id": "a04f58fd-3df5-44ee-9a59-67d5c5146b08",
        "tags": []
      },
      "outputs": [],
      "source": [
        "transactions = pl.scan_parquet(\"transactions.parquet\")"
      ]
    },
    {
      "cell_type": "code",
      "execution_count": 47,
      "id": "271b5f7f-612d-4ee3-ab6c-8539bc36a8a0",
      "metadata": {
        "colab": {
          "base_uri": "https://localhost:8080/"
        },
        "id": "271b5f7f-612d-4ee3-ab6c-8539bc36a8a0",
        "outputId": "974ac920-47ad-4c7b-cba2-8c0c159d8a32",
        "tags": []
      },
      "outputs": [
        {
          "output_type": "execute_result",
          "data": {
            "text/plain": [
              "Schema([('CUST_ID', String),\n",
              "        ('START_DATE', Date),\n",
              "        ('END_DATE', Date),\n",
              "        ('TRANS_ID', String),\n",
              "        ('DATE', Date),\n",
              "        ('YEAR', Int64),\n",
              "        ('MONTH', Int64),\n",
              "        ('DAY', Int64),\n",
              "        ('EXP_TYPE', String),\n",
              "        ('AMOUNT', Float64)])"
            ]
          },
          "metadata": {},
          "execution_count": 47
        }
      ],
      "source": [
        "transactions.collect_schema()"
      ]
    },
    {
      "cell_type": "code",
      "source": [],
      "metadata": {
        "id": "lHBLSzQHy7cO"
      },
      "id": "lHBLSzQHy7cO",
      "execution_count": 15,
      "outputs": []
    },
    {
      "cell_type": "code",
      "execution_count": 48,
      "id": "86b44c08-a229-41b3-8e22-59f03eee68fd",
      "metadata": {
        "colab": {
          "base_uri": "https://localhost:8080/",
          "height": 254
        },
        "id": "86b44c08-a229-41b3-8e22-59f03eee68fd",
        "outputId": "b2689b73-ba2b-4e81-e201-728ed3a8c2f1"
      },
      "outputs": [
        {
          "output_type": "execute_result",
          "data": {
            "text/plain": [
              "shape: (5, 10)\n",
              "┌────────────┬────────────┬──────────┬─────────────────┬───┬───────┬─────┬───────────────┬────────┐\n",
              "│ CUST_ID    ┆ START_DATE ┆ END_DATE ┆ TRANS_ID        ┆ … ┆ MONTH ┆ DAY ┆ EXP_TYPE      ┆ AMOUNT │\n",
              "│ ---        ┆ ---        ┆ ---      ┆ ---             ┆   ┆ ---   ┆ --- ┆ ---           ┆ ---    │\n",
              "│ str        ┆ date       ┆ date     ┆ str             ┆   ┆ i64   ┆ i64 ┆ str           ┆ f64    │\n",
              "╞════════════╪════════════╪══════════╪═════════════════╪═══╪═══════╪═════╪═══════════════╪════════╡\n",
              "│ CI6XLYUMQK ┆ 2015-05-01 ┆ null     ┆ T8I9ZB5A6X90UG8 ┆ … ┆ 9     ┆ 11  ┆ Motor/Travel  ┆ 20.27  │\n",
              "│ CI6XLYUMQK ┆ 2015-05-01 ┆ null     ┆ TZ4JSLS7SC7FO9H ┆ … ┆ 2     ┆ 8   ┆ Motor/Travel  ┆ 12.85  │\n",
              "│ CI6XLYUMQK ┆ 2015-05-01 ┆ null     ┆ TTUKRDDJ6B6F42H ┆ … ┆ 8     ┆ 1   ┆ Housing       ┆ 383.8  │\n",
              "│ CI6XLYUMQK ┆ 2015-05-01 ┆ null     ┆ TDUHFRUKGPPI6HD ┆ … ┆ 3     ┆ 16  ┆ Entertainment ┆ 5.72   │\n",
              "│ CI6XLYUMQK ┆ 2015-05-01 ┆ null     ┆ T0JBZHBMSVRFMMD ┆ … ┆ 5     ┆ 15  ┆ Entertainment ┆ 11.06  │\n",
              "└────────────┴────────────┴──────────┴─────────────────┴───┴───────┴─────┴───────────────┴────────┘"
            ],
            "text/html": [
              "<div><style>\n",
              ".dataframe > thead > tr,\n",
              ".dataframe > tbody > tr {\n",
              "  text-align: right;\n",
              "  white-space: pre-wrap;\n",
              "}\n",
              "</style>\n",
              "<small>shape: (5, 10)</small><table border=\"1\" class=\"dataframe\"><thead><tr><th>CUST_ID</th><th>START_DATE</th><th>END_DATE</th><th>TRANS_ID</th><th>DATE</th><th>YEAR</th><th>MONTH</th><th>DAY</th><th>EXP_TYPE</th><th>AMOUNT</th></tr><tr><td>str</td><td>date</td><td>date</td><td>str</td><td>date</td><td>i64</td><td>i64</td><td>i64</td><td>str</td><td>f64</td></tr></thead><tbody><tr><td>&quot;CI6XLYUMQK&quot;</td><td>2015-05-01</td><td>null</td><td>&quot;T8I9ZB5A6X90UG8&quot;</td><td>2015-09-11</td><td>2015</td><td>9</td><td>11</td><td>&quot;Motor/Travel&quot;</td><td>20.27</td></tr><tr><td>&quot;CI6XLYUMQK&quot;</td><td>2015-05-01</td><td>null</td><td>&quot;TZ4JSLS7SC7FO9H&quot;</td><td>2017-02-08</td><td>2017</td><td>2</td><td>8</td><td>&quot;Motor/Travel&quot;</td><td>12.85</td></tr><tr><td>&quot;CI6XLYUMQK&quot;</td><td>2015-05-01</td><td>null</td><td>&quot;TTUKRDDJ6B6F42H&quot;</td><td>2015-08-01</td><td>2015</td><td>8</td><td>1</td><td>&quot;Housing&quot;</td><td>383.8</td></tr><tr><td>&quot;CI6XLYUMQK&quot;</td><td>2015-05-01</td><td>null</td><td>&quot;TDUHFRUKGPPI6HD&quot;</td><td>2019-03-16</td><td>2019</td><td>3</td><td>16</td><td>&quot;Entertainment&quot;</td><td>5.72</td></tr><tr><td>&quot;CI6XLYUMQK&quot;</td><td>2015-05-01</td><td>null</td><td>&quot;T0JBZHBMSVRFMMD&quot;</td><td>2015-05-15</td><td>2015</td><td>5</td><td>15</td><td>&quot;Entertainment&quot;</td><td>11.06</td></tr></tbody></table></div>"
            ]
          },
          "metadata": {},
          "execution_count": 48
        }
      ],
      "source": [
        "transactions.head(5).collect()"
      ]
    },
    {
      "cell_type": "markdown",
      "id": "fa5da5a9-4ca5-473b-a99f-b5ef4711e70e",
      "metadata": {
        "id": "fa5da5a9-4ca5-473b-a99f-b5ef4711e70e"
      },
      "source": [
        "This dataset has a mix of data types (strings, dates, integers, and floats), some missing values, and it looks like the dates were actually parsed as strings. We'll need to handle that during some of our analysis."
      ]
    },
    {
      "cell_type": "markdown",
      "id": "bfc44e41-191c-4cee-8d99-29a47d5f3b78",
      "metadata": {
        "id": "bfc44e41-191c-4cee-8d99-29a47d5f3b78"
      },
      "source": [
        "# Our first GPU operation: Total aggregate transaction amount"
      ]
    },
    {
      "cell_type": "markdown",
      "id": "551e3232-b815-4b96-8f49-343f6ce07af9",
      "metadata": {
        "id": "551e3232-b815-4b96-8f49-343f6ce07af9"
      },
      "source": [
        "With Polars, to calculate the total spending in of all transactions we simply `sum` the `AMOUNT` column:"
      ]
    },
    {
      "cell_type": "code",
      "execution_count": 49,
      "id": "f4960ea1-a1fd-4af9-a08b-2dc6210117af",
      "metadata": {
        "colab": {
          "base_uri": "https://localhost:8080/",
          "height": 164
        },
        "id": "f4960ea1-a1fd-4af9-a08b-2dc6210117af",
        "outputId": "d3af07b4-b36a-4651-d9f0-00cc636f58b8",
        "tags": []
      },
      "outputs": [
        {
          "output_type": "stream",
          "name": "stdout",
          "text": [
            "CPU times: user 1.56 s, sys: 316 ms, total: 1.88 s\n",
            "Wall time: 1.1 s\n"
          ]
        },
        {
          "output_type": "execute_result",
          "data": {
            "text/plain": [
              "shape: (1, 1)\n",
              "┌──────────┐\n",
              "│ AMOUNT   │\n",
              "│ ---      │\n",
              "│ f64      │\n",
              "╞══════════╡\n",
              "│ 3.6183e9 │\n",
              "└──────────┘"
            ],
            "text/html": [
              "<div><style>\n",
              ".dataframe > thead > tr,\n",
              ".dataframe > tbody > tr {\n",
              "  text-align: right;\n",
              "  white-space: pre-wrap;\n",
              "}\n",
              "</style>\n",
              "<small>shape: (1, 1)</small><table border=\"1\" class=\"dataframe\"><thead><tr><th>AMOUNT</th></tr><tr><td>f64</td></tr></thead><tbody><tr><td>3.6183e9</td></tr></tbody></table></div>"
            ]
          },
          "metadata": {},
          "execution_count": 49
        }
      ],
      "source": [
        "%%time\n",
        "transactions.select(pl.col(\"AMOUNT\").sum()).collect()"
      ]
    },
    {
      "cell_type": "code",
      "source": [
        "%%time\n",
        "transactions.select(pl.col(\"AMOUNT\").sum()).collect(engine=\"gpu\")"
      ],
      "metadata": {
        "id": "pQlMd-Mk14uO",
        "outputId": "63738636-231d-443c-8006-23bc080fa725",
        "colab": {
          "base_uri": "https://localhost:8080/",
          "height": 164
        }
      },
      "id": "pQlMd-Mk14uO",
      "execution_count": 50,
      "outputs": [
        {
          "output_type": "stream",
          "name": "stdout",
          "text": [
            "CPU times: user 271 ms, sys: 22.7 ms, total: 294 ms\n",
            "Wall time: 287 ms\n"
          ]
        },
        {
          "output_type": "execute_result",
          "data": {
            "text/plain": [
              "shape: (1, 1)\n",
              "┌──────────┐\n",
              "│ AMOUNT   │\n",
              "│ ---      │\n",
              "│ f64      │\n",
              "╞══════════╡\n",
              "│ 3.6183e9 │\n",
              "└──────────┘"
            ],
            "text/html": [
              "<div><style>\n",
              ".dataframe > thead > tr,\n",
              ".dataframe > tbody > tr {\n",
              "  text-align: right;\n",
              "  white-space: pre-wrap;\n",
              "}\n",
              "</style>\n",
              "<small>shape: (1, 1)</small><table border=\"1\" class=\"dataframe\"><thead><tr><th>AMOUNT</th></tr><tr><td>f64</td></tr></thead><tbody><tr><td>3.6183e9</td></tr></tbody></table></div>"
            ]
          },
          "metadata": {},
          "execution_count": 50
        }
      ]
    },
    {
      "cell_type": "markdown",
      "id": "fd4a8068-5e43-4188-b268-1358af945048",
      "metadata": {
        "id": "fd4a8068-5e43-4188-b268-1358af945048"
      },
      "source": [
        "Looks like we're handling a high total transaction volume. Let's run the same query on the GPU.\n",
        "\n",
        "To use a GPU, we just need to tell Polars to use the GPU engine when we call `collect` by passing `engine=\"gpu\"` as a parameter.\n",
        "\n",
        "\n",
        "```python\n",
        "transactions.select(pl.col(\"AMOUNT\").sum()).collect(engine=\"gpu\")\n",
        "```\n",
        "\n",
        "The default configuration is likely the right choice for most workloads, but sometimes we want more control. We can provide more detailed configuration options (such as which device to run on and a variety of other options) by passing a Polars `GPUEngine` object to the `engine` parameter instead.\n",
        "\n",
        "\n",
        "In this notebook, we'll use `pl.GPUEngine`. The default configuration has transparent CPU fallback for unsupported operations, so if we execute an unsupported query we don't get an error. To prove we're running on the GPU, we'll pass a configured engine object that will raise an error if we can't run the query.\n",
        "\n",
        "_If you're running with [jupyterlab-nvdashboard](https://developer.nvidia.com/blog/maximize-gpu-performance-with-near-real-time-usage-stats-on-nvdashboard-v0-10/) you should see the GPU Memory and Utilization tick up._"
      ]
    },
    {
      "cell_type": "code",
      "execution_count": 51,
      "id": "308471b8-1086-470c-ac32-95e8af55fc9a",
      "metadata": {
        "id": "308471b8-1086-470c-ac32-95e8af55fc9a"
      },
      "outputs": [],
      "source": [
        "gpu_engine = pl.GPUEngine(\n",
        "    device=0, # This is the default\n",
        "    raise_on_fail=True, # Fail loudly if we can't run on the GPU.\n",
        ")"
      ]
    },
    {
      "cell_type": "markdown",
      "id": "9b96dc10-65b0-4399-a09e-bf6e0c94438c",
      "metadata": {
        "id": "9b96dc10-65b0-4399-a09e-bf6e0c94438c"
      },
      "source": [
        "The very first collection on the GPU will take a couple of seconds. The GPU engine is lazy-loaded so that even if the necessary packages are installed, Polars' fast import times are not affected. Consequently, when we trigger GPU execution for the first time, we load a number of additional packages, and initialize GPU-specific data structures and contexts."
      ]
    },
    {
      "cell_type": "code",
      "execution_count": 52,
      "id": "986c74e0-94b7-48e4-9921-fb2a17a252f5",
      "metadata": {
        "colab": {
          "base_uri": "https://localhost:8080/",
          "height": 164
        },
        "id": "986c74e0-94b7-48e4-9921-fb2a17a252f5",
        "outputId": "23334df5-a684-4aed-ab8e-da7f8cd49591"
      },
      "outputs": [
        {
          "output_type": "stream",
          "name": "stdout",
          "text": [
            "CPU times: user 303 ms, sys: 0 ns, total: 303 ms\n",
            "Wall time: 296 ms\n"
          ]
        },
        {
          "output_type": "execute_result",
          "data": {
            "text/plain": [
              "shape: (1, 1)\n",
              "┌──────────┐\n",
              "│ AMOUNT   │\n",
              "│ ---      │\n",
              "│ f64      │\n",
              "╞══════════╡\n",
              "│ 3.6183e9 │\n",
              "└──────────┘"
            ],
            "text/html": [
              "<div><style>\n",
              ".dataframe > thead > tr,\n",
              ".dataframe > tbody > tr {\n",
              "  text-align: right;\n",
              "  white-space: pre-wrap;\n",
              "}\n",
              "</style>\n",
              "<small>shape: (1, 1)</small><table border=\"1\" class=\"dataframe\"><thead><tr><th>AMOUNT</th></tr><tr><td>f64</td></tr></thead><tbody><tr><td>3.6183e9</td></tr></tbody></table></div>"
            ]
          },
          "metadata": {},
          "execution_count": 52
        }
      ],
      "source": [
        "%%time\n",
        "transactions.select(pl.col(\"AMOUNT\").sum()).collect(engine=gpu_engine)"
      ]
    },
    {
      "cell_type": "markdown",
      "id": "e87175dd-e11c-4146-92ae-4afd3417071b",
      "metadata": {
        "id": "e87175dd-e11c-4146-92ae-4afd3417071b"
      },
      "source": [
        "We probably don't need a GPU for such a simple operation on this dataset. But when we start doing more complex analysis, the high-bandwidth memory and compute power of GPUs will make things much more interactive."
      ]
    },
    {
      "cell_type": "markdown",
      "id": "30466c12-ab87-4800-9bbb-5207197bb444",
      "metadata": {
        "id": "30466c12-ab87-4800-9bbb-5207197bb444"
      },
      "source": [
        "# More Complex Analysis"
      ]
    },
    {
      "cell_type": "markdown",
      "id": "c715ceee-36ea-4b0f-a826-882afaddf23c",
      "metadata": {
        "id": "c715ceee-36ea-4b0f-a826-882afaddf23c"
      },
      "source": [
        "While the data is synthetic, it's representative of the kinds of datasets that come up in financial services, retail/e-commerce, consumer internet, and other industries.\n",
        "\n",
        "With this data, we can see how using GPU-accelerated Polars provides a significant productivity boosts by exploring common business questions like:\n",
        "\n",
        "1. Which customers have the largest total transctions?\n",
        "2. What's the per-month transaction amount for each spending category over time?\n",
        "3. How does weather effect the transactions for each category?\n",
        "\n",
        "Because this data is synthentic, the results won't be meaningful in terms of business conclusions. Rather, we are motivating _why_ using this GPU engine is useful in terms of perfomance and cost reduction. We'll prove that the CPU and GPU engine get the same results in the first example, but as we move throughout the notebook we'll take this for granted and focus on CPU and GPU timings.\n",
        "\n",
        "Let's start with our first question."
      ]
    },
    {
      "cell_type": "markdown",
      "id": "d0ff0679-e562-437c-b5e8-882c88e04393",
      "metadata": {
        "id": "d0ff0679-e562-437c-b5e8-882c88e04393"
      },
      "source": [
        "## Which customers have the largest total transactions?"
      ]
    },
    {
      "cell_type": "code",
      "execution_count": 53,
      "id": "7ac30d66-a58b-4b72-83d6-99c0646b9e3c",
      "metadata": {
        "colab": {
          "base_uri": "https://localhost:8080/",
          "height": 289
        },
        "id": "7ac30d66-a58b-4b72-83d6-99c0646b9e3c",
        "outputId": "305d0b83-a4d8-450f-817e-2eaca81fb995"
      },
      "outputs": [
        {
          "output_type": "stream",
          "name": "stdout",
          "text": [
            "CPU times: user 4.18 s, sys: 4.49 s, total: 8.67 s\n",
            "Wall time: 6.7 s\n"
          ]
        },
        {
          "output_type": "execute_result",
          "data": {
            "text/plain": [
              "shape: (5, 2)\n",
              "┌────────────┬──────────┐\n",
              "│ CUST_ID    ┆ AMOUNT   │\n",
              "│ ---        ┆ ---      │\n",
              "│ str        ┆ f64      │\n",
              "╞════════════╪══════════╡\n",
              "│ CA9UYOQ5DA ┆ 2.0290e6 │\n",
              "│ CJUK2MTM5Q ┆ 1.8115e6 │\n",
              "│ CYXX1NBIKL ┆ 1.8082e6 │\n",
              "│ C6ILEYAYQ9 ┆ 1.7961e6 │\n",
              "│ CCNBC305GI ┆ 1.7274e6 │\n",
              "└────────────┴──────────┘"
            ],
            "text/html": [
              "<div><style>\n",
              ".dataframe > thead > tr,\n",
              ".dataframe > tbody > tr {\n",
              "  text-align: right;\n",
              "  white-space: pre-wrap;\n",
              "}\n",
              "</style>\n",
              "<small>shape: (5, 2)</small><table border=\"1\" class=\"dataframe\"><thead><tr><th>CUST_ID</th><th>AMOUNT</th></tr><tr><td>str</td><td>f64</td></tr></thead><tbody><tr><td>&quot;CA9UYOQ5DA&quot;</td><td>2.0290e6</td></tr><tr><td>&quot;CJUK2MTM5Q&quot;</td><td>1.8115e6</td></tr><tr><td>&quot;CYXX1NBIKL&quot;</td><td>1.8082e6</td></tr><tr><td>&quot;C6ILEYAYQ9&quot;</td><td>1.7961e6</td></tr><tr><td>&quot;CCNBC305GI&quot;</td><td>1.7274e6</td></tr></tbody></table></div>"
            ]
          },
          "metadata": {},
          "execution_count": 53
        }
      ],
      "source": [
        "%%time\n",
        "\n",
        "res_cpu = (\n",
        "    transactions\n",
        "    .group_by(\"CUST_ID\")\n",
        "    .agg(pl.col(\"AMOUNT\").sum())\n",
        "    .sort(by=\"AMOUNT\", descending=True)\n",
        "    .head()\n",
        "    .collect()\n",
        ")\n",
        "res_cpu"
      ]
    },
    {
      "cell_type": "code",
      "execution_count": 54,
      "id": "3c67acfc-531f-49a2-8485-b665d33468a7",
      "metadata": {
        "colab": {
          "base_uri": "https://localhost:8080/",
          "height": 289
        },
        "id": "3c67acfc-531f-49a2-8485-b665d33468a7",
        "outputId": "49ace5fe-1740-4e4a-9857-3ab9a1c01d70"
      },
      "outputs": [
        {
          "output_type": "stream",
          "name": "stdout",
          "text": [
            "CPU times: user 344 ms, sys: 0 ns, total: 344 ms\n",
            "Wall time: 402 ms\n"
          ]
        },
        {
          "output_type": "execute_result",
          "data": {
            "text/plain": [
              "shape: (5, 2)\n",
              "┌────────────┬──────────┐\n",
              "│ CUST_ID    ┆ AMOUNT   │\n",
              "│ ---        ┆ ---      │\n",
              "│ str        ┆ f64      │\n",
              "╞════════════╪══════════╡\n",
              "│ CA9UYOQ5DA ┆ 2.0290e6 │\n",
              "│ CJUK2MTM5Q ┆ 1.8115e6 │\n",
              "│ CYXX1NBIKL ┆ 1.8082e6 │\n",
              "│ C6ILEYAYQ9 ┆ 1.7961e6 │\n",
              "│ CCNBC305GI ┆ 1.7274e6 │\n",
              "└────────────┴──────────┘"
            ],
            "text/html": [
              "<div><style>\n",
              ".dataframe > thead > tr,\n",
              ".dataframe > tbody > tr {\n",
              "  text-align: right;\n",
              "  white-space: pre-wrap;\n",
              "}\n",
              "</style>\n",
              "<small>shape: (5, 2)</small><table border=\"1\" class=\"dataframe\"><thead><tr><th>CUST_ID</th><th>AMOUNT</th></tr><tr><td>str</td><td>f64</td></tr></thead><tbody><tr><td>&quot;CA9UYOQ5DA&quot;</td><td>2.0290e6</td></tr><tr><td>&quot;CJUK2MTM5Q&quot;</td><td>1.8115e6</td></tr><tr><td>&quot;CYXX1NBIKL&quot;</td><td>1.8082e6</td></tr><tr><td>&quot;C6ILEYAYQ9&quot;</td><td>1.7961e6</td></tr><tr><td>&quot;CCNBC305GI&quot;</td><td>1.7274e6</td></tr></tbody></table></div>"
            ]
          },
          "metadata": {},
          "execution_count": 54
        }
      ],
      "source": [
        "%%time\n",
        "\n",
        "res_gpu = (\n",
        "    transactions\n",
        "    .group_by(\"CUST_ID\")\n",
        "    .agg(pl.col(\"AMOUNT\").sum())\n",
        "    .sort(by=\"AMOUNT\", descending=True)\n",
        "    .head()\n",
        "    .collect(engine=gpu_engine)\n",
        ")\n",
        "res_gpu"
      ]
    },
    {
      "cell_type": "code",
      "execution_count": 19,
      "id": "03c876f1-495b-4cf9-ad4c-0a16ed53ce32",
      "metadata": {
        "id": "03c876f1-495b-4cf9-ad4c-0a16ed53ce32"
      },
      "outputs": [],
      "source": [
        "assert_frame_equal(res_cpu, res_gpu)"
      ]
    },
    {
      "cell_type": "markdown",
      "id": "3ec2e276-6ed2-47f2-b968-85586896a854",
      "metadata": {
        "id": "3ec2e276-6ed2-47f2-b968-85586896a854"
      },
      "source": [
        "Great! We see a nice performance gain when using the GPU engine and we've confirmed the results are equal."
      ]
    },
    {
      "cell_type": "markdown",
      "id": "4acabf65-ee3f-4e88-9d05-206c776bcb3d",
      "metadata": {
        "id": "4acabf65-ee3f-4e88-9d05-206c776bcb3d"
      },
      "source": [
        "In addition to the Dataframe interface, Polars also has an SQL interface. We can also use this with the GPU engine, since Polars translates both the DataFrame and SQL interfaces into a query execution plan."
      ]
    },
    {
      "cell_type": "code",
      "execution_count": 55,
      "id": "5b9a25d0-f777-4bb9-9c74-e15690675938",
      "metadata": {
        "colab": {
          "base_uri": "https://localhost:8080/",
          "height": 324
        },
        "id": "5b9a25d0-f777-4bb9-9c74-e15690675938",
        "outputId": "c0edd46a-8bdf-4fa2-ed8c-bedc7a682538"
      },
      "outputs": [
        {
          "output_type": "stream",
          "name": "stdout",
          "text": [
            "CPU times: user 4.54 s, sys: 2.99 s, total: 7.53 s\n",
            "Wall time: 5.11 s\n",
            "CPU times: user 316 ms, sys: 55.3 ms, total: 371 ms\n",
            "Wall time: 327 ms\n"
          ]
        },
        {
          "output_type": "execute_result",
          "data": {
            "text/plain": [
              "shape: (5, 2)\n",
              "┌────────────┬──────────┐\n",
              "│ CUST_ID    ┆ sum_amt  │\n",
              "│ ---        ┆ ---      │\n",
              "│ str        ┆ f64      │\n",
              "╞════════════╪══════════╡\n",
              "│ CA9UYOQ5DA ┆ 2.0290e6 │\n",
              "│ CJUK2MTM5Q ┆ 1.8115e6 │\n",
              "│ CYXX1NBIKL ┆ 1.8082e6 │\n",
              "│ C6ILEYAYQ9 ┆ 1.7961e6 │\n",
              "│ CCNBC305GI ┆ 1.7274e6 │\n",
              "└────────────┴──────────┘"
            ],
            "text/html": [
              "<div><style>\n",
              ".dataframe > thead > tr,\n",
              ".dataframe > tbody > tr {\n",
              "  text-align: right;\n",
              "  white-space: pre-wrap;\n",
              "}\n",
              "</style>\n",
              "<small>shape: (5, 2)</small><table border=\"1\" class=\"dataframe\"><thead><tr><th>CUST_ID</th><th>sum_amt</th></tr><tr><td>str</td><td>f64</td></tr></thead><tbody><tr><td>&quot;CA9UYOQ5DA&quot;</td><td>2.0290e6</td></tr><tr><td>&quot;CJUK2MTM5Q&quot;</td><td>1.8115e6</td></tr><tr><td>&quot;CYXX1NBIKL&quot;</td><td>1.8082e6</td></tr><tr><td>&quot;C6ILEYAYQ9&quot;</td><td>1.7961e6</td></tr><tr><td>&quot;CCNBC305GI&quot;</td><td>1.7274e6</td></tr></tbody></table></div>"
            ]
          },
          "metadata": {},
          "execution_count": 55
        }
      ],
      "source": [
        "query = \"\"\"\n",
        "SELECT CUST_ID, SUM(AMOUNT) as sum_amt\n",
        "FROM transactions\n",
        "GROUP BY CUST_ID\n",
        "ORDER BY sum_amt desc\n",
        "LIMIT 5\n",
        "\"\"\"\n",
        "\n",
        "%time pl.sql(query).collect()\n",
        "%time pl.sql(query).collect(engine=gpu_engine)"
      ]
    },
    {
      "cell_type": "markdown",
      "id": "27c9efa0-1c69-4039-8a7b-7a55cb1ecf78",
      "metadata": {
        "id": "27c9efa0-1c69-4039-8a7b-7a55cb1ecf78"
      },
      "source": [
        "## Which customers have the largest single transaction?\n",
        "\n",
        "Customer `CP2KXQSX9I` had the largest total transactions over time (on the full dataset), but they might not have the largest single transaction. Let's find the top customers by single transaction amount."
      ]
    },
    {
      "cell_type": "code",
      "execution_count": 56,
      "id": "b26080e3-9b35-45cc-8a7e-c78926467ae8",
      "metadata": {
        "colab": {
          "base_uri": "https://localhost:8080/",
          "height": 289
        },
        "id": "b26080e3-9b35-45cc-8a7e-c78926467ae8",
        "outputId": "5fc28708-0501-459c-9e2a-09a57728b3ec"
      },
      "outputs": [
        {
          "output_type": "stream",
          "name": "stdout",
          "text": [
            "CPU times: user 4.77 s, sys: 3.08 s, total: 7.85 s\n",
            "Wall time: 5.9 s\n"
          ]
        },
        {
          "output_type": "execute_result",
          "data": {
            "text/plain": [
              "shape: (5, 2)\n",
              "┌────────────┬────────────┐\n",
              "│ CUST_ID    ┆ max_amount │\n",
              "│ ---        ┆ ---        │\n",
              "│ str        ┆ f64        │\n",
              "╞════════════╪════════════╡\n",
              "│ CIP0I11MG2 ┆ 6201.45    │\n",
              "│ C4O38N5TQS ┆ 6077.49    │\n",
              "│ CL2M3N3K90 ┆ 6041.59    │\n",
              "│ CC472PU9O8 ┆ 5929.14    │\n",
              "│ CGR8UI27OK ┆ 5903.61    │\n",
              "└────────────┴────────────┘"
            ],
            "text/html": [
              "<div><style>\n",
              ".dataframe > thead > tr,\n",
              ".dataframe > tbody > tr {\n",
              "  text-align: right;\n",
              "  white-space: pre-wrap;\n",
              "}\n",
              "</style>\n",
              "<small>shape: (5, 2)</small><table border=\"1\" class=\"dataframe\"><thead><tr><th>CUST_ID</th><th>max_amount</th></tr><tr><td>str</td><td>f64</td></tr></thead><tbody><tr><td>&quot;CIP0I11MG2&quot;</td><td>6201.45</td></tr><tr><td>&quot;C4O38N5TQS&quot;</td><td>6077.49</td></tr><tr><td>&quot;CL2M3N3K90&quot;</td><td>6041.59</td></tr><tr><td>&quot;CC472PU9O8&quot;</td><td>5929.14</td></tr><tr><td>&quot;CGR8UI27OK&quot;</td><td>5903.61</td></tr></tbody></table></div>"
            ]
          },
          "metadata": {},
          "execution_count": 56
        }
      ],
      "source": [
        "%%time\n",
        "\n",
        "(\n",
        "    transactions\n",
        "    .group_by(\"CUST_ID\")\n",
        "    .agg(pl.col(\"AMOUNT\").max().alias(\"max_amount\"))\n",
        "    .sort(by=\"max_amount\", descending=True)\n",
        "    .head()\n",
        "    .collect()\n",
        ")"
      ]
    },
    {
      "cell_type": "code",
      "execution_count": 57,
      "id": "c696b693-fb50-4336-b06e-ca137ffb8897",
      "metadata": {
        "colab": {
          "base_uri": "https://localhost:8080/",
          "height": 289
        },
        "id": "c696b693-fb50-4336-b06e-ca137ffb8897",
        "outputId": "f3a1ab4f-9fbd-4ea4-f238-e7d235edb005"
      },
      "outputs": [
        {
          "output_type": "stream",
          "name": "stdout",
          "text": [
            "CPU times: user 377 ms, sys: 12.6 ms, total: 390 ms\n",
            "Wall time: 392 ms\n"
          ]
        },
        {
          "output_type": "execute_result",
          "data": {
            "text/plain": [
              "shape: (5, 2)\n",
              "┌────────────┬────────────┐\n",
              "│ CUST_ID    ┆ max_amount │\n",
              "│ ---        ┆ ---        │\n",
              "│ str        ┆ f64        │\n",
              "╞════════════╪════════════╡\n",
              "│ CIP0I11MG2 ┆ 6201.45    │\n",
              "│ C4O38N5TQS ┆ 6077.49    │\n",
              "│ CL2M3N3K90 ┆ 6041.59    │\n",
              "│ CC472PU9O8 ┆ 5929.14    │\n",
              "│ CGR8UI27OK ┆ 5903.61    │\n",
              "└────────────┴────────────┘"
            ],
            "text/html": [
              "<div><style>\n",
              ".dataframe > thead > tr,\n",
              ".dataframe > tbody > tr {\n",
              "  text-align: right;\n",
              "  white-space: pre-wrap;\n",
              "}\n",
              "</style>\n",
              "<small>shape: (5, 2)</small><table border=\"1\" class=\"dataframe\"><thead><tr><th>CUST_ID</th><th>max_amount</th></tr><tr><td>str</td><td>f64</td></tr></thead><tbody><tr><td>&quot;CIP0I11MG2&quot;</td><td>6201.45</td></tr><tr><td>&quot;C4O38N5TQS&quot;</td><td>6077.49</td></tr><tr><td>&quot;CL2M3N3K90&quot;</td><td>6041.59</td></tr><tr><td>&quot;CC472PU9O8&quot;</td><td>5929.14</td></tr><tr><td>&quot;CGR8UI27OK&quot;</td><td>5903.61</td></tr></tbody></table></div>"
            ]
          },
          "metadata": {},
          "execution_count": 57
        }
      ],
      "source": [
        "%%time\n",
        "\n",
        "(\n",
        "    transactions\n",
        "    .group_by(\"CUST_ID\")\n",
        "    .agg(pl.col(\"AMOUNT\").max().alias(\"max_amount\"))\n",
        "    .sort(by=\"max_amount\", descending=True)\n",
        "    .head()\n",
        "    .collect(engine=gpu_engine)\n",
        ")"
      ]
    },
    {
      "cell_type": "markdown",
      "id": "7080def6-d4e5-408c-8c8b-83a0895b0c3b",
      "metadata": {
        "id": "7080def6-d4e5-408c-8c8b-83a0895b0c3b"
      },
      "source": [
        "Again, we see a nice speedup using the GPU engine."
      ]
    },
    {
      "cell_type": "markdown",
      "id": "d0f33dad-b5f3-446d-a63e-95d907ab1cc8",
      "metadata": {
        "id": "d0f33dad-b5f3-446d-a63e-95d907ab1cc8"
      },
      "source": [
        "## Investigating a specific customer\n",
        "\n",
        "Let's explore the transactions of a single customer now. What was `CIP0I11MG2`'s largest transaction?"
      ]
    },
    {
      "cell_type": "code",
      "execution_count": 58,
      "id": "048e08be-5e30-41fa-a344-e2eb46e0085c",
      "metadata": {
        "colab": {
          "base_uri": "https://localhost:8080/",
          "height": 164
        },
        "id": "048e08be-5e30-41fa-a344-e2eb46e0085c",
        "outputId": "0cce1b22-6561-4f63-e84c-41abda4c516c"
      },
      "outputs": [
        {
          "output_type": "stream",
          "name": "stdout",
          "text": [
            "CPU times: user 1.83 s, sys: 0 ns, total: 1.83 s\n",
            "Wall time: 1.19 s\n"
          ]
        },
        {
          "output_type": "execute_result",
          "data": {
            "text/plain": [
              "shape: (1, 1)\n",
              "┌─────────┐\n",
              "│ AMOUNT  │\n",
              "│ ---     │\n",
              "│ f64     │\n",
              "╞═════════╡\n",
              "│ 6201.45 │\n",
              "└─────────┘"
            ],
            "text/html": [
              "<div><style>\n",
              ".dataframe > thead > tr,\n",
              ".dataframe > tbody > tr {\n",
              "  text-align: right;\n",
              "  white-space: pre-wrap;\n",
              "}\n",
              "</style>\n",
              "<small>shape: (1, 1)</small><table border=\"1\" class=\"dataframe\"><thead><tr><th>AMOUNT</th></tr><tr><td>f64</td></tr></thead><tbody><tr><td>6201.45</td></tr></tbody></table></div>"
            ]
          },
          "metadata": {},
          "execution_count": 58
        }
      ],
      "source": [
        "%%time\n",
        "\n",
        "(\n",
        "    transactions\n",
        "    .filter(pl.col(\"CUST_ID\") == \"CIP0I11MG2\")\n",
        "    .select(pl.col(\"AMOUNT\").max())\n",
        "    .collect()\n",
        ")"
      ]
    },
    {
      "cell_type": "code",
      "execution_count": 59,
      "id": "95a01a3d-f400-4439-b30b-09860439058a",
      "metadata": {
        "colab": {
          "base_uri": "https://localhost:8080/",
          "height": 164
        },
        "id": "95a01a3d-f400-4439-b30b-09860439058a",
        "outputId": "c3c0fcba-a69e-45be-cb92-a5e78308f0c1"
      },
      "outputs": [
        {
          "output_type": "stream",
          "name": "stdout",
          "text": [
            "CPU times: user 331 ms, sys: 33.4 ms, total: 364 ms\n",
            "Wall time: 396 ms\n"
          ]
        },
        {
          "output_type": "execute_result",
          "data": {
            "text/plain": [
              "shape: (1, 1)\n",
              "┌─────────┐\n",
              "│ AMOUNT  │\n",
              "│ ---     │\n",
              "│ f64     │\n",
              "╞═════════╡\n",
              "│ 6201.45 │\n",
              "└─────────┘"
            ],
            "text/html": [
              "<div><style>\n",
              ".dataframe > thead > tr,\n",
              ".dataframe > tbody > tr {\n",
              "  text-align: right;\n",
              "  white-space: pre-wrap;\n",
              "}\n",
              "</style>\n",
              "<small>shape: (1, 1)</small><table border=\"1\" class=\"dataframe\"><thead><tr><th>AMOUNT</th></tr><tr><td>f64</td></tr></thead><tbody><tr><td>6201.45</td></tr></tbody></table></div>"
            ]
          },
          "metadata": {},
          "execution_count": 59
        }
      ],
      "source": [
        "%%time\n",
        "\n",
        "(\n",
        "    transactions\n",
        "    .filter(pl.col(\"CUST_ID\") == \"CIP0I11MG2\")\n",
        "    .select(pl.col(\"AMOUNT\").max())\n",
        "    .collect(engine=gpu_engine)\n",
        ")"
      ]
    },
    {
      "cell_type": "markdown",
      "id": "fc6b01b0-13ec-4dcc-bd8e-26f193a54d21",
      "metadata": {
        "id": "fc6b01b0-13ec-4dcc-bd8e-26f193a54d21"
      },
      "source": [
        "### Sidebar: Why was performance using the CPU and GPU engines similar for this query?"
      ]
    },
    {
      "cell_type": "markdown",
      "id": "b1a705fe-bb1e-440e-ad5a-829e68971298",
      "metadata": {
        "id": "b1a705fe-bb1e-440e-ad5a-829e68971298"
      },
      "source": [
        "What we've seen so far is that, for many common queries, we see significant performance increases when we use the GPU. But for this last one, things were more similar.\n",
        "\n",
        "Using Polars on a GPU isn't **always** a surefire winner in terms of speed compared to Polars on a CPU. For simple queries that aren't computationally heavy, like the last query, we're often limited by the speed that we can read results from disk.\n",
        "\n",
        "Let's confirm this by profiling."
      ]
    },
    {
      "cell_type": "code",
      "execution_count": 25,
      "id": "85acb8c5-4965-4b3d-bda6-cc484bae765a",
      "metadata": {
        "colab": {
          "base_uri": "https://localhost:8080/",
          "height": 192
        },
        "id": "85acb8c5-4965-4b3d-bda6-cc484bae765a",
        "outputId": "dfbb89ec-9d43-477e-8597-a1d262e73166"
      },
      "outputs": [
        {
          "output_type": "execute_result",
          "data": {
            "text/plain": [
              "shape: (3, 4)\n",
              "┌─────────────────────────────────┬────────┬────────┬────────────────┐\n",
              "│ node                            ┆ start  ┆ end    ┆ pct_time_spent │\n",
              "│ ---                             ┆ ---    ┆ ---    ┆ ---            │\n",
              "│ str                             ┆ u64    ┆ u64    ┆ f64            │\n",
              "╞═════════════════════════════════╪════════╪════════╪════════════════╡\n",
              "│ optimization                    ┆ 0      ┆ 6      ┆ 0.000632       │\n",
              "│ parquet(transactions.parquet, … ┆ 6      ┆ 949343 ┆ 99.996313      │\n",
              "│ select(AMOUNT)                  ┆ 949350 ┆ 949372 ┆ 0.002317       │\n",
              "└─────────────────────────────────┴────────┴────────┴────────────────┘"
            ],
            "text/html": [
              "<div><style>\n",
              ".dataframe > thead > tr,\n",
              ".dataframe > tbody > tr {\n",
              "  text-align: right;\n",
              "  white-space: pre-wrap;\n",
              "}\n",
              "</style>\n",
              "<small>shape: (3, 4)</small><table border=\"1\" class=\"dataframe\"><thead><tr><th>node</th><th>start</th><th>end</th><th>pct_time_spent</th></tr><tr><td>str</td><td>u64</td><td>u64</td><td>f64</td></tr></thead><tbody><tr><td>&quot;optimization&quot;</td><td>0</td><td>6</td><td>0.000632</td></tr><tr><td>&quot;parquet(transactions.parquet, …</td><td>6</td><td>949343</td><td>99.996313</td></tr><tr><td>&quot;select(AMOUNT)&quot;</td><td>949350</td><td>949372</td><td>0.002317</td></tr></tbody></table></div>"
            ]
          },
          "metadata": {},
          "execution_count": 25
        }
      ],
      "source": [
        "res, prof = (\n",
        "    transactions\n",
        "    .filter(pl.col(\"CUST_ID\") == \"CIP0I11MG2\")\n",
        "    .select(pl.col(\"AMOUNT\").max())\n",
        "    .profile()\n",
        ")\n",
        "\n",
        "prof.with_columns(\n",
        "    ((pl.col(\"end\") - pl.col(\"start\")) / pl.col(\"end\").max() * 100)\n",
        "    .alias(\"pct_time_spent\")\n",
        ")"
      ]
    },
    {
      "cell_type": "markdown",
      "id": "920ecf53-726a-467b-9493-c86cfab66e74",
      "metadata": {
        "id": "920ecf53-726a-467b-9493-c86cfab66e74"
      },
      "source": [
        "We spent 99.9%+ of the time just reading the data. Polars can use the GPU-accelerated Parquet reader to read this data, but ultimately when we're **IO bound** like this, there's less opportunity for GPU-acceleration.\n",
        "\n",
        "Let's try an even more computationally intense query."
      ]
    },
    {
      "cell_type": "markdown",
      "id": "3967525b-00da-488f-beba-6c14b74371de",
      "metadata": {
        "id": "3967525b-00da-488f-beba-6c14b74371de"
      },
      "source": [
        "## What's the per-month transaction amount for each category over time?\n",
        "\n",
        "For this query, we'll group and sort down to the individual month, which takes more work."
      ]
    },
    {
      "cell_type": "code",
      "execution_count": 26,
      "id": "c40ca24a-abfd-4652-afe6-2d709f07d038",
      "metadata": {
        "colab": {
          "base_uri": "https://localhost:8080/"
        },
        "id": "c40ca24a-abfd-4652-afe6-2d709f07d038",
        "outputId": "05ca4249-9fa3-46f7-c6f8-7384865d597f"
      },
      "outputs": [
        {
          "output_type": "stream",
          "name": "stdout",
          "text": [
            "CPU times: user 12.4 s, sys: 8.24 s, total: 20.7 s\n",
            "Wall time: 14.9 s\n"
          ]
        }
      ],
      "source": [
        "%%time\n",
        "\n",
        "res = (\n",
        "    transactions\n",
        "    .group_by([\"EXP_TYPE\", \"YEAR\", \"MONTH\"])\n",
        "    .agg(pl.mean(\"AMOUNT\"))\n",
        "    .sort([\"EXP_TYPE\", \"YEAR\", \"MONTH\"])\n",
        "    .collect()\n",
        ")"
      ]
    },
    {
      "cell_type": "code",
      "execution_count": 27,
      "id": "a4810ebe-41b1-46f3-b3a6-9b4ffd9ad4f3",
      "metadata": {
        "colab": {
          "base_uri": "https://localhost:8080/"
        },
        "id": "a4810ebe-41b1-46f3-b3a6-9b4ffd9ad4f3",
        "outputId": "017c7aec-97e7-41f9-8fdd-b2c2be1c3604"
      },
      "outputs": [
        {
          "output_type": "stream",
          "name": "stdout",
          "text": [
            "CPU times: user 435 ms, sys: 180 ms, total: 614 ms\n",
            "Wall time: 1.99 s\n"
          ]
        }
      ],
      "source": [
        "%%time\n",
        "\n",
        "res = (\n",
        "    transactions\n",
        "    .group_by([\"EXP_TYPE\", \"YEAR\", \"MONTH\"])\n",
        "    .agg(pl.mean(\"AMOUNT\"))\n",
        "    .sort([\"EXP_TYPE\", \"YEAR\", \"MONTH\"])\n",
        "    .collect(engine=gpu_engine)\n",
        ")"
      ]
    },
    {
      "cell_type": "markdown",
      "id": "9f5c9e6e-de8f-4b62-8799-e39dfc9ce61e",
      "metadata": {
        "id": "9f5c9e6e-de8f-4b62-8799-e39dfc9ce61e"
      },
      "source": [
        "Again, since this query does more work we see strong performance benefits on the GPU."
      ]
    },
    {
      "cell_type": "markdown",
      "id": "a50c5318-0aa7-46be-b0e0-e98f7306ead4",
      "metadata": {
        "id": "a50c5318-0aa7-46be-b0e0-e98f7306ead4"
      },
      "source": [
        "## Interoperability\n",
        "\n",
        "As mentioned in the introduction, all results will be materialized as standard CPU Polars DataFrames.\n",
        "\n",
        "That means that any results from GPU-accelerated queries interoperate seamlessly with the rest of the polars ecosystem. For example, we can use Polars' built-in plotting functionality on the result we created from the GPU engine.\n",
        "\n",
        "**Colab Note**: Using HoloViews/Bokeh in Colab is not fully supported, so plots may not render correctly."
      ]
    },
    {
      "cell_type": "code",
      "execution_count": 28,
      "id": "27802e3a-0fe8-4642-a7fd-9b00f709181d",
      "metadata": {
        "colab": {
          "base_uri": "https://localhost:8080/",
          "height": 327
        },
        "id": "27802e3a-0fe8-4642-a7fd-9b00f709181d",
        "outputId": "fb93bdfb-39b3-415b-dbfd-25092ff697b4"
      },
      "outputs": [
        {
          "output_type": "display_data",
          "data": {
            "application/javascript": [
              "(function(root) {\n",
              "  function now() {\n",
              "    return new Date();\n",
              "  }\n",
              "\n",
              "  var force = true;\n",
              "  var py_version = '3.4.3'.replace('rc', '-rc.').replace('.dev', '-dev.');\n",
              "  var reloading = false;\n",
              "  var Bokeh = root.Bokeh;\n",
              "\n",
              "  if (typeof (root._bokeh_timeout) === \"undefined\" || force) {\n",
              "    root._bokeh_timeout = Date.now() + 5000;\n",
              "    root._bokeh_failed_load = false;\n",
              "  }\n",
              "\n",
              "  function run_callbacks() {\n",
              "    try {\n",
              "      root._bokeh_onload_callbacks.forEach(function(callback) {\n",
              "        if (callback != null)\n",
              "          callback();\n",
              "      });\n",
              "    } finally {\n",
              "      delete root._bokeh_onload_callbacks;\n",
              "    }\n",
              "    console.debug(\"Bokeh: all callbacks have finished\");\n",
              "  }\n",
              "\n",
              "  function load_libs(css_urls, js_urls, js_modules, js_exports, callback) {\n",
              "    if (css_urls == null) css_urls = [];\n",
              "    if (js_urls == null) js_urls = [];\n",
              "    if (js_modules == null) js_modules = [];\n",
              "    if (js_exports == null) js_exports = {};\n",
              "\n",
              "    root._bokeh_onload_callbacks.push(callback);\n",
              "\n",
              "    if (root._bokeh_is_loading > 0) {\n",
              "      console.debug(\"Bokeh: BokehJS is being loaded, scheduling callback at\", now());\n",
              "      return null;\n",
              "    }\n",
              "    if (js_urls.length === 0 && js_modules.length === 0 && Object.keys(js_exports).length === 0) {\n",
              "      run_callbacks();\n",
              "      return null;\n",
              "    }\n",
              "    if (!reloading) {\n",
              "      console.debug(\"Bokeh: BokehJS not loaded, scheduling load and callback at\", now());\n",
              "    }\n",
              "\n",
              "    function on_load() {\n",
              "      root._bokeh_is_loading--;\n",
              "      if (root._bokeh_is_loading === 0) {\n",
              "        console.debug(\"Bokeh: all BokehJS libraries/stylesheets loaded\");\n",
              "        run_callbacks()\n",
              "      }\n",
              "    }\n",
              "    window._bokeh_on_load = on_load\n",
              "\n",
              "    function on_error() {\n",
              "      console.error(\"failed to load \" + url);\n",
              "    }\n",
              "\n",
              "    var skip = [];\n",
              "    if (window.requirejs) {\n",
              "      window.requirejs.config({'packages': {}, 'paths': {}, 'shim': {}});\n",
              "      root._bokeh_is_loading = css_urls.length + 0;\n",
              "    } else {\n",
              "      root._bokeh_is_loading = css_urls.length + js_urls.length + js_modules.length + Object.keys(js_exports).length;\n",
              "    }\n",
              "\n",
              "    var existing_stylesheets = []\n",
              "    var links = document.getElementsByTagName('link')\n",
              "    for (var i = 0; i < links.length; i++) {\n",
              "      var link = links[i]\n",
              "      if (link.href != null) {\n",
              "\texisting_stylesheets.push(link.href)\n",
              "      }\n",
              "    }\n",
              "    for (var i = 0; i < css_urls.length; i++) {\n",
              "      var url = css_urls[i];\n",
              "      if (existing_stylesheets.indexOf(url) !== -1) {\n",
              "\ton_load()\n",
              "\tcontinue;\n",
              "      }\n",
              "      const element = document.createElement(\"link\");\n",
              "      element.onload = on_load;\n",
              "      element.onerror = on_error;\n",
              "      element.rel = \"stylesheet\";\n",
              "      element.type = \"text/css\";\n",
              "      element.href = url;\n",
              "      console.debug(\"Bokeh: injecting link tag for BokehJS stylesheet: \", url);\n",
              "      document.body.appendChild(element);\n",
              "    }    var existing_scripts = []\n",
              "    var scripts = document.getElementsByTagName('script')\n",
              "    for (var i = 0; i < scripts.length; i++) {\n",
              "      var script = scripts[i]\n",
              "      if (script.src != null) {\n",
              "\texisting_scripts.push(script.src)\n",
              "      }\n",
              "    }\n",
              "    for (var i = 0; i < js_urls.length; i++) {\n",
              "      var url = js_urls[i];\n",
              "      if (skip.indexOf(url) !== -1 || existing_scripts.indexOf(url) !== -1) {\n",
              "\tif (!window.requirejs) {\n",
              "\t  on_load();\n",
              "\t}\n",
              "\tcontinue;\n",
              "      }\n",
              "      var element = document.createElement('script');\n",
              "      element.onload = on_load;\n",
              "      element.onerror = on_error;\n",
              "      element.async = false;\n",
              "      element.src = url;\n",
              "      console.debug(\"Bokeh: injecting script tag for BokehJS library: \", url);\n",
              "      document.head.appendChild(element);\n",
              "    }\n",
              "    for (var i = 0; i < js_modules.length; i++) {\n",
              "      var url = js_modules[i];\n",
              "      if (skip.indexOf(url) !== -1 || existing_scripts.indexOf(url) !== -1) {\n",
              "\tif (!window.requirejs) {\n",
              "\t  on_load();\n",
              "\t}\n",
              "\tcontinue;\n",
              "      }\n",
              "      var element = document.createElement('script');\n",
              "      element.onload = on_load;\n",
              "      element.onerror = on_error;\n",
              "      element.async = false;\n",
              "      element.src = url;\n",
              "      element.type = \"module\";\n",
              "      console.debug(\"Bokeh: injecting script tag for BokehJS library: \", url);\n",
              "      document.head.appendChild(element);\n",
              "    }\n",
              "    for (const name in js_exports) {\n",
              "      var url = js_exports[name];\n",
              "      if (skip.indexOf(url) >= 0 || root[name] != null) {\n",
              "\tif (!window.requirejs) {\n",
              "\t  on_load();\n",
              "\t}\n",
              "\tcontinue;\n",
              "      }\n",
              "      var element = document.createElement('script');\n",
              "      element.onerror = on_error;\n",
              "      element.async = false;\n",
              "      element.type = \"module\";\n",
              "      console.debug(\"Bokeh: injecting script tag for BokehJS library: \", url);\n",
              "      element.textContent = `\n",
              "      import ${name} from \"${url}\"\n",
              "      window.${name} = ${name}\n",
              "      window._bokeh_on_load()\n",
              "      `\n",
              "      document.head.appendChild(element);\n",
              "    }\n",
              "    if (!js_urls.length && !js_modules.length) {\n",
              "      on_load()\n",
              "    }\n",
              "  };\n",
              "\n",
              "  function inject_raw_css(css) {\n",
              "    const element = document.createElement(\"style\");\n",
              "    element.appendChild(document.createTextNode(css));\n",
              "    document.body.appendChild(element);\n",
              "  }\n",
              "\n",
              "  var js_urls = [\"https://cdn.bokeh.org/bokeh/release/bokeh-3.4.3.min.js\", \"https://cdn.bokeh.org/bokeh/release/bokeh-gl-3.4.3.min.js\", \"https://cdn.bokeh.org/bokeh/release/bokeh-widgets-3.4.3.min.js\", \"https://cdn.bokeh.org/bokeh/release/bokeh-tables-3.4.3.min.js\", \"https://cdn.holoviz.org/panel/1.4.5/dist/panel.min.js\"];\n",
              "  var js_modules = [];\n",
              "  var js_exports = {};\n",
              "  var css_urls = [];\n",
              "  var inline_js = [    function(Bokeh) {\n",
              "      Bokeh.set_log_level(\"info\");\n",
              "    },\n",
              "function(Bokeh) {} // ensure no trailing comma for IE\n",
              "  ];\n",
              "\n",
              "  function run_inline_js() {\n",
              "    if ((root.Bokeh !== undefined) || (force === true)) {\n",
              "      for (var i = 0; i < inline_js.length; i++) {\n",
              "\ttry {\n",
              "          inline_js[i].call(root, root.Bokeh);\n",
              "\t} catch(e) {\n",
              "\t  if (!reloading) {\n",
              "\t    throw e;\n",
              "\t  }\n",
              "\t}\n",
              "      }\n",
              "      // Cache old bokeh versions\n",
              "      if (Bokeh != undefined && !reloading) {\n",
              "\tvar NewBokeh = root.Bokeh;\n",
              "\tif (Bokeh.versions === undefined) {\n",
              "\t  Bokeh.versions = new Map();\n",
              "\t}\n",
              "\tif (NewBokeh.version !== Bokeh.version) {\n",
              "\t  Bokeh.versions.set(NewBokeh.version, NewBokeh)\n",
              "\t}\n",
              "\troot.Bokeh = Bokeh;\n",
              "      }} else if (Date.now() < root._bokeh_timeout) {\n",
              "      setTimeout(run_inline_js, 100);\n",
              "    } else if (!root._bokeh_failed_load) {\n",
              "      console.log(\"Bokeh: BokehJS failed to load within specified timeout.\");\n",
              "      root._bokeh_failed_load = true;\n",
              "    }\n",
              "    root._bokeh_is_initializing = false\n",
              "  }\n",
              "\n",
              "  function load_or_wait() {\n",
              "    // Implement a backoff loop that tries to ensure we do not load multiple\n",
              "    // versions of Bokeh and its dependencies at the same time.\n",
              "    // In recent versions we use the root._bokeh_is_initializing flag\n",
              "    // to determine whether there is an ongoing attempt to initialize\n",
              "    // bokeh, however for backward compatibility we also try to ensure\n",
              "    // that we do not start loading a newer (Panel>=1.0 and Bokeh>3) version\n",
              "    // before older versions are fully initialized.\n",
              "    if (root._bokeh_is_initializing && Date.now() > root._bokeh_timeout) {\n",
              "      root._bokeh_is_initializing = false;\n",
              "      root._bokeh_onload_callbacks = undefined;\n",
              "      console.log(\"Bokeh: BokehJS was loaded multiple times but one version failed to initialize.\");\n",
              "      load_or_wait();\n",
              "    } else if (root._bokeh_is_initializing || (typeof root._bokeh_is_initializing === \"undefined\" && root._bokeh_onload_callbacks !== undefined)) {\n",
              "      setTimeout(load_or_wait, 100);\n",
              "    } else {\n",
              "      root._bokeh_is_initializing = true\n",
              "      root._bokeh_onload_callbacks = []\n",
              "      var bokeh_loaded = Bokeh != null && (Bokeh.version === py_version || (Bokeh.versions !== undefined && Bokeh.versions.has(py_version)));\n",
              "      if (!reloading && !bokeh_loaded) {\n",
              "\troot.Bokeh = undefined;\n",
              "      }\n",
              "      load_libs(css_urls, js_urls, js_modules, js_exports, function() {\n",
              "\tconsole.debug(\"Bokeh: BokehJS plotting callback run at\", now());\n",
              "\trun_inline_js();\n",
              "      });\n",
              "    }\n",
              "  }\n",
              "  // Give older versions of the autoload script a head-start to ensure\n",
              "  // they initialize before we start loading newer version.\n",
              "  setTimeout(load_or_wait, 100)\n",
              "}(window));"
            ],
            "application/vnd.holoviews_load.v0+json": "(function(root) {\n  function now() {\n    return new Date();\n  }\n\n  var force = true;\n  var py_version = '3.4.3'.replace('rc', '-rc.').replace('.dev', '-dev.');\n  var reloading = false;\n  var Bokeh = root.Bokeh;\n\n  if (typeof (root._bokeh_timeout) === \"undefined\" || force) {\n    root._bokeh_timeout = Date.now() + 5000;\n    root._bokeh_failed_load = false;\n  }\n\n  function run_callbacks() {\n    try {\n      root._bokeh_onload_callbacks.forEach(function(callback) {\n        if (callback != null)\n          callback();\n      });\n    } finally {\n      delete root._bokeh_onload_callbacks;\n    }\n    console.debug(\"Bokeh: all callbacks have finished\");\n  }\n\n  function load_libs(css_urls, js_urls, js_modules, js_exports, callback) {\n    if (css_urls == null) css_urls = [];\n    if (js_urls == null) js_urls = [];\n    if (js_modules == null) js_modules = [];\n    if (js_exports == null) js_exports = {};\n\n    root._bokeh_onload_callbacks.push(callback);\n\n    if (root._bokeh_is_loading > 0) {\n      console.debug(\"Bokeh: BokehJS is being loaded, scheduling callback at\", now());\n      return null;\n    }\n    if (js_urls.length === 0 && js_modules.length === 0 && Object.keys(js_exports).length === 0) {\n      run_callbacks();\n      return null;\n    }\n    if (!reloading) {\n      console.debug(\"Bokeh: BokehJS not loaded, scheduling load and callback at\", now());\n    }\n\n    function on_load() {\n      root._bokeh_is_loading--;\n      if (root._bokeh_is_loading === 0) {\n        console.debug(\"Bokeh: all BokehJS libraries/stylesheets loaded\");\n        run_callbacks()\n      }\n    }\n    window._bokeh_on_load = on_load\n\n    function on_error() {\n      console.error(\"failed to load \" + url);\n    }\n\n    var skip = [];\n    if (window.requirejs) {\n      window.requirejs.config({'packages': {}, 'paths': {}, 'shim': {}});\n      root._bokeh_is_loading = css_urls.length + 0;\n    } else {\n      root._bokeh_is_loading = css_urls.length + js_urls.length + js_modules.length + Object.keys(js_exports).length;\n    }\n\n    var existing_stylesheets = []\n    var links = document.getElementsByTagName('link')\n    for (var i = 0; i < links.length; i++) {\n      var link = links[i]\n      if (link.href != null) {\n\texisting_stylesheets.push(link.href)\n      }\n    }\n    for (var i = 0; i < css_urls.length; i++) {\n      var url = css_urls[i];\n      if (existing_stylesheets.indexOf(url) !== -1) {\n\ton_load()\n\tcontinue;\n      }\n      const element = document.createElement(\"link\");\n      element.onload = on_load;\n      element.onerror = on_error;\n      element.rel = \"stylesheet\";\n      element.type = \"text/css\";\n      element.href = url;\n      console.debug(\"Bokeh: injecting link tag for BokehJS stylesheet: \", url);\n      document.body.appendChild(element);\n    }    var existing_scripts = []\n    var scripts = document.getElementsByTagName('script')\n    for (var i = 0; i < scripts.length; i++) {\n      var script = scripts[i]\n      if (script.src != null) {\n\texisting_scripts.push(script.src)\n      }\n    }\n    for (var i = 0; i < js_urls.length; i++) {\n      var url = js_urls[i];\n      if (skip.indexOf(url) !== -1 || existing_scripts.indexOf(url) !== -1) {\n\tif (!window.requirejs) {\n\t  on_load();\n\t}\n\tcontinue;\n      }\n      var element = document.createElement('script');\n      element.onload = on_load;\n      element.onerror = on_error;\n      element.async = false;\n      element.src = url;\n      console.debug(\"Bokeh: injecting script tag for BokehJS library: \", url);\n      document.head.appendChild(element);\n    }\n    for (var i = 0; i < js_modules.length; i++) {\n      var url = js_modules[i];\n      if (skip.indexOf(url) !== -1 || existing_scripts.indexOf(url) !== -1) {\n\tif (!window.requirejs) {\n\t  on_load();\n\t}\n\tcontinue;\n      }\n      var element = document.createElement('script');\n      element.onload = on_load;\n      element.onerror = on_error;\n      element.async = false;\n      element.src = url;\n      element.type = \"module\";\n      console.debug(\"Bokeh: injecting script tag for BokehJS library: \", url);\n      document.head.appendChild(element);\n    }\n    for (const name in js_exports) {\n      var url = js_exports[name];\n      if (skip.indexOf(url) >= 0 || root[name] != null) {\n\tif (!window.requirejs) {\n\t  on_load();\n\t}\n\tcontinue;\n      }\n      var element = document.createElement('script');\n      element.onerror = on_error;\n      element.async = false;\n      element.type = \"module\";\n      console.debug(\"Bokeh: injecting script tag for BokehJS library: \", url);\n      element.textContent = `\n      import ${name} from \"${url}\"\n      window.${name} = ${name}\n      window._bokeh_on_load()\n      `\n      document.head.appendChild(element);\n    }\n    if (!js_urls.length && !js_modules.length) {\n      on_load()\n    }\n  };\n\n  function inject_raw_css(css) {\n    const element = document.createElement(\"style\");\n    element.appendChild(document.createTextNode(css));\n    document.body.appendChild(element);\n  }\n\n  var js_urls = [\"https://cdn.bokeh.org/bokeh/release/bokeh-3.4.3.min.js\", \"https://cdn.bokeh.org/bokeh/release/bokeh-gl-3.4.3.min.js\", \"https://cdn.bokeh.org/bokeh/release/bokeh-widgets-3.4.3.min.js\", \"https://cdn.bokeh.org/bokeh/release/bokeh-tables-3.4.3.min.js\", \"https://cdn.holoviz.org/panel/1.4.5/dist/panel.min.js\"];\n  var js_modules = [];\n  var js_exports = {};\n  var css_urls = [];\n  var inline_js = [    function(Bokeh) {\n      Bokeh.set_log_level(\"info\");\n    },\nfunction(Bokeh) {} // ensure no trailing comma for IE\n  ];\n\n  function run_inline_js() {\n    if ((root.Bokeh !== undefined) || (force === true)) {\n      for (var i = 0; i < inline_js.length; i++) {\n\ttry {\n          inline_js[i].call(root, root.Bokeh);\n\t} catch(e) {\n\t  if (!reloading) {\n\t    throw e;\n\t  }\n\t}\n      }\n      // Cache old bokeh versions\n      if (Bokeh != undefined && !reloading) {\n\tvar NewBokeh = root.Bokeh;\n\tif (Bokeh.versions === undefined) {\n\t  Bokeh.versions = new Map();\n\t}\n\tif (NewBokeh.version !== Bokeh.version) {\n\t  Bokeh.versions.set(NewBokeh.version, NewBokeh)\n\t}\n\troot.Bokeh = Bokeh;\n      }} else if (Date.now() < root._bokeh_timeout) {\n      setTimeout(run_inline_js, 100);\n    } else if (!root._bokeh_failed_load) {\n      console.log(\"Bokeh: BokehJS failed to load within specified timeout.\");\n      root._bokeh_failed_load = true;\n    }\n    root._bokeh_is_initializing = false\n  }\n\n  function load_or_wait() {\n    // Implement a backoff loop that tries to ensure we do not load multiple\n    // versions of Bokeh and its dependencies at the same time.\n    // In recent versions we use the root._bokeh_is_initializing flag\n    // to determine whether there is an ongoing attempt to initialize\n    // bokeh, however for backward compatibility we also try to ensure\n    // that we do not start loading a newer (Panel>=1.0 and Bokeh>3) version\n    // before older versions are fully initialized.\n    if (root._bokeh_is_initializing && Date.now() > root._bokeh_timeout) {\n      root._bokeh_is_initializing = false;\n      root._bokeh_onload_callbacks = undefined;\n      console.log(\"Bokeh: BokehJS was loaded multiple times but one version failed to initialize.\");\n      load_or_wait();\n    } else if (root._bokeh_is_initializing || (typeof root._bokeh_is_initializing === \"undefined\" && root._bokeh_onload_callbacks !== undefined)) {\n      setTimeout(load_or_wait, 100);\n    } else {\n      root._bokeh_is_initializing = true\n      root._bokeh_onload_callbacks = []\n      var bokeh_loaded = Bokeh != null && (Bokeh.version === py_version || (Bokeh.versions !== undefined && Bokeh.versions.has(py_version)));\n      if (!reloading && !bokeh_loaded) {\n\troot.Bokeh = undefined;\n      }\n      load_libs(css_urls, js_urls, js_modules, js_exports, function() {\n\tconsole.debug(\"Bokeh: BokehJS plotting callback run at\", now());\n\trun_inline_js();\n      });\n    }\n  }\n  // Give older versions of the autoload script a head-start to ensure\n  // they initialize before we start loading newer version.\n  setTimeout(load_or_wait, 100)\n}(window));"
          },
          "metadata": {}
        },
        {
          "output_type": "display_data",
          "data": {
            "application/vnd.holoviews_load.v0+json": "\nif ((window.PyViz === undefined) || (window.PyViz instanceof HTMLElement)) {\n  window.PyViz = {comms: {}, comm_status:{}, kernels:{}, receivers: {}, plot_index: []}\n}\n\n\n    function JupyterCommManager() {\n    }\n\n    JupyterCommManager.prototype.register_target = function(plot_id, comm_id, msg_handler) {\n      if (window.comm_manager || ((window.Jupyter !== undefined) && (Jupyter.notebook.kernel != null))) {\n        var comm_manager = window.comm_manager || Jupyter.notebook.kernel.comm_manager;\n        comm_manager.register_target(comm_id, function(comm) {\n          comm.on_msg(msg_handler);\n        });\n      } else if ((plot_id in window.PyViz.kernels) && (window.PyViz.kernels[plot_id])) {\n        window.PyViz.kernels[plot_id].registerCommTarget(comm_id, function(comm) {\n          comm.onMsg = msg_handler;\n        });\n      } else if (typeof google != 'undefined' && google.colab.kernel != null) {\n        google.colab.kernel.comms.registerTarget(comm_id, (comm) => {\n          var messages = comm.messages[Symbol.asyncIterator]();\n          function processIteratorResult(result) {\n            var message = result.value;\n            console.log(message)\n            var content = {data: message.data, comm_id};\n            var buffers = []\n            for (var buffer of message.buffers || []) {\n              buffers.push(new DataView(buffer))\n            }\n            var metadata = message.metadata || {};\n            var msg = {content, buffers, metadata}\n            msg_handler(msg);\n            return messages.next().then(processIteratorResult);\n          }\n          return messages.next().then(processIteratorResult);\n        })\n      }\n    }\n\n    JupyterCommManager.prototype.get_client_comm = function(plot_id, comm_id, msg_handler) {\n      if (comm_id in window.PyViz.comms) {\n        return window.PyViz.comms[comm_id];\n      } else if (window.comm_manager || ((window.Jupyter !== undefined) && (Jupyter.notebook.kernel != null))) {\n        var comm_manager = window.comm_manager || Jupyter.notebook.kernel.comm_manager;\n        var comm = comm_manager.new_comm(comm_id, {}, {}, {}, comm_id);\n        if (msg_handler) {\n          comm.on_msg(msg_handler);\n        }\n      } else if ((plot_id in window.PyViz.kernels) && (window.PyViz.kernels[plot_id])) {\n        var comm = window.PyViz.kernels[plot_id].connectToComm(comm_id);\n        comm.open();\n        if (msg_handler) {\n          comm.onMsg = msg_handler;\n        }\n      } else if (typeof google != 'undefined' && google.colab.kernel != null) {\n        var comm_promise = google.colab.kernel.comms.open(comm_id)\n        comm_promise.then((comm) => {\n          window.PyViz.comms[comm_id] = comm;\n          if (msg_handler) {\n            var messages = comm.messages[Symbol.asyncIterator]();\n            function processIteratorResult(result) {\n              var message = result.value;\n              var content = {data: message.data};\n              var metadata = message.metadata || {comm_id};\n              var msg = {content, metadata}\n              msg_handler(msg);\n              return messages.next().then(processIteratorResult);\n            }\n            return messages.next().then(processIteratorResult);\n          }\n        }) \n        var sendClosure = (data, metadata, buffers, disposeOnDone) => {\n          return comm_promise.then((comm) => {\n            comm.send(data, metadata, buffers, disposeOnDone);\n          });\n        };\n        var comm = {\n          send: sendClosure\n        };\n      }\n      window.PyViz.comms[comm_id] = comm;\n      return comm;\n    }\n    window.PyViz.comm_manager = new JupyterCommManager();\n    \n\n\nvar JS_MIME_TYPE = 'application/javascript';\nvar HTML_MIME_TYPE = 'text/html';\nvar EXEC_MIME_TYPE = 'application/vnd.holoviews_exec.v0+json';\nvar CLASS_NAME = 'output';\n\n/**\n * Render data to the DOM node\n */\nfunction render(props, node) {\n  var div = document.createElement(\"div\");\n  var script = document.createElement(\"script\");\n  node.appendChild(div);\n  node.appendChild(script);\n}\n\n/**\n * Handle when a new output is added\n */\nfunction handle_add_output(event, handle) {\n  var output_area = handle.output_area;\n  var output = handle.output;\n  if ((output.data == undefined) || (!output.data.hasOwnProperty(EXEC_MIME_TYPE))) {\n    return\n  }\n  var id = output.metadata[EXEC_MIME_TYPE][\"id\"];\n  var toinsert = output_area.element.find(\".\" + CLASS_NAME.split(' ')[0]);\n  if (id !== undefined) {\n    var nchildren = toinsert.length;\n    var html_node = toinsert[nchildren-1].children[0];\n    html_node.innerHTML = output.data[HTML_MIME_TYPE];\n    var scripts = [];\n    var nodelist = html_node.querySelectorAll(\"script\");\n    for (var i in nodelist) {\n      if (nodelist.hasOwnProperty(i)) {\n        scripts.push(nodelist[i])\n      }\n    }\n\n    scripts.forEach( function (oldScript) {\n      var newScript = document.createElement(\"script\");\n      var attrs = [];\n      var nodemap = oldScript.attributes;\n      for (var j in nodemap) {\n        if (nodemap.hasOwnProperty(j)) {\n          attrs.push(nodemap[j])\n        }\n      }\n      attrs.forEach(function(attr) { newScript.setAttribute(attr.name, attr.value) });\n      newScript.appendChild(document.createTextNode(oldScript.innerHTML));\n      oldScript.parentNode.replaceChild(newScript, oldScript);\n    });\n    if (JS_MIME_TYPE in output.data) {\n      toinsert[nchildren-1].children[1].textContent = output.data[JS_MIME_TYPE];\n    }\n    output_area._hv_plot_id = id;\n    if ((window.Bokeh !== undefined) && (id in Bokeh.index)) {\n      window.PyViz.plot_index[id] = Bokeh.index[id];\n    } else {\n      window.PyViz.plot_index[id] = null;\n    }\n  } else if (output.metadata[EXEC_MIME_TYPE][\"server_id\"] !== undefined) {\n    var bk_div = document.createElement(\"div\");\n    bk_div.innerHTML = output.data[HTML_MIME_TYPE];\n    var script_attrs = bk_div.children[0].attributes;\n    for (var i = 0; i < script_attrs.length; i++) {\n      toinsert[toinsert.length - 1].childNodes[1].setAttribute(script_attrs[i].name, script_attrs[i].value);\n    }\n    // store reference to server id on output_area\n    output_area._bokeh_server_id = output.metadata[EXEC_MIME_TYPE][\"server_id\"];\n  }\n}\n\n/**\n * Handle when an output is cleared or removed\n */\nfunction handle_clear_output(event, handle) {\n  var id = handle.cell.output_area._hv_plot_id;\n  var server_id = handle.cell.output_area._bokeh_server_id;\n  if (((id === undefined) || !(id in PyViz.plot_index)) && (server_id !== undefined)) { return; }\n  var comm = window.PyViz.comm_manager.get_client_comm(\"hv-extension-comm\", \"hv-extension-comm\", function () {});\n  if (server_id !== null) {\n    comm.send({event_type: 'server_delete', 'id': server_id});\n    return;\n  } else if (comm !== null) {\n    comm.send({event_type: 'delete', 'id': id});\n  }\n  delete PyViz.plot_index[id];\n  if ((window.Bokeh !== undefined) & (id in window.Bokeh.index)) {\n    var doc = window.Bokeh.index[id].model.document\n    doc.clear();\n    const i = window.Bokeh.documents.indexOf(doc);\n    if (i > -1) {\n      window.Bokeh.documents.splice(i, 1);\n    }\n  }\n}\n\n/**\n * Handle kernel restart event\n */\nfunction handle_kernel_cleanup(event, handle) {\n  delete PyViz.comms[\"hv-extension-comm\"];\n  window.PyViz.plot_index = {}\n}\n\n/**\n * Handle update_display_data messages\n */\nfunction handle_update_output(event, handle) {\n  handle_clear_output(event, {cell: {output_area: handle.output_area}})\n  handle_add_output(event, handle)\n}\n\nfunction register_renderer(events, OutputArea) {\n  function append_mime(data, metadata, element) {\n    // create a DOM node to render to\n    var toinsert = this.create_output_subarea(\n    metadata,\n    CLASS_NAME,\n    EXEC_MIME_TYPE\n    );\n    this.keyboard_manager.register_events(toinsert);\n    // Render to node\n    var props = {data: data, metadata: metadata[EXEC_MIME_TYPE]};\n    render(props, toinsert[0]);\n    element.append(toinsert);\n    return toinsert\n  }\n\n  events.on('output_added.OutputArea', handle_add_output);\n  events.on('output_updated.OutputArea', handle_update_output);\n  events.on('clear_output.CodeCell', handle_clear_output);\n  events.on('delete.Cell', handle_clear_output);\n  events.on('kernel_ready.Kernel', handle_kernel_cleanup);\n\n  OutputArea.prototype.register_mime_type(EXEC_MIME_TYPE, append_mime, {\n    safe: true,\n    index: 0\n  });\n}\n\nif (window.Jupyter !== undefined) {\n  try {\n    var events = require('base/js/events');\n    var OutputArea = require('notebook/js/outputarea').OutputArea;\n    if (OutputArea.prototype.mime_types().indexOf(EXEC_MIME_TYPE) == -1) {\n      register_renderer(events, OutputArea);\n    }\n  } catch(err) {\n  }\n}\n",
            "application/javascript": [
              "\n",
              "if ((window.PyViz === undefined) || (window.PyViz instanceof HTMLElement)) {\n",
              "  window.PyViz = {comms: {}, comm_status:{}, kernels:{}, receivers: {}, plot_index: []}\n",
              "}\n",
              "\n",
              "\n",
              "    function JupyterCommManager() {\n",
              "    }\n",
              "\n",
              "    JupyterCommManager.prototype.register_target = function(plot_id, comm_id, msg_handler) {\n",
              "      if (window.comm_manager || ((window.Jupyter !== undefined) && (Jupyter.notebook.kernel != null))) {\n",
              "        var comm_manager = window.comm_manager || Jupyter.notebook.kernel.comm_manager;\n",
              "        comm_manager.register_target(comm_id, function(comm) {\n",
              "          comm.on_msg(msg_handler);\n",
              "        });\n",
              "      } else if ((plot_id in window.PyViz.kernels) && (window.PyViz.kernels[plot_id])) {\n",
              "        window.PyViz.kernels[plot_id].registerCommTarget(comm_id, function(comm) {\n",
              "          comm.onMsg = msg_handler;\n",
              "        });\n",
              "      } else if (typeof google != 'undefined' && google.colab.kernel != null) {\n",
              "        google.colab.kernel.comms.registerTarget(comm_id, (comm) => {\n",
              "          var messages = comm.messages[Symbol.asyncIterator]();\n",
              "          function processIteratorResult(result) {\n",
              "            var message = result.value;\n",
              "            console.log(message)\n",
              "            var content = {data: message.data, comm_id};\n",
              "            var buffers = []\n",
              "            for (var buffer of message.buffers || []) {\n",
              "              buffers.push(new DataView(buffer))\n",
              "            }\n",
              "            var metadata = message.metadata || {};\n",
              "            var msg = {content, buffers, metadata}\n",
              "            msg_handler(msg);\n",
              "            return messages.next().then(processIteratorResult);\n",
              "          }\n",
              "          return messages.next().then(processIteratorResult);\n",
              "        })\n",
              "      }\n",
              "    }\n",
              "\n",
              "    JupyterCommManager.prototype.get_client_comm = function(plot_id, comm_id, msg_handler) {\n",
              "      if (comm_id in window.PyViz.comms) {\n",
              "        return window.PyViz.comms[comm_id];\n",
              "      } else if (window.comm_manager || ((window.Jupyter !== undefined) && (Jupyter.notebook.kernel != null))) {\n",
              "        var comm_manager = window.comm_manager || Jupyter.notebook.kernel.comm_manager;\n",
              "        var comm = comm_manager.new_comm(comm_id, {}, {}, {}, comm_id);\n",
              "        if (msg_handler) {\n",
              "          comm.on_msg(msg_handler);\n",
              "        }\n",
              "      } else if ((plot_id in window.PyViz.kernels) && (window.PyViz.kernels[plot_id])) {\n",
              "        var comm = window.PyViz.kernels[plot_id].connectToComm(comm_id);\n",
              "        comm.open();\n",
              "        if (msg_handler) {\n",
              "          comm.onMsg = msg_handler;\n",
              "        }\n",
              "      } else if (typeof google != 'undefined' && google.colab.kernel != null) {\n",
              "        var comm_promise = google.colab.kernel.comms.open(comm_id)\n",
              "        comm_promise.then((comm) => {\n",
              "          window.PyViz.comms[comm_id] = comm;\n",
              "          if (msg_handler) {\n",
              "            var messages = comm.messages[Symbol.asyncIterator]();\n",
              "            function processIteratorResult(result) {\n",
              "              var message = result.value;\n",
              "              var content = {data: message.data};\n",
              "              var metadata = message.metadata || {comm_id};\n",
              "              var msg = {content, metadata}\n",
              "              msg_handler(msg);\n",
              "              return messages.next().then(processIteratorResult);\n",
              "            }\n",
              "            return messages.next().then(processIteratorResult);\n",
              "          }\n",
              "        }) \n",
              "        var sendClosure = (data, metadata, buffers, disposeOnDone) => {\n",
              "          return comm_promise.then((comm) => {\n",
              "            comm.send(data, metadata, buffers, disposeOnDone);\n",
              "          });\n",
              "        };\n",
              "        var comm = {\n",
              "          send: sendClosure\n",
              "        };\n",
              "      }\n",
              "      window.PyViz.comms[comm_id] = comm;\n",
              "      return comm;\n",
              "    }\n",
              "    window.PyViz.comm_manager = new JupyterCommManager();\n",
              "    \n",
              "\n",
              "\n",
              "var JS_MIME_TYPE = 'application/javascript';\n",
              "var HTML_MIME_TYPE = 'text/html';\n",
              "var EXEC_MIME_TYPE = 'application/vnd.holoviews_exec.v0+json';\n",
              "var CLASS_NAME = 'output';\n",
              "\n",
              "/**\n",
              " * Render data to the DOM node\n",
              " */\n",
              "function render(props, node) {\n",
              "  var div = document.createElement(\"div\");\n",
              "  var script = document.createElement(\"script\");\n",
              "  node.appendChild(div);\n",
              "  node.appendChild(script);\n",
              "}\n",
              "\n",
              "/**\n",
              " * Handle when a new output is added\n",
              " */\n",
              "function handle_add_output(event, handle) {\n",
              "  var output_area = handle.output_area;\n",
              "  var output = handle.output;\n",
              "  if ((output.data == undefined) || (!output.data.hasOwnProperty(EXEC_MIME_TYPE))) {\n",
              "    return\n",
              "  }\n",
              "  var id = output.metadata[EXEC_MIME_TYPE][\"id\"];\n",
              "  var toinsert = output_area.element.find(\".\" + CLASS_NAME.split(' ')[0]);\n",
              "  if (id !== undefined) {\n",
              "    var nchildren = toinsert.length;\n",
              "    var html_node = toinsert[nchildren-1].children[0];\n",
              "    html_node.innerHTML = output.data[HTML_MIME_TYPE];\n",
              "    var scripts = [];\n",
              "    var nodelist = html_node.querySelectorAll(\"script\");\n",
              "    for (var i in nodelist) {\n",
              "      if (nodelist.hasOwnProperty(i)) {\n",
              "        scripts.push(nodelist[i])\n",
              "      }\n",
              "    }\n",
              "\n",
              "    scripts.forEach( function (oldScript) {\n",
              "      var newScript = document.createElement(\"script\");\n",
              "      var attrs = [];\n",
              "      var nodemap = oldScript.attributes;\n",
              "      for (var j in nodemap) {\n",
              "        if (nodemap.hasOwnProperty(j)) {\n",
              "          attrs.push(nodemap[j])\n",
              "        }\n",
              "      }\n",
              "      attrs.forEach(function(attr) { newScript.setAttribute(attr.name, attr.value) });\n",
              "      newScript.appendChild(document.createTextNode(oldScript.innerHTML));\n",
              "      oldScript.parentNode.replaceChild(newScript, oldScript);\n",
              "    });\n",
              "    if (JS_MIME_TYPE in output.data) {\n",
              "      toinsert[nchildren-1].children[1].textContent = output.data[JS_MIME_TYPE];\n",
              "    }\n",
              "    output_area._hv_plot_id = id;\n",
              "    if ((window.Bokeh !== undefined) && (id in Bokeh.index)) {\n",
              "      window.PyViz.plot_index[id] = Bokeh.index[id];\n",
              "    } else {\n",
              "      window.PyViz.plot_index[id] = null;\n",
              "    }\n",
              "  } else if (output.metadata[EXEC_MIME_TYPE][\"server_id\"] !== undefined) {\n",
              "    var bk_div = document.createElement(\"div\");\n",
              "    bk_div.innerHTML = output.data[HTML_MIME_TYPE];\n",
              "    var script_attrs = bk_div.children[0].attributes;\n",
              "    for (var i = 0; i < script_attrs.length; i++) {\n",
              "      toinsert[toinsert.length - 1].childNodes[1].setAttribute(script_attrs[i].name, script_attrs[i].value);\n",
              "    }\n",
              "    // store reference to server id on output_area\n",
              "    output_area._bokeh_server_id = output.metadata[EXEC_MIME_TYPE][\"server_id\"];\n",
              "  }\n",
              "}\n",
              "\n",
              "/**\n",
              " * Handle when an output is cleared or removed\n",
              " */\n",
              "function handle_clear_output(event, handle) {\n",
              "  var id = handle.cell.output_area._hv_plot_id;\n",
              "  var server_id = handle.cell.output_area._bokeh_server_id;\n",
              "  if (((id === undefined) || !(id in PyViz.plot_index)) && (server_id !== undefined)) { return; }\n",
              "  var comm = window.PyViz.comm_manager.get_client_comm(\"hv-extension-comm\", \"hv-extension-comm\", function () {});\n",
              "  if (server_id !== null) {\n",
              "    comm.send({event_type: 'server_delete', 'id': server_id});\n",
              "    return;\n",
              "  } else if (comm !== null) {\n",
              "    comm.send({event_type: 'delete', 'id': id});\n",
              "  }\n",
              "  delete PyViz.plot_index[id];\n",
              "  if ((window.Bokeh !== undefined) & (id in window.Bokeh.index)) {\n",
              "    var doc = window.Bokeh.index[id].model.document\n",
              "    doc.clear();\n",
              "    const i = window.Bokeh.documents.indexOf(doc);\n",
              "    if (i > -1) {\n",
              "      window.Bokeh.documents.splice(i, 1);\n",
              "    }\n",
              "  }\n",
              "}\n",
              "\n",
              "/**\n",
              " * Handle kernel restart event\n",
              " */\n",
              "function handle_kernel_cleanup(event, handle) {\n",
              "  delete PyViz.comms[\"hv-extension-comm\"];\n",
              "  window.PyViz.plot_index = {}\n",
              "}\n",
              "\n",
              "/**\n",
              " * Handle update_display_data messages\n",
              " */\n",
              "function handle_update_output(event, handle) {\n",
              "  handle_clear_output(event, {cell: {output_area: handle.output_area}})\n",
              "  handle_add_output(event, handle)\n",
              "}\n",
              "\n",
              "function register_renderer(events, OutputArea) {\n",
              "  function append_mime(data, metadata, element) {\n",
              "    // create a DOM node to render to\n",
              "    var toinsert = this.create_output_subarea(\n",
              "    metadata,\n",
              "    CLASS_NAME,\n",
              "    EXEC_MIME_TYPE\n",
              "    );\n",
              "    this.keyboard_manager.register_events(toinsert);\n",
              "    // Render to node\n",
              "    var props = {data: data, metadata: metadata[EXEC_MIME_TYPE]};\n",
              "    render(props, toinsert[0]);\n",
              "    element.append(toinsert);\n",
              "    return toinsert\n",
              "  }\n",
              "\n",
              "  events.on('output_added.OutputArea', handle_add_output);\n",
              "  events.on('output_updated.OutputArea', handle_update_output);\n",
              "  events.on('clear_output.CodeCell', handle_clear_output);\n",
              "  events.on('delete.Cell', handle_clear_output);\n",
              "  events.on('kernel_ready.Kernel', handle_kernel_cleanup);\n",
              "\n",
              "  OutputArea.prototype.register_mime_type(EXEC_MIME_TYPE, append_mime, {\n",
              "    safe: true,\n",
              "    index: 0\n",
              "  });\n",
              "}\n",
              "\n",
              "if (window.Jupyter !== undefined) {\n",
              "  try {\n",
              "    var events = require('base/js/events');\n",
              "    var OutputArea = require('notebook/js/outputarea').OutputArea;\n",
              "    if (OutputArea.prototype.mime_types().indexOf(EXEC_MIME_TYPE) == -1) {\n",
              "      register_renderer(events, OutputArea);\n",
              "    }\n",
              "  } catch(err) {\n",
              "  }\n",
              "}\n"
            ]
          },
          "metadata": {}
        },
        {
          "output_type": "display_data",
          "data": {
            "text/html": [
              "<style>*[data-root-id],\n",
              "*[data-root-id] > * {\n",
              "  box-sizing: border-box;\n",
              "  font-family: var(--jp-ui-font-family);\n",
              "  font-size: var(--jp-ui-font-size1);\n",
              "  color: var(--vscode-editor-foreground, var(--jp-ui-font-color1));\n",
              "}\n",
              "\n",
              "/* Override VSCode background color */\n",
              ".cell-output-ipywidget-background:has(\n",
              "    > .cell-output-ipywidget-background > .lm-Widget > *[data-root-id]\n",
              "  ),\n",
              ".cell-output-ipywidget-background:has(> .lm-Widget > *[data-root-id]) {\n",
              "  background-color: transparent !important;\n",
              "}\n",
              "</style>"
            ]
          },
          "metadata": {}
        },
        {
          "output_type": "display_data",
          "data": {},
          "metadata": {}
        },
        {
          "output_type": "execute_result",
          "data": {
            "text/html": [
              "<div id='p1004'>\n",
              "  <div id=\"cdab4225-c61b-44ea-b712-21291a064db4\" data-root-id=\"p1004\" style=\"display: contents;\"></div>\n",
              "</div>\n",
              "<script type=\"application/javascript\">(function(root) {\n",
              "  var docs_json = {\"f361c70e-cc4d-43eb-96c3-640a37b2d578\":{\"version\":\"3.4.3\",\"title\":\"Bokeh Application\",\"roots\":[{\"type\":\"object\",\"name\":\"Row\",\"id\":\"p1004\",\"attributes\":{\"name\":\"Row00992\",\"tags\":[\"embedded\"],\"stylesheets\":[\"\\n:host(.pn-loading):before, .pn-loading:before {\\n  background-color: #c3c3c3;\\n  mask-size: auto calc(min(50%, 400px));\\n  -webkit-mask-size: auto calc(min(50%, 400px));\\n}\",{\"type\":\"object\",\"name\":\"ImportedStyleSheet\",\"id\":\"p1007\",\"attributes\":{\"url\":\"https://cdn.holoviz.org/panel/1.4.5/dist/css/loading.css\"}},{\"type\":\"object\",\"name\":\"ImportedStyleSheet\",\"id\":\"p1264\",\"attributes\":{\"url\":\"https://cdn.holoviz.org/panel/1.4.5/dist/css/listpanel.css\"}},{\"type\":\"object\",\"name\":\"ImportedStyleSheet\",\"id\":\"p1005\",\"attributes\":{\"url\":\"https://cdn.holoviz.org/panel/1.4.5/dist/bundled/theme/default.css\"}},{\"type\":\"object\",\"name\":\"ImportedStyleSheet\",\"id\":\"p1006\",\"attributes\":{\"url\":\"https://cdn.holoviz.org/panel/1.4.5/dist/bundled/theme/native.css\"}}],\"min_width\":700,\"margin\":0,\"sizing_mode\":\"stretch_width\",\"align\":\"start\",\"children\":[{\"type\":\"object\",\"name\":\"Spacer\",\"id\":\"p1008\",\"attributes\":{\"name\":\"HSpacer00999\",\"stylesheets\":[\"\\n:host(.pn-loading):before, .pn-loading:before {\\n  background-color: #c3c3c3;\\n  mask-size: auto calc(min(50%, 400px));\\n  -webkit-mask-size: auto calc(min(50%, 400px));\\n}\",{\"id\":\"p1007\"},{\"id\":\"p1005\"},{\"id\":\"p1006\"}],\"margin\":0,\"sizing_mode\":\"stretch_width\",\"align\":\"start\"}},{\"type\":\"object\",\"name\":\"Figure\",\"id\":\"p1049\",\"attributes\":{\"width\":700,\"height\":300,\"margin\":[5,10],\"sizing_mode\":\"fixed\",\"align\":\"start\",\"x_range\":{\"type\":\"object\",\"name\":\"Range1d\",\"id\":\"p1009\",\"attributes\":{\"tags\":[[[\"year-mon\",null]],[]],\"start\":1247540708571.4287,\"end\":1621544091428.5713,\"reset_start\":1247540708571.4287,\"reset_end\":1621544091428.5713}},\"y_range\":{\"type\":\"object\",\"name\":\"Range1d\",\"id\":\"p1010\",\"attributes\":{\"tags\":[[[\"AMOUNT\",null]],{\"type\":\"map\",\"entries\":[[\"invert_yaxis\",false],[\"autorange\",false]]}],\"start\":-122.7420790970835,\"end\":1568.2971974585182,\"reset_start\":-122.7420790970835,\"reset_end\":1568.2971974585182}},\"x_scale\":{\"type\":\"object\",\"name\":\"LinearScale\",\"id\":\"p1059\"},\"y_scale\":{\"type\":\"object\",\"name\":\"LinearScale\",\"id\":\"p1060\"},\"title\":{\"type\":\"object\",\"name\":\"Title\",\"id\":\"p1052\",\"attributes\":{\"text_color\":\"black\",\"text_font_size\":\"12pt\"}},\"renderers\":[{\"type\":\"object\",\"name\":\"GlyphRenderer\",\"id\":\"p1101\",\"attributes\":{\"name\":\"Bills and Utilities\",\"data_source\":{\"type\":\"object\",\"name\":\"ColumnDataSource\",\"id\":\"p1092\",\"attributes\":{\"selected\":{\"type\":\"object\",\"name\":\"Selection\",\"id\":\"p1093\",\"attributes\":{\"indices\":[],\"line_indices\":[]}},\"selection_policy\":{\"type\":\"object\",\"name\":\"UnionRenderers\",\"id\":\"p1094\"},\"data\":{\"type\":\"map\",\"entries\":[[\"year-mon\",{\"type\":\"ndarray\",\"array\":{\"type\":\"bytes\",\"data\":\"AACA53JeckIAAMA5bWhyQgAAwFpwcXJCAAAArWp7ckIAAICZEoVyQgAAwOsMj3JCAABA2LSYckIAAIAqr6JyQgAAwHyprHJCAABAaVG2ckIAAIC7S8ByQgAAAKjzyXJCAABA+u3TckIAAIBM6N1yQgAAgG3r5nJCAADAv+XwckIAAECsjfpyQgAAgP6HBHNCAAAA6y8Oc0IAAEA9KhhzQgAAgI8kInNCAAAAfMwrc0IAAEDOxjVzQgAAwLpuP3NCAAAADWlJc0IAAEBfY1NzQgAAAOa4XHNCAABAOLNmc0IAAMAkW3BzQgAAAHdVenNCAACAY/2Dc0IAAMC1941zQgAAAAjyl3NCAACA9Jmhc0IAAMBGlKtzQgAAQDM8tXNCAACAhTa/c0IAAMDXMMlzQgAAwPgz0nNCAAAASy7cc0IAAIA31uVzQgAAwInQ73NCAABAdnj5c0IAAIDIcgN0QgAAwBptDXRCAABABxUXdEIAAIBZDyF0QgAAAEa3KnRCAABAmLE0dEIAAIDqqz50QgAAgAuvR3RCAADAXalRdEIAAEBKUVt0QgAAgJxLZXRCAAAAifNudEIAAEDb7Xh0QgAAgC3ognRCAAAAGpCMdEIAAEBsipZ0QgAAwFgyoHRCAAAAqyyqdEIAAED9JrR0QgAAQB4qvXRCAACAcCTHdEIAAABdzNB0QgAAQK/G2nRCAADAm27kdEIAAADuaO50QgAAQEBj+HRCAADALAsCdUIAAAB/BQx1QgAAgGutFXVCAADAvacfdUIAAAAQoil1QgAAwJb3MnVCAAAA6fE8dUIAAIDVmUZ1QgAAwCeUUHVCAABAFDxadUIAAIBmNmR1QgAAwLgwbnVCAABApdh3dUIAAID30oF1QgAAAOR6i3VCAABANnWVdUIAAICIb591QgAAgKlyqHVCAADA+2yydUIAAEDoFLx1QgAAgDoPxnVCAAAAJ7fPdUIAAEB5sdl1QgAAgMur43VCAAAAuFPtdUIAAEAKTvd1QgAAwPb1AHZCAAAASfAKdkIAAECb6hR2QgAAQLztHXZCAACADugndkIAAAD7jzF2QgAAQE2KO3ZCAADAOTJFdkIAAACMLE92QgAAQN4mWXZCAADAys5idkIAAAAdyWx2QgAAgAlxdnZCAADAW2uAdkIAAACuZYp2QgAAAM9ok3ZCAABAIWOddkIAAMANC6d2QgAAAGAFsXZCAACATK26dkIAAMCep8R2QgAAAPGhznZCAACA3UnYdkIAAMAvROJ2QgAAQBzs63ZCAACAbub1dkIAAMDA4P92QgAAgEc2CXdCAADAmTATd0IAAECG2Bx3QgAAgNjSJndCAAAAxXowd0IAAEAXdTp3QgAAgGlvRHdCAAAAVhdOd0IAAECoEVh3QgAAwJS5YXdC\"},\"shape\":[132],\"dtype\":\"float64\",\"order\":\"little\"}],[\"AMOUNT\",{\"type\":\"ndarray\",\"array\":{\"type\":\"bytes\",\"data\":\"SizXVpdaVUC+O7EJuJ9WQLEY1WrotldA+FzHRTzPV0BHvk1Fvp1XQEfqV8PemVdA8uAdONttV0AwegBn80BXQMBtQM+uVldAy87yV/VUV0DSc3inxlBXQPVwvaRPI1dAncNUIXA2V0BANPSH2TpXQNBjjvFJVFdA3KBE9BKHV0A+/kqs9ZFXQG001CehildAptJvFIqZV0Alc3+dTqxXQCSpX4BNt1dAy/7hgonSV0A2WBlGVgJYQMYEGj67y1dA1cRAoofpV0AngyhmNiRYQCPaBjx4F1hA6OdVYosQWECIXICe2yhYQPr3mNM0DFhA4RGyfCgXWECmfFwRkSxYQIMEkJcVV1hATnOEgdttWEC0rT+3h3VYQBS02a9edFhAt6j85U9sWEDcsZZcmJpYQHPfsnjdm1hAK+ofcmaaWEAOI+ejC5tYQHqQGyzMnlhA5jGct9fGWEAgwU/+DLtYQLv4hWqj/1hAOt4igFjXWEBGasHtwepYQDVROcAk6lhAFjhKN5ZHWUD36PWvkVNZQNaiVXbod1lANrMvZf2SWUDtlyVKzpFZQMxA35QwvllA69UDHCHEWUADWpP3cdJZQAeUzRlfCVpABoyEipsAWkBPHb2PW/tZQK25R1UjGVpAFHGFZNksWkCgo5FTfiZaQI1xCNmWVlpAIh72WGhOWkAZiMRZh4NaQHMx2NUxdlpAjFBycxt6WkDe40GyTWtaQIJ9p3AEbVpAlRaovmF+WkBjOjkAG6haQGS51WeTlFpAXpk7y+vBWkC3eF2TvuJaQLl18hnIq1pAX1wI4R3JWkDIOrR40N1aQA6fwi+f5VpA0CrcC5LrWkDy+JMtMt9aQPZ/OO3U3VpA1RyC6b4GW0AaGeFneuhaQPeZEqvk/1pAz2+1RtUbW0DkW7HKBAVbQFx0Nw/pFltAuUbsh0NqW0Dz6KqYOGdbQEmof/pdRVtARwN3zhBcW0D7OVMMj2RbQKza9Sfik1tATk5Hy3GRW0BPrkL2s5FbQA4XdlVFdltAFYnFcTezW0CIUQ1BEKxbQAHucCddvVtAi28iN3fVW0C9a9/veMtbQBXJZoqV4ltAp9iHp/vcW0BAwQomZPZbQF2P4KmsDFxABx5182QFXEAYMLTSKxFcQMRgUl5sVlxAlCoMwc01XECo/cVv8EtcQJ0FeXwEYFxAwEd3f6NpXEA9HiU+wlRcQMA9taJbZ1xAyjLnUA12XECO784Pa29cQFQJbps9V1xARojpxb9zXEDhLgl/THJcQKN3fsgvhVxAotSpwuR/XEDa3dFkQpRcQOeUG7ebfFxAa+km6qKhXEBuaybjT6VcQFsia9xU2VxA51xmWzCnXEBDPZqVyNhcQMjHVxyz21xA+DDfZ3f8XEBRil0LUTxdQJlkjUwXHl1A\"},\"shape\":[132],\"dtype\":\"float64\",\"order\":\"little\"}],[\"year_hyphen_minus_mon\",{\"type\":\"ndarray\",\"array\":{\"type\":\"bytes\",\"data\":\"AACA53JeckIAAMA5bWhyQgAAwFpwcXJCAAAArWp7ckIAAICZEoVyQgAAwOsMj3JCAABA2LSYckIAAIAqr6JyQgAAwHyprHJCAABAaVG2ckIAAIC7S8ByQgAAAKjzyXJCAABA+u3TckIAAIBM6N1yQgAAgG3r5nJCAADAv+XwckIAAECsjfpyQgAAgP6HBHNCAAAA6y8Oc0IAAEA9KhhzQgAAgI8kInNCAAAAfMwrc0IAAEDOxjVzQgAAwLpuP3NCAAAADWlJc0IAAEBfY1NzQgAAAOa4XHNCAABAOLNmc0IAAMAkW3BzQgAAAHdVenNCAACAY/2Dc0IAAMC1941zQgAAAAjyl3NCAACA9Jmhc0IAAMBGlKtzQgAAQDM8tXNCAACAhTa/c0IAAMDXMMlzQgAAwPgz0nNCAAAASy7cc0IAAIA31uVzQgAAwInQ73NCAABAdnj5c0IAAIDIcgN0QgAAwBptDXRCAABABxUXdEIAAIBZDyF0QgAAAEa3KnRCAABAmLE0dEIAAIDqqz50QgAAgAuvR3RCAADAXalRdEIAAEBKUVt0QgAAgJxLZXRCAAAAifNudEIAAEDb7Xh0QgAAgC3ognRCAAAAGpCMdEIAAEBsipZ0QgAAwFgyoHRCAAAAqyyqdEIAAED9JrR0QgAAQB4qvXRCAACAcCTHdEIAAABdzNB0QgAAQK/G2nRCAADAm27kdEIAAADuaO50QgAAQEBj+HRCAADALAsCdUIAAAB/BQx1QgAAgGutFXVCAADAvacfdUIAAAAQoil1QgAAwJb3MnVCAAAA6fE8dUIAAIDVmUZ1QgAAwCeUUHVCAABAFDxadUIAAIBmNmR1QgAAwLgwbnVCAABApdh3dUIAAID30oF1QgAAAOR6i3VCAABANnWVdUIAAICIb591QgAAgKlyqHVCAADA+2yydUIAAEDoFLx1QgAAgDoPxnVCAAAAJ7fPdUIAAEB5sdl1QgAAgMur43VCAAAAuFPtdUIAAEAKTvd1QgAAwPb1AHZCAAAASfAKdkIAAECb6hR2QgAAQLztHXZCAACADugndkIAAAD7jzF2QgAAQE2KO3ZCAADAOTJFdkIAAACMLE92QgAAQN4mWXZCAADAys5idkIAAAAdyWx2QgAAgAlxdnZCAADAW2uAdkIAAACuZYp2QgAAAM9ok3ZCAABAIWOddkIAAMANC6d2QgAAAGAFsXZCAACATK26dkIAAMCep8R2QgAAAPGhznZCAACA3UnYdkIAAMAvROJ2QgAAQBzs63ZCAACAbub1dkIAAMDA4P92QgAAgEc2CXdCAADAmTATd0IAAECG2Bx3QgAAgNjSJndCAAAAxXowd0IAAEAXdTp3QgAAgGlvRHdCAAAAVhdOd0IAAECoEVh3QgAAwJS5YXdC\"},\"shape\":[132],\"dtype\":\"float64\",\"order\":\"little\"}],[\"EXP_TYPE\",[\"Bills and Utilities\",\"Bills and Utilities\",\"Bills and Utilities\",\"Bills and Utilities\",\"Bills and Utilities\",\"Bills and Utilities\",\"Bills and Utilities\",\"Bills and Utilities\",\"Bills and Utilities\",\"Bills and Utilities\",\"Bills and Utilities\",\"Bills and Utilities\",\"Bills and Utilities\",\"Bills and Utilities\",\"Bills and Utilities\",\"Bills and Utilities\",\"Bills and Utilities\",\"Bills and Utilities\",\"Bills and Utilities\",\"Bills and Utilities\",\"Bills and Utilities\",\"Bills and Utilities\",\"Bills and Utilities\",\"Bills and Utilities\",\"Bills and Utilities\",\"Bills and Utilities\",\"Bills and Utilities\",\"Bills and Utilities\",\"Bills and Utilities\",\"Bills and Utilities\",\"Bills and Utilities\",\"Bills and Utilities\",\"Bills and Utilities\",\"Bills and Utilities\",\"Bills and Utilities\",\"Bills and Utilities\",\"Bills and Utilities\",\"Bills and Utilities\",\"Bills and Utilities\",\"Bills and Utilities\",\"Bills and Utilities\",\"Bills and Utilities\",\"Bills and Utilities\",\"Bills and Utilities\",\"Bills and Utilities\",\"Bills and Utilities\",\"Bills and Utilities\",\"Bills and Utilities\",\"Bills and Utilities\",\"Bills and Utilities\",\"Bills and Utilities\",\"Bills and Utilities\",\"Bills and Utilities\",\"Bills and Utilities\",\"Bills and Utilities\",\"Bills and Utilities\",\"Bills and Utilities\",\"Bills and Utilities\",\"Bills and Utilities\",\"Bills and Utilities\",\"Bills and Utilities\",\"Bills and Utilities\",\"Bills and Utilities\",\"Bills and Utilities\",\"Bills and Utilities\",\"Bills and Utilities\",\"Bills and Utilities\",\"Bills and Utilities\",\"Bills and Utilities\",\"Bills and Utilities\",\"Bills and Utilities\",\"Bills and Utilities\",\"Bills and Utilities\",\"Bills and Utilities\",\"Bills and Utilities\",\"Bills and Utilities\",\"Bills and Utilities\",\"Bills and Utilities\",\"Bills and Utilities\",\"Bills and Utilities\",\"Bills and Utilities\",\"Bills and Utilities\",\"Bills and Utilities\",\"Bills and Utilities\",\"Bills and Utilities\",\"Bills and Utilities\",\"Bills and Utilities\",\"Bills and Utilities\",\"Bills and Utilities\",\"Bills and Utilities\",\"Bills and Utilities\",\"Bills and Utilities\",\"Bills and Utilities\",\"Bills and Utilities\",\"Bills and Utilities\",\"Bills and Utilities\",\"Bills and Utilities\",\"Bills and Utilities\",\"Bills and Utilities\",\"Bills and Utilities\",\"Bills and Utilities\",\"Bills and Utilities\",\"Bills and Utilities\",\"Bills and Utilities\",\"Bills and Utilities\",\"Bills and Utilities\",\"Bills and Utilities\",\"Bills and Utilities\",\"Bills and Utilities\",\"Bills and Utilities\",\"Bills and Utilities\",\"Bills and Utilities\",\"Bills and Utilities\",\"Bills and Utilities\",\"Bills and Utilities\",\"Bills and Utilities\",\"Bills and Utilities\",\"Bills and Utilities\",\"Bills and Utilities\",\"Bills and Utilities\",\"Bills and Utilities\",\"Bills and Utilities\",\"Bills and Utilities\",\"Bills and Utilities\",\"Bills and Utilities\",\"Bills and Utilities\",\"Bills and Utilities\",\"Bills and Utilities\",\"Bills and Utilities\",\"Bills and Utilities\",\"Bills and Utilities\",\"Bills and Utilities\"]]]}}},\"view\":{\"type\":\"object\",\"name\":\"CDSView\",\"id\":\"p1102\",\"attributes\":{\"filter\":{\"type\":\"object\",\"name\":\"AllIndices\",\"id\":\"p1103\"}}},\"glyph\":{\"type\":\"object\",\"name\":\"Scatter\",\"id\":\"p1098\",\"attributes\":{\"tags\":[\"apply_ranges\"],\"x\":{\"type\":\"field\",\"field\":\"year-mon\"},\"y\":{\"type\":\"field\",\"field\":\"AMOUNT\"},\"size\":{\"type\":\"value\",\"value\":5.477225575051661},\"line_color\":{\"type\":\"value\",\"value\":\"#30a2da\"},\"fill_color\":{\"type\":\"value\",\"value\":\"#30a2da\"},\"hatch_color\":{\"type\":\"value\",\"value\":\"#30a2da\"}}},\"selection_glyph\":{\"type\":\"object\",\"name\":\"Scatter\",\"id\":\"p1106\",\"attributes\":{\"tags\":[\"apply_ranges\"],\"x\":{\"type\":\"field\",\"field\":\"year-mon\"},\"y\":{\"type\":\"field\",\"field\":\"AMOUNT\"},\"size\":{\"type\":\"value\",\"value\":5.477225575051661},\"angle\":{\"type\":\"value\",\"value\":0.0},\"line_color\":{\"type\":\"value\",\"value\":\"#30a2da\"},\"line_alpha\":{\"type\":\"value\",\"value\":1.0},\"line_width\":{\"type\":\"value\",\"value\":1},\"line_join\":{\"type\":\"value\",\"value\":\"bevel\"},\"line_cap\":{\"type\":\"value\",\"value\":\"butt\"},\"line_dash\":{\"type\":\"value\",\"value\":[]},\"line_dash_offset\":{\"type\":\"value\",\"value\":0},\"fill_color\":{\"type\":\"value\",\"value\":\"#30a2da\"},\"fill_alpha\":{\"type\":\"value\",\"value\":1.0},\"hatch_color\":{\"type\":\"value\",\"value\":\"#30a2da\"},\"hatch_alpha\":{\"type\":\"value\",\"value\":1.0},\"hatch_scale\":{\"type\":\"value\",\"value\":12.0},\"hatch_pattern\":{\"type\":\"value\",\"value\":null},\"hatch_weight\":{\"type\":\"value\",\"value\":1.0},\"marker\":{\"type\":\"value\",\"value\":\"circle\"}}},\"nonselection_glyph\":{\"type\":\"object\",\"name\":\"Scatter\",\"id\":\"p1099\",\"attributes\":{\"tags\":[\"apply_ranges\"],\"x\":{\"type\":\"field\",\"field\":\"year-mon\"},\"y\":{\"type\":\"field\",\"field\":\"AMOUNT\"},\"size\":{\"type\":\"value\",\"value\":5.477225575051661},\"line_color\":{\"type\":\"value\",\"value\":\"#30a2da\"},\"line_alpha\":{\"type\":\"value\",\"value\":0.1},\"fill_color\":{\"type\":\"value\",\"value\":\"#30a2da\"},\"fill_alpha\":{\"type\":\"value\",\"value\":0.1},\"hatch_color\":{\"type\":\"value\",\"value\":\"#30a2da\"},\"hatch_alpha\":{\"type\":\"value\",\"value\":0.1}}},\"muted_glyph\":{\"type\":\"object\",\"name\":\"Scatter\",\"id\":\"p1100\",\"attributes\":{\"tags\":[\"apply_ranges\"],\"x\":{\"type\":\"field\",\"field\":\"year-mon\"},\"y\":{\"type\":\"field\",\"field\":\"AMOUNT\"},\"size\":{\"type\":\"value\",\"value\":5.477225575051661},\"line_color\":{\"type\":\"value\",\"value\":\"#30a2da\"},\"line_alpha\":{\"type\":\"value\",\"value\":0.2},\"fill_color\":{\"type\":\"value\",\"value\":\"#30a2da\"},\"fill_alpha\":{\"type\":\"value\",\"value\":0.2},\"hatch_color\":{\"type\":\"value\",\"value\":\"#30a2da\"},\"hatch_alpha\":{\"type\":\"value\",\"value\":0.2}}}}},{\"type\":\"object\",\"name\":\"GlyphRenderer\",\"id\":\"p1116\",\"attributes\":{\"name\":\"Tax\",\"data_source\":{\"type\":\"object\",\"name\":\"ColumnDataSource\",\"id\":\"p1107\",\"attributes\":{\"selected\":{\"type\":\"object\",\"name\":\"Selection\",\"id\":\"p1108\",\"attributes\":{\"indices\":[],\"line_indices\":[]}},\"selection_policy\":{\"type\":\"object\",\"name\":\"UnionRenderers\",\"id\":\"p1109\"},\"data\":{\"type\":\"map\",\"entries\":[[\"year-mon\",{\"type\":\"ndarray\",\"array\":{\"type\":\"bytes\",\"data\":\"AACA53JeckIAAMA5bWhyQgAAwFpwcXJCAAAArWp7ckIAAICZEoVyQgAAwOsMj3JCAABA2LSYckIAAIAqr6JyQgAAwHyprHJCAABAaVG2ckIAAIC7S8ByQgAAAKjzyXJCAABA+u3TckIAAIBM6N1yQgAAgG3r5nJCAADAv+XwckIAAECsjfpyQgAAgP6HBHNCAAAA6y8Oc0IAAEA9KhhzQgAAgI8kInNCAAAAfMwrc0IAAEDOxjVzQgAAwLpuP3NCAAAADWlJc0IAAEBfY1NzQgAAAOa4XHNCAABAOLNmc0IAAMAkW3BzQgAAAHdVenNCAACAY/2Dc0IAAMC1941zQgAAAAjyl3NCAACA9Jmhc0IAAMBGlKtzQgAAQDM8tXNCAACAhTa/c0IAAMDXMMlzQgAAwPgz0nNCAAAASy7cc0IAAIA31uVzQgAAwInQ73NCAABAdnj5c0IAAIDIcgN0QgAAwBptDXRCAABABxUXdEIAAIBZDyF0QgAAAEa3KnRCAABAmLE0dEIAAIDqqz50QgAAgAuvR3RCAADAXalRdEIAAEBKUVt0QgAAgJxLZXRCAAAAifNudEIAAEDb7Xh0QgAAgC3ognRCAAAAGpCMdEIAAEBsipZ0QgAAwFgyoHRCAAAAqyyqdEIAAED9JrR0QgAAQB4qvXRCAACAcCTHdEIAAABdzNB0QgAAQK/G2nRCAADAm27kdEIAAADuaO50QgAAQEBj+HRCAADALAsCdUIAAAB/BQx1QgAAgGutFXVCAADAvacfdUIAAAAQoil1QgAAwJb3MnVCAAAA6fE8dUIAAIDVmUZ1QgAAwCeUUHVCAABAFDxadUIAAIBmNmR1QgAAwLgwbnVCAABApdh3dUIAAID30oF1QgAAAOR6i3VCAABANnWVdUIAAICIb591QgAAgKlyqHVCAADA+2yydUIAAEDoFLx1QgAAgDoPxnVCAAAAJ7fPdUIAAEB5sdl1QgAAgMur43VCAAAAuFPtdUIAAEAKTvd1QgAAwPb1AHZCAAAASfAKdkIAAECb6hR2QgAAQLztHXZCAACADugndkIAAAD7jzF2QgAAQE2KO3ZCAADAOTJFdkIAAACMLE92QgAAQN4mWXZCAADAys5idkIAAAAdyWx2QgAAgAlxdnZCAADAW2uAdkIAAACuZYp2QgAAAM9ok3ZCAABAIWOddkIAAMANC6d2QgAAAGAFsXZCAACATK26dkIAAMCep8R2QgAAAPGhznZCAACA3UnYdkIAAMAvROJ2QgAAQBzs63ZCAACAbub1dkIAAMDA4P92QgAAgEc2CXdCAADAmTATd0IAAECG2Bx3QgAAgNjSJndCAAAAxXowd0IAAEAXdTp3QgAAgGlvRHdCAAAAVhdOd0IAAECoEVh3QgAAwJS5YXdC\"},\"shape\":[132],\"dtype\":\"float64\",\"order\":\"little\"}],[\"AMOUNT\",{\"type\":\"ndarray\",\"array\":{\"type\":\"bytes\",\"data\":\"/kE7w4EDa0BsrzcO2MtsQNwEd2/IHm1AjgG0bPnBbUBKQ/XTlF1tQOcDk42CY21ACZs9O3/8bEAMCRr0ALFsQGxQxt9Z4GxA1LL8TsWxbEDKQ518d4NsQGFULydFZmxAY+FT3DpabEA10d/JamtsQE2jnL+fdmxAVdm9pjKTbEA5ABG2KbNsQBs2aOZlpGxAVv3zOcCrbEAf88M+OJ9sQNH93dqCyGxAm2DEHtnJbEC+DU44qMFsQNq2RBQ0nGxAKS9a5pfKbEBMlJXhP9RsQC/faPtY1GxA3Shs5lrPbEDbhnYyp9NsQNM13lPvymxACmiMliqbbEBPvoeBl7RsQP3su8qxvGxAX+NpmArKbEDm4J/FLN1sQL8syXBL1mxARP1AbS7qbECMV3PGFfBsQKOkpUh66mxAxtJOsb/ebED6I7WoN9BsQI9NbZxk32xAD10fudTpbEAYFEGXV9xsQK4im3lg9GxA6lUCvbDubED9qSnPLwZtQOXl8pAJ/GxANbSvEDIZbUDL8/fo4zFtQPn7cQXqS21AonczsN1fbUADh7swj3BtQJR010r4bG1ArQUBvKl5bUCVEpYqy5BtQOgx90+Nmm1AmDX5h8mXbUBo3ULud5VtQBBLcxziiG1Az4mFfGmMbUDV3PBdO5ltQDWKd7ejnG1AoHMdMuyvbUDjrL//xahtQKjt3MNTr21A/0TJwfylbUC1EbDXTKxtQDl+euKJoW1AKk85CiCkbUAy1pVV16JtQB2Pjc3Eo21Ae1wSixSgbUDd39WYbqptQArK5qfhoG1A9Z2GLy+ZbUAkUXVmZZBtQD+gBwEelG1AZpg/3NmNbUDWUq9ZB4ltQL3wzC51e21AwBf3SIl9bUCfg30My2ptQKxExdrGaG1Ad2AqHodxbUAjK6hjAmdtQCSb9hB3dG1AebFXVEaKbUCx0CWdpXptQA1ddNFFc21A6LTQu/2CbUBp0qjPEXxtQB+GhL6MhG1AjAnpRAWIbUDuCKMdGIJtQML5CFZMfG1A75mFxzaObUBfUA0lY49tQOIy6vgKlW1AnmRiHYJ8bUDtLzsueG9tQHpawvbbdm1A3bCMQft4bUDmPqQOMIJtQPovYg2xg21AhOv5Ft9zbUCK7ZFx44ptQL9wJM3Anm1AmlqdpxegbUBlO4v3ZpRtQIJ8vw8dmm1AzBpS5qKWbUDPnZrJo4FtQFY6tqXjcm1Ae81FonZtbUB9t13ip2ptQDzvNoHaTm1A287JYrFHbUD3zWSsD0dtQJBQ+OrBQm1AXPTxlwhHbUB61WmlES5tQLCbYWgSN21AULuDbhE5bUDYD8lsyjttQAZSCjA7QW1ABAhbd0I1bUAYEHva4jhtQHN8Oyp4U21ALEtrTT1LbUCiLZU71U1tQDexgiDoSG1A\"},\"shape\":[132],\"dtype\":\"float64\",\"order\":\"little\"}],[\"year_hyphen_minus_mon\",{\"type\":\"ndarray\",\"array\":{\"type\":\"bytes\",\"data\":\"AACA53JeckIAAMA5bWhyQgAAwFpwcXJCAAAArWp7ckIAAICZEoVyQgAAwOsMj3JCAABA2LSYckIAAIAqr6JyQgAAwHyprHJCAABAaVG2ckIAAIC7S8ByQgAAAKjzyXJCAABA+u3TckIAAIBM6N1yQgAAgG3r5nJCAADAv+XwckIAAECsjfpyQgAAgP6HBHNCAAAA6y8Oc0IAAEA9KhhzQgAAgI8kInNCAAAAfMwrc0IAAEDOxjVzQgAAwLpuP3NCAAAADWlJc0IAAEBfY1NzQgAAAOa4XHNCAABAOLNmc0IAAMAkW3BzQgAAAHdVenNCAACAY/2Dc0IAAMC1941zQgAAAAjyl3NCAACA9Jmhc0IAAMBGlKtzQgAAQDM8tXNCAACAhTa/c0IAAMDXMMlzQgAAwPgz0nNCAAAASy7cc0IAAIA31uVzQgAAwInQ73NCAABAdnj5c0IAAIDIcgN0QgAAwBptDXRCAABABxUXdEIAAIBZDyF0QgAAAEa3KnRCAABAmLE0dEIAAIDqqz50QgAAgAuvR3RCAADAXalRdEIAAEBKUVt0QgAAgJxLZXRCAAAAifNudEIAAEDb7Xh0QgAAgC3ognRCAAAAGpCMdEIAAEBsipZ0QgAAwFgyoHRCAAAAqyyqdEIAAED9JrR0QgAAQB4qvXRCAACAcCTHdEIAAABdzNB0QgAAQK/G2nRCAADAm27kdEIAAADuaO50QgAAQEBj+HRCAADALAsCdUIAAAB/BQx1QgAAgGutFXVCAADAvacfdUIAAAAQoil1QgAAwJb3MnVCAAAA6fE8dUIAAIDVmUZ1QgAAwCeUUHVCAABAFDxadUIAAIBmNmR1QgAAwLgwbnVCAABApdh3dUIAAID30oF1QgAAAOR6i3VCAABANnWVdUIAAICIb591QgAAgKlyqHVCAADA+2yydUIAAEDoFLx1QgAAgDoPxnVCAAAAJ7fPdUIAAEB5sdl1QgAAgMur43VCAAAAuFPtdUIAAEAKTvd1QgAAwPb1AHZCAAAASfAKdkIAAECb6hR2QgAAQLztHXZCAACADugndkIAAAD7jzF2QgAAQE2KO3ZCAADAOTJFdkIAAACMLE92QgAAQN4mWXZCAADAys5idkIAAAAdyWx2QgAAgAlxdnZCAADAW2uAdkIAAACuZYp2QgAAAM9ok3ZCAABAIWOddkIAAMANC6d2QgAAAGAFsXZCAACATK26dkIAAMCep8R2QgAAAPGhznZCAACA3UnYdkIAAMAvROJ2QgAAQBzs63ZCAACAbub1dkIAAMDA4P92QgAAgEc2CXdCAADAmTATd0IAAECG2Bx3QgAAgNjSJndCAAAAxXowd0IAAEAXdTp3QgAAgGlvRHdCAAAAVhdOd0IAAECoEVh3QgAAwJS5YXdC\"},\"shape\":[132],\"dtype\":\"float64\",\"order\":\"little\"}],[\"EXP_TYPE\",[\"Tax\",\"Tax\",\"Tax\",\"Tax\",\"Tax\",\"Tax\",\"Tax\",\"Tax\",\"Tax\",\"Tax\",\"Tax\",\"Tax\",\"Tax\",\"Tax\",\"Tax\",\"Tax\",\"Tax\",\"Tax\",\"Tax\",\"Tax\",\"Tax\",\"Tax\",\"Tax\",\"Tax\",\"Tax\",\"Tax\",\"Tax\",\"Tax\",\"Tax\",\"Tax\",\"Tax\",\"Tax\",\"Tax\",\"Tax\",\"Tax\",\"Tax\",\"Tax\",\"Tax\",\"Tax\",\"Tax\",\"Tax\",\"Tax\",\"Tax\",\"Tax\",\"Tax\",\"Tax\",\"Tax\",\"Tax\",\"Tax\",\"Tax\",\"Tax\",\"Tax\",\"Tax\",\"Tax\",\"Tax\",\"Tax\",\"Tax\",\"Tax\",\"Tax\",\"Tax\",\"Tax\",\"Tax\",\"Tax\",\"Tax\",\"Tax\",\"Tax\",\"Tax\",\"Tax\",\"Tax\",\"Tax\",\"Tax\",\"Tax\",\"Tax\",\"Tax\",\"Tax\",\"Tax\",\"Tax\",\"Tax\",\"Tax\",\"Tax\",\"Tax\",\"Tax\",\"Tax\",\"Tax\",\"Tax\",\"Tax\",\"Tax\",\"Tax\",\"Tax\",\"Tax\",\"Tax\",\"Tax\",\"Tax\",\"Tax\",\"Tax\",\"Tax\",\"Tax\",\"Tax\",\"Tax\",\"Tax\",\"Tax\",\"Tax\",\"Tax\",\"Tax\",\"Tax\",\"Tax\",\"Tax\",\"Tax\",\"Tax\",\"Tax\",\"Tax\",\"Tax\",\"Tax\",\"Tax\",\"Tax\",\"Tax\",\"Tax\",\"Tax\",\"Tax\",\"Tax\",\"Tax\",\"Tax\",\"Tax\",\"Tax\",\"Tax\",\"Tax\",\"Tax\",\"Tax\",\"Tax\",\"Tax\",\"Tax\",\"Tax\"]]]}}},\"view\":{\"type\":\"object\",\"name\":\"CDSView\",\"id\":\"p1117\",\"attributes\":{\"filter\":{\"type\":\"object\",\"name\":\"AllIndices\",\"id\":\"p1118\"}}},\"glyph\":{\"type\":\"object\",\"name\":\"Scatter\",\"id\":\"p1113\",\"attributes\":{\"tags\":[\"apply_ranges\"],\"x\":{\"type\":\"field\",\"field\":\"year-mon\"},\"y\":{\"type\":\"field\",\"field\":\"AMOUNT\"},\"size\":{\"type\":\"value\",\"value\":5.477225575051661},\"line_color\":{\"type\":\"value\",\"value\":\"#fc4f30\"},\"fill_color\":{\"type\":\"value\",\"value\":\"#fc4f30\"},\"hatch_color\":{\"type\":\"value\",\"value\":\"#fc4f30\"}}},\"selection_glyph\":{\"type\":\"object\",\"name\":\"Scatter\",\"id\":\"p1120\",\"attributes\":{\"tags\":[\"apply_ranges\"],\"x\":{\"type\":\"field\",\"field\":\"year-mon\"},\"y\":{\"type\":\"field\",\"field\":\"AMOUNT\"},\"size\":{\"type\":\"value\",\"value\":5.477225575051661},\"angle\":{\"type\":\"value\",\"value\":0.0},\"line_color\":{\"type\":\"value\",\"value\":\"#fc4f30\"},\"line_alpha\":{\"type\":\"value\",\"value\":1.0},\"line_width\":{\"type\":\"value\",\"value\":1},\"line_join\":{\"type\":\"value\",\"value\":\"bevel\"},\"line_cap\":{\"type\":\"value\",\"value\":\"butt\"},\"line_dash\":{\"type\":\"value\",\"value\":[]},\"line_dash_offset\":{\"type\":\"value\",\"value\":0},\"fill_color\":{\"type\":\"value\",\"value\":\"#fc4f30\"},\"fill_alpha\":{\"type\":\"value\",\"value\":1.0},\"hatch_color\":{\"type\":\"value\",\"value\":\"#fc4f30\"},\"hatch_alpha\":{\"type\":\"value\",\"value\":1.0},\"hatch_scale\":{\"type\":\"value\",\"value\":12.0},\"hatch_pattern\":{\"type\":\"value\",\"value\":null},\"hatch_weight\":{\"type\":\"value\",\"value\":1.0},\"marker\":{\"type\":\"value\",\"value\":\"circle\"}}},\"nonselection_glyph\":{\"type\":\"object\",\"name\":\"Scatter\",\"id\":\"p1114\",\"attributes\":{\"tags\":[\"apply_ranges\"],\"x\":{\"type\":\"field\",\"field\":\"year-mon\"},\"y\":{\"type\":\"field\",\"field\":\"AMOUNT\"},\"size\":{\"type\":\"value\",\"value\":5.477225575051661},\"line_color\":{\"type\":\"value\",\"value\":\"#fc4f30\"},\"line_alpha\":{\"type\":\"value\",\"value\":0.1},\"fill_color\":{\"type\":\"value\",\"value\":\"#fc4f30\"},\"fill_alpha\":{\"type\":\"value\",\"value\":0.1},\"hatch_color\":{\"type\":\"value\",\"value\":\"#fc4f30\"},\"hatch_alpha\":{\"type\":\"value\",\"value\":0.1}}},\"muted_glyph\":{\"type\":\"object\",\"name\":\"Scatter\",\"id\":\"p1115\",\"attributes\":{\"tags\":[\"apply_ranges\"],\"x\":{\"type\":\"field\",\"field\":\"year-mon\"},\"y\":{\"type\":\"field\",\"field\":\"AMOUNT\"},\"size\":{\"type\":\"value\",\"value\":5.477225575051661},\"line_color\":{\"type\":\"value\",\"value\":\"#fc4f30\"},\"line_alpha\":{\"type\":\"value\",\"value\":0.2},\"fill_color\":{\"type\":\"value\",\"value\":\"#fc4f30\"},\"fill_alpha\":{\"type\":\"value\",\"value\":0.2},\"hatch_color\":{\"type\":\"value\",\"value\":\"#fc4f30\"},\"hatch_alpha\":{\"type\":\"value\",\"value\":0.2}}}}},{\"type\":\"object\",\"name\":\"GlyphRenderer\",\"id\":\"p1130\",\"attributes\":{\"name\":\"Health\",\"data_source\":{\"type\":\"object\",\"name\":\"ColumnDataSource\",\"id\":\"p1121\",\"attributes\":{\"selected\":{\"type\":\"object\",\"name\":\"Selection\",\"id\":\"p1122\",\"attributes\":{\"indices\":[],\"line_indices\":[]}},\"selection_policy\":{\"type\":\"object\",\"name\":\"UnionRenderers\",\"id\":\"p1123\"},\"data\":{\"type\":\"map\",\"entries\":[[\"year-mon\",{\"type\":\"ndarray\",\"array\":{\"type\":\"bytes\",\"data\":\"AACA53JeckIAAMA5bWhyQgAAwFpwcXJCAAAArWp7ckIAAICZEoVyQgAAwOsMj3JCAABA2LSYckIAAIAqr6JyQgAAwHyprHJCAABAaVG2ckIAAIC7S8ByQgAAAKjzyXJCAABA+u3TckIAAIBM6N1yQgAAgG3r5nJCAADAv+XwckIAAECsjfpyQgAAgP6HBHNCAAAA6y8Oc0IAAEA9KhhzQgAAgI8kInNCAAAAfMwrc0IAAEDOxjVzQgAAwLpuP3NCAAAADWlJc0IAAEBfY1NzQgAAAOa4XHNCAABAOLNmc0IAAMAkW3BzQgAAAHdVenNCAACAY/2Dc0IAAMC1941zQgAAAAjyl3NCAACA9Jmhc0IAAMBGlKtzQgAAQDM8tXNCAACAhTa/c0IAAMDXMMlzQgAAwPgz0nNCAAAASy7cc0IAAIA31uVzQgAAwInQ73NCAABAdnj5c0IAAIDIcgN0QgAAwBptDXRCAABABxUXdEIAAIBZDyF0QgAAAEa3KnRCAABAmLE0dEIAAIDqqz50QgAAgAuvR3RCAADAXalRdEIAAEBKUVt0QgAAgJxLZXRCAAAAifNudEIAAEDb7Xh0QgAAgC3ognRCAAAAGpCMdEIAAEBsipZ0QgAAwFgyoHRCAAAAqyyqdEIAAED9JrR0QgAAQB4qvXRCAACAcCTHdEIAAABdzNB0QgAAQK/G2nRCAADAm27kdEIAAADuaO50QgAAQEBj+HRCAADALAsCdUIAAAB/BQx1QgAAgGutFXVCAADAvacfdUIAAAAQoil1QgAAwJb3MnVCAAAA6fE8dUIAAIDVmUZ1QgAAwCeUUHVCAABAFDxadUIAAIBmNmR1QgAAwLgwbnVCAABApdh3dUIAAID30oF1QgAAAOR6i3VCAABANnWVdUIAAICIb591QgAAgKlyqHVCAADA+2yydUIAAEDoFLx1QgAAgDoPxnVCAAAAJ7fPdUIAAEB5sdl1QgAAgMur43VCAAAAuFPtdUIAAEAKTvd1QgAAwPb1AHZCAAAASfAKdkIAAECb6hR2QgAAQLztHXZCAACADugndkIAAAD7jzF2QgAAQE2KO3ZCAADAOTJFdkIAAACMLE92QgAAQN4mWXZCAADAys5idkIAAAAdyWx2QgAAgAlxdnZCAADAW2uAdkIAAACuZYp2QgAAAM9ok3ZCAABAIWOddkIAAMANC6d2QgAAAGAFsXZCAACATK26dkIAAMCep8R2QgAAAPGhznZCAACA3UnYdkIAAMAvROJ2QgAAQBzs63ZCAACAbub1dkIAAMDA4P92QgAAgEc2CXdCAADAmTATd0IAAECG2Bx3QgAAgNjSJndCAAAAxXowd0IAAEAXdTp3QgAAgGlvRHdCAAAAVhdOd0IAAECoEVh3QgAAwJS5YXdC\"},\"shape\":[132],\"dtype\":\"float64\",\"order\":\"little\"}],[\"AMOUNT\",{\"type\":\"ndarray\",\"array\":{\"type\":\"bytes\",\"data\":\"O3zK4zqfSEAVC4Uh0jNKQB8Z+3iaK0pA2skjsbWGTECY0gwpzfhLQBUyaxfoyEpAJL12yaE4SkDDNyocR75LQJ/t3eqU3UlAWYwrH1mFSkAgvgSMKwdLQL//bUXEzEpA63nlSqX4SkA22DY9ZJhKQIwEHZYE3UpAnvdw5BA/S0Atq+OlVApLQGIyMfqkgEtA686G7ZfAS0DY5oICkcpLQMEjgs/hfUxAqOUXRHTFS0A33oXzvb1LQITYIyU2oktAFUSlPTr/S0BaqT7PfehLQAQSlNcxuEtAVE9uBypcTEDxtnejrq5MQJS6uRF76UxAWhVrA26wTEA7dtcnwlRNQNqH6i3on0xAoOpn3XwBTUB/u6TAYHlNQKr+30Qb1UxAree+vElKTUCM3VjSKwdOQCZLVlPmdE5AsWHJqjfLTUDV+gDDlzZOQFSBiYfq905AGfa4TN3aTkCOY50yvEtPQC1LfrHkeE5A7TFIU07zTkClPjbW5yRPQFXSssFEwU5AUpWG5nZMT0DjdQq8JTFPQOAj2usriE9AoNh4/g0OUECo4jyeSp1PQMOp/He7RlBAVwoJB8uUUEBL95qY4TVQQKRJm8qwq1BA7FSddbOfUEBg6witzMJQQCq9AbxWj1BAiJmDPXGvUECbQIaSnQZRQElRGDo/u1BABBci3DUVUUA8DSME/E5RQExwvBmIH1FAp8OcWdspUUA5eTCTboFRQHo71kpmlVFAkCJh32txUUBZtu4y8/5QQCG2I22oOVFAvGeYWjFBUUAe28Wh39hRQCKTjYQY7VFATs1NO0P3UUDQ5VI+FadRQBimcYVXxVFAVphsj5QCUkCoLpX35vlRQDQHdyrZDlJAzbLwX0xKUkDJL2l6UWBSQCOw3Wvnf1JAfKtP1g96UkBh3i69xzdSQCkAOB9lelJA5P2BfKqSUkDAeuUr2LZSQHd7iaZQ/1JA0uVkguMSU0BAGJ9EDeNSQPMcUM5I+VJAvRRjbaeNU0Dkxzzvv3RTQBzze22zv1NATWLSbpVTU0B88ek3dEZTQOs4/XsgVlNAfHnkFt7kU0BD1ffxPNZTQDQicelWaFNAmDHFhhXJU0DL+CRuESRUQOEuxZD2FFRAJEku0zSvVEDGEZf3WVJUQHPgjYzYW1RAcHPU6beHVEDL9p9ll4tUQGdgjQELj1RA8q/wpDmkVEA+J0o4q6NUQD2cH+t2m1RADEJNnbYBVUCej4rvg7tUQAXiMHPjB1VAjPQZslPxVECA1sYYu0RVQGlN/PXk/lRATIUJ+v8yVUAbVOlwjYBVQJxX9EvgdVVA0aGNlXg0VUCAwR+OW6RVQGhIsgOmvlVA0BFqPdDXVUDV8TDVuh9WQL33nAUjNFZAKLkn8sItVkAxepXwjiFWQHHG4KtYfVZA\"},\"shape\":[132],\"dtype\":\"float64\",\"order\":\"little\"}],[\"year_hyphen_minus_mon\",{\"type\":\"ndarray\",\"array\":{\"type\":\"bytes\",\"data\":\"AACA53JeckIAAMA5bWhyQgAAwFpwcXJCAAAArWp7ckIAAICZEoVyQgAAwOsMj3JCAABA2LSYckIAAIAqr6JyQgAAwHyprHJCAABAaVG2ckIAAIC7S8ByQgAAAKjzyXJCAABA+u3TckIAAIBM6N1yQgAAgG3r5nJCAADAv+XwckIAAECsjfpyQgAAgP6HBHNCAAAA6y8Oc0IAAEA9KhhzQgAAgI8kInNCAAAAfMwrc0IAAEDOxjVzQgAAwLpuP3NCAAAADWlJc0IAAEBfY1NzQgAAAOa4XHNCAABAOLNmc0IAAMAkW3BzQgAAAHdVenNCAACAY/2Dc0IAAMC1941zQgAAAAjyl3NCAACA9Jmhc0IAAMBGlKtzQgAAQDM8tXNCAACAhTa/c0IAAMDXMMlzQgAAwPgz0nNCAAAASy7cc0IAAIA31uVzQgAAwInQ73NCAABAdnj5c0IAAIDIcgN0QgAAwBptDXRCAABABxUXdEIAAIBZDyF0QgAAAEa3KnRCAABAmLE0dEIAAIDqqz50QgAAgAuvR3RCAADAXalRdEIAAEBKUVt0QgAAgJxLZXRCAAAAifNudEIAAEDb7Xh0QgAAgC3ognRCAAAAGpCMdEIAAEBsipZ0QgAAwFgyoHRCAAAAqyyqdEIAAED9JrR0QgAAQB4qvXRCAACAcCTHdEIAAABdzNB0QgAAQK/G2nRCAADAm27kdEIAAADuaO50QgAAQEBj+HRCAADALAsCdUIAAAB/BQx1QgAAgGutFXVCAADAvacfdUIAAAAQoil1QgAAwJb3MnVCAAAA6fE8dUIAAIDVmUZ1QgAAwCeUUHVCAABAFDxadUIAAIBmNmR1QgAAwLgwbnVCAABApdh3dUIAAID30oF1QgAAAOR6i3VCAABANnWVdUIAAICIb591QgAAgKlyqHVCAADA+2yydUIAAEDoFLx1QgAAgDoPxnVCAAAAJ7fPdUIAAEB5sdl1QgAAgMur43VCAAAAuFPtdUIAAEAKTvd1QgAAwPb1AHZCAAAASfAKdkIAAECb6hR2QgAAQLztHXZCAACADugndkIAAAD7jzF2QgAAQE2KO3ZCAADAOTJFdkIAAACMLE92QgAAQN4mWXZCAADAys5idkIAAAAdyWx2QgAAgAlxdnZCAADAW2uAdkIAAACuZYp2QgAAAM9ok3ZCAABAIWOddkIAAMANC6d2QgAAAGAFsXZCAACATK26dkIAAMCep8R2QgAAAPGhznZCAACA3UnYdkIAAMAvROJ2QgAAQBzs63ZCAACAbub1dkIAAMDA4P92QgAAgEc2CXdCAADAmTATd0IAAECG2Bx3QgAAgNjSJndCAAAAxXowd0IAAEAXdTp3QgAAgGlvRHdCAAAAVhdOd0IAAECoEVh3QgAAwJS5YXdC\"},\"shape\":[132],\"dtype\":\"float64\",\"order\":\"little\"}],[\"EXP_TYPE\",[\"Health\",\"Health\",\"Health\",\"Health\",\"Health\",\"Health\",\"Health\",\"Health\",\"Health\",\"Health\",\"Health\",\"Health\",\"Health\",\"Health\",\"Health\",\"Health\",\"Health\",\"Health\",\"Health\",\"Health\",\"Health\",\"Health\",\"Health\",\"Health\",\"Health\",\"Health\",\"Health\",\"Health\",\"Health\",\"Health\",\"Health\",\"Health\",\"Health\",\"Health\",\"Health\",\"Health\",\"Health\",\"Health\",\"Health\",\"Health\",\"Health\",\"Health\",\"Health\",\"Health\",\"Health\",\"Health\",\"Health\",\"Health\",\"Health\",\"Health\",\"Health\",\"Health\",\"Health\",\"Health\",\"Health\",\"Health\",\"Health\",\"Health\",\"Health\",\"Health\",\"Health\",\"Health\",\"Health\",\"Health\",\"Health\",\"Health\",\"Health\",\"Health\",\"Health\",\"Health\",\"Health\",\"Health\",\"Health\",\"Health\",\"Health\",\"Health\",\"Health\",\"Health\",\"Health\",\"Health\",\"Health\",\"Health\",\"Health\",\"Health\",\"Health\",\"Health\",\"Health\",\"Health\",\"Health\",\"Health\",\"Health\",\"Health\",\"Health\",\"Health\",\"Health\",\"Health\",\"Health\",\"Health\",\"Health\",\"Health\",\"Health\",\"Health\",\"Health\",\"Health\",\"Health\",\"Health\",\"Health\",\"Health\",\"Health\",\"Health\",\"Health\",\"Health\",\"Health\",\"Health\",\"Health\",\"Health\",\"Health\",\"Health\",\"Health\",\"Health\",\"Health\",\"Health\",\"Health\",\"Health\",\"Health\",\"Health\",\"Health\",\"Health\",\"Health\",\"Health\",\"Health\",\"Health\"]]]}}},\"view\":{\"type\":\"object\",\"name\":\"CDSView\",\"id\":\"p1131\",\"attributes\":{\"filter\":{\"type\":\"object\",\"name\":\"AllIndices\",\"id\":\"p1132\"}}},\"glyph\":{\"type\":\"object\",\"name\":\"Scatter\",\"id\":\"p1127\",\"attributes\":{\"tags\":[\"apply_ranges\"],\"x\":{\"type\":\"field\",\"field\":\"year-mon\"},\"y\":{\"type\":\"field\",\"field\":\"AMOUNT\"},\"size\":{\"type\":\"value\",\"value\":5.477225575051661},\"line_color\":{\"type\":\"value\",\"value\":\"#e5ae38\"},\"fill_color\":{\"type\":\"value\",\"value\":\"#e5ae38\"},\"hatch_color\":{\"type\":\"value\",\"value\":\"#e5ae38\"}}},\"selection_glyph\":{\"type\":\"object\",\"name\":\"Scatter\",\"id\":\"p1134\",\"attributes\":{\"tags\":[\"apply_ranges\"],\"x\":{\"type\":\"field\",\"field\":\"year-mon\"},\"y\":{\"type\":\"field\",\"field\":\"AMOUNT\"},\"size\":{\"type\":\"value\",\"value\":5.477225575051661},\"angle\":{\"type\":\"value\",\"value\":0.0},\"line_color\":{\"type\":\"value\",\"value\":\"#e5ae38\"},\"line_alpha\":{\"type\":\"value\",\"value\":1.0},\"line_width\":{\"type\":\"value\",\"value\":1},\"line_join\":{\"type\":\"value\",\"value\":\"bevel\"},\"line_cap\":{\"type\":\"value\",\"value\":\"butt\"},\"line_dash\":{\"type\":\"value\",\"value\":[]},\"line_dash_offset\":{\"type\":\"value\",\"value\":0},\"fill_color\":{\"type\":\"value\",\"value\":\"#e5ae38\"},\"fill_alpha\":{\"type\":\"value\",\"value\":1.0},\"hatch_color\":{\"type\":\"value\",\"value\":\"#e5ae38\"},\"hatch_alpha\":{\"type\":\"value\",\"value\":1.0},\"hatch_scale\":{\"type\":\"value\",\"value\":12.0},\"hatch_pattern\":{\"type\":\"value\",\"value\":null},\"hatch_weight\":{\"type\":\"value\",\"value\":1.0},\"marker\":{\"type\":\"value\",\"value\":\"circle\"}}},\"nonselection_glyph\":{\"type\":\"object\",\"name\":\"Scatter\",\"id\":\"p1128\",\"attributes\":{\"tags\":[\"apply_ranges\"],\"x\":{\"type\":\"field\",\"field\":\"year-mon\"},\"y\":{\"type\":\"field\",\"field\":\"AMOUNT\"},\"size\":{\"type\":\"value\",\"value\":5.477225575051661},\"line_color\":{\"type\":\"value\",\"value\":\"#e5ae38\"},\"line_alpha\":{\"type\":\"value\",\"value\":0.1},\"fill_color\":{\"type\":\"value\",\"value\":\"#e5ae38\"},\"fill_alpha\":{\"type\":\"value\",\"value\":0.1},\"hatch_color\":{\"type\":\"value\",\"value\":\"#e5ae38\"},\"hatch_alpha\":{\"type\":\"value\",\"value\":0.1}}},\"muted_glyph\":{\"type\":\"object\",\"name\":\"Scatter\",\"id\":\"p1129\",\"attributes\":{\"tags\":[\"apply_ranges\"],\"x\":{\"type\":\"field\",\"field\":\"year-mon\"},\"y\":{\"type\":\"field\",\"field\":\"AMOUNT\"},\"size\":{\"type\":\"value\",\"value\":5.477225575051661},\"line_color\":{\"type\":\"value\",\"value\":\"#e5ae38\"},\"line_alpha\":{\"type\":\"value\",\"value\":0.2},\"fill_color\":{\"type\":\"value\",\"value\":\"#e5ae38\"},\"fill_alpha\":{\"type\":\"value\",\"value\":0.2},\"hatch_color\":{\"type\":\"value\",\"value\":\"#e5ae38\"},\"hatch_alpha\":{\"type\":\"value\",\"value\":0.2}}}}},{\"type\":\"object\",\"name\":\"GlyphRenderer\",\"id\":\"p1144\",\"attributes\":{\"name\":\"Fines\",\"data_source\":{\"type\":\"object\",\"name\":\"ColumnDataSource\",\"id\":\"p1135\",\"attributes\":{\"selected\":{\"type\":\"object\",\"name\":\"Selection\",\"id\":\"p1136\",\"attributes\":{\"indices\":[],\"line_indices\":[]}},\"selection_policy\":{\"type\":\"object\",\"name\":\"UnionRenderers\",\"id\":\"p1137\"},\"data\":{\"type\":\"map\",\"entries\":[[\"year-mon\",{\"type\":\"ndarray\",\"array\":{\"type\":\"bytes\",\"data\":\"AACA53JeckIAAMA5bWhyQgAAwFpwcXJCAAAArWp7ckIAAICZEoVyQgAAwOsMj3JCAABA2LSYckIAAIAqr6JyQgAAwHyprHJCAABAaVG2ckIAAIC7S8ByQgAAAKjzyXJCAABA+u3TckIAAIBM6N1yQgAAgG3r5nJCAADAv+XwckIAAECsjfpyQgAAgP6HBHNCAAAA6y8Oc0IAAEA9KhhzQgAAgI8kInNCAAAAfMwrc0IAAEDOxjVzQgAAwLpuP3NCAAAADWlJc0IAAEBfY1NzQgAAAOa4XHNCAABAOLNmc0IAAMAkW3BzQgAAAHdVenNCAACAY/2Dc0IAAMC1941zQgAAAAjyl3NCAACA9Jmhc0IAAMBGlKtzQgAAQDM8tXNCAACAhTa/c0IAAMDXMMlzQgAAwPgz0nNCAAAASy7cc0IAAIA31uVzQgAAwInQ73NCAABAdnj5c0IAAIDIcgN0QgAAwBptDXRCAABABxUXdEIAAIBZDyF0QgAAAEa3KnRCAABAmLE0dEIAAIDqqz50QgAAgAuvR3RCAADAXalRdEIAAEBKUVt0QgAAgJxLZXRCAAAAifNudEIAAEDb7Xh0QgAAgC3ognRCAAAAGpCMdEIAAEBsipZ0QgAAwFgyoHRCAAAAqyyqdEIAAED9JrR0QgAAQB4qvXRCAACAcCTHdEIAAABdzNB0QgAAQK/G2nRCAADAm27kdEIAAADuaO50QgAAQEBj+HRCAADALAsCdUIAAAB/BQx1QgAAgGutFXVCAADAvacfdUIAAAAQoil1QgAAwJb3MnVCAAAA6fE8dUIAAIDVmUZ1QgAAwCeUUHVCAABAFDxadUIAAIBmNmR1QgAAwLgwbnVCAABApdh3dUIAAID30oF1QgAAAOR6i3VCAABANnWVdUIAAICIb591QgAAgKlyqHVCAADA+2yydUIAAEDoFLx1QgAAgDoPxnVCAAAAJ7fPdUIAAEB5sdl1QgAAgMur43VCAAAAuFPtdUIAAEAKTvd1QgAAwPb1AHZCAAAASfAKdkIAAECb6hR2QgAAQLztHXZCAACADugndkIAAAD7jzF2QgAAQE2KO3ZCAADAOTJFdkIAAACMLE92QgAAQN4mWXZCAADAys5idkIAAAAdyWx2QgAAgAlxdnZCAADAW2uAdkIAAACuZYp2QgAAAM9ok3ZCAABAIWOddkIAAMANC6d2QgAAAGAFsXZCAACATK26dkIAAMCep8R2QgAAAPGhznZCAACA3UnYdkIAAMAvROJ2QgAAQBzs63ZCAACAbub1dkIAAMDA4P92QgAAgEc2CXdCAADAmTATd0IAAECG2Bx3QgAAgNjSJndCAAAAxXowd0IAAEAXdTp3QgAAgGlvRHdCAAAAVhdOd0IAAECoEVh3QgAAwJS5YXdC\"},\"shape\":[132],\"dtype\":\"float64\",\"order\":\"little\"}],[\"AMOUNT\",{\"type\":\"ndarray\",\"array\":{\"type\":\"bytes\",\"data\":\"REREREREWkDsUbgehddWQFpkO99PyWJABJQ7QLmbYUAssp3vp5ZhQPN5L5/3umJAvLu7u7tZcECwBVuwBbNcQC2U+mDH/VRAo60GzxEIV0C/55Y49VtgQJDC9ShctVxA+YEf+IEvXEBt9GUlVI1kQEx+seQXk1tAzczMzMxkZUDoJjEIrJBbQG89CtcjsWJAz3+F4JAOZUDbQKcNdGJfQCgnJycn32FAYLpJDAJzXUDYB4Su+YphQLkjJ8T6ymBA628BeCQ9YUCjcD0K16lbQPb0tcXBel1AJYopbdfZWkDw7u7ubothQHA7Ercj4V5AQdpzDadQY0CvSOJ7FadhQHyprTmMOWJArUfhehQSYkCTXyz5xR9iQCYDzFk2qWJASEhISEg8YkAE/sb+FwleQJpxQDiMn2RAfPNq4lmRYUArGgn45sVjQJoScRBSkWBA3fG91SqpYkA4PuCyRFphQD5VPN5BLmJATDv0hkf0YkAx44BwGFdiQPU8Hpmt02JAEBISEhIgYkDHupmSEwdiQNr0WQapaGBAB/1u0O8OYEApo7dlrThiQINK5vlDfGBA/mqosonNYkDtvrnRwndkQNhsq5QoNWFACUHr62oUY0APNNnC1xBiQBjh8Glf6V9AiRbZzncdY0DlAck6V0hiQLrqiHoHT19An2mKXcNeYUBJCeg64qljQOv+rPTVEGJA1nnt8HKhYECBCKTLqnBhQKiKVl2qMGJACVPlCVO9Y0AzLK14i0xhQPAxrvagoWNAc0EO26eEYUAfKf/QtyFgQN/UKcCiM2JAz4ZbRSe0YkBi9TMdsUdiQMsjq4jsN2RAUY2XbhLtYUCInPvsAjhhQG9UDB1Ni2NAZucN/GEJZEC6qsAfER9gQDJBiNRPumJAomZo9zYbY0AwRKn6EP5kQExXQ9RTk2BA0A7lAJnbYUAn7eZhu45gQAlBWJwvtWFA/blBZDlpYUDAk9XyxpRhQIZEFSHe1GJAjQsHQrJQYkBMECL1kzhgQClcj8L11mBA/y5Xi3DAYkCJxYZYbFBhQPfCIc9J0GJAku18PzWWYUDyZLW8MRhfQMB2/A+dRGJAm9xbXLH4Y0Dm6xOLC+JiQKbxfSrnw2NAJ+mW58P+YUASVvsFCdNeQBEHP9Y9JWFAIa0/nThhYUA3I3MzMj9gQGZsGdgsQ2BA9Chcj8LJYEARIvSTsiJjQOMnwJb5r2JAEUuNoJd6YUCSiAtD3k5iQIyvPbMkuGJAOuxXa5AjY0DT6pjgweNjQK0gcXjtWWFAnbutHQeZYEBpqvSS+DxhQF7tCMJTz2FAkE5JdiTpYUBiHlsRNBxkQCz/F0jVDmVALv5nawgvY0Cq1Eqt1KRiQB6g3AHKvmBA0cZV/4AWYUB4tHVHWwdjQJAjmkaHD15A\"},\"shape\":[132],\"dtype\":\"float64\",\"order\":\"little\"}],[\"year_hyphen_minus_mon\",{\"type\":\"ndarray\",\"array\":{\"type\":\"bytes\",\"data\":\"AACA53JeckIAAMA5bWhyQgAAwFpwcXJCAAAArWp7ckIAAICZEoVyQgAAwOsMj3JCAABA2LSYckIAAIAqr6JyQgAAwHyprHJCAABAaVG2ckIAAIC7S8ByQgAAAKjzyXJCAABA+u3TckIAAIBM6N1yQgAAgG3r5nJCAADAv+XwckIAAECsjfpyQgAAgP6HBHNCAAAA6y8Oc0IAAEA9KhhzQgAAgI8kInNCAAAAfMwrc0IAAEDOxjVzQgAAwLpuP3NCAAAADWlJc0IAAEBfY1NzQgAAAOa4XHNCAABAOLNmc0IAAMAkW3BzQgAAAHdVenNCAACAY/2Dc0IAAMC1941zQgAAAAjyl3NCAACA9Jmhc0IAAMBGlKtzQgAAQDM8tXNCAACAhTa/c0IAAMDXMMlzQgAAwPgz0nNCAAAASy7cc0IAAIA31uVzQgAAwInQ73NCAABAdnj5c0IAAIDIcgN0QgAAwBptDXRCAABABxUXdEIAAIBZDyF0QgAAAEa3KnRCAABAmLE0dEIAAIDqqz50QgAAgAuvR3RCAADAXalRdEIAAEBKUVt0QgAAgJxLZXRCAAAAifNudEIAAEDb7Xh0QgAAgC3ognRCAAAAGpCMdEIAAEBsipZ0QgAAwFgyoHRCAAAAqyyqdEIAAED9JrR0QgAAQB4qvXRCAACAcCTHdEIAAABdzNB0QgAAQK/G2nRCAADAm27kdEIAAADuaO50QgAAQEBj+HRCAADALAsCdUIAAAB/BQx1QgAAgGutFXVCAADAvacfdUIAAAAQoil1QgAAwJb3MnVCAAAA6fE8dUIAAIDVmUZ1QgAAwCeUUHVCAABAFDxadUIAAIBmNmR1QgAAwLgwbnVCAABApdh3dUIAAID30oF1QgAAAOR6i3VCAABANnWVdUIAAICIb591QgAAgKlyqHVCAADA+2yydUIAAEDoFLx1QgAAgDoPxnVCAAAAJ7fPdUIAAEB5sdl1QgAAgMur43VCAAAAuFPtdUIAAEAKTvd1QgAAwPb1AHZCAAAASfAKdkIAAECb6hR2QgAAQLztHXZCAACADugndkIAAAD7jzF2QgAAQE2KO3ZCAADAOTJFdkIAAACMLE92QgAAQN4mWXZCAADAys5idkIAAAAdyWx2QgAAgAlxdnZCAADAW2uAdkIAAACuZYp2QgAAAM9ok3ZCAABAIWOddkIAAMANC6d2QgAAAGAFsXZCAACATK26dkIAAMCep8R2QgAAAPGhznZCAACA3UnYdkIAAMAvROJ2QgAAQBzs63ZCAACAbub1dkIAAMDA4P92QgAAgEc2CXdCAADAmTATd0IAAECG2Bx3QgAAgNjSJndCAAAAxXowd0IAAEAXdTp3QgAAgGlvRHdCAAAAVhdOd0IAAECoEVh3QgAAwJS5YXdC\"},\"shape\":[132],\"dtype\":\"float64\",\"order\":\"little\"}],[\"EXP_TYPE\",[\"Fines\",\"Fines\",\"Fines\",\"Fines\",\"Fines\",\"Fines\",\"Fines\",\"Fines\",\"Fines\",\"Fines\",\"Fines\",\"Fines\",\"Fines\",\"Fines\",\"Fines\",\"Fines\",\"Fines\",\"Fines\",\"Fines\",\"Fines\",\"Fines\",\"Fines\",\"Fines\",\"Fines\",\"Fines\",\"Fines\",\"Fines\",\"Fines\",\"Fines\",\"Fines\",\"Fines\",\"Fines\",\"Fines\",\"Fines\",\"Fines\",\"Fines\",\"Fines\",\"Fines\",\"Fines\",\"Fines\",\"Fines\",\"Fines\",\"Fines\",\"Fines\",\"Fines\",\"Fines\",\"Fines\",\"Fines\",\"Fines\",\"Fines\",\"Fines\",\"Fines\",\"Fines\",\"Fines\",\"Fines\",\"Fines\",\"Fines\",\"Fines\",\"Fines\",\"Fines\",\"Fines\",\"Fines\",\"Fines\",\"Fines\",\"Fines\",\"Fines\",\"Fines\",\"Fines\",\"Fines\",\"Fines\",\"Fines\",\"Fines\",\"Fines\",\"Fines\",\"Fines\",\"Fines\",\"Fines\",\"Fines\",\"Fines\",\"Fines\",\"Fines\",\"Fines\",\"Fines\",\"Fines\",\"Fines\",\"Fines\",\"Fines\",\"Fines\",\"Fines\",\"Fines\",\"Fines\",\"Fines\",\"Fines\",\"Fines\",\"Fines\",\"Fines\",\"Fines\",\"Fines\",\"Fines\",\"Fines\",\"Fines\",\"Fines\",\"Fines\",\"Fines\",\"Fines\",\"Fines\",\"Fines\",\"Fines\",\"Fines\",\"Fines\",\"Fines\",\"Fines\",\"Fines\",\"Fines\",\"Fines\",\"Fines\",\"Fines\",\"Fines\",\"Fines\",\"Fines\",\"Fines\",\"Fines\",\"Fines\",\"Fines\",\"Fines\",\"Fines\",\"Fines\",\"Fines\",\"Fines\",\"Fines\",\"Fines\",\"Fines\"]]]}}},\"view\":{\"type\":\"object\",\"name\":\"CDSView\",\"id\":\"p1145\",\"attributes\":{\"filter\":{\"type\":\"object\",\"name\":\"AllIndices\",\"id\":\"p1146\"}}},\"glyph\":{\"type\":\"object\",\"name\":\"Scatter\",\"id\":\"p1141\",\"attributes\":{\"tags\":[\"apply_ranges\"],\"x\":{\"type\":\"field\",\"field\":\"year-mon\"},\"y\":{\"type\":\"field\",\"field\":\"AMOUNT\"},\"size\":{\"type\":\"value\",\"value\":5.477225575051661},\"line_color\":{\"type\":\"value\",\"value\":\"#6d904f\"},\"fill_color\":{\"type\":\"value\",\"value\":\"#6d904f\"},\"hatch_color\":{\"type\":\"value\",\"value\":\"#6d904f\"}}},\"selection_glyph\":{\"type\":\"object\",\"name\":\"Scatter\",\"id\":\"p1148\",\"attributes\":{\"tags\":[\"apply_ranges\"],\"x\":{\"type\":\"field\",\"field\":\"year-mon\"},\"y\":{\"type\":\"field\",\"field\":\"AMOUNT\"},\"size\":{\"type\":\"value\",\"value\":5.477225575051661},\"angle\":{\"type\":\"value\",\"value\":0.0},\"line_color\":{\"type\":\"value\",\"value\":\"#6d904f\"},\"line_alpha\":{\"type\":\"value\",\"value\":1.0},\"line_width\":{\"type\":\"value\",\"value\":1},\"line_join\":{\"type\":\"value\",\"value\":\"bevel\"},\"line_cap\":{\"type\":\"value\",\"value\":\"butt\"},\"line_dash\":{\"type\":\"value\",\"value\":[]},\"line_dash_offset\":{\"type\":\"value\",\"value\":0},\"fill_color\":{\"type\":\"value\",\"value\":\"#6d904f\"},\"fill_alpha\":{\"type\":\"value\",\"value\":1.0},\"hatch_color\":{\"type\":\"value\",\"value\":\"#6d904f\"},\"hatch_alpha\":{\"type\":\"value\",\"value\":1.0},\"hatch_scale\":{\"type\":\"value\",\"value\":12.0},\"hatch_pattern\":{\"type\":\"value\",\"value\":null},\"hatch_weight\":{\"type\":\"value\",\"value\":1.0},\"marker\":{\"type\":\"value\",\"value\":\"circle\"}}},\"nonselection_glyph\":{\"type\":\"object\",\"name\":\"Scatter\",\"id\":\"p1142\",\"attributes\":{\"tags\":[\"apply_ranges\"],\"x\":{\"type\":\"field\",\"field\":\"year-mon\"},\"y\":{\"type\":\"field\",\"field\":\"AMOUNT\"},\"size\":{\"type\":\"value\",\"value\":5.477225575051661},\"line_color\":{\"type\":\"value\",\"value\":\"#6d904f\"},\"line_alpha\":{\"type\":\"value\",\"value\":0.1},\"fill_color\":{\"type\":\"value\",\"value\":\"#6d904f\"},\"fill_alpha\":{\"type\":\"value\",\"value\":0.1},\"hatch_color\":{\"type\":\"value\",\"value\":\"#6d904f\"},\"hatch_alpha\":{\"type\":\"value\",\"value\":0.1}}},\"muted_glyph\":{\"type\":\"object\",\"name\":\"Scatter\",\"id\":\"p1143\",\"attributes\":{\"tags\":[\"apply_ranges\"],\"x\":{\"type\":\"field\",\"field\":\"year-mon\"},\"y\":{\"type\":\"field\",\"field\":\"AMOUNT\"},\"size\":{\"type\":\"value\",\"value\":5.477225575051661},\"line_color\":{\"type\":\"value\",\"value\":\"#6d904f\"},\"line_alpha\":{\"type\":\"value\",\"value\":0.2},\"fill_color\":{\"type\":\"value\",\"value\":\"#6d904f\"},\"fill_alpha\":{\"type\":\"value\",\"value\":0.2},\"hatch_color\":{\"type\":\"value\",\"value\":\"#6d904f\"},\"hatch_alpha\":{\"type\":\"value\",\"value\":0.2}}}}},{\"type\":\"object\",\"name\":\"GlyphRenderer\",\"id\":\"p1158\",\"attributes\":{\"name\":\"Clothing\",\"data_source\":{\"type\":\"object\",\"name\":\"ColumnDataSource\",\"id\":\"p1149\",\"attributes\":{\"selected\":{\"type\":\"object\",\"name\":\"Selection\",\"id\":\"p1150\",\"attributes\":{\"indices\":[],\"line_indices\":[]}},\"selection_policy\":{\"type\":\"object\",\"name\":\"UnionRenderers\",\"id\":\"p1151\"},\"data\":{\"type\":\"map\",\"entries\":[[\"year-mon\",{\"type\":\"ndarray\",\"array\":{\"type\":\"bytes\",\"data\":\"AACA53JeckIAAMA5bWhyQgAAwFpwcXJCAAAArWp7ckIAAICZEoVyQgAAwOsMj3JCAABA2LSYckIAAIAqr6JyQgAAwHyprHJCAABAaVG2ckIAAIC7S8ByQgAAAKjzyXJCAABA+u3TckIAAIBM6N1yQgAAgG3r5nJCAADAv+XwckIAAECsjfpyQgAAgP6HBHNCAAAA6y8Oc0IAAEA9KhhzQgAAgI8kInNCAAAAfMwrc0IAAEDOxjVzQgAAwLpuP3NCAAAADWlJc0IAAEBfY1NzQgAAAOa4XHNCAABAOLNmc0IAAMAkW3BzQgAAAHdVenNCAACAY/2Dc0IAAMC1941zQgAAAAjyl3NCAACA9Jmhc0IAAMBGlKtzQgAAQDM8tXNCAACAhTa/c0IAAMDXMMlzQgAAwPgz0nNCAAAASy7cc0IAAIA31uVzQgAAwInQ73NCAABAdnj5c0IAAIDIcgN0QgAAwBptDXRCAABABxUXdEIAAIBZDyF0QgAAAEa3KnRCAABAmLE0dEIAAIDqqz50QgAAgAuvR3RCAADAXalRdEIAAEBKUVt0QgAAgJxLZXRCAAAAifNudEIAAEDb7Xh0QgAAgC3ognRCAAAAGpCMdEIAAEBsipZ0QgAAwFgyoHRCAAAAqyyqdEIAAED9JrR0QgAAQB4qvXRCAACAcCTHdEIAAABdzNB0QgAAQK/G2nRCAADAm27kdEIAAADuaO50QgAAQEBj+HRCAADALAsCdUIAAAB/BQx1QgAAgGutFXVCAADAvacfdUIAAAAQoil1QgAAwJb3MnVCAAAA6fE8dUIAAIDVmUZ1QgAAwCeUUHVCAABAFDxadUIAAIBmNmR1QgAAwLgwbnVCAABApdh3dUIAAID30oF1QgAAAOR6i3VCAABANnWVdUIAAICIb591QgAAgKlyqHVCAADA+2yydUIAAEDoFLx1QgAAgDoPxnVCAAAAJ7fPdUIAAEB5sdl1QgAAgMur43VCAAAAuFPtdUIAAEAKTvd1QgAAwPb1AHZCAAAASfAKdkIAAECb6hR2QgAAQLztHXZCAACADugndkIAAAD7jzF2QgAAQE2KO3ZCAADAOTJFdkIAAACMLE92QgAAQN4mWXZCAADAys5idkIAAAAdyWx2QgAAgAlxdnZCAADAW2uAdkIAAACuZYp2QgAAAM9ok3ZCAABAIWOddkIAAMANC6d2QgAAAGAFsXZCAACATK26dkIAAMCep8R2QgAAAPGhznZCAACA3UnYdkIAAMAvROJ2QgAAQBzs63ZCAACAbub1dkIAAMDA4P92QgAAgEc2CXdCAADAmTATd0IAAECG2Bx3QgAAgNjSJndCAAAAxXowd0IAAEAXdTp3QgAAgGlvRHdCAAAAVhdOd0IAAECoEVh3QgAAwJS5YXdC\"},\"shape\":[132],\"dtype\":\"float64\",\"order\":\"little\"}],[\"AMOUNT\",{\"type\":\"ndarray\",\"array\":{\"type\":\"bytes\",\"data\":\"tBH/GvGfXkDnK6wTGCBhQH8Zf0a6vmFA4lxogd3LYEC5ufHQRdhhQKgXMdohTGFA6rDm97/tYEAuoxDaP+BiQDvB4vThY2FALXR6ZDGkY0C2TeXS+SJmQBURukMDRGdAZvxLI+euYUClOL+M1NhiQNRl8HD4CmJA8WfAxF+oYkBJmk03fu5iQL1G9c+eYWJA6b3KEONVY0BnKcincrdiQGy+6H9Ag2NAVJogRRiAZUCo7rhEWmBnQASj2YKFqGhAhS+f9/K/Y0BAYR37nLZjQAQK4NT8dmRAmhryRZzxY0ALXw75HZ1jQLRn6OeS1WRAnwUYh7Y2ZEDQvUQ3dExkQOnpUkCSeGRAbIReKA1JZkAryiMQhl5pQDM5AQCJCWxABpq1DxuhZUDdvNfjkW5lQK9crY56GWVA6wZwAAeOZUA/GOWx3rBlQEkKq7p1G2ZAcASa3WgDZkCNNY0IwsZlQNgcxbJq0mZADPifxMjYaEAUiEb71uFrQP3XBoeeEG5AV9SE7/7XZkCrSiohnnhnQK4EvcqyYmdAYkFicaRyZ0Ae7Gqf1ZhnQMNSUVbYtmdASRA1Ia8qaEBcnnm/qkdoQP8g94mVMmhARY3IKEUDa0C7W8F5+K5tQIOK+w82cHBAK5VJ/zdBaUCySqYbTsBpQBEoyGKp72lAWPkfRqtGaUBIOfyOhQhqQOQTHFwDrGlAaSQ29JbpaUBr3dS5Oh1qQM3wkvb5jWpAOPcGbf1nbUAhj0hrBFNwQPtc2y15vXFAd63sLpsHa0D48znfNgRrQPWopyLme2tArEUL4hp1a0ASS8QTG7BrQNUhNfTT5WtAjmS9F2BnbECvc1zV4V1sQAJh7GGOJWxASHBIvUAgb0BWYLj5ihBxQE1BfDbs6nJAcWWf98zXbECs7MDvb3ltQHyugHW0H25ANjzg6EzPbUBrjfVm3J5uQHKC2i+wPm5Aabb1Y+WkbkAkbIEfBlRuQDoel1h2oW5Am8kN4wBjcUCh/i81ec9yQOR7tokMP3RABIOgA4EwcECxn+X8WddvQJMUhOUURXBAGYkJa9Jqb0CotMcZJYVwQLPcBwfidHBAbydDksJkcECMlWS+929wQMnLf9u+/nBAwxAsyAK/ckBbZyLbOj10QClbXedX0nVAX6tYhQArcUDHcO4ZDTtxQAV0LmdQQHFAreC0+shHcUCWl98lnL1xQGwM6/rTW3FA2/8FJ5WpcUBLSb7XJLVxQDG821Qf6nFA6GecOlOcc0D/R8vjusZ1QOQZ8uBTy3dAVwiLCQk4ckAB/H+D3nJyQBJxXv1n03JAEH8hKSzPckDRfr65xg9zQFiZ7AVcyHJA9294I0//ckD84iN17QtzQIDu7uaVgXNA7eBRX3emdUDuID8zkOV3QL2lrecreHlA\"},\"shape\":[132],\"dtype\":\"float64\",\"order\":\"little\"}],[\"year_hyphen_minus_mon\",{\"type\":\"ndarray\",\"array\":{\"type\":\"bytes\",\"data\":\"AACA53JeckIAAMA5bWhyQgAAwFpwcXJCAAAArWp7ckIAAICZEoVyQgAAwOsMj3JCAABA2LSYckIAAIAqr6JyQgAAwHyprHJCAABAaVG2ckIAAIC7S8ByQgAAAKjzyXJCAABA+u3TckIAAIBM6N1yQgAAgG3r5nJCAADAv+XwckIAAECsjfpyQgAAgP6HBHNCAAAA6y8Oc0IAAEA9KhhzQgAAgI8kInNCAAAAfMwrc0IAAEDOxjVzQgAAwLpuP3NCAAAADWlJc0IAAEBfY1NzQgAAAOa4XHNCAABAOLNmc0IAAMAkW3BzQgAAAHdVenNCAACAY/2Dc0IAAMC1941zQgAAAAjyl3NCAACA9Jmhc0IAAMBGlKtzQgAAQDM8tXNCAACAhTa/c0IAAMDXMMlzQgAAwPgz0nNCAAAASy7cc0IAAIA31uVzQgAAwInQ73NCAABAdnj5c0IAAIDIcgN0QgAAwBptDXRCAABABxUXdEIAAIBZDyF0QgAAAEa3KnRCAABAmLE0dEIAAIDqqz50QgAAgAuvR3RCAADAXalRdEIAAEBKUVt0QgAAgJxLZXRCAAAAifNudEIAAEDb7Xh0QgAAgC3ognRCAAAAGpCMdEIAAEBsipZ0QgAAwFgyoHRCAAAAqyyqdEIAAED9JrR0QgAAQB4qvXRCAACAcCTHdEIAAABdzNB0QgAAQK/G2nRCAADAm27kdEIAAADuaO50QgAAQEBj+HRCAADALAsCdUIAAAB/BQx1QgAAgGutFXVCAADAvacfdUIAAAAQoil1QgAAwJb3MnVCAAAA6fE8dUIAAIDVmUZ1QgAAwCeUUHVCAABAFDxadUIAAIBmNmR1QgAAwLgwbnVCAABApdh3dUIAAID30oF1QgAAAOR6i3VCAABANnWVdUIAAICIb591QgAAgKlyqHVCAADA+2yydUIAAEDoFLx1QgAAgDoPxnVCAAAAJ7fPdUIAAEB5sdl1QgAAgMur43VCAAAAuFPtdUIAAEAKTvd1QgAAwPb1AHZCAAAASfAKdkIAAECb6hR2QgAAQLztHXZCAACADugndkIAAAD7jzF2QgAAQE2KO3ZCAADAOTJFdkIAAACMLE92QgAAQN4mWXZCAADAys5idkIAAAAdyWx2QgAAgAlxdnZCAADAW2uAdkIAAACuZYp2QgAAAM9ok3ZCAABAIWOddkIAAMANC6d2QgAAAGAFsXZCAACATK26dkIAAMCep8R2QgAAAPGhznZCAACA3UnYdkIAAMAvROJ2QgAAQBzs63ZCAACAbub1dkIAAMDA4P92QgAAgEc2CXdCAADAmTATd0IAAECG2Bx3QgAAgNjSJndCAAAAxXowd0IAAEAXdTp3QgAAgGlvRHdCAAAAVhdOd0IAAECoEVh3QgAAwJS5YXdC\"},\"shape\":[132],\"dtype\":\"float64\",\"order\":\"little\"}],[\"EXP_TYPE\",[\"Clothing\",\"Clothing\",\"Clothing\",\"Clothing\",\"Clothing\",\"Clothing\",\"Clothing\",\"Clothing\",\"Clothing\",\"Clothing\",\"Clothing\",\"Clothing\",\"Clothing\",\"Clothing\",\"Clothing\",\"Clothing\",\"Clothing\",\"Clothing\",\"Clothing\",\"Clothing\",\"Clothing\",\"Clothing\",\"Clothing\",\"Clothing\",\"Clothing\",\"Clothing\",\"Clothing\",\"Clothing\",\"Clothing\",\"Clothing\",\"Clothing\",\"Clothing\",\"Clothing\",\"Clothing\",\"Clothing\",\"Clothing\",\"Clothing\",\"Clothing\",\"Clothing\",\"Clothing\",\"Clothing\",\"Clothing\",\"Clothing\",\"Clothing\",\"Clothing\",\"Clothing\",\"Clothing\",\"Clothing\",\"Clothing\",\"Clothing\",\"Clothing\",\"Clothing\",\"Clothing\",\"Clothing\",\"Clothing\",\"Clothing\",\"Clothing\",\"Clothing\",\"Clothing\",\"Clothing\",\"Clothing\",\"Clothing\",\"Clothing\",\"Clothing\",\"Clothing\",\"Clothing\",\"Clothing\",\"Clothing\",\"Clothing\",\"Clothing\",\"Clothing\",\"Clothing\",\"Clothing\",\"Clothing\",\"Clothing\",\"Clothing\",\"Clothing\",\"Clothing\",\"Clothing\",\"Clothing\",\"Clothing\",\"Clothing\",\"Clothing\",\"Clothing\",\"Clothing\",\"Clothing\",\"Clothing\",\"Clothing\",\"Clothing\",\"Clothing\",\"Clothing\",\"Clothing\",\"Clothing\",\"Clothing\",\"Clothing\",\"Clothing\",\"Clothing\",\"Clothing\",\"Clothing\",\"Clothing\",\"Clothing\",\"Clothing\",\"Clothing\",\"Clothing\",\"Clothing\",\"Clothing\",\"Clothing\",\"Clothing\",\"Clothing\",\"Clothing\",\"Clothing\",\"Clothing\",\"Clothing\",\"Clothing\",\"Clothing\",\"Clothing\",\"Clothing\",\"Clothing\",\"Clothing\",\"Clothing\",\"Clothing\",\"Clothing\",\"Clothing\",\"Clothing\",\"Clothing\",\"Clothing\",\"Clothing\",\"Clothing\",\"Clothing\",\"Clothing\",\"Clothing\",\"Clothing\"]]]}}},\"view\":{\"type\":\"object\",\"name\":\"CDSView\",\"id\":\"p1159\",\"attributes\":{\"filter\":{\"type\":\"object\",\"name\":\"AllIndices\",\"id\":\"p1160\"}}},\"glyph\":{\"type\":\"object\",\"name\":\"Scatter\",\"id\":\"p1155\",\"attributes\":{\"tags\":[\"apply_ranges\"],\"x\":{\"type\":\"field\",\"field\":\"year-mon\"},\"y\":{\"type\":\"field\",\"field\":\"AMOUNT\"},\"size\":{\"type\":\"value\",\"value\":5.477225575051661},\"line_color\":{\"type\":\"value\",\"value\":\"#8b8b8b\"},\"fill_color\":{\"type\":\"value\",\"value\":\"#8b8b8b\"},\"hatch_color\":{\"type\":\"value\",\"value\":\"#8b8b8b\"}}},\"selection_glyph\":{\"type\":\"object\",\"name\":\"Scatter\",\"id\":\"p1162\",\"attributes\":{\"tags\":[\"apply_ranges\"],\"x\":{\"type\":\"field\",\"field\":\"year-mon\"},\"y\":{\"type\":\"field\",\"field\":\"AMOUNT\"},\"size\":{\"type\":\"value\",\"value\":5.477225575051661},\"angle\":{\"type\":\"value\",\"value\":0.0},\"line_color\":{\"type\":\"value\",\"value\":\"#8b8b8b\"},\"line_alpha\":{\"type\":\"value\",\"value\":1.0},\"line_width\":{\"type\":\"value\",\"value\":1},\"line_join\":{\"type\":\"value\",\"value\":\"bevel\"},\"line_cap\":{\"type\":\"value\",\"value\":\"butt\"},\"line_dash\":{\"type\":\"value\",\"value\":[]},\"line_dash_offset\":{\"type\":\"value\",\"value\":0},\"fill_color\":{\"type\":\"value\",\"value\":\"#8b8b8b\"},\"fill_alpha\":{\"type\":\"value\",\"value\":1.0},\"hatch_color\":{\"type\":\"value\",\"value\":\"#8b8b8b\"},\"hatch_alpha\":{\"type\":\"value\",\"value\":1.0},\"hatch_scale\":{\"type\":\"value\",\"value\":12.0},\"hatch_pattern\":{\"type\":\"value\",\"value\":null},\"hatch_weight\":{\"type\":\"value\",\"value\":1.0},\"marker\":{\"type\":\"value\",\"value\":\"circle\"}}},\"nonselection_glyph\":{\"type\":\"object\",\"name\":\"Scatter\",\"id\":\"p1156\",\"attributes\":{\"tags\":[\"apply_ranges\"],\"x\":{\"type\":\"field\",\"field\":\"year-mon\"},\"y\":{\"type\":\"field\",\"field\":\"AMOUNT\"},\"size\":{\"type\":\"value\",\"value\":5.477225575051661},\"line_color\":{\"type\":\"value\",\"value\":\"#8b8b8b\"},\"line_alpha\":{\"type\":\"value\",\"value\":0.1},\"fill_color\":{\"type\":\"value\",\"value\":\"#8b8b8b\"},\"fill_alpha\":{\"type\":\"value\",\"value\":0.1},\"hatch_color\":{\"type\":\"value\",\"value\":\"#8b8b8b\"},\"hatch_alpha\":{\"type\":\"value\",\"value\":0.1}}},\"muted_glyph\":{\"type\":\"object\",\"name\":\"Scatter\",\"id\":\"p1157\",\"attributes\":{\"tags\":[\"apply_ranges\"],\"x\":{\"type\":\"field\",\"field\":\"year-mon\"},\"y\":{\"type\":\"field\",\"field\":\"AMOUNT\"},\"size\":{\"type\":\"value\",\"value\":5.477225575051661},\"line_color\":{\"type\":\"value\",\"value\":\"#8b8b8b\"},\"line_alpha\":{\"type\":\"value\",\"value\":0.2},\"fill_color\":{\"type\":\"value\",\"value\":\"#8b8b8b\"},\"fill_alpha\":{\"type\":\"value\",\"value\":0.2},\"hatch_color\":{\"type\":\"value\",\"value\":\"#8b8b8b\"},\"hatch_alpha\":{\"type\":\"value\",\"value\":0.2}}}}},{\"type\":\"object\",\"name\":\"GlyphRenderer\",\"id\":\"p1172\",\"attributes\":{\"name\":\"Gambling\",\"data_source\":{\"type\":\"object\",\"name\":\"ColumnDataSource\",\"id\":\"p1163\",\"attributes\":{\"selected\":{\"type\":\"object\",\"name\":\"Selection\",\"id\":\"p1164\",\"attributes\":{\"indices\":[],\"line_indices\":[]}},\"selection_policy\":{\"type\":\"object\",\"name\":\"UnionRenderers\",\"id\":\"p1165\"},\"data\":{\"type\":\"map\",\"entries\":[[\"year-mon\",{\"type\":\"ndarray\",\"array\":{\"type\":\"bytes\",\"data\":\"AACA53JeckIAAMA5bWhyQgAAwFpwcXJCAAAArWp7ckIAAICZEoVyQgAAwOsMj3JCAABA2LSYckIAAIAqr6JyQgAAwHyprHJCAABAaVG2ckIAAIC7S8ByQgAAAKjzyXJCAABA+u3TckIAAIBM6N1yQgAAgG3r5nJCAADAv+XwckIAAECsjfpyQgAAgP6HBHNCAAAA6y8Oc0IAAEA9KhhzQgAAgI8kInNCAAAAfMwrc0IAAEDOxjVzQgAAwLpuP3NCAAAADWlJc0IAAEBfY1NzQgAAAOa4XHNCAABAOLNmc0IAAMAkW3BzQgAAAHdVenNCAACAY/2Dc0IAAMC1941zQgAAAAjyl3NCAACA9Jmhc0IAAMBGlKtzQgAAQDM8tXNCAACAhTa/c0IAAMDXMMlzQgAAwPgz0nNCAAAASy7cc0IAAIA31uVzQgAAwInQ73NCAABAdnj5c0IAAIDIcgN0QgAAwBptDXRCAABABxUXdEIAAIBZDyF0QgAAAEa3KnRCAABAmLE0dEIAAIDqqz50QgAAgAuvR3RCAADAXalRdEIAAEBKUVt0QgAAgJxLZXRCAAAAifNudEIAAEDb7Xh0QgAAgC3ognRCAAAAGpCMdEIAAEBsipZ0QgAAwFgyoHRCAAAAqyyqdEIAAED9JrR0QgAAQB4qvXRCAACAcCTHdEIAAABdzNB0QgAAQK/G2nRCAADAm27kdEIAAADuaO50QgAAQEBj+HRCAADALAsCdUIAAAB/BQx1QgAAgGutFXVCAADAvacfdUIAAAAQoil1QgAAwJb3MnVCAAAA6fE8dUIAAIDVmUZ1QgAAwCeUUHVCAABAFDxadUIAAIBmNmR1QgAAwLgwbnVCAABApdh3dUIAAID30oF1QgAAAOR6i3VCAABANnWVdUIAAICIb591QgAAgKlyqHVCAADA+2yydUIAAEDoFLx1QgAAgDoPxnVCAAAAJ7fPdUIAAEB5sdl1QgAAgMur43VCAAAAuFPtdUIAAEAKTvd1QgAAwPb1AHZCAAAASfAKdkIAAECb6hR2QgAAQLztHXZCAACADugndkIAAAD7jzF2QgAAQE2KO3ZCAADAOTJFdkIAAACMLE92QgAAQN4mWXZCAADAys5idkIAAAAdyWx2QgAAgAlxdnZCAADAW2uAdkIAAACuZYp2QgAAAM9ok3ZCAABAIWOddkIAAMANC6d2QgAAAGAFsXZCAACATK26dkIAAMCep8R2QgAAAPGhznZCAACA3UnYdkIAAMAvROJ2QgAAQBzs63ZCAACAbub1dkIAAMDA4P92QgAAgEc2CXdCAADAmTATd0IAAECG2Bx3QgAAgNjSJndCAAAAxXowd0IAAEAXdTp3QgAAgGlvRHdCAAAAVhdOd0IAAECoEVh3QgAAwJS5YXdC\"},\"shape\":[132],\"dtype\":\"float64\",\"order\":\"little\"}],[\"AMOUNT\",{\"type\":\"ndarray\",\"array\":{\"type\":\"bytes\",\"data\":\"iKx0yEr3S0COoF2lDA1OQDzoWJagl01A5DYe6ex+TkACJD8FxelMQNQgq3oqPkxAMgGOHnGXTUA5rytDUUtNQNowG2GwRUxARd09+zveT0DRgYes3yxRQMy5iTUBb1JAvIeVoNyPTECmtVpKV0FNQNdidHeKxktAlX8VC5U2TEBRQJY4drRMQLfTHkzRhE1Abhc/d/HITUCsbd4UmdVNQKU5PV8iEE5AwSyliWIaUUCbR6BLSzFSQGf5KA2/PVRAh2BxFOuCTkAd20w8+OhOQGzvA7w5MU9A76bxGdhhT0BMqXjjiTVPQNaaTrZb909AIhz9jahxT0B/L3c3ehFQQARNCL/baE9AtaCeVb6YUUB0xye7X2lTQNBaYGX471RApHz2cM5DUEDJ7wOgXzpQQPQzSB0gOVBA1QLabvewUEBRszLWGIZQQJbJI+KItVBAxG1YpGh5UECBabWqT8JQQHNflZejulBA03nJCCF2UkBaQuZdlW1UQEl99F7lP1ZAUj4uJiJQUUDxZ+yupYNRQCJWm6nm8VBAtxKFpzlYUUAZSwhNcKFRQE1zEblLkVFADNr0R1KwUUAYezyeI8pRQMUPUvYyF1JA2nZbmVunU0BbSUMBs4xVQIrPzNuYdldAw/f1aWr5UUARQFV1LTdSQN5wyiRScFJAJCWm4oAjUkAAAm0rIqFSQGDuCcoiZlJAAnzyp5yWUkAGO7oVGLBSQMXUaAHYdlJAuFhAARiPVEA6onl1OdNWQG2rN17wyFhApkbZdF1XU0Cb3j2elAdTQA8JW5zhOVNAXUrbddZKU0DgKd6zFHJTQBsL+J+xbVNAXSjtBdwGVEBFVBB2qptTQB4b06wmrFNARgLXdg+9VUAe9UuzV6pXQL/Ger8z1VlAJgVt+XL6U0CQKh7vcPdTQF+iJ2MED1RA0ooPv6cjVECA+d1vrRxUQPIQ352qclRAEif3t2A/VEALHA56RfRUQGhw2SkZhlRAnJDljtPMVkAUqjY+gMVYQH6Q0dk/71pAAeP+TW4AVUDdwGmZ5ylVQMeEKo3v+1RANjbbKiXqVED+K2VatCRVQOxlWBHFn1VA02mvUcKZVUA9rID83V9VQKQ2qgYkxlVAoGqtiRDnV0AJB/2WLC1aQBpnXKVlOlxA6RHyD0QAVkC1Yu+4RtpVQCFWzGP/1VVAIsiKcSDcVUAh7nD3knNWQIsstNbKZFZAl7mWUJPMVUBGcOTzfjhWQGmnKL5UWVZAtA/6DOeFWEByu1uZ8KhaQABTllzKAF1ABV9LEsjBVkDZyO5XE9BWQIFW19lROFdAhEYcWLAQV0Al+uWUayxXQOfDXne/dFdAlb6aw6UbV0DSnL6l5B9XQMkc8YxEnldAiQNJpyUhWkC1DszQ57dcQCzdP0Obb19A\"},\"shape\":[132],\"dtype\":\"float64\",\"order\":\"little\"}],[\"year_hyphen_minus_mon\",{\"type\":\"ndarray\",\"array\":{\"type\":\"bytes\",\"data\":\"AACA53JeckIAAMA5bWhyQgAAwFpwcXJCAAAArWp7ckIAAICZEoVyQgAAwOsMj3JCAABA2LSYckIAAIAqr6JyQgAAwHyprHJCAABAaVG2ckIAAIC7S8ByQgAAAKjzyXJCAABA+u3TckIAAIBM6N1yQgAAgG3r5nJCAADAv+XwckIAAECsjfpyQgAAgP6HBHNCAAAA6y8Oc0IAAEA9KhhzQgAAgI8kInNCAAAAfMwrc0IAAEDOxjVzQgAAwLpuP3NCAAAADWlJc0IAAEBfY1NzQgAAAOa4XHNCAABAOLNmc0IAAMAkW3BzQgAAAHdVenNCAACAY/2Dc0IAAMC1941zQgAAAAjyl3NCAACA9Jmhc0IAAMBGlKtzQgAAQDM8tXNCAACAhTa/c0IAAMDXMMlzQgAAwPgz0nNCAAAASy7cc0IAAIA31uVzQgAAwInQ73NCAABAdnj5c0IAAIDIcgN0QgAAwBptDXRCAABABxUXdEIAAIBZDyF0QgAAAEa3KnRCAABAmLE0dEIAAIDqqz50QgAAgAuvR3RCAADAXalRdEIAAEBKUVt0QgAAgJxLZXRCAAAAifNudEIAAEDb7Xh0QgAAgC3ognRCAAAAGpCMdEIAAEBsipZ0QgAAwFgyoHRCAAAAqyyqdEIAAED9JrR0QgAAQB4qvXRCAACAcCTHdEIAAABdzNB0QgAAQK/G2nRCAADAm27kdEIAAADuaO50QgAAQEBj+HRCAADALAsCdUIAAAB/BQx1QgAAgGutFXVCAADAvacfdUIAAAAQoil1QgAAwJb3MnVCAAAA6fE8dUIAAIDVmUZ1QgAAwCeUUHVCAABAFDxadUIAAIBmNmR1QgAAwLgwbnVCAABApdh3dUIAAID30oF1QgAAAOR6i3VCAABANnWVdUIAAICIb591QgAAgKlyqHVCAADA+2yydUIAAEDoFLx1QgAAgDoPxnVCAAAAJ7fPdUIAAEB5sdl1QgAAgMur43VCAAAAuFPtdUIAAEAKTvd1QgAAwPb1AHZCAAAASfAKdkIAAECb6hR2QgAAQLztHXZCAACADugndkIAAAD7jzF2QgAAQE2KO3ZCAADAOTJFdkIAAACMLE92QgAAQN4mWXZCAADAys5idkIAAAAdyWx2QgAAgAlxdnZCAADAW2uAdkIAAACuZYp2QgAAAM9ok3ZCAABAIWOddkIAAMANC6d2QgAAAGAFsXZCAACATK26dkIAAMCep8R2QgAAAPGhznZCAACA3UnYdkIAAMAvROJ2QgAAQBzs63ZCAACAbub1dkIAAMDA4P92QgAAgEc2CXdCAADAmTATd0IAAECG2Bx3QgAAgNjSJndCAAAAxXowd0IAAEAXdTp3QgAAgGlvRHdCAAAAVhdOd0IAAECoEVh3QgAAwJS5YXdC\"},\"shape\":[132],\"dtype\":\"float64\",\"order\":\"little\"}],[\"EXP_TYPE\",[\"Gambling\",\"Gambling\",\"Gambling\",\"Gambling\",\"Gambling\",\"Gambling\",\"Gambling\",\"Gambling\",\"Gambling\",\"Gambling\",\"Gambling\",\"Gambling\",\"Gambling\",\"Gambling\",\"Gambling\",\"Gambling\",\"Gambling\",\"Gambling\",\"Gambling\",\"Gambling\",\"Gambling\",\"Gambling\",\"Gambling\",\"Gambling\",\"Gambling\",\"Gambling\",\"Gambling\",\"Gambling\",\"Gambling\",\"Gambling\",\"Gambling\",\"Gambling\",\"Gambling\",\"Gambling\",\"Gambling\",\"Gambling\",\"Gambling\",\"Gambling\",\"Gambling\",\"Gambling\",\"Gambling\",\"Gambling\",\"Gambling\",\"Gambling\",\"Gambling\",\"Gambling\",\"Gambling\",\"Gambling\",\"Gambling\",\"Gambling\",\"Gambling\",\"Gambling\",\"Gambling\",\"Gambling\",\"Gambling\",\"Gambling\",\"Gambling\",\"Gambling\",\"Gambling\",\"Gambling\",\"Gambling\",\"Gambling\",\"Gambling\",\"Gambling\",\"Gambling\",\"Gambling\",\"Gambling\",\"Gambling\",\"Gambling\",\"Gambling\",\"Gambling\",\"Gambling\",\"Gambling\",\"Gambling\",\"Gambling\",\"Gambling\",\"Gambling\",\"Gambling\",\"Gambling\",\"Gambling\",\"Gambling\",\"Gambling\",\"Gambling\",\"Gambling\",\"Gambling\",\"Gambling\",\"Gambling\",\"Gambling\",\"Gambling\",\"Gambling\",\"Gambling\",\"Gambling\",\"Gambling\",\"Gambling\",\"Gambling\",\"Gambling\",\"Gambling\",\"Gambling\",\"Gambling\",\"Gambling\",\"Gambling\",\"Gambling\",\"Gambling\",\"Gambling\",\"Gambling\",\"Gambling\",\"Gambling\",\"Gambling\",\"Gambling\",\"Gambling\",\"Gambling\",\"Gambling\",\"Gambling\",\"Gambling\",\"Gambling\",\"Gambling\",\"Gambling\",\"Gambling\",\"Gambling\",\"Gambling\",\"Gambling\",\"Gambling\",\"Gambling\",\"Gambling\",\"Gambling\",\"Gambling\",\"Gambling\",\"Gambling\",\"Gambling\",\"Gambling\",\"Gambling\",\"Gambling\"]]]}}},\"view\":{\"type\":\"object\",\"name\":\"CDSView\",\"id\":\"p1173\",\"attributes\":{\"filter\":{\"type\":\"object\",\"name\":\"AllIndices\",\"id\":\"p1174\"}}},\"glyph\":{\"type\":\"object\",\"name\":\"Scatter\",\"id\":\"p1169\",\"attributes\":{\"tags\":[\"apply_ranges\"],\"x\":{\"type\":\"field\",\"field\":\"year-mon\"},\"y\":{\"type\":\"field\",\"field\":\"AMOUNT\"},\"size\":{\"type\":\"value\",\"value\":5.477225575051661},\"line_color\":{\"type\":\"value\",\"value\":\"#17becf\"},\"fill_color\":{\"type\":\"value\",\"value\":\"#17becf\"},\"hatch_color\":{\"type\":\"value\",\"value\":\"#17becf\"}}},\"selection_glyph\":{\"type\":\"object\",\"name\":\"Scatter\",\"id\":\"p1176\",\"attributes\":{\"tags\":[\"apply_ranges\"],\"x\":{\"type\":\"field\",\"field\":\"year-mon\"},\"y\":{\"type\":\"field\",\"field\":\"AMOUNT\"},\"size\":{\"type\":\"value\",\"value\":5.477225575051661},\"angle\":{\"type\":\"value\",\"value\":0.0},\"line_color\":{\"type\":\"value\",\"value\":\"#17becf\"},\"line_alpha\":{\"type\":\"value\",\"value\":1.0},\"line_width\":{\"type\":\"value\",\"value\":1},\"line_join\":{\"type\":\"value\",\"value\":\"bevel\"},\"line_cap\":{\"type\":\"value\",\"value\":\"butt\"},\"line_dash\":{\"type\":\"value\",\"value\":[]},\"line_dash_offset\":{\"type\":\"value\",\"value\":0},\"fill_color\":{\"type\":\"value\",\"value\":\"#17becf\"},\"fill_alpha\":{\"type\":\"value\",\"value\":1.0},\"hatch_color\":{\"type\":\"value\",\"value\":\"#17becf\"},\"hatch_alpha\":{\"type\":\"value\",\"value\":1.0},\"hatch_scale\":{\"type\":\"value\",\"value\":12.0},\"hatch_pattern\":{\"type\":\"value\",\"value\":null},\"hatch_weight\":{\"type\":\"value\",\"value\":1.0},\"marker\":{\"type\":\"value\",\"value\":\"circle\"}}},\"nonselection_glyph\":{\"type\":\"object\",\"name\":\"Scatter\",\"id\":\"p1170\",\"attributes\":{\"tags\":[\"apply_ranges\"],\"x\":{\"type\":\"field\",\"field\":\"year-mon\"},\"y\":{\"type\":\"field\",\"field\":\"AMOUNT\"},\"size\":{\"type\":\"value\",\"value\":5.477225575051661},\"line_color\":{\"type\":\"value\",\"value\":\"#17becf\"},\"line_alpha\":{\"type\":\"value\",\"value\":0.1},\"fill_color\":{\"type\":\"value\",\"value\":\"#17becf\"},\"fill_alpha\":{\"type\":\"value\",\"value\":0.1},\"hatch_color\":{\"type\":\"value\",\"value\":\"#17becf\"},\"hatch_alpha\":{\"type\":\"value\",\"value\":0.1}}},\"muted_glyph\":{\"type\":\"object\",\"name\":\"Scatter\",\"id\":\"p1171\",\"attributes\":{\"tags\":[\"apply_ranges\"],\"x\":{\"type\":\"field\",\"field\":\"year-mon\"},\"y\":{\"type\":\"field\",\"field\":\"AMOUNT\"},\"size\":{\"type\":\"value\",\"value\":5.477225575051661},\"line_color\":{\"type\":\"value\",\"value\":\"#17becf\"},\"line_alpha\":{\"type\":\"value\",\"value\":0.2},\"fill_color\":{\"type\":\"value\",\"value\":\"#17becf\"},\"fill_alpha\":{\"type\":\"value\",\"value\":0.2},\"hatch_color\":{\"type\":\"value\",\"value\":\"#17becf\"},\"hatch_alpha\":{\"type\":\"value\",\"value\":0.2}}}}},{\"type\":\"object\",\"name\":\"GlyphRenderer\",\"id\":\"p1186\",\"attributes\":{\"name\":\"Education\",\"data_source\":{\"type\":\"object\",\"name\":\"ColumnDataSource\",\"id\":\"p1177\",\"attributes\":{\"selected\":{\"type\":\"object\",\"name\":\"Selection\",\"id\":\"p1178\",\"attributes\":{\"indices\":[],\"line_indices\":[]}},\"selection_policy\":{\"type\":\"object\",\"name\":\"UnionRenderers\",\"id\":\"p1179\"},\"data\":{\"type\":\"map\",\"entries\":[[\"year-mon\",{\"type\":\"ndarray\",\"array\":{\"type\":\"bytes\",\"data\":\"AACA53JeckIAAMA5bWhyQgAAwFpwcXJCAAAArWp7ckIAAICZEoVyQgAAwOsMj3JCAABA2LSYckIAAIAqr6JyQgAAwHyprHJCAABAaVG2ckIAAIC7S8ByQgAAAKjzyXJCAABA+u3TckIAAIBM6N1yQgAAgG3r5nJCAADAv+XwckIAAECsjfpyQgAAgP6HBHNCAAAA6y8Oc0IAAEA9KhhzQgAAgI8kInNCAAAAfMwrc0IAAEDOxjVzQgAAwLpuP3NCAAAADWlJc0IAAEBfY1NzQgAAAOa4XHNCAABAOLNmc0IAAMAkW3BzQgAAAHdVenNCAACAY/2Dc0IAAMC1941zQgAAAAjyl3NCAACA9Jmhc0IAAMBGlKtzQgAAQDM8tXNCAACAhTa/c0IAAMDXMMlzQgAAwPgz0nNCAAAASy7cc0IAAIA31uVzQgAAwInQ73NCAABAdnj5c0IAAIDIcgN0QgAAwBptDXRCAABABxUXdEIAAIBZDyF0QgAAAEa3KnRCAABAmLE0dEIAAIDqqz50QgAAgAuvR3RCAADAXalRdEIAAEBKUVt0QgAAgJxLZXRCAAAAifNudEIAAEDb7Xh0QgAAgC3ognRCAAAAGpCMdEIAAEBsipZ0QgAAwFgyoHRCAAAAqyyqdEIAAED9JrR0QgAAQB4qvXRCAACAcCTHdEIAAABdzNB0QgAAQK/G2nRCAADAm27kdEIAAADuaO50QgAAQEBj+HRCAADALAsCdUIAAAB/BQx1QgAAgGutFXVCAADAvacfdUIAAAAQoil1QgAAwJb3MnVCAAAA6fE8dUIAAIDVmUZ1QgAAwCeUUHVCAABAFDxadUIAAIBmNmR1QgAAwLgwbnVCAABApdh3dUIAAID30oF1QgAAAOR6i3VCAABANnWVdUIAAICIb591QgAAgKlyqHVCAADA+2yydUIAAEDoFLx1QgAAgDoPxnVCAAAAJ7fPdUIAAEB5sdl1QgAAgMur43VCAAAAuFPtdUIAAEAKTvd1QgAAwPb1AHZCAAAASfAKdkIAAECb6hR2QgAAQLztHXZCAACADugndkIAAAD7jzF2QgAAQE2KO3ZCAADAOTJFdkIAAACMLE92QgAAQN4mWXZCAADAys5idkIAAAAdyWx2QgAAgAlxdnZCAADAW2uAdkIAAACuZYp2QgAAAM9ok3ZCAABAIWOddkIAAMANC6d2QgAAAGAFsXZCAACATK26dkIAAMCep8R2QgAAAPGhznZCAACA3UnYdkIAAMAvROJ2QgAAQBzs63ZCAACAbub1dkIAAMDA4P92QgAAgEc2CXdCAADAmTATd0IAAECG2Bx3QgAAgNjSJndCAAAAxXowd0IAAEAXdTp3QgAAgGlvRHdCAAAAVhdOd0IAAECoEVh3QgAAwJS5YXdC\"},\"shape\":[132],\"dtype\":\"float64\",\"order\":\"little\"}],[\"AMOUNT\",{\"type\":\"ndarray\",\"array\":{\"type\":\"bytes\",\"data\":\"rQF/Y/83Y0AOQS64xBRkQN0/E8qK6mNAWL83oY7OZEAF+nemsXBkQA2/tq4NdGRAPRplkSheZEBGEtG48mtkQHNMkpanOmRAJUNe7vsbZEBovL+ALSlkQP1ZH1tUOWRAyi2z7L1SZEDVrndrayRkQNEBj3SfX2RAN1+dacB2ZECk2B+LFJZkQCmMS4hIXmRA/71rz79/ZECUB9CPNX1kQNTDcA/UmmRAjw7iSNLBZEDOjPpPjJFkQB38SNFlgmRAxs8uICKmZEDCO/3I+YFkQMifc/gmvmRA+9AZ4fCTZEBCRQxFI9JkQINWtbOSx2RABVdA22W8ZECsyr0Md+NkQHUhEz6912RAz2hFv0QEZUDOqE0d7x1lQHk7Uv+AZWVA4kqhcjgrZUAHhQ+DzUVlQEB+ICZlRGVAhYN+N+guZUAYdC3fKztlQPqx4L1wcWVA/zf7W7tXZUBw+KLqI3plQB8CarfZgmVAEMb1tUiSZUA1Mcgxlp5lQJs5hwUeqGVAq7JQbnbEZUAkClTTHtJlQFlhGaMVvWVAcZxW9uawZUCJa40f/etlQPbSJtCAzGVAqmNmHdsEZkDhwOAlFyNmQHFebJE2BmZAZCLuBPYXZkAKoMHFISJmQHJRMOJbPGZAILhXDjsEZkDcsexPzRZmQO0WXGHbVWZAKnM4my5UZkCDuv0LFEpmQMxy9rHwaGZAxiBojs9dZkCW58mWaIJmQE85PEksgGZAddi25dzLZkBIjAuX6rJmQHmiIODqq2ZA4DgoGKrBZkDvilsKBNlmQK/ZfbCO3GZAaQryE+3fZkAj8woV6N5mQMPzRSJZDWdAW6USd8cRZ0CoWRckZyFnQBASru8MIGdAcWffbvokZ0B67XMcqRdnQBAEKoMPF2dA0igN0qQoZ0ASkeKAaUdnQBc7U5rlFmdAs4SQxAdHZ0CRMfYizRtnQDErwISzXGdAoJ+JUk9xZ0DkTQWM0GBnQL20blbTfmdA6N1UcjaMZ0Bm8UXx/HVnQD/RJC2xrmdA1gdDRmTBZ0BAAtg4NstnQKM03fatwmdA7Pa1UnfHZ0CalNwcWdVnQHUOqsAmvWdAj3dpLXvNZ0CWDw8kpxRoQLJoabh562dAFwMJPJvqZ0B0We/QZhZoQOPVWBT7M2hAJVU5J3JMaECtxt3YDVBoQMWwK7zbVmhAZlYjt+A3aEA3pJcg/F1oQF5jnrznQ2hARszamBcxaEBanPCUmGJoQBtTCuq+VGhAiHOQeIJjaEBqE2E912FoQKQE5Vcwf2hAXjrmV6GAaEAYl9OP4m1oQPJoG4M/bGhAqWv92HpqaEDK1ywu58BoQPuWWmi3smhALfMImjrPaEAZcUFXdNJoQE9eoRiw9mhAtQyswloMaUC+3fLUB/loQACcIj69AGlA\"},\"shape\":[132],\"dtype\":\"float64\",\"order\":\"little\"}],[\"year_hyphen_minus_mon\",{\"type\":\"ndarray\",\"array\":{\"type\":\"bytes\",\"data\":\"AACA53JeckIAAMA5bWhyQgAAwFpwcXJCAAAArWp7ckIAAICZEoVyQgAAwOsMj3JCAABA2LSYckIAAIAqr6JyQgAAwHyprHJCAABAaVG2ckIAAIC7S8ByQgAAAKjzyXJCAABA+u3TckIAAIBM6N1yQgAAgG3r5nJCAADAv+XwckIAAECsjfpyQgAAgP6HBHNCAAAA6y8Oc0IAAEA9KhhzQgAAgI8kInNCAAAAfMwrc0IAAEDOxjVzQgAAwLpuP3NCAAAADWlJc0IAAEBfY1NzQgAAAOa4XHNCAABAOLNmc0IAAMAkW3BzQgAAAHdVenNCAACAY/2Dc0IAAMC1941zQgAAAAjyl3NCAACA9Jmhc0IAAMBGlKtzQgAAQDM8tXNCAACAhTa/c0IAAMDXMMlzQgAAwPgz0nNCAAAASy7cc0IAAIA31uVzQgAAwInQ73NCAABAdnj5c0IAAIDIcgN0QgAAwBptDXRCAABABxUXdEIAAIBZDyF0QgAAAEa3KnRCAABAmLE0dEIAAIDqqz50QgAAgAuvR3RCAADAXalRdEIAAEBKUVt0QgAAgJxLZXRCAAAAifNudEIAAEDb7Xh0QgAAgC3ognRCAAAAGpCMdEIAAEBsipZ0QgAAwFgyoHRCAAAAqyyqdEIAAED9JrR0QgAAQB4qvXRCAACAcCTHdEIAAABdzNB0QgAAQK/G2nRCAADAm27kdEIAAADuaO50QgAAQEBj+HRCAADALAsCdUIAAAB/BQx1QgAAgGutFXVCAADAvacfdUIAAAAQoil1QgAAwJb3MnVCAAAA6fE8dUIAAIDVmUZ1QgAAwCeUUHVCAABAFDxadUIAAIBmNmR1QgAAwLgwbnVCAABApdh3dUIAAID30oF1QgAAAOR6i3VCAABANnWVdUIAAICIb591QgAAgKlyqHVCAADA+2yydUIAAEDoFLx1QgAAgDoPxnVCAAAAJ7fPdUIAAEB5sdl1QgAAgMur43VCAAAAuFPtdUIAAEAKTvd1QgAAwPb1AHZCAAAASfAKdkIAAECb6hR2QgAAQLztHXZCAACADugndkIAAAD7jzF2QgAAQE2KO3ZCAADAOTJFdkIAAACMLE92QgAAQN4mWXZCAADAys5idkIAAAAdyWx2QgAAgAlxdnZCAADAW2uAdkIAAACuZYp2QgAAAM9ok3ZCAABAIWOddkIAAMANC6d2QgAAAGAFsXZCAACATK26dkIAAMCep8R2QgAAAPGhznZCAACA3UnYdkIAAMAvROJ2QgAAQBzs63ZCAACAbub1dkIAAMDA4P92QgAAgEc2CXdCAADAmTATd0IAAECG2Bx3QgAAgNjSJndCAAAAxXowd0IAAEAXdTp3QgAAgGlvRHdCAAAAVhdOd0IAAECoEVh3QgAAwJS5YXdC\"},\"shape\":[132],\"dtype\":\"float64\",\"order\":\"little\"}],[\"EXP_TYPE\",[\"Education\",\"Education\",\"Education\",\"Education\",\"Education\",\"Education\",\"Education\",\"Education\",\"Education\",\"Education\",\"Education\",\"Education\",\"Education\",\"Education\",\"Education\",\"Education\",\"Education\",\"Education\",\"Education\",\"Education\",\"Education\",\"Education\",\"Education\",\"Education\",\"Education\",\"Education\",\"Education\",\"Education\",\"Education\",\"Education\",\"Education\",\"Education\",\"Education\",\"Education\",\"Education\",\"Education\",\"Education\",\"Education\",\"Education\",\"Education\",\"Education\",\"Education\",\"Education\",\"Education\",\"Education\",\"Education\",\"Education\",\"Education\",\"Education\",\"Education\",\"Education\",\"Education\",\"Education\",\"Education\",\"Education\",\"Education\",\"Education\",\"Education\",\"Education\",\"Education\",\"Education\",\"Education\",\"Education\",\"Education\",\"Education\",\"Education\",\"Education\",\"Education\",\"Education\",\"Education\",\"Education\",\"Education\",\"Education\",\"Education\",\"Education\",\"Education\",\"Education\",\"Education\",\"Education\",\"Education\",\"Education\",\"Education\",\"Education\",\"Education\",\"Education\",\"Education\",\"Education\",\"Education\",\"Education\",\"Education\",\"Education\",\"Education\",\"Education\",\"Education\",\"Education\",\"Education\",\"Education\",\"Education\",\"Education\",\"Education\",\"Education\",\"Education\",\"Education\",\"Education\",\"Education\",\"Education\",\"Education\",\"Education\",\"Education\",\"Education\",\"Education\",\"Education\",\"Education\",\"Education\",\"Education\",\"Education\",\"Education\",\"Education\",\"Education\",\"Education\",\"Education\",\"Education\",\"Education\",\"Education\",\"Education\",\"Education\",\"Education\",\"Education\",\"Education\",\"Education\",\"Education\",\"Education\"]]]}}},\"view\":{\"type\":\"object\",\"name\":\"CDSView\",\"id\":\"p1187\",\"attributes\":{\"filter\":{\"type\":\"object\",\"name\":\"AllIndices\",\"id\":\"p1188\"}}},\"glyph\":{\"type\":\"object\",\"name\":\"Scatter\",\"id\":\"p1183\",\"attributes\":{\"tags\":[\"apply_ranges\"],\"x\":{\"type\":\"field\",\"field\":\"year-mon\"},\"y\":{\"type\":\"field\",\"field\":\"AMOUNT\"},\"size\":{\"type\":\"value\",\"value\":5.477225575051661},\"line_color\":{\"type\":\"value\",\"value\":\"#9467bd\"},\"fill_color\":{\"type\":\"value\",\"value\":\"#9467bd\"},\"hatch_color\":{\"type\":\"value\",\"value\":\"#9467bd\"}}},\"selection_glyph\":{\"type\":\"object\",\"name\":\"Scatter\",\"id\":\"p1190\",\"attributes\":{\"tags\":[\"apply_ranges\"],\"x\":{\"type\":\"field\",\"field\":\"year-mon\"},\"y\":{\"type\":\"field\",\"field\":\"AMOUNT\"},\"size\":{\"type\":\"value\",\"value\":5.477225575051661},\"angle\":{\"type\":\"value\",\"value\":0.0},\"line_color\":{\"type\":\"value\",\"value\":\"#9467bd\"},\"line_alpha\":{\"type\":\"value\",\"value\":1.0},\"line_width\":{\"type\":\"value\",\"value\":1},\"line_join\":{\"type\":\"value\",\"value\":\"bevel\"},\"line_cap\":{\"type\":\"value\",\"value\":\"butt\"},\"line_dash\":{\"type\":\"value\",\"value\":[]},\"line_dash_offset\":{\"type\":\"value\",\"value\":0},\"fill_color\":{\"type\":\"value\",\"value\":\"#9467bd\"},\"fill_alpha\":{\"type\":\"value\",\"value\":1.0},\"hatch_color\":{\"type\":\"value\",\"value\":\"#9467bd\"},\"hatch_alpha\":{\"type\":\"value\",\"value\":1.0},\"hatch_scale\":{\"type\":\"value\",\"value\":12.0},\"hatch_pattern\":{\"type\":\"value\",\"value\":null},\"hatch_weight\":{\"type\":\"value\",\"value\":1.0},\"marker\":{\"type\":\"value\",\"value\":\"circle\"}}},\"nonselection_glyph\":{\"type\":\"object\",\"name\":\"Scatter\",\"id\":\"p1184\",\"attributes\":{\"tags\":[\"apply_ranges\"],\"x\":{\"type\":\"field\",\"field\":\"year-mon\"},\"y\":{\"type\":\"field\",\"field\":\"AMOUNT\"},\"size\":{\"type\":\"value\",\"value\":5.477225575051661},\"line_color\":{\"type\":\"value\",\"value\":\"#9467bd\"},\"line_alpha\":{\"type\":\"value\",\"value\":0.1},\"fill_color\":{\"type\":\"value\",\"value\":\"#9467bd\"},\"fill_alpha\":{\"type\":\"value\",\"value\":0.1},\"hatch_color\":{\"type\":\"value\",\"value\":\"#9467bd\"},\"hatch_alpha\":{\"type\":\"value\",\"value\":0.1}}},\"muted_glyph\":{\"type\":\"object\",\"name\":\"Scatter\",\"id\":\"p1185\",\"attributes\":{\"tags\":[\"apply_ranges\"],\"x\":{\"type\":\"field\",\"field\":\"year-mon\"},\"y\":{\"type\":\"field\",\"field\":\"AMOUNT\"},\"size\":{\"type\":\"value\",\"value\":5.477225575051661},\"line_color\":{\"type\":\"value\",\"value\":\"#9467bd\"},\"line_alpha\":{\"type\":\"value\",\"value\":0.2},\"fill_color\":{\"type\":\"value\",\"value\":\"#9467bd\"},\"fill_alpha\":{\"type\":\"value\",\"value\":0.2},\"hatch_color\":{\"type\":\"value\",\"value\":\"#9467bd\"},\"hatch_alpha\":{\"type\":\"value\",\"value\":0.2}}}}},{\"type\":\"object\",\"name\":\"GlyphRenderer\",\"id\":\"p1200\",\"attributes\":{\"name\":\"Motor/Travel\",\"data_source\":{\"type\":\"object\",\"name\":\"ColumnDataSource\",\"id\":\"p1191\",\"attributes\":{\"selected\":{\"type\":\"object\",\"name\":\"Selection\",\"id\":\"p1192\",\"attributes\":{\"indices\":[],\"line_indices\":[]}},\"selection_policy\":{\"type\":\"object\",\"name\":\"UnionRenderers\",\"id\":\"p1193\"},\"data\":{\"type\":\"map\",\"entries\":[[\"year-mon\",{\"type\":\"ndarray\",\"array\":{\"type\":\"bytes\",\"data\":\"AACA53JeckIAAMA5bWhyQgAAwFpwcXJCAAAArWp7ckIAAICZEoVyQgAAwOsMj3JCAABA2LSYckIAAIAqr6JyQgAAwHyprHJCAABAaVG2ckIAAIC7S8ByQgAAAKjzyXJCAABA+u3TckIAAIBM6N1yQgAAgG3r5nJCAADAv+XwckIAAECsjfpyQgAAgP6HBHNCAAAA6y8Oc0IAAEA9KhhzQgAAgI8kInNCAAAAfMwrc0IAAEDOxjVzQgAAwLpuP3NCAAAADWlJc0IAAEBfY1NzQgAAAOa4XHNCAABAOLNmc0IAAMAkW3BzQgAAAHdVenNCAACAY/2Dc0IAAMC1941zQgAAAAjyl3NCAACA9Jmhc0IAAMBGlKtzQgAAQDM8tXNCAACAhTa/c0IAAMDXMMlzQgAAwPgz0nNCAAAASy7cc0IAAIA31uVzQgAAwInQ73NCAABAdnj5c0IAAIDIcgN0QgAAwBptDXRCAABABxUXdEIAAIBZDyF0QgAAAEa3KnRCAABAmLE0dEIAAIDqqz50QgAAgAuvR3RCAADAXalRdEIAAEBKUVt0QgAAgJxLZXRCAAAAifNudEIAAEDb7Xh0QgAAgC3ognRCAAAAGpCMdEIAAEBsipZ0QgAAwFgyoHRCAAAAqyyqdEIAAED9JrR0QgAAQB4qvXRCAACAcCTHdEIAAABdzNB0QgAAQK/G2nRCAADAm27kdEIAAADuaO50QgAAQEBj+HRCAADALAsCdUIAAAB/BQx1QgAAgGutFXVCAADAvacfdUIAAAAQoil1QgAAwJb3MnVCAAAA6fE8dUIAAIDVmUZ1QgAAwCeUUHVCAABAFDxadUIAAIBmNmR1QgAAwLgwbnVCAABApdh3dUIAAID30oF1QgAAAOR6i3VCAABANnWVdUIAAICIb591QgAAgKlyqHVCAADA+2yydUIAAEDoFLx1QgAAgDoPxnVCAAAAJ7fPdUIAAEB5sdl1QgAAgMur43VCAAAAuFPtdUIAAEAKTvd1QgAAwPb1AHZCAAAASfAKdkIAAECb6hR2QgAAQLztHXZCAACADugndkIAAAD7jzF2QgAAQE2KO3ZCAADAOTJFdkIAAACMLE92QgAAQN4mWXZCAADAys5idkIAAAAdyWx2QgAAgAlxdnZCAADAW2uAdkIAAACuZYp2QgAAAM9ok3ZCAABAIWOddkIAAMANC6d2QgAAAGAFsXZCAACATK26dkIAAMCep8R2QgAAAPGhznZCAACA3UnYdkIAAMAvROJ2QgAAQBzs63ZCAACAbub1dkIAAMDA4P92QgAAgEc2CXdCAADAmTATd0IAAECG2Bx3QgAAgNjSJndCAAAAxXowd0IAAEAXdTp3QgAAgGlvRHdCAAAAVhdOd0IAAECoEVh3QgAAwJS5YXdC\"},\"shape\":[132],\"dtype\":\"float64\",\"order\":\"little\"}],[\"AMOUNT\",{\"type\":\"ndarray\",\"array\":{\"type\":\"bytes\",\"data\":\"gj3iEBkqQEDw8uWYBGVAQA5F3mNnXUFAaqOSQqTiQUBQkEh83fdBQANsRg3RkUJAZZNXeYDSQkCBkTJdyrZCQDC7q8vb/0JA5cZN5uG4RECW0FzhcoFHQKdXysJKuUhAJS0jRu6zQ0BbMc6Af/NDQDdOXFF7ukRAQHVJHxwlRUAXGZVzzh5FQCRomqGUS0VA0tVYCJ7gRUC0ps50MFFGQBhL+PffckZALy+rRWcKSUBkl34c/ctLQCuEBEtjTE5AEkAA6RxlSECPzH1gqxJIQIimjnG9t0hAL3MKOZ+RSUBJOHYZbVRJQJCSp0JvM0pAoUfralAtSkCaD/VJmu5KQCM9+8T0GEtA0r2pK8gbTkAur5F5uMBQQOcOmGvVRVJA85o2vn4uTUA18+MghFhNQJQ8ihp/Rk1Al5YZ5owJTkBVYwQ0oQFPQChAVAR+5k9AB4YT8IEKUEAT170bv2NQQAAhmQt3S1BAkOgYD4AVUkCQ6qO2WIhUQKC3LyqAZlZAoEZAB5JiUUAp3ZYXvgNSQCAYZSaQzFFAlVRPIVJAUkB33rW6L4NSQLvwjOIWu1JA83fMv7tIU0AqpahyEX9TQILET0hN11NAlzeCji1VVkBW+L3jzqdYQLL26TQe1FpApyzmV5YsVUDK4S+ZvmVVQFnc5GOg2VVA7XXK3PI7VkCbaGZNtLhWQE/mkmt2c1ZAGdfHqRcBV0BbrFr6iWVXQC+RI8rFs1dAoM6zthMwWkAeDMqiNpZdQBVzhZ5NJmBA2bQYUelTWUBFDUuuNvBZQBLVjocf/FlAcXj5SSW2WkAPF/TKHRlbQKheLHzhaVtAZjcf5l7DW0BxUlIUFk5cQLzyJwlkeVxAjyDA8pcGYEDfm6i0usVhQJEUduvXZmNAIZ9UmAITXkAm2kcmNJ5eQHCBYznhT19AtexQviGpX0BVlSnnljBgQG80VgwkLGBAjYSdp4fJYED7SgYDgepgQDjBPytzUWFA/5w2f/g5Y0B2s/QGYWxlQOARelZgjWdANTjp4gp7YkBQIL2OtV1iQMJXeTrv22JAe4N0o2EUY0BdZ3ROCIdjQG8209u362NAXHzd3wz2Y0Ae15WAp1hkQBM3ODYRv2RApsdjM6UKZ0A29fAd481pQNWimFOMLWxAwOVVuqQBZkAWd4lkvVtmQHaupmQs62ZA4Er8LoH6ZkDGZltQ/2NnQFYdh3aY6WdAuj51vi/kZ0C5D0oL9J1oQOQ5yQlE1mhACN/MmwJVa0D/UF8WfhJuQOFOomDk2XBAdN5WKyYIakBNbfQMD8FqQAxHawe8I2tAVyJdF6h3a0Ciw9mWuCJsQFROqKvGmWxAwnO/S2r6bECznmicl3ltQMa23WBatG1Ag2Bm21OxcEBcw5YPUFtyQEJmFxVDMHRA\"},\"shape\":[132],\"dtype\":\"float64\",\"order\":\"little\"}],[\"year_hyphen_minus_mon\",{\"type\":\"ndarray\",\"array\":{\"type\":\"bytes\",\"data\":\"AACA53JeckIAAMA5bWhyQgAAwFpwcXJCAAAArWp7ckIAAICZEoVyQgAAwOsMj3JCAABA2LSYckIAAIAqr6JyQgAAwHyprHJCAABAaVG2ckIAAIC7S8ByQgAAAKjzyXJCAABA+u3TckIAAIBM6N1yQgAAgG3r5nJCAADAv+XwckIAAECsjfpyQgAAgP6HBHNCAAAA6y8Oc0IAAEA9KhhzQgAAgI8kInNCAAAAfMwrc0IAAEDOxjVzQgAAwLpuP3NCAAAADWlJc0IAAEBfY1NzQgAAAOa4XHNCAABAOLNmc0IAAMAkW3BzQgAAAHdVenNCAACAY/2Dc0IAAMC1941zQgAAAAjyl3NCAACA9Jmhc0IAAMBGlKtzQgAAQDM8tXNCAACAhTa/c0IAAMDXMMlzQgAAwPgz0nNCAAAASy7cc0IAAIA31uVzQgAAwInQ73NCAABAdnj5c0IAAIDIcgN0QgAAwBptDXRCAABABxUXdEIAAIBZDyF0QgAAAEa3KnRCAABAmLE0dEIAAIDqqz50QgAAgAuvR3RCAADAXalRdEIAAEBKUVt0QgAAgJxLZXRCAAAAifNudEIAAEDb7Xh0QgAAgC3ognRCAAAAGpCMdEIAAEBsipZ0QgAAwFgyoHRCAAAAqyyqdEIAAED9JrR0QgAAQB4qvXRCAACAcCTHdEIAAABdzNB0QgAAQK/G2nRCAADAm27kdEIAAADuaO50QgAAQEBj+HRCAADALAsCdUIAAAB/BQx1QgAAgGutFXVCAADAvacfdUIAAAAQoil1QgAAwJb3MnVCAAAA6fE8dUIAAIDVmUZ1QgAAwCeUUHVCAABAFDxadUIAAIBmNmR1QgAAwLgwbnVCAABApdh3dUIAAID30oF1QgAAAOR6i3VCAABANnWVdUIAAICIb591QgAAgKlyqHVCAADA+2yydUIAAEDoFLx1QgAAgDoPxnVCAAAAJ7fPdUIAAEB5sdl1QgAAgMur43VCAAAAuFPtdUIAAEAKTvd1QgAAwPb1AHZCAAAASfAKdkIAAECb6hR2QgAAQLztHXZCAACADugndkIAAAD7jzF2QgAAQE2KO3ZCAADAOTJFdkIAAACMLE92QgAAQN4mWXZCAADAys5idkIAAAAdyWx2QgAAgAlxdnZCAADAW2uAdkIAAACuZYp2QgAAAM9ok3ZCAABAIWOddkIAAMANC6d2QgAAAGAFsXZCAACATK26dkIAAMCep8R2QgAAAPGhznZCAACA3UnYdkIAAMAvROJ2QgAAQBzs63ZCAACAbub1dkIAAMDA4P92QgAAgEc2CXdCAADAmTATd0IAAECG2Bx3QgAAgNjSJndCAAAAxXowd0IAAEAXdTp3QgAAgGlvRHdCAAAAVhdOd0IAAECoEVh3QgAAwJS5YXdC\"},\"shape\":[132],\"dtype\":\"float64\",\"order\":\"little\"}],[\"EXP_TYPE\",[\"Motor/Travel\",\"Motor/Travel\",\"Motor/Travel\",\"Motor/Travel\",\"Motor/Travel\",\"Motor/Travel\",\"Motor/Travel\",\"Motor/Travel\",\"Motor/Travel\",\"Motor/Travel\",\"Motor/Travel\",\"Motor/Travel\",\"Motor/Travel\",\"Motor/Travel\",\"Motor/Travel\",\"Motor/Travel\",\"Motor/Travel\",\"Motor/Travel\",\"Motor/Travel\",\"Motor/Travel\",\"Motor/Travel\",\"Motor/Travel\",\"Motor/Travel\",\"Motor/Travel\",\"Motor/Travel\",\"Motor/Travel\",\"Motor/Travel\",\"Motor/Travel\",\"Motor/Travel\",\"Motor/Travel\",\"Motor/Travel\",\"Motor/Travel\",\"Motor/Travel\",\"Motor/Travel\",\"Motor/Travel\",\"Motor/Travel\",\"Motor/Travel\",\"Motor/Travel\",\"Motor/Travel\",\"Motor/Travel\",\"Motor/Travel\",\"Motor/Travel\",\"Motor/Travel\",\"Motor/Travel\",\"Motor/Travel\",\"Motor/Travel\",\"Motor/Travel\",\"Motor/Travel\",\"Motor/Travel\",\"Motor/Travel\",\"Motor/Travel\",\"Motor/Travel\",\"Motor/Travel\",\"Motor/Travel\",\"Motor/Travel\",\"Motor/Travel\",\"Motor/Travel\",\"Motor/Travel\",\"Motor/Travel\",\"Motor/Travel\",\"Motor/Travel\",\"Motor/Travel\",\"Motor/Travel\",\"Motor/Travel\",\"Motor/Travel\",\"Motor/Travel\",\"Motor/Travel\",\"Motor/Travel\",\"Motor/Travel\",\"Motor/Travel\",\"Motor/Travel\",\"Motor/Travel\",\"Motor/Travel\",\"Motor/Travel\",\"Motor/Travel\",\"Motor/Travel\",\"Motor/Travel\",\"Motor/Travel\",\"Motor/Travel\",\"Motor/Travel\",\"Motor/Travel\",\"Motor/Travel\",\"Motor/Travel\",\"Motor/Travel\",\"Motor/Travel\",\"Motor/Travel\",\"Motor/Travel\",\"Motor/Travel\",\"Motor/Travel\",\"Motor/Travel\",\"Motor/Travel\",\"Motor/Travel\",\"Motor/Travel\",\"Motor/Travel\",\"Motor/Travel\",\"Motor/Travel\",\"Motor/Travel\",\"Motor/Travel\",\"Motor/Travel\",\"Motor/Travel\",\"Motor/Travel\",\"Motor/Travel\",\"Motor/Travel\",\"Motor/Travel\",\"Motor/Travel\",\"Motor/Travel\",\"Motor/Travel\",\"Motor/Travel\",\"Motor/Travel\",\"Motor/Travel\",\"Motor/Travel\",\"Motor/Travel\",\"Motor/Travel\",\"Motor/Travel\",\"Motor/Travel\",\"Motor/Travel\",\"Motor/Travel\",\"Motor/Travel\",\"Motor/Travel\",\"Motor/Travel\",\"Motor/Travel\",\"Motor/Travel\",\"Motor/Travel\",\"Motor/Travel\",\"Motor/Travel\",\"Motor/Travel\",\"Motor/Travel\",\"Motor/Travel\",\"Motor/Travel\",\"Motor/Travel\",\"Motor/Travel\",\"Motor/Travel\"]]]}}},\"view\":{\"type\":\"object\",\"name\":\"CDSView\",\"id\":\"p1201\",\"attributes\":{\"filter\":{\"type\":\"object\",\"name\":\"AllIndices\",\"id\":\"p1202\"}}},\"glyph\":{\"type\":\"object\",\"name\":\"Scatter\",\"id\":\"p1197\",\"attributes\":{\"tags\":[\"apply_ranges\"],\"x\":{\"type\":\"field\",\"field\":\"year-mon\"},\"y\":{\"type\":\"field\",\"field\":\"AMOUNT\"},\"size\":{\"type\":\"value\",\"value\":5.477225575051661},\"line_color\":{\"type\":\"value\",\"value\":\"#d62728\"},\"fill_color\":{\"type\":\"value\",\"value\":\"#d62728\"},\"hatch_color\":{\"type\":\"value\",\"value\":\"#d62728\"}}},\"selection_glyph\":{\"type\":\"object\",\"name\":\"Scatter\",\"id\":\"p1204\",\"attributes\":{\"tags\":[\"apply_ranges\"],\"x\":{\"type\":\"field\",\"field\":\"year-mon\"},\"y\":{\"type\":\"field\",\"field\":\"AMOUNT\"},\"size\":{\"type\":\"value\",\"value\":5.477225575051661},\"angle\":{\"type\":\"value\",\"value\":0.0},\"line_color\":{\"type\":\"value\",\"value\":\"#d62728\"},\"line_alpha\":{\"type\":\"value\",\"value\":1.0},\"line_width\":{\"type\":\"value\",\"value\":1},\"line_join\":{\"type\":\"value\",\"value\":\"bevel\"},\"line_cap\":{\"type\":\"value\",\"value\":\"butt\"},\"line_dash\":{\"type\":\"value\",\"value\":[]},\"line_dash_offset\":{\"type\":\"value\",\"value\":0},\"fill_color\":{\"type\":\"value\",\"value\":\"#d62728\"},\"fill_alpha\":{\"type\":\"value\",\"value\":1.0},\"hatch_color\":{\"type\":\"value\",\"value\":\"#d62728\"},\"hatch_alpha\":{\"type\":\"value\",\"value\":1.0},\"hatch_scale\":{\"type\":\"value\",\"value\":12.0},\"hatch_pattern\":{\"type\":\"value\",\"value\":null},\"hatch_weight\":{\"type\":\"value\",\"value\":1.0},\"marker\":{\"type\":\"value\",\"value\":\"circle\"}}},\"nonselection_glyph\":{\"type\":\"object\",\"name\":\"Scatter\",\"id\":\"p1198\",\"attributes\":{\"tags\":[\"apply_ranges\"],\"x\":{\"type\":\"field\",\"field\":\"year-mon\"},\"y\":{\"type\":\"field\",\"field\":\"AMOUNT\"},\"size\":{\"type\":\"value\",\"value\":5.477225575051661},\"line_color\":{\"type\":\"value\",\"value\":\"#d62728\"},\"line_alpha\":{\"type\":\"value\",\"value\":0.1},\"fill_color\":{\"type\":\"value\",\"value\":\"#d62728\"},\"fill_alpha\":{\"type\":\"value\",\"value\":0.1},\"hatch_color\":{\"type\":\"value\",\"value\":\"#d62728\"},\"hatch_alpha\":{\"type\":\"value\",\"value\":0.1}}},\"muted_glyph\":{\"type\":\"object\",\"name\":\"Scatter\",\"id\":\"p1199\",\"attributes\":{\"tags\":[\"apply_ranges\"],\"x\":{\"type\":\"field\",\"field\":\"year-mon\"},\"y\":{\"type\":\"field\",\"field\":\"AMOUNT\"},\"size\":{\"type\":\"value\",\"value\":5.477225575051661},\"line_color\":{\"type\":\"value\",\"value\":\"#d62728\"},\"line_alpha\":{\"type\":\"value\",\"value\":0.2},\"fill_color\":{\"type\":\"value\",\"value\":\"#d62728\"},\"fill_alpha\":{\"type\":\"value\",\"value\":0.2},\"hatch_color\":{\"type\":\"value\",\"value\":\"#d62728\"},\"hatch_alpha\":{\"type\":\"value\",\"value\":0.2}}}}},{\"type\":\"object\",\"name\":\"GlyphRenderer\",\"id\":\"p1214\",\"attributes\":{\"name\":\"Groceries\",\"data_source\":{\"type\":\"object\",\"name\":\"ColumnDataSource\",\"id\":\"p1205\",\"attributes\":{\"selected\":{\"type\":\"object\",\"name\":\"Selection\",\"id\":\"p1206\",\"attributes\":{\"indices\":[],\"line_indices\":[]}},\"selection_policy\":{\"type\":\"object\",\"name\":\"UnionRenderers\",\"id\":\"p1207\"},\"data\":{\"type\":\"map\",\"entries\":[[\"year-mon\",{\"type\":\"ndarray\",\"array\":{\"type\":\"bytes\",\"data\":\"AACA53JeckIAAMA5bWhyQgAAwFpwcXJCAAAArWp7ckIAAICZEoVyQgAAwOsMj3JCAABA2LSYckIAAIAqr6JyQgAAwHyprHJCAABAaVG2ckIAAIC7S8ByQgAAAKjzyXJCAABA+u3TckIAAIBM6N1yQgAAgG3r5nJCAADAv+XwckIAAECsjfpyQgAAgP6HBHNCAAAA6y8Oc0IAAEA9KhhzQgAAgI8kInNCAAAAfMwrc0IAAEDOxjVzQgAAwLpuP3NCAAAADWlJc0IAAEBfY1NzQgAAAOa4XHNCAABAOLNmc0IAAMAkW3BzQgAAAHdVenNCAACAY/2Dc0IAAMC1941zQgAAAAjyl3NCAACA9Jmhc0IAAMBGlKtzQgAAQDM8tXNCAACAhTa/c0IAAMDXMMlzQgAAwPgz0nNCAAAASy7cc0IAAIA31uVzQgAAwInQ73NCAABAdnj5c0IAAIDIcgN0QgAAwBptDXRCAABABxUXdEIAAIBZDyF0QgAAAEa3KnRCAABAmLE0dEIAAIDqqz50QgAAgAuvR3RCAADAXalRdEIAAEBKUVt0QgAAgJxLZXRCAAAAifNudEIAAEDb7Xh0QgAAgC3ognRCAAAAGpCMdEIAAEBsipZ0QgAAwFgyoHRCAAAAqyyqdEIAAED9JrR0QgAAQB4qvXRCAACAcCTHdEIAAABdzNB0QgAAQK/G2nRCAADAm27kdEIAAADuaO50QgAAQEBj+HRCAADALAsCdUIAAAB/BQx1QgAAgGutFXVCAADAvacfdUIAAAAQoil1QgAAwJb3MnVCAAAA6fE8dUIAAIDVmUZ1QgAAwCeUUHVCAABAFDxadUIAAIBmNmR1QgAAwLgwbnVCAABApdh3dUIAAID30oF1QgAAAOR6i3VCAABANnWVdUIAAICIb591QgAAgKlyqHVCAADA+2yydUIAAEDoFLx1QgAAgDoPxnVCAAAAJ7fPdUIAAEB5sdl1QgAAgMur43VCAAAAuFPtdUIAAEAKTvd1QgAAwPb1AHZCAAAASfAKdkIAAECb6hR2QgAAQLztHXZCAACADugndkIAAAD7jzF2QgAAQE2KO3ZCAADAOTJFdkIAAACMLE92QgAAQN4mWXZCAADAys5idkIAAAAdyWx2QgAAgAlxdnZCAADAW2uAdkIAAACuZYp2QgAAAM9ok3ZCAABAIWOddkIAAMANC6d2QgAAAGAFsXZCAACATK26dkIAAMCep8R2QgAAAPGhznZCAACA3UnYdkIAAMAvROJ2QgAAQBzs63ZCAACAbub1dkIAAMDA4P92QgAAgEc2CXdCAADAmTATd0IAAECG2Bx3QgAAgNjSJndCAAAAxXowd0IAAEAXdTp3QgAAgGlvRHdCAAAAVhdOd0IAAECoEVh3QgAAwJS5YXdC\"},\"shape\":[132],\"dtype\":\"float64\",\"order\":\"little\"}],[\"AMOUNT\",{\"type\":\"ndarray\",\"array\":{\"type\":\"bytes\",\"data\":\"cwLswhxBMkAcd/hFiC0yQF+kznbVLjNAkeIBEe3NM0DedCtyciAzQKZZu8MZrjNAZnNNG4NqM0BB41jFx38zQFVPG2EYdzNA2FpXFGx/NUAWfg5oY283QOg+KispizlAKqmMz6fSM0BaF13vS60zQBHeMLOgvjNAH5ADiZsENED67eP+HvwzQN8M8z3UcjRA/NJrvFeWNEBdFfJLgLs0QHG1TttKzDRAOTbUM8s4N0AmZaq53V05QPB2gT685DtAGke7RPOYNUDomJDF9781QHwWsgM4rzVA/2UkpmLtNUA3h7HU3E82QLbUT8vVIzZA9J9xz2sQNkDNptW9Spc2QAjJLwUncTZAi+szZuEAOUCErzsPr807QEdrcqw39j1AN4WUJmU+N0CkUNBYP4Q3QHVCsNHlmDdAkJUtQ7QhOEA+py1KkJk3QEZ07RHk9zdAkTPyaC1FOECqm5eMcIc4QGBgMWqemDhAhctFKSgqO0C5p+eZepc9QJFqewwGYUBABrWxnOhYOUDV348sQoQ5QIvtqZCY5TlAmWKlgmYVOkBva8ugI0M6QPv6RwxsbjpAhhVTGYuAOkBu1F6NUL46QKIQ8/tQPztADrH768skPkB+ThcFonZAQLPeBOCj2kFAn1GgYCjPO0DNu3yJ7qA7QLVDbuC7KDxAg2FusURkPEC1b+KxCXM8QMmVOhclkTxAoSlQeDryPEDOMuKwShY9QPzA3iEGfj1AvxZ457k/QEC10PWwh99BQEwxrQXUbUNADEUVjeRkPkC947KQeUE+QMsY74anej5A6ghhU3alPkDZw7cM/I8+QK4Vij9N+D5AO3RFahPaPkAPdc+xE38/QEDAax2Qwj9A+XFzOiZYQUAvP8dP4AJDQIplBYIW00RAGKPC8a8hQECLViU98kJAQKKAJrOGW0BAoJpqzrh0QEC3nuMyCIFAQJiJ7m94r0BATejChQ/GQEAXug2uVNFAQIVJGLL+HUFAZd4nFmjgQkA+COuwm8tEQIn3sNxdbkZA7EU7OzmgQUBSJMZPAZ5BQDmGnMG2xUFArSewJa3lQUCNDdO4QtVBQKmjAkrE4kFAhkkyd5E7QkCbMfI3rThCQK7lmKkQPEJANrbcbSgzRECfDXKSLk5GQAvHKt2WYkhAcqEArBEHQ0D82GxQ+gxDQK29mjt3GUNAzZplqERNQ0B3XLop0lxDQBbMwi9+YENAW3imgnenQ0CFo+XHbLlDQCWD2AjC10NAOTJ/9DG3RUCQO61u6CVIQL0CVrAb50lARGqMiPkVREAlVcSelIdEQAYzxQIzoERAcdLMfy66REAG1sszO8FEQKA6J0HuvERANg30+9LfREB+v+2BKD5FQEwTPR6eUkVAwZbo2q2BR0D+o6sIoaZJQGsRqGR2d0xA\"},\"shape\":[132],\"dtype\":\"float64\",\"order\":\"little\"}],[\"year_hyphen_minus_mon\",{\"type\":\"ndarray\",\"array\":{\"type\":\"bytes\",\"data\":\"AACA53JeckIAAMA5bWhyQgAAwFpwcXJCAAAArWp7ckIAAICZEoVyQgAAwOsMj3JCAABA2LSYckIAAIAqr6JyQgAAwHyprHJCAABAaVG2ckIAAIC7S8ByQgAAAKjzyXJCAABA+u3TckIAAIBM6N1yQgAAgG3r5nJCAADAv+XwckIAAECsjfpyQgAAgP6HBHNCAAAA6y8Oc0IAAEA9KhhzQgAAgI8kInNCAAAAfMwrc0IAAEDOxjVzQgAAwLpuP3NCAAAADWlJc0IAAEBfY1NzQgAAAOa4XHNCAABAOLNmc0IAAMAkW3BzQgAAAHdVenNCAACAY/2Dc0IAAMC1941zQgAAAAjyl3NCAACA9Jmhc0IAAMBGlKtzQgAAQDM8tXNCAACAhTa/c0IAAMDXMMlzQgAAwPgz0nNCAAAASy7cc0IAAIA31uVzQgAAwInQ73NCAABAdnj5c0IAAIDIcgN0QgAAwBptDXRCAABABxUXdEIAAIBZDyF0QgAAAEa3KnRCAABAmLE0dEIAAIDqqz50QgAAgAuvR3RCAADAXalRdEIAAEBKUVt0QgAAgJxLZXRCAAAAifNudEIAAEDb7Xh0QgAAgC3ognRCAAAAGpCMdEIAAEBsipZ0QgAAwFgyoHRCAAAAqyyqdEIAAED9JrR0QgAAQB4qvXRCAACAcCTHdEIAAABdzNB0QgAAQK/G2nRCAADAm27kdEIAAADuaO50QgAAQEBj+HRCAADALAsCdUIAAAB/BQx1QgAAgGutFXVCAADAvacfdUIAAAAQoil1QgAAwJb3MnVCAAAA6fE8dUIAAIDVmUZ1QgAAwCeUUHVCAABAFDxadUIAAIBmNmR1QgAAwLgwbnVCAABApdh3dUIAAID30oF1QgAAAOR6i3VCAABANnWVdUIAAICIb591QgAAgKlyqHVCAADA+2yydUIAAEDoFLx1QgAAgDoPxnVCAAAAJ7fPdUIAAEB5sdl1QgAAgMur43VCAAAAuFPtdUIAAEAKTvd1QgAAwPb1AHZCAAAASfAKdkIAAECb6hR2QgAAQLztHXZCAACADugndkIAAAD7jzF2QgAAQE2KO3ZCAADAOTJFdkIAAACMLE92QgAAQN4mWXZCAADAys5idkIAAAAdyWx2QgAAgAlxdnZCAADAW2uAdkIAAACuZYp2QgAAAM9ok3ZCAABAIWOddkIAAMANC6d2QgAAAGAFsXZCAACATK26dkIAAMCep8R2QgAAAPGhznZCAACA3UnYdkIAAMAvROJ2QgAAQBzs63ZCAACAbub1dkIAAMDA4P92QgAAgEc2CXdCAADAmTATd0IAAECG2Bx3QgAAgNjSJndCAAAAxXowd0IAAEAXdTp3QgAAgGlvRHdCAAAAVhdOd0IAAECoEVh3QgAAwJS5YXdC\"},\"shape\":[132],\"dtype\":\"float64\",\"order\":\"little\"}],[\"EXP_TYPE\",[\"Groceries\",\"Groceries\",\"Groceries\",\"Groceries\",\"Groceries\",\"Groceries\",\"Groceries\",\"Groceries\",\"Groceries\",\"Groceries\",\"Groceries\",\"Groceries\",\"Groceries\",\"Groceries\",\"Groceries\",\"Groceries\",\"Groceries\",\"Groceries\",\"Groceries\",\"Groceries\",\"Groceries\",\"Groceries\",\"Groceries\",\"Groceries\",\"Groceries\",\"Groceries\",\"Groceries\",\"Groceries\",\"Groceries\",\"Groceries\",\"Groceries\",\"Groceries\",\"Groceries\",\"Groceries\",\"Groceries\",\"Groceries\",\"Groceries\",\"Groceries\",\"Groceries\",\"Groceries\",\"Groceries\",\"Groceries\",\"Groceries\",\"Groceries\",\"Groceries\",\"Groceries\",\"Groceries\",\"Groceries\",\"Groceries\",\"Groceries\",\"Groceries\",\"Groceries\",\"Groceries\",\"Groceries\",\"Groceries\",\"Groceries\",\"Groceries\",\"Groceries\",\"Groceries\",\"Groceries\",\"Groceries\",\"Groceries\",\"Groceries\",\"Groceries\",\"Groceries\",\"Groceries\",\"Groceries\",\"Groceries\",\"Groceries\",\"Groceries\",\"Groceries\",\"Groceries\",\"Groceries\",\"Groceries\",\"Groceries\",\"Groceries\",\"Groceries\",\"Groceries\",\"Groceries\",\"Groceries\",\"Groceries\",\"Groceries\",\"Groceries\",\"Groceries\",\"Groceries\",\"Groceries\",\"Groceries\",\"Groceries\",\"Groceries\",\"Groceries\",\"Groceries\",\"Groceries\",\"Groceries\",\"Groceries\",\"Groceries\",\"Groceries\",\"Groceries\",\"Groceries\",\"Groceries\",\"Groceries\",\"Groceries\",\"Groceries\",\"Groceries\",\"Groceries\",\"Groceries\",\"Groceries\",\"Groceries\",\"Groceries\",\"Groceries\",\"Groceries\",\"Groceries\",\"Groceries\",\"Groceries\",\"Groceries\",\"Groceries\",\"Groceries\",\"Groceries\",\"Groceries\",\"Groceries\",\"Groceries\",\"Groceries\",\"Groceries\",\"Groceries\",\"Groceries\",\"Groceries\",\"Groceries\",\"Groceries\",\"Groceries\",\"Groceries\",\"Groceries\",\"Groceries\",\"Groceries\"]]]}}},\"view\":{\"type\":\"object\",\"name\":\"CDSView\",\"id\":\"p1215\",\"attributes\":{\"filter\":{\"type\":\"object\",\"name\":\"AllIndices\",\"id\":\"p1216\"}}},\"glyph\":{\"type\":\"object\",\"name\":\"Scatter\",\"id\":\"p1211\",\"attributes\":{\"tags\":[\"apply_ranges\"],\"x\":{\"type\":\"field\",\"field\":\"year-mon\"},\"y\":{\"type\":\"field\",\"field\":\"AMOUNT\"},\"size\":{\"type\":\"value\",\"value\":5.477225575051661},\"line_color\":{\"type\":\"value\",\"value\":\"#1f77b4\"},\"fill_color\":{\"type\":\"value\",\"value\":\"#1f77b4\"},\"hatch_color\":{\"type\":\"value\",\"value\":\"#1f77b4\"}}},\"selection_glyph\":{\"type\":\"object\",\"name\":\"Scatter\",\"id\":\"p1218\",\"attributes\":{\"tags\":[\"apply_ranges\"],\"x\":{\"type\":\"field\",\"field\":\"year-mon\"},\"y\":{\"type\":\"field\",\"field\":\"AMOUNT\"},\"size\":{\"type\":\"value\",\"value\":5.477225575051661},\"angle\":{\"type\":\"value\",\"value\":0.0},\"line_color\":{\"type\":\"value\",\"value\":\"#1f77b4\"},\"line_alpha\":{\"type\":\"value\",\"value\":1.0},\"line_width\":{\"type\":\"value\",\"value\":1},\"line_join\":{\"type\":\"value\",\"value\":\"bevel\"},\"line_cap\":{\"type\":\"value\",\"value\":\"butt\"},\"line_dash\":{\"type\":\"value\",\"value\":[]},\"line_dash_offset\":{\"type\":\"value\",\"value\":0},\"fill_color\":{\"type\":\"value\",\"value\":\"#1f77b4\"},\"fill_alpha\":{\"type\":\"value\",\"value\":1.0},\"hatch_color\":{\"type\":\"value\",\"value\":\"#1f77b4\"},\"hatch_alpha\":{\"type\":\"value\",\"value\":1.0},\"hatch_scale\":{\"type\":\"value\",\"value\":12.0},\"hatch_pattern\":{\"type\":\"value\",\"value\":null},\"hatch_weight\":{\"type\":\"value\",\"value\":1.0},\"marker\":{\"type\":\"value\",\"value\":\"circle\"}}},\"nonselection_glyph\":{\"type\":\"object\",\"name\":\"Scatter\",\"id\":\"p1212\",\"attributes\":{\"tags\":[\"apply_ranges\"],\"x\":{\"type\":\"field\",\"field\":\"year-mon\"},\"y\":{\"type\":\"field\",\"field\":\"AMOUNT\"},\"size\":{\"type\":\"value\",\"value\":5.477225575051661},\"line_color\":{\"type\":\"value\",\"value\":\"#1f77b4\"},\"line_alpha\":{\"type\":\"value\",\"value\":0.1},\"fill_color\":{\"type\":\"value\",\"value\":\"#1f77b4\"},\"fill_alpha\":{\"type\":\"value\",\"value\":0.1},\"hatch_color\":{\"type\":\"value\",\"value\":\"#1f77b4\"},\"hatch_alpha\":{\"type\":\"value\",\"value\":0.1}}},\"muted_glyph\":{\"type\":\"object\",\"name\":\"Scatter\",\"id\":\"p1213\",\"attributes\":{\"tags\":[\"apply_ranges\"],\"x\":{\"type\":\"field\",\"field\":\"year-mon\"},\"y\":{\"type\":\"field\",\"field\":\"AMOUNT\"},\"size\":{\"type\":\"value\",\"value\":5.477225575051661},\"line_color\":{\"type\":\"value\",\"value\":\"#1f77b4\"},\"line_alpha\":{\"type\":\"value\",\"value\":0.2},\"fill_color\":{\"type\":\"value\",\"value\":\"#1f77b4\"},\"fill_alpha\":{\"type\":\"value\",\"value\":0.2},\"hatch_color\":{\"type\":\"value\",\"value\":\"#1f77b4\"},\"hatch_alpha\":{\"type\":\"value\",\"value\":0.2}}}}},{\"type\":\"object\",\"name\":\"GlyphRenderer\",\"id\":\"p1228\",\"attributes\":{\"name\":\"Housing\",\"data_source\":{\"type\":\"object\",\"name\":\"ColumnDataSource\",\"id\":\"p1219\",\"attributes\":{\"selected\":{\"type\":\"object\",\"name\":\"Selection\",\"id\":\"p1220\",\"attributes\":{\"indices\":[],\"line_indices\":[]}},\"selection_policy\":{\"type\":\"object\",\"name\":\"UnionRenderers\",\"id\":\"p1221\"},\"data\":{\"type\":\"map\",\"entries\":[[\"year-mon\",{\"type\":\"ndarray\",\"array\":{\"type\":\"bytes\",\"data\":\"AACA53JeckIAAMA5bWhyQgAAwFpwcXJCAAAArWp7ckIAAICZEoVyQgAAwOsMj3JCAABA2LSYckIAAIAqr6JyQgAAwHyprHJCAABAaVG2ckIAAIC7S8ByQgAAAKjzyXJCAABA+u3TckIAAIBM6N1yQgAAgG3r5nJCAADAv+XwckIAAECsjfpyQgAAgP6HBHNCAAAA6y8Oc0IAAEA9KhhzQgAAgI8kInNCAAAAfMwrc0IAAEDOxjVzQgAAwLpuP3NCAAAADWlJc0IAAEBfY1NzQgAAAOa4XHNCAABAOLNmc0IAAMAkW3BzQgAAAHdVenNCAACAY/2Dc0IAAMC1941zQgAAAAjyl3NCAACA9Jmhc0IAAMBGlKtzQgAAQDM8tXNCAACAhTa/c0IAAMDXMMlzQgAAwPgz0nNCAAAASy7cc0IAAIA31uVzQgAAwInQ73NCAABAdnj5c0IAAIDIcgN0QgAAwBptDXRCAABABxUXdEIAAIBZDyF0QgAAAEa3KnRCAABAmLE0dEIAAIDqqz50QgAAgAuvR3RCAADAXalRdEIAAEBKUVt0QgAAgJxLZXRCAAAAifNudEIAAEDb7Xh0QgAAgC3ognRCAAAAGpCMdEIAAEBsipZ0QgAAwFgyoHRCAAAAqyyqdEIAAED9JrR0QgAAQB4qvXRCAACAcCTHdEIAAABdzNB0QgAAQK/G2nRCAADAm27kdEIAAADuaO50QgAAQEBj+HRCAADALAsCdUIAAAB/BQx1QgAAgGutFXVCAADAvacfdUIAAAAQoil1QgAAwJb3MnVCAAAA6fE8dUIAAIDVmUZ1QgAAwCeUUHVCAABAFDxadUIAAIBmNmR1QgAAwLgwbnVCAABApdh3dUIAAID30oF1QgAAAOR6i3VCAABANnWVdUIAAICIb591QgAAgKlyqHVCAADA+2yydUIAAEDoFLx1QgAAgDoPxnVCAAAAJ7fPdUIAAEB5sdl1QgAAgMur43VCAAAAuFPtdUIAAEAKTvd1QgAAwPb1AHZCAAAASfAKdkIAAECb6hR2QgAAQLztHXZCAACADugndkIAAAD7jzF2QgAAQE2KO3ZCAADAOTJFdkIAAACMLE92QgAAQN4mWXZCAADAys5idkIAAAAdyWx2QgAAgAlxdnZCAADAW2uAdkIAAACuZYp2QgAAAM9ok3ZCAABAIWOddkIAAMANC6d2QgAAAGAFsXZCAACATK26dkIAAMCep8R2QgAAAPGhznZCAACA3UnYdkIAAMAvROJ2QgAAQBzs63ZCAACAbub1dkIAAMDA4P92QgAAgEc2CXdCAADAmTATd0IAAECG2Bx3QgAAgNjSJndCAAAAxXowd0IAAEAXdTp3QgAAgGlvRHdCAAAAVhdOd0IAAECoEVh3QgAAwJS5YXdC\"},\"shape\":[132],\"dtype\":\"float64\",\"order\":\"little\"}],[\"AMOUNT\",{\"type\":\"ndarray\",\"array\":{\"type\":\"bytes\",\"data\":\"H4XrUQhjikAOEohQELGKQLVEGwN1wYpAltHbsrYzi0ASCgyQfSCLQMO6RfXtRItAtBAYkRAvi0CUeBWJV/qKQOe74xMOU4tAxfu/ImZSi0CYpoMBeUOLQGoLTG+lT4tA6fup8RJ/i0CxsmffvaSLQGRstLGfqItAYY/C9Sjji0A1x5kcjBKMQKyBlgoqBYxAuhoUuEkXjEDEbLP90A6MQEMsntHHR4xALAleR21wjEBLClIzDoWMQEQZ8+YoeIxAZART662sjED3UAz9TsaMQGOx8NghyYxAlIRck8H/jECrplqMF02NQGvGkkhCY41ALWr9PjhojUCytYvacKSNQMZlFi321o1AI+DWqRUCjkA6a5zhsTSOQAJtCV3rPI5AMQDBGKJRjkBezku8YH6OQGmDkr8OiI5AcM0sdKWcjkD/wgBHacWOQGNsdyCS8I5ANBe/2Vcij0BEjV5cqlKPQMUIlQCiiY9ANJrTL9qXj0BlOPUIK72PQKw8Gnrp049AKoYb8uABkEC0qLP2BhOQQAL6Zh11LJBAXkiaUlFAkEBZoVVpsFaQQG2LrfRlY5BAYb3ChH11kEBDlIhP5YqQQDgoeCDUmpBAu1uxNF6qkEAEuU4fMrqQQMmFU1PGw5BAgUnw3pvXkEBJWPVRo+qQQP6IxlsfAZFAEsias1kXkUAJYRRkwCeRQDhzm/06M5FAH3qwI3RGkUCL3n5/uFiRQOuZXkWDbJFAcCG0gJ6AkUCF5iuSmZORQLJjPBE2pZFAyL/PssO0kUBX6/pF7c+RQAAmrlhS3pFAs/ifQnPukUAsfbn/zPaRQCuIYyuzBZJAyGHDGTsXkkDMgbSDRCaSQD421QzuM5JArKdrbfw/kkCTqIWDQUSSQNKeNSC5TpJAoY+pZeNlkkBqvHojFn2SQO2Lj5vMjJJARxlBx/mskkAL0zdVir6SQH39p8VQ1JJATQSpRFDrkkDeNnT34P+SQKG049r2GpNAQFxj3V0vk0BMH+mY7DqTQECUh9dzSJNAhlzyrZVrk0DjYEacZoCTQCNsHDUImpNAmoYzZqKqk0CrrMNAUrmTQIQB7Ai315NAOVKvI/Xlk0CQ4LRFD/mTQEHCIk+6C5RAA8ZmXIESlEAMfJ/TQDOUQG7ExzDoUpRA1ahkjwZklEBNgPxMd3iUQEiNbR/yi5RAa+NpzmGllECLW94L5KeUQIETPNAut5RARV1ujHjMlEBU6fmNC+iUQHX9ZfKz75RAgBniJuMFlUAvSX++qBKVQLr9mux/JZVAma5dhHw9lUCPcUXfSE+VQIp/Ky9WaZVApEoqtyiAlUAcHCzjmJeVQMGjAL/9tpVAkQKi81XHlUD0nkiqld6VQL+ndJk2A5ZAdBDNE/4dlkANropcODeWQDm92k+CTZZA\"},\"shape\":[132],\"dtype\":\"float64\",\"order\":\"little\"}],[\"year_hyphen_minus_mon\",{\"type\":\"ndarray\",\"array\":{\"type\":\"bytes\",\"data\":\"AACA53JeckIAAMA5bWhyQgAAwFpwcXJCAAAArWp7ckIAAICZEoVyQgAAwOsMj3JCAABA2LSYckIAAIAqr6JyQgAAwHyprHJCAABAaVG2ckIAAIC7S8ByQgAAAKjzyXJCAABA+u3TckIAAIBM6N1yQgAAgG3r5nJCAADAv+XwckIAAECsjfpyQgAAgP6HBHNCAAAA6y8Oc0IAAEA9KhhzQgAAgI8kInNCAAAAfMwrc0IAAEDOxjVzQgAAwLpuP3NCAAAADWlJc0IAAEBfY1NzQgAAAOa4XHNCAABAOLNmc0IAAMAkW3BzQgAAAHdVenNCAACAY/2Dc0IAAMC1941zQgAAAAjyl3NCAACA9Jmhc0IAAMBGlKtzQgAAQDM8tXNCAACAhTa/c0IAAMDXMMlzQgAAwPgz0nNCAAAASy7cc0IAAIA31uVzQgAAwInQ73NCAABAdnj5c0IAAIDIcgN0QgAAwBptDXRCAABABxUXdEIAAIBZDyF0QgAAAEa3KnRCAABAmLE0dEIAAIDqqz50QgAAgAuvR3RCAADAXalRdEIAAEBKUVt0QgAAgJxLZXRCAAAAifNudEIAAEDb7Xh0QgAAgC3ognRCAAAAGpCMdEIAAEBsipZ0QgAAwFgyoHRCAAAAqyyqdEIAAED9JrR0QgAAQB4qvXRCAACAcCTHdEIAAABdzNB0QgAAQK/G2nRCAADAm27kdEIAAADuaO50QgAAQEBj+HRCAADALAsCdUIAAAB/BQx1QgAAgGutFXVCAADAvacfdUIAAAAQoil1QgAAwJb3MnVCAAAA6fE8dUIAAIDVmUZ1QgAAwCeUUHVCAABAFDxadUIAAIBmNmR1QgAAwLgwbnVCAABApdh3dUIAAID30oF1QgAAAOR6i3VCAABANnWVdUIAAICIb591QgAAgKlyqHVCAADA+2yydUIAAEDoFLx1QgAAgDoPxnVCAAAAJ7fPdUIAAEB5sdl1QgAAgMur43VCAAAAuFPtdUIAAEAKTvd1QgAAwPb1AHZCAAAASfAKdkIAAECb6hR2QgAAQLztHXZCAACADugndkIAAAD7jzF2QgAAQE2KO3ZCAADAOTJFdkIAAACMLE92QgAAQN4mWXZCAADAys5idkIAAAAdyWx2QgAAgAlxdnZCAADAW2uAdkIAAACuZYp2QgAAAM9ok3ZCAABAIWOddkIAAMANC6d2QgAAAGAFsXZCAACATK26dkIAAMCep8R2QgAAAPGhznZCAACA3UnYdkIAAMAvROJ2QgAAQBzs63ZCAACAbub1dkIAAMDA4P92QgAAgEc2CXdCAADAmTATd0IAAECG2Bx3QgAAgNjSJndCAAAAxXowd0IAAEAXdTp3QgAAgGlvRHdCAAAAVhdOd0IAAECoEVh3QgAAwJS5YXdC\"},\"shape\":[132],\"dtype\":\"float64\",\"order\":\"little\"}],[\"EXP_TYPE\",[\"Housing\",\"Housing\",\"Housing\",\"Housing\",\"Housing\",\"Housing\",\"Housing\",\"Housing\",\"Housing\",\"Housing\",\"Housing\",\"Housing\",\"Housing\",\"Housing\",\"Housing\",\"Housing\",\"Housing\",\"Housing\",\"Housing\",\"Housing\",\"Housing\",\"Housing\",\"Housing\",\"Housing\",\"Housing\",\"Housing\",\"Housing\",\"Housing\",\"Housing\",\"Housing\",\"Housing\",\"Housing\",\"Housing\",\"Housing\",\"Housing\",\"Housing\",\"Housing\",\"Housing\",\"Housing\",\"Housing\",\"Housing\",\"Housing\",\"Housing\",\"Housing\",\"Housing\",\"Housing\",\"Housing\",\"Housing\",\"Housing\",\"Housing\",\"Housing\",\"Housing\",\"Housing\",\"Housing\",\"Housing\",\"Housing\",\"Housing\",\"Housing\",\"Housing\",\"Housing\",\"Housing\",\"Housing\",\"Housing\",\"Housing\",\"Housing\",\"Housing\",\"Housing\",\"Housing\",\"Housing\",\"Housing\",\"Housing\",\"Housing\",\"Housing\",\"Housing\",\"Housing\",\"Housing\",\"Housing\",\"Housing\",\"Housing\",\"Housing\",\"Housing\",\"Housing\",\"Housing\",\"Housing\",\"Housing\",\"Housing\",\"Housing\",\"Housing\",\"Housing\",\"Housing\",\"Housing\",\"Housing\",\"Housing\",\"Housing\",\"Housing\",\"Housing\",\"Housing\",\"Housing\",\"Housing\",\"Housing\",\"Housing\",\"Housing\",\"Housing\",\"Housing\",\"Housing\",\"Housing\",\"Housing\",\"Housing\",\"Housing\",\"Housing\",\"Housing\",\"Housing\",\"Housing\",\"Housing\",\"Housing\",\"Housing\",\"Housing\",\"Housing\",\"Housing\",\"Housing\",\"Housing\",\"Housing\",\"Housing\",\"Housing\",\"Housing\",\"Housing\",\"Housing\",\"Housing\",\"Housing\",\"Housing\",\"Housing\",\"Housing\"]]]}}},\"view\":{\"type\":\"object\",\"name\":\"CDSView\",\"id\":\"p1229\",\"attributes\":{\"filter\":{\"type\":\"object\",\"name\":\"AllIndices\",\"id\":\"p1230\"}}},\"glyph\":{\"type\":\"object\",\"name\":\"Scatter\",\"id\":\"p1225\",\"attributes\":{\"tags\":[\"apply_ranges\"],\"x\":{\"type\":\"field\",\"field\":\"year-mon\"},\"y\":{\"type\":\"field\",\"field\":\"AMOUNT\"},\"size\":{\"type\":\"value\",\"value\":5.477225575051661},\"line_color\":{\"type\":\"value\",\"value\":\"#e377c2\"},\"fill_color\":{\"type\":\"value\",\"value\":\"#e377c2\"},\"hatch_color\":{\"type\":\"value\",\"value\":\"#e377c2\"}}},\"selection_glyph\":{\"type\":\"object\",\"name\":\"Scatter\",\"id\":\"p1232\",\"attributes\":{\"tags\":[\"apply_ranges\"],\"x\":{\"type\":\"field\",\"field\":\"year-mon\"},\"y\":{\"type\":\"field\",\"field\":\"AMOUNT\"},\"size\":{\"type\":\"value\",\"value\":5.477225575051661},\"angle\":{\"type\":\"value\",\"value\":0.0},\"line_color\":{\"type\":\"value\",\"value\":\"#e377c2\"},\"line_alpha\":{\"type\":\"value\",\"value\":1.0},\"line_width\":{\"type\":\"value\",\"value\":1},\"line_join\":{\"type\":\"value\",\"value\":\"bevel\"},\"line_cap\":{\"type\":\"value\",\"value\":\"butt\"},\"line_dash\":{\"type\":\"value\",\"value\":[]},\"line_dash_offset\":{\"type\":\"value\",\"value\":0},\"fill_color\":{\"type\":\"value\",\"value\":\"#e377c2\"},\"fill_alpha\":{\"type\":\"value\",\"value\":1.0},\"hatch_color\":{\"type\":\"value\",\"value\":\"#e377c2\"},\"hatch_alpha\":{\"type\":\"value\",\"value\":1.0},\"hatch_scale\":{\"type\":\"value\",\"value\":12.0},\"hatch_pattern\":{\"type\":\"value\",\"value\":null},\"hatch_weight\":{\"type\":\"value\",\"value\":1.0},\"marker\":{\"type\":\"value\",\"value\":\"circle\"}}},\"nonselection_glyph\":{\"type\":\"object\",\"name\":\"Scatter\",\"id\":\"p1226\",\"attributes\":{\"tags\":[\"apply_ranges\"],\"x\":{\"type\":\"field\",\"field\":\"year-mon\"},\"y\":{\"type\":\"field\",\"field\":\"AMOUNT\"},\"size\":{\"type\":\"value\",\"value\":5.477225575051661},\"line_color\":{\"type\":\"value\",\"value\":\"#e377c2\"},\"line_alpha\":{\"type\":\"value\",\"value\":0.1},\"fill_color\":{\"type\":\"value\",\"value\":\"#e377c2\"},\"fill_alpha\":{\"type\":\"value\",\"value\":0.1},\"hatch_color\":{\"type\":\"value\",\"value\":\"#e377c2\"},\"hatch_alpha\":{\"type\":\"value\",\"value\":0.1}}},\"muted_glyph\":{\"type\":\"object\",\"name\":\"Scatter\",\"id\":\"p1227\",\"attributes\":{\"tags\":[\"apply_ranges\"],\"x\":{\"type\":\"field\",\"field\":\"year-mon\"},\"y\":{\"type\":\"field\",\"field\":\"AMOUNT\"},\"size\":{\"type\":\"value\",\"value\":5.477225575051661},\"line_color\":{\"type\":\"value\",\"value\":\"#e377c2\"},\"line_alpha\":{\"type\":\"value\",\"value\":0.2},\"fill_color\":{\"type\":\"value\",\"value\":\"#e377c2\"},\"fill_alpha\":{\"type\":\"value\",\"value\":0.2},\"hatch_color\":{\"type\":\"value\",\"value\":\"#e377c2\"},\"hatch_alpha\":{\"type\":\"value\",\"value\":0.2}}}}},{\"type\":\"object\",\"name\":\"GlyphRenderer\",\"id\":\"p1242\",\"attributes\":{\"name\":\"Entertainment\",\"data_source\":{\"type\":\"object\",\"name\":\"ColumnDataSource\",\"id\":\"p1233\",\"attributes\":{\"selected\":{\"type\":\"object\",\"name\":\"Selection\",\"id\":\"p1234\",\"attributes\":{\"indices\":[],\"line_indices\":[]}},\"selection_policy\":{\"type\":\"object\",\"name\":\"UnionRenderers\",\"id\":\"p1235\"},\"data\":{\"type\":\"map\",\"entries\":[[\"year-mon\",{\"type\":\"ndarray\",\"array\":{\"type\":\"bytes\",\"data\":\"AACA53JeckIAAMA5bWhyQgAAwFpwcXJCAAAArWp7ckIAAICZEoVyQgAAwOsMj3JCAABA2LSYckIAAIAqr6JyQgAAwHyprHJCAABAaVG2ckIAAIC7S8ByQgAAAKjzyXJCAABA+u3TckIAAIBM6N1yQgAAgG3r5nJCAADAv+XwckIAAECsjfpyQgAAgP6HBHNCAAAA6y8Oc0IAAEA9KhhzQgAAgI8kInNCAAAAfMwrc0IAAEDOxjVzQgAAwLpuP3NCAAAADWlJc0IAAEBfY1NzQgAAAOa4XHNCAABAOLNmc0IAAMAkW3BzQgAAAHdVenNCAACAY/2Dc0IAAMC1941zQgAAAAjyl3NCAACA9Jmhc0IAAMBGlKtzQgAAQDM8tXNCAACAhTa/c0IAAMDXMMlzQgAAwPgz0nNCAAAASy7cc0IAAIA31uVzQgAAwInQ73NCAABAdnj5c0IAAIDIcgN0QgAAwBptDXRCAABABxUXdEIAAIBZDyF0QgAAAEa3KnRCAABAmLE0dEIAAIDqqz50QgAAgAuvR3RCAADAXalRdEIAAEBKUVt0QgAAgJxLZXRCAAAAifNudEIAAEDb7Xh0QgAAgC3ognRCAAAAGpCMdEIAAEBsipZ0QgAAwFgyoHRCAAAAqyyqdEIAAED9JrR0QgAAQB4qvXRCAACAcCTHdEIAAABdzNB0QgAAQK/G2nRCAADAm27kdEIAAADuaO50QgAAQEBj+HRCAADALAsCdUIAAAB/BQx1QgAAgGutFXVCAADAvacfdUIAAAAQoil1QgAAwJb3MnVCAAAA6fE8dUIAAIDVmUZ1QgAAwCeUUHVCAABAFDxadUIAAIBmNmR1QgAAwLgwbnVCAABApdh3dUIAAID30oF1QgAAAOR6i3VCAABANnWVdUIAAICIb591QgAAgKlyqHVCAADA+2yydUIAAEDoFLx1QgAAgDoPxnVCAAAAJ7fPdUIAAEB5sdl1QgAAgMur43VCAAAAuFPtdUIAAEAKTvd1QgAAwPb1AHZCAAAASfAKdkIAAECb6hR2QgAAQLztHXZCAACADugndkIAAAD7jzF2QgAAQE2KO3ZCAADAOTJFdkIAAACMLE92QgAAQN4mWXZCAADAys5idkIAAAAdyWx2QgAAgAlxdnZCAADAW2uAdkIAAACuZYp2QgAAAM9ok3ZCAABAIWOddkIAAMANC6d2QgAAAGAFsXZCAACATK26dkIAAMCep8R2QgAAAPGhznZCAACA3UnYdkIAAMAvROJ2QgAAQBzs63ZCAACAbub1dkIAAMDA4P92QgAAgEc2CXdCAADAmTATd0IAAECG2Bx3QgAAgNjSJndCAAAAxXowd0IAAEAXdTp3QgAAgGlvRHdCAAAAVhdOd0IAAECoEVh3QgAAwJS5YXdC\"},\"shape\":[132],\"dtype\":\"float64\",\"order\":\"little\"}],[\"AMOUNT\",{\"type\":\"ndarray\",\"array\":{\"type\":\"bytes\",\"data\":\"NKQL+/+NO0ByqPPRHf07QKbwj9oIyzxAnIakARwpPEBdboAFkuU8QOU6wNWCTzxAds+PbzKXPEB+M+zycsQ8QIqDKLF6CjxAnMUnNTCeP0BIGHwedz9BQAKW0D86QUJASLfOc3vsO0DNSBG1y4U8QOpnjD3gITxAK3m8e0pePEAcTwuEWwM9QIbEZ3VATDxA3A2wqFI0PEBK5ykNhwI9QPq6KfStSD1A222X22s/QECsdkflBppBQHsHzkA6u0JAqzQqDhHxPECMjVa26/M8QJWikwfvLT1AeWRpgwk9PUATEEP3Cuo9QH/hivYndj1AXMPSgh92PUAclSh4C5o9QE2FuPCV8D1A7v3YLx+lQECVpCMXFt9BQIgiNCePaUNAQvBsw4bCPUA76LbSlEI+QIziql8h/j1A0N3ceqJEPkD26YMYxSg+QOUqeX4aVD5AAySQQ8hXPkAclgiJqR4+QKP25CGZ+z1Asp7W5MqjQEAvtj2cNCVCQNdcenfp00NAHkBbsk2nPkBaTBs/m68+QP+P44053j5Aan02634GP0Aca+419u0+QEGeEsZO7j5ArFBpRvL7PkBYlPXCsNs+QPemLz9ATj9AXQUgnwkjQUCVX49BYulCQAK/btyvhERA0j1dTYY0P0BV7dr5uJI/QHx3CuVT2z9Acp6RFPWWP0BtqBKqkNQ/QGw+6QVH8D9ABceomdv5P0D+9BEZSg9AQPfMq7c0A0BAnCslX+aqQUA4RIN0WjJDQLU7OaMY4URASVir3XskQEBd+u8awyJAQJLM+Y3aU0BAI4ou3jUDQEAA6JACQBpAQEpKPg3IC0BA+gUpgtpQQEBTRBGmfC9AQNTogA0KRUBAi3NvM70FQkCJWZNkVnxDQFYXAC/hOkVAMglHbAE1QEBWAGYCokhAQN0q+EkjU0BAss1L3WOQQEAD1foO9WtAQDfLbbHVmEBAriPrzJaDQEChybeeGYxAQKiKpiNNtEBAkierGM9QQkAA1nT4tNdDQBTjVxA5g0VAexKgAxzgQEDvM2coeaxAQIqQvG2ZvEBAkmnfv7XnQED1EuRY88NAQIPOWW4O3EBAC3utUoKxQEC6WncsUcVAQI1t01uhEEFAbqAwIbWUQkDdiZe5YWFEQIw+c52SOkZA2wBTf3Q0QUCsLKNdLSFBQGmXdiNdGkFAs5icqEodQUCzlupD4RRBQH+EWB1mIEFA4+zIAQ8LQUBQTE3M3SBBQDqdZjHHIUFASqJ/vLf8QkArZE+ZP6hEQHwBcbRgg0ZAmppaC0ZcQUDuYkrlvDZBQGr9V84FYUFAEy7xmbRAQUAJhfZMTmpBQKkjoiq0akFA+OP4bA+NQUBbIp4fbWJBQDy+BMfTuEFAVq3bXRB9Q0B4UhxlIi1FQNfeMvk92EZA\"},\"shape\":[132],\"dtype\":\"float64\",\"order\":\"little\"}],[\"year_hyphen_minus_mon\",{\"type\":\"ndarray\",\"array\":{\"type\":\"bytes\",\"data\":\"AACA53JeckIAAMA5bWhyQgAAwFpwcXJCAAAArWp7ckIAAICZEoVyQgAAwOsMj3JCAABA2LSYckIAAIAqr6JyQgAAwHyprHJCAABAaVG2ckIAAIC7S8ByQgAAAKjzyXJCAABA+u3TckIAAIBM6N1yQgAAgG3r5nJCAADAv+XwckIAAECsjfpyQgAAgP6HBHNCAAAA6y8Oc0IAAEA9KhhzQgAAgI8kInNCAAAAfMwrc0IAAEDOxjVzQgAAwLpuP3NCAAAADWlJc0IAAEBfY1NzQgAAAOa4XHNCAABAOLNmc0IAAMAkW3BzQgAAAHdVenNCAACAY/2Dc0IAAMC1941zQgAAAAjyl3NCAACA9Jmhc0IAAMBGlKtzQgAAQDM8tXNCAACAhTa/c0IAAMDXMMlzQgAAwPgz0nNCAAAASy7cc0IAAIA31uVzQgAAwInQ73NCAABAdnj5c0IAAIDIcgN0QgAAwBptDXRCAABABxUXdEIAAIBZDyF0QgAAAEa3KnRCAABAmLE0dEIAAIDqqz50QgAAgAuvR3RCAADAXalRdEIAAEBKUVt0QgAAgJxLZXRCAAAAifNudEIAAEDb7Xh0QgAAgC3ognRCAAAAGpCMdEIAAEBsipZ0QgAAwFgyoHRCAAAAqyyqdEIAAED9JrR0QgAAQB4qvXRCAACAcCTHdEIAAABdzNB0QgAAQK/G2nRCAADAm27kdEIAAADuaO50QgAAQEBj+HRCAADALAsCdUIAAAB/BQx1QgAAgGutFXVCAADAvacfdUIAAAAQoil1QgAAwJb3MnVCAAAA6fE8dUIAAIDVmUZ1QgAAwCeUUHVCAABAFDxadUIAAIBmNmR1QgAAwLgwbnVCAABApdh3dUIAAID30oF1QgAAAOR6i3VCAABANnWVdUIAAICIb591QgAAgKlyqHVCAADA+2yydUIAAEDoFLx1QgAAgDoPxnVCAAAAJ7fPdUIAAEB5sdl1QgAAgMur43VCAAAAuFPtdUIAAEAKTvd1QgAAwPb1AHZCAAAASfAKdkIAAECb6hR2QgAAQLztHXZCAACADugndkIAAAD7jzF2QgAAQE2KO3ZCAADAOTJFdkIAAACMLE92QgAAQN4mWXZCAADAys5idkIAAAAdyWx2QgAAgAlxdnZCAADAW2uAdkIAAACuZYp2QgAAAM9ok3ZCAABAIWOddkIAAMANC6d2QgAAAGAFsXZCAACATK26dkIAAMCep8R2QgAAAPGhznZCAACA3UnYdkIAAMAvROJ2QgAAQBzs63ZCAACAbub1dkIAAMDA4P92QgAAgEc2CXdCAADAmTATd0IAAECG2Bx3QgAAgNjSJndCAAAAxXowd0IAAEAXdTp3QgAAgGlvRHdCAAAAVhdOd0IAAECoEVh3QgAAwJS5YXdC\"},\"shape\":[132],\"dtype\":\"float64\",\"order\":\"little\"}],[\"EXP_TYPE\",[\"Entertainment\",\"Entertainment\",\"Entertainment\",\"Entertainment\",\"Entertainment\",\"Entertainment\",\"Entertainment\",\"Entertainment\",\"Entertainment\",\"Entertainment\",\"Entertainment\",\"Entertainment\",\"Entertainment\",\"Entertainment\",\"Entertainment\",\"Entertainment\",\"Entertainment\",\"Entertainment\",\"Entertainment\",\"Entertainment\",\"Entertainment\",\"Entertainment\",\"Entertainment\",\"Entertainment\",\"Entertainment\",\"Entertainment\",\"Entertainment\",\"Entertainment\",\"Entertainment\",\"Entertainment\",\"Entertainment\",\"Entertainment\",\"Entertainment\",\"Entertainment\",\"Entertainment\",\"Entertainment\",\"Entertainment\",\"Entertainment\",\"Entertainment\",\"Entertainment\",\"Entertainment\",\"Entertainment\",\"Entertainment\",\"Entertainment\",\"Entertainment\",\"Entertainment\",\"Entertainment\",\"Entertainment\",\"Entertainment\",\"Entertainment\",\"Entertainment\",\"Entertainment\",\"Entertainment\",\"Entertainment\",\"Entertainment\",\"Entertainment\",\"Entertainment\",\"Entertainment\",\"Entertainment\",\"Entertainment\",\"Entertainment\",\"Entertainment\",\"Entertainment\",\"Entertainment\",\"Entertainment\",\"Entertainment\",\"Entertainment\",\"Entertainment\",\"Entertainment\",\"Entertainment\",\"Entertainment\",\"Entertainment\",\"Entertainment\",\"Entertainment\",\"Entertainment\",\"Entertainment\",\"Entertainment\",\"Entertainment\",\"Entertainment\",\"Entertainment\",\"Entertainment\",\"Entertainment\",\"Entertainment\",\"Entertainment\",\"Entertainment\",\"Entertainment\",\"Entertainment\",\"Entertainment\",\"Entertainment\",\"Entertainment\",\"Entertainment\",\"Entertainment\",\"Entertainment\",\"Entertainment\",\"Entertainment\",\"Entertainment\",\"Entertainment\",\"Entertainment\",\"Entertainment\",\"Entertainment\",\"Entertainment\",\"Entertainment\",\"Entertainment\",\"Entertainment\",\"Entertainment\",\"Entertainment\",\"Entertainment\",\"Entertainment\",\"Entertainment\",\"Entertainment\",\"Entertainment\",\"Entertainment\",\"Entertainment\",\"Entertainment\",\"Entertainment\",\"Entertainment\",\"Entertainment\",\"Entertainment\",\"Entertainment\",\"Entertainment\",\"Entertainment\",\"Entertainment\",\"Entertainment\",\"Entertainment\",\"Entertainment\",\"Entertainment\",\"Entertainment\",\"Entertainment\",\"Entertainment\",\"Entertainment\",\"Entertainment\",\"Entertainment\"]]]}}},\"view\":{\"type\":\"object\",\"name\":\"CDSView\",\"id\":\"p1243\",\"attributes\":{\"filter\":{\"type\":\"object\",\"name\":\"AllIndices\",\"id\":\"p1244\"}}},\"glyph\":{\"type\":\"object\",\"name\":\"Scatter\",\"id\":\"p1239\",\"attributes\":{\"tags\":[\"apply_ranges\"],\"x\":{\"type\":\"field\",\"field\":\"year-mon\"},\"y\":{\"type\":\"field\",\"field\":\"AMOUNT\"},\"size\":{\"type\":\"value\",\"value\":5.477225575051661},\"line_color\":{\"type\":\"value\",\"value\":\"#8c564b\"},\"fill_color\":{\"type\":\"value\",\"value\":\"#8c564b\"},\"hatch_color\":{\"type\":\"value\",\"value\":\"#8c564b\"}}},\"selection_glyph\":{\"type\":\"object\",\"name\":\"Scatter\",\"id\":\"p1246\",\"attributes\":{\"tags\":[\"apply_ranges\"],\"x\":{\"type\":\"field\",\"field\":\"year-mon\"},\"y\":{\"type\":\"field\",\"field\":\"AMOUNT\"},\"size\":{\"type\":\"value\",\"value\":5.477225575051661},\"angle\":{\"type\":\"value\",\"value\":0.0},\"line_color\":{\"type\":\"value\",\"value\":\"#8c564b\"},\"line_alpha\":{\"type\":\"value\",\"value\":1.0},\"line_width\":{\"type\":\"value\",\"value\":1},\"line_join\":{\"type\":\"value\",\"value\":\"bevel\"},\"line_cap\":{\"type\":\"value\",\"value\":\"butt\"},\"line_dash\":{\"type\":\"value\",\"value\":[]},\"line_dash_offset\":{\"type\":\"value\",\"value\":0},\"fill_color\":{\"type\":\"value\",\"value\":\"#8c564b\"},\"fill_alpha\":{\"type\":\"value\",\"value\":1.0},\"hatch_color\":{\"type\":\"value\",\"value\":\"#8c564b\"},\"hatch_alpha\":{\"type\":\"value\",\"value\":1.0},\"hatch_scale\":{\"type\":\"value\",\"value\":12.0},\"hatch_pattern\":{\"type\":\"value\",\"value\":null},\"hatch_weight\":{\"type\":\"value\",\"value\":1.0},\"marker\":{\"type\":\"value\",\"value\":\"circle\"}}},\"nonselection_glyph\":{\"type\":\"object\",\"name\":\"Scatter\",\"id\":\"p1240\",\"attributes\":{\"tags\":[\"apply_ranges\"],\"x\":{\"type\":\"field\",\"field\":\"year-mon\"},\"y\":{\"type\":\"field\",\"field\":\"AMOUNT\"},\"size\":{\"type\":\"value\",\"value\":5.477225575051661},\"line_color\":{\"type\":\"value\",\"value\":\"#8c564b\"},\"line_alpha\":{\"type\":\"value\",\"value\":0.1},\"fill_color\":{\"type\":\"value\",\"value\":\"#8c564b\"},\"fill_alpha\":{\"type\":\"value\",\"value\":0.1},\"hatch_color\":{\"type\":\"value\",\"value\":\"#8c564b\"},\"hatch_alpha\":{\"type\":\"value\",\"value\":0.1}}},\"muted_glyph\":{\"type\":\"object\",\"name\":\"Scatter\",\"id\":\"p1241\",\"attributes\":{\"tags\":[\"apply_ranges\"],\"x\":{\"type\":\"field\",\"field\":\"year-mon\"},\"y\":{\"type\":\"field\",\"field\":\"AMOUNT\"},\"size\":{\"type\":\"value\",\"value\":5.477225575051661},\"line_color\":{\"type\":\"value\",\"value\":\"#8c564b\"},\"line_alpha\":{\"type\":\"value\",\"value\":0.2},\"fill_color\":{\"type\":\"value\",\"value\":\"#8c564b\"},\"fill_alpha\":{\"type\":\"value\",\"value\":0.2},\"hatch_color\":{\"type\":\"value\",\"value\":\"#8c564b\"},\"hatch_alpha\":{\"type\":\"value\",\"value\":0.2}}}}},{\"type\":\"object\",\"name\":\"GlyphRenderer\",\"id\":\"p1256\",\"attributes\":{\"name\":\"Savings\",\"data_source\":{\"type\":\"object\",\"name\":\"ColumnDataSource\",\"id\":\"p1247\",\"attributes\":{\"selected\":{\"type\":\"object\",\"name\":\"Selection\",\"id\":\"p1248\",\"attributes\":{\"indices\":[],\"line_indices\":[]}},\"selection_policy\":{\"type\":\"object\",\"name\":\"UnionRenderers\",\"id\":\"p1249\"},\"data\":{\"type\":\"map\",\"entries\":[[\"year-mon\",{\"type\":\"ndarray\",\"array\":{\"type\":\"bytes\",\"data\":\"AACA53JeckIAAMA5bWhyQgAAwFpwcXJCAAAArWp7ckIAAICZEoVyQgAAwOsMj3JCAABA2LSYckIAAIAqr6JyQgAAwHyprHJCAABAaVG2ckIAAIC7S8ByQgAAAKjzyXJCAABA+u3TckIAAIBM6N1yQgAAgG3r5nJCAADAv+XwckIAAECsjfpyQgAAgP6HBHNCAAAA6y8Oc0IAAEA9KhhzQgAAgI8kInNCAAAAfMwrc0IAAEDOxjVzQgAAwLpuP3NCAAAADWlJc0IAAEBfY1NzQgAAAOa4XHNCAABAOLNmc0IAAMAkW3BzQgAAAHdVenNCAACAY/2Dc0IAAMC1941zQgAAAAjyl3NCAACA9Jmhc0IAAMBGlKtzQgAAQDM8tXNCAACAhTa/c0IAAMDXMMlzQgAAwPgz0nNCAAAASy7cc0IAAIA31uVzQgAAwInQ73NCAABAdnj5c0IAAIDIcgN0QgAAwBptDXRCAABABxUXdEIAAIBZDyF0QgAAAEa3KnRCAABAmLE0dEIAAIDqqz50QgAAgAuvR3RCAADAXalRdEIAAEBKUVt0QgAAgJxLZXRCAAAAifNudEIAAEDb7Xh0QgAAgC3ognRCAAAAGpCMdEIAAEBsipZ0QgAAwFgyoHRCAAAAqyyqdEIAAED9JrR0QgAAQB4qvXRCAACAcCTHdEIAAABdzNB0QgAAQK/G2nRCAADAm27kdEIAAADuaO50QgAAQEBj+HRCAADALAsCdUIAAAB/BQx1QgAAgGutFXVCAADAvacfdUIAAAAQoil1QgAAwJb3MnVCAAAA6fE8dUIAAIDVmUZ1QgAAwCeUUHVCAABAFDxadUIAAIBmNmR1QgAAwLgwbnVCAABApdh3dUIAAID30oF1QgAAAOR6i3VCAABANnWVdUIAAICIb591QgAAgKlyqHVCAADA+2yydUIAAEDoFLx1QgAAgDoPxnVCAAAAJ7fPdUIAAEB5sdl1QgAAgMur43VCAAAAuFPtdUIAAEAKTvd1QgAAwPb1AHZCAAAASfAKdkIAAECb6hR2QgAAQLztHXZCAACADugndkIAAAD7jzF2QgAAQE2KO3ZCAADAOTJFdkIAAACMLE92QgAAQN4mWXZCAADAys5idkIAAAAdyWx2QgAAgAlxdnZCAADAW2uAdkIAAACuZYp2QgAAAM9ok3ZCAABAIWOddkIAAMANC6d2QgAAAGAFsXZCAACATK26dkIAAMCep8R2QgAAAPGhznZCAACA3UnYdkIAAMAvROJ2QgAAQBzs63ZCAACAbub1dkIAAMDA4P92QgAAgEc2CXdCAADAmTATd0IAAECG2Bx3QgAAgNjSJndCAAAAxXowd0IAAEAXdTp3QgAAgGlvRHdCAAAAVhdOd0IAAECoEVh3QgAAwJS5YXdC\"},\"shape\":[132],\"dtype\":\"float64\",\"order\":\"little\"}],[\"AMOUNT\",{\"type\":\"ndarray\",\"array\":{\"type\":\"bytes\",\"data\":\"oUQDtwjoXkB62DYXGdReQNx+Yn1+UVxA4OjyWyHQXUA04kCUvI9fQN27OWelqV1A34CxGgreXEDBGx/elgNdQGKlGSZVLV1AQvFAtHdfXEBivjcsOj9dQBNsjyO8UF1ArOP5/+zLW0Bx4ajXfVxcQJrU3Q3agFxA4XN2R2kwXUDpUckHWdBdQDEscjKebF1AK8rgwX7UXEDbP1zCg+JbQNTaFa5UYl1AjmjUcAYEXEBiup0Kb79cQHtGYRf8wVxASOGVTOodXEDHg639NOBcQKHLjoabZ11ALgZlmcO8XECmKRnZS1JcQOSEDM+6wFxAWBefrrs9XEDDvatFBYJcQMkRtCJL1FxAkYQcSUgQXUA1qmaI96tcQFc5bv/CKlxAP7KJUhh7XEBhT4uZJCldQFgh4pgSW11AAdlsq1Q/XECsoz5PYyJcQDiD3xQRsVxAh2byYAwZXUDq27MwbC1dQJKmOZDBcl1AtAmKbsvCXECn7nzrR5RcQMCMADv1VV1AqVF2rmVUXUB0EKzGoDZdQDrQq10rb11AVcZeDc/EXEA5n9kcdFBdQI5zQblpgl1AVHWodv84XUDxEDDIoOJdQNGYWiincF1A54pL16wRXkAAtBslNuNdQEXJ0bMqIl1ADfzkh5ZDXUCs94zkyIBdQBt3C62vsF1AZzChGU5DXkAXpyy9dC5eQItcloY/O15ANKQmfIJWXUB20sfYUTNeQL4OjyxVtl1ABdNhyOSoXUAWK7wF/ktdQLqSbEYg2l1AceZ/e+NlXUBNpitHb1xeQOTJ68Kqg11AFUSdTOq6XUA3bv4Mz1NdQAKSJcJ+qV1AtrT6IEanXUBXnmoOYvJdQIjur9+WuV1AJS48ZBCaXUCIsbWxvpRdQAjjQIDbt11ACwfyQH7gXUAqK/6qooJdQIZ8CWKGc11AdxLsia0+XUDg2fdC1HFdQH2+Fo3djl1AdIpfZkGtXUDbiGerPE9dQIKhk5xv4V1AQOM9l2SAXUBlMAFs/IldQMrc5Ok4pl1AGnQqUIfEXUD+Q9KeXhNeQDx7M6jPkF1AKsjBAGRIXUC5yxTX4DpdQNuMDic84l1AK6kaTqVOXUB8jL12eZVdQNp3iUUqWl1A9LcNe756XUCFQTI4ptJdQJx6SoT1u11AU3B+EcsbXkCeCqSa8p5dQElb2wRc6F1AHphwytGwXUANrHC6Lr1dQFhntBL9kF1AIq7FaXuhXUBO0QmpQ39dQLSbJ9hl8l1AVGbvBYXjXUCRn7KV5UtdQKnYZRQJc11AzoB7nA74XUDrhm47ShVdQJPes2RrSl1AwGn/yBmRXUBAWx9i+6VdQM2kFfCdE15A4lnZaEZwXUCbEK8CCaVdQMpJ/mFnjF1ARNar32C6XUB15tnTbIhdQPunH5twFV1A\"},\"shape\":[132],\"dtype\":\"float64\",\"order\":\"little\"}],[\"year_hyphen_minus_mon\",{\"type\":\"ndarray\",\"array\":{\"type\":\"bytes\",\"data\":\"AACA53JeckIAAMA5bWhyQgAAwFpwcXJCAAAArWp7ckIAAICZEoVyQgAAwOsMj3JCAABA2LSYckIAAIAqr6JyQgAAwHyprHJCAABAaVG2ckIAAIC7S8ByQgAAAKjzyXJCAABA+u3TckIAAIBM6N1yQgAAgG3r5nJCAADAv+XwckIAAECsjfpyQgAAgP6HBHNCAAAA6y8Oc0IAAEA9KhhzQgAAgI8kInNCAAAAfMwrc0IAAEDOxjVzQgAAwLpuP3NCAAAADWlJc0IAAEBfY1NzQgAAAOa4XHNCAABAOLNmc0IAAMAkW3BzQgAAAHdVenNCAACAY/2Dc0IAAMC1941zQgAAAAjyl3NCAACA9Jmhc0IAAMBGlKtzQgAAQDM8tXNCAACAhTa/c0IAAMDXMMlzQgAAwPgz0nNCAAAASy7cc0IAAIA31uVzQgAAwInQ73NCAABAdnj5c0IAAIDIcgN0QgAAwBptDXRCAABABxUXdEIAAIBZDyF0QgAAAEa3KnRCAABAmLE0dEIAAIDqqz50QgAAgAuvR3RCAADAXalRdEIAAEBKUVt0QgAAgJxLZXRCAAAAifNudEIAAEDb7Xh0QgAAgC3ognRCAAAAGpCMdEIAAEBsipZ0QgAAwFgyoHRCAAAAqyyqdEIAAED9JrR0QgAAQB4qvXRCAACAcCTHdEIAAABdzNB0QgAAQK/G2nRCAADAm27kdEIAAADuaO50QgAAQEBj+HRCAADALAsCdUIAAAB/BQx1QgAAgGutFXVCAADAvacfdUIAAAAQoil1QgAAwJb3MnVCAAAA6fE8dUIAAIDVmUZ1QgAAwCeUUHVCAABAFDxadUIAAIBmNmR1QgAAwLgwbnVCAABApdh3dUIAAID30oF1QgAAAOR6i3VCAABANnWVdUIAAICIb591QgAAgKlyqHVCAADA+2yydUIAAEDoFLx1QgAAgDoPxnVCAAAAJ7fPdUIAAEB5sdl1QgAAgMur43VCAAAAuFPtdUIAAEAKTvd1QgAAwPb1AHZCAAAASfAKdkIAAECb6hR2QgAAQLztHXZCAACADugndkIAAAD7jzF2QgAAQE2KO3ZCAADAOTJFdkIAAACMLE92QgAAQN4mWXZCAADAys5idkIAAAAdyWx2QgAAgAlxdnZCAADAW2uAdkIAAACuZYp2QgAAAM9ok3ZCAABAIWOddkIAAMANC6d2QgAAAGAFsXZCAACATK26dkIAAMCep8R2QgAAAPGhznZCAACA3UnYdkIAAMAvROJ2QgAAQBzs63ZCAACAbub1dkIAAMDA4P92QgAAgEc2CXdCAADAmTATd0IAAECG2Bx3QgAAgNjSJndCAAAAxXowd0IAAEAXdTp3QgAAgGlvRHdCAAAAVhdOd0IAAECoEVh3QgAAwJS5YXdC\"},\"shape\":[132],\"dtype\":\"float64\",\"order\":\"little\"}],[\"EXP_TYPE\",[\"Savings\",\"Savings\",\"Savings\",\"Savings\",\"Savings\",\"Savings\",\"Savings\",\"Savings\",\"Savings\",\"Savings\",\"Savings\",\"Savings\",\"Savings\",\"Savings\",\"Savings\",\"Savings\",\"Savings\",\"Savings\",\"Savings\",\"Savings\",\"Savings\",\"Savings\",\"Savings\",\"Savings\",\"Savings\",\"Savings\",\"Savings\",\"Savings\",\"Savings\",\"Savings\",\"Savings\",\"Savings\",\"Savings\",\"Savings\",\"Savings\",\"Savings\",\"Savings\",\"Savings\",\"Savings\",\"Savings\",\"Savings\",\"Savings\",\"Savings\",\"Savings\",\"Savings\",\"Savings\",\"Savings\",\"Savings\",\"Savings\",\"Savings\",\"Savings\",\"Savings\",\"Savings\",\"Savings\",\"Savings\",\"Savings\",\"Savings\",\"Savings\",\"Savings\",\"Savings\",\"Savings\",\"Savings\",\"Savings\",\"Savings\",\"Savings\",\"Savings\",\"Savings\",\"Savings\",\"Savings\",\"Savings\",\"Savings\",\"Savings\",\"Savings\",\"Savings\",\"Savings\",\"Savings\",\"Savings\",\"Savings\",\"Savings\",\"Savings\",\"Savings\",\"Savings\",\"Savings\",\"Savings\",\"Savings\",\"Savings\",\"Savings\",\"Savings\",\"Savings\",\"Savings\",\"Savings\",\"Savings\",\"Savings\",\"Savings\",\"Savings\",\"Savings\",\"Savings\",\"Savings\",\"Savings\",\"Savings\",\"Savings\",\"Savings\",\"Savings\",\"Savings\",\"Savings\",\"Savings\",\"Savings\",\"Savings\",\"Savings\",\"Savings\",\"Savings\",\"Savings\",\"Savings\",\"Savings\",\"Savings\",\"Savings\",\"Savings\",\"Savings\",\"Savings\",\"Savings\",\"Savings\",\"Savings\",\"Savings\",\"Savings\",\"Savings\",\"Savings\",\"Savings\",\"Savings\",\"Savings\",\"Savings\",\"Savings\",\"Savings\"]]]}}},\"view\":{\"type\":\"object\",\"name\":\"CDSView\",\"id\":\"p1257\",\"attributes\":{\"filter\":{\"type\":\"object\",\"name\":\"AllIndices\",\"id\":\"p1258\"}}},\"glyph\":{\"type\":\"object\",\"name\":\"Scatter\",\"id\":\"p1253\",\"attributes\":{\"tags\":[\"apply_ranges\"],\"x\":{\"type\":\"field\",\"field\":\"year-mon\"},\"y\":{\"type\":\"field\",\"field\":\"AMOUNT\"},\"size\":{\"type\":\"value\",\"value\":5.477225575051661},\"line_color\":{\"type\":\"value\",\"value\":\"#bcbd22\"},\"fill_color\":{\"type\":\"value\",\"value\":\"#bcbd22\"},\"hatch_color\":{\"type\":\"value\",\"value\":\"#bcbd22\"}}},\"selection_glyph\":{\"type\":\"object\",\"name\":\"Scatter\",\"id\":\"p1260\",\"attributes\":{\"tags\":[\"apply_ranges\"],\"x\":{\"type\":\"field\",\"field\":\"year-mon\"},\"y\":{\"type\":\"field\",\"field\":\"AMOUNT\"},\"size\":{\"type\":\"value\",\"value\":5.477225575051661},\"angle\":{\"type\":\"value\",\"value\":0.0},\"line_color\":{\"type\":\"value\",\"value\":\"#bcbd22\"},\"line_alpha\":{\"type\":\"value\",\"value\":1.0},\"line_width\":{\"type\":\"value\",\"value\":1},\"line_join\":{\"type\":\"value\",\"value\":\"bevel\"},\"line_cap\":{\"type\":\"value\",\"value\":\"butt\"},\"line_dash\":{\"type\":\"value\",\"value\":[]},\"line_dash_offset\":{\"type\":\"value\",\"value\":0},\"fill_color\":{\"type\":\"value\",\"value\":\"#bcbd22\"},\"fill_alpha\":{\"type\":\"value\",\"value\":1.0},\"hatch_color\":{\"type\":\"value\",\"value\":\"#bcbd22\"},\"hatch_alpha\":{\"type\":\"value\",\"value\":1.0},\"hatch_scale\":{\"type\":\"value\",\"value\":12.0},\"hatch_pattern\":{\"type\":\"value\",\"value\":null},\"hatch_weight\":{\"type\":\"value\",\"value\":1.0},\"marker\":{\"type\":\"value\",\"value\":\"circle\"}}},\"nonselection_glyph\":{\"type\":\"object\",\"name\":\"Scatter\",\"id\":\"p1254\",\"attributes\":{\"tags\":[\"apply_ranges\"],\"x\":{\"type\":\"field\",\"field\":\"year-mon\"},\"y\":{\"type\":\"field\",\"field\":\"AMOUNT\"},\"size\":{\"type\":\"value\",\"value\":5.477225575051661},\"line_color\":{\"type\":\"value\",\"value\":\"#bcbd22\"},\"line_alpha\":{\"type\":\"value\",\"value\":0.1},\"fill_color\":{\"type\":\"value\",\"value\":\"#bcbd22\"},\"fill_alpha\":{\"type\":\"value\",\"value\":0.1},\"hatch_color\":{\"type\":\"value\",\"value\":\"#bcbd22\"},\"hatch_alpha\":{\"type\":\"value\",\"value\":0.1}}},\"muted_glyph\":{\"type\":\"object\",\"name\":\"Scatter\",\"id\":\"p1255\",\"attributes\":{\"tags\":[\"apply_ranges\"],\"x\":{\"type\":\"field\",\"field\":\"year-mon\"},\"y\":{\"type\":\"field\",\"field\":\"AMOUNT\"},\"size\":{\"type\":\"value\",\"value\":5.477225575051661},\"line_color\":{\"type\":\"value\",\"value\":\"#bcbd22\"},\"line_alpha\":{\"type\":\"value\",\"value\":0.2},\"fill_color\":{\"type\":\"value\",\"value\":\"#bcbd22\"},\"fill_alpha\":{\"type\":\"value\",\"value\":0.2},\"hatch_color\":{\"type\":\"value\",\"value\":\"#bcbd22\"},\"hatch_alpha\":{\"type\":\"value\",\"value\":0.2}}}}}],\"toolbar\":{\"type\":\"object\",\"name\":\"Toolbar\",\"id\":\"p1058\",\"attributes\":{\"tools\":[{\"type\":\"object\",\"name\":\"WheelZoomTool\",\"id\":\"p1014\",\"attributes\":{\"tags\":[\"hv_created\"],\"renderers\":\"auto\",\"zoom_together\":\"none\"}},{\"type\":\"object\",\"name\":\"HoverTool\",\"id\":\"p1015\",\"attributes\":{\"tags\":[\"hv_created\"],\"renderers\":[{\"id\":\"p1101\"},{\"id\":\"p1116\"},{\"id\":\"p1130\"},{\"id\":\"p1144\"},{\"id\":\"p1158\"},{\"id\":\"p1172\"},{\"id\":\"p1186\"},{\"id\":\"p1200\"},{\"id\":\"p1214\"},{\"id\":\"p1228\"},{\"id\":\"p1242\"},{\"id\":\"p1256\"}],\"tooltips\":[[\"EXP_TYPE\",\"@{EXP_TYPE}\"],[\"year-mon\",\"@{year_hyphen_minus_mon}{%F %T}\"],[\"AMOUNT\",\"@{AMOUNT}\"]],\"formatters\":{\"type\":\"map\",\"entries\":[[\"@{year-mon}\",\"datetime\"],[\"@{year_hyphen_minus_mon}\",\"datetime\"]]}}},{\"type\":\"object\",\"name\":\"SaveTool\",\"id\":\"p1083\"},{\"type\":\"object\",\"name\":\"PanTool\",\"id\":\"p1084\"},{\"type\":\"object\",\"name\":\"BoxZoomTool\",\"id\":\"p1085\",\"attributes\":{\"overlay\":{\"type\":\"object\",\"name\":\"BoxAnnotation\",\"id\":\"p1086\",\"attributes\":{\"syncable\":false,\"level\":\"overlay\",\"visible\":false,\"left\":{\"type\":\"number\",\"value\":\"nan\"},\"right\":{\"type\":\"number\",\"value\":\"nan\"},\"top\":{\"type\":\"number\",\"value\":\"nan\"},\"bottom\":{\"type\":\"number\",\"value\":\"nan\"},\"left_units\":\"canvas\",\"right_units\":\"canvas\",\"top_units\":\"canvas\",\"bottom_units\":\"canvas\",\"line_color\":\"black\",\"line_alpha\":1.0,\"line_width\":2,\"line_dash\":[4,4],\"fill_color\":\"lightgrey\",\"fill_alpha\":0.5}}}},{\"type\":\"object\",\"name\":\"ResetTool\",\"id\":\"p1091\"}],\"active_drag\":{\"id\":\"p1084\"},\"active_scroll\":{\"id\":\"p1014\"}}},\"left\":[{\"type\":\"object\",\"name\":\"LinearAxis\",\"id\":\"p1078\",\"attributes\":{\"ticker\":{\"type\":\"object\",\"name\":\"BasicTicker\",\"id\":\"p1079\",\"attributes\":{\"mantissas\":[1,2,5]}},\"formatter\":{\"type\":\"object\",\"name\":\"BasicTickFormatter\",\"id\":\"p1080\"},\"axis_label\":\"AMOUNT\",\"major_label_policy\":{\"type\":\"object\",\"name\":\"AllLabels\",\"id\":\"p1081\"}}}],\"right\":[{\"type\":\"object\",\"name\":\"Legend\",\"id\":\"p1104\",\"attributes\":{\"location\":[0,0],\"title\":\"EXP_TYPE\",\"click_policy\":\"mute\",\"items\":[{\"type\":\"object\",\"name\":\"LegendItem\",\"id\":\"p1105\",\"attributes\":{\"label\":{\"type\":\"value\",\"value\":\"Bills and Utilities\"},\"renderers\":[{\"id\":\"p1101\"}]}},{\"type\":\"object\",\"name\":\"LegendItem\",\"id\":\"p1119\",\"attributes\":{\"label\":{\"type\":\"value\",\"value\":\"Tax\"},\"renderers\":[{\"id\":\"p1116\"}]}},{\"type\":\"object\",\"name\":\"LegendItem\",\"id\":\"p1133\",\"attributes\":{\"label\":{\"type\":\"value\",\"value\":\"Health\"},\"renderers\":[{\"id\":\"p1130\"}]}},{\"type\":\"object\",\"name\":\"LegendItem\",\"id\":\"p1147\",\"attributes\":{\"label\":{\"type\":\"value\",\"value\":\"Fines\"},\"renderers\":[{\"id\":\"p1144\"}]}},{\"type\":\"object\",\"name\":\"LegendItem\",\"id\":\"p1161\",\"attributes\":{\"label\":{\"type\":\"value\",\"value\":\"Clothing\"},\"renderers\":[{\"id\":\"p1158\"}]}},{\"type\":\"object\",\"name\":\"LegendItem\",\"id\":\"p1175\",\"attributes\":{\"label\":{\"type\":\"value\",\"value\":\"Gambling\"},\"renderers\":[{\"id\":\"p1172\"}]}},{\"type\":\"object\",\"name\":\"LegendItem\",\"id\":\"p1189\",\"attributes\":{\"label\":{\"type\":\"value\",\"value\":\"Education\"},\"renderers\":[{\"id\":\"p1186\"}]}},{\"type\":\"object\",\"name\":\"LegendItem\",\"id\":\"p1203\",\"attributes\":{\"label\":{\"type\":\"value\",\"value\":\"Motor/Travel\"},\"renderers\":[{\"id\":\"p1200\"}]}},{\"type\":\"object\",\"name\":\"LegendItem\",\"id\":\"p1217\",\"attributes\":{\"label\":{\"type\":\"value\",\"value\":\"Groceries\"},\"renderers\":[{\"id\":\"p1214\"}]}},{\"type\":\"object\",\"name\":\"LegendItem\",\"id\":\"p1231\",\"attributes\":{\"label\":{\"type\":\"value\",\"value\":\"Housing\"},\"renderers\":[{\"id\":\"p1228\"}]}},{\"type\":\"object\",\"name\":\"LegendItem\",\"id\":\"p1245\",\"attributes\":{\"label\":{\"type\":\"value\",\"value\":\"Entertainment\"},\"renderers\":[{\"id\":\"p1242\"}]}},{\"type\":\"object\",\"name\":\"LegendItem\",\"id\":\"p1259\",\"attributes\":{\"label\":{\"type\":\"value\",\"value\":\"Savings\"},\"renderers\":[{\"id\":\"p1256\"}]}}]}}],\"below\":[{\"type\":\"object\",\"name\":\"DatetimeAxis\",\"id\":\"p1061\",\"attributes\":{\"ticker\":{\"type\":\"object\",\"name\":\"DatetimeTicker\",\"id\":\"p1062\",\"attributes\":{\"num_minor_ticks\":5,\"tickers\":[{\"type\":\"object\",\"name\":\"AdaptiveTicker\",\"id\":\"p1063\",\"attributes\":{\"num_minor_ticks\":0,\"mantissas\":[1,2,5],\"max_interval\":500.0}},{\"type\":\"object\",\"name\":\"AdaptiveTicker\",\"id\":\"p1064\",\"attributes\":{\"num_minor_ticks\":0,\"base\":60,\"mantissas\":[1,2,5,10,15,20,30],\"min_interval\":1000.0,\"max_interval\":1800000.0}},{\"type\":\"object\",\"name\":\"AdaptiveTicker\",\"id\":\"p1065\",\"attributes\":{\"num_minor_ticks\":0,\"base\":24,\"mantissas\":[1,2,4,6,8,12],\"min_interval\":3600000.0,\"max_interval\":43200000.0}},{\"type\":\"object\",\"name\":\"DaysTicker\",\"id\":\"p1066\",\"attributes\":{\"days\":[1,2,3,4,5,6,7,8,9,10,11,12,13,14,15,16,17,18,19,20,21,22,23,24,25,26,27,28,29,30,31]}},{\"type\":\"object\",\"name\":\"DaysTicker\",\"id\":\"p1067\",\"attributes\":{\"days\":[1,4,7,10,13,16,19,22,25,28]}},{\"type\":\"object\",\"name\":\"DaysTicker\",\"id\":\"p1068\",\"attributes\":{\"days\":[1,8,15,22]}},{\"type\":\"object\",\"name\":\"DaysTicker\",\"id\":\"p1069\",\"attributes\":{\"days\":[1,15]}},{\"type\":\"object\",\"name\":\"MonthsTicker\",\"id\":\"p1070\",\"attributes\":{\"months\":[0,1,2,3,4,5,6,7,8,9,10,11]}},{\"type\":\"object\",\"name\":\"MonthsTicker\",\"id\":\"p1071\",\"attributes\":{\"months\":[0,2,4,6,8,10]}},{\"type\":\"object\",\"name\":\"MonthsTicker\",\"id\":\"p1072\",\"attributes\":{\"months\":[0,4,8]}},{\"type\":\"object\",\"name\":\"MonthsTicker\",\"id\":\"p1073\",\"attributes\":{\"months\":[0,6]}},{\"type\":\"object\",\"name\":\"YearsTicker\",\"id\":\"p1074\"}]}},\"formatter\":{\"type\":\"object\",\"name\":\"DatetimeTickFormatter\",\"id\":\"p1075\"},\"axis_label\":\"year-mon\",\"major_label_policy\":{\"type\":\"object\",\"name\":\"AllLabels\",\"id\":\"p1076\"}}}],\"center\":[{\"type\":\"object\",\"name\":\"Grid\",\"id\":\"p1077\",\"attributes\":{\"axis\":{\"id\":\"p1061\"},\"grid_line_color\":null}},{\"type\":\"object\",\"name\":\"Grid\",\"id\":\"p1082\",\"attributes\":{\"dimension\":1,\"axis\":{\"id\":\"p1078\"},\"grid_line_color\":null}}],\"min_border_top\":10,\"min_border_bottom\":10,\"min_border_left\":10,\"min_border_right\":10,\"output_backend\":\"webgl\"}},{\"type\":\"object\",\"name\":\"Spacer\",\"id\":\"p1262\",\"attributes\":{\"name\":\"HSpacer01000\",\"stylesheets\":[\"\\n:host(.pn-loading):before, .pn-loading:before {\\n  background-color: #c3c3c3;\\n  mask-size: auto calc(min(50%, 400px));\\n  -webkit-mask-size: auto calc(min(50%, 400px));\\n}\",{\"id\":\"p1007\"},{\"id\":\"p1005\"},{\"id\":\"p1006\"}],\"margin\":0,\"sizing_mode\":\"stretch_width\",\"align\":\"start\"}}]}}],\"defs\":[{\"type\":\"model\",\"name\":\"ReactiveHTML1\"},{\"type\":\"model\",\"name\":\"FlexBox1\",\"properties\":[{\"name\":\"align_content\",\"kind\":\"Any\",\"default\":\"flex-start\"},{\"name\":\"align_items\",\"kind\":\"Any\",\"default\":\"flex-start\"},{\"name\":\"flex_direction\",\"kind\":\"Any\",\"default\":\"row\"},{\"name\":\"flex_wrap\",\"kind\":\"Any\",\"default\":\"wrap\"},{\"name\":\"gap\",\"kind\":\"Any\",\"default\":\"\"},{\"name\":\"justify_content\",\"kind\":\"Any\",\"default\":\"flex-start\"}]},{\"type\":\"model\",\"name\":\"FloatPanel1\",\"properties\":[{\"name\":\"config\",\"kind\":\"Any\",\"default\":{\"type\":\"map\"}},{\"name\":\"contained\",\"kind\":\"Any\",\"default\":true},{\"name\":\"position\",\"kind\":\"Any\",\"default\":\"right-top\"},{\"name\":\"offsetx\",\"kind\":\"Any\",\"default\":null},{\"name\":\"offsety\",\"kind\":\"Any\",\"default\":null},{\"name\":\"theme\",\"kind\":\"Any\",\"default\":\"primary\"},{\"name\":\"status\",\"kind\":\"Any\",\"default\":\"normalized\"}]},{\"type\":\"model\",\"name\":\"GridStack1\",\"properties\":[{\"name\":\"mode\",\"kind\":\"Any\",\"default\":\"warn\"},{\"name\":\"ncols\",\"kind\":\"Any\",\"default\":null},{\"name\":\"nrows\",\"kind\":\"Any\",\"default\":null},{\"name\":\"allow_resize\",\"kind\":\"Any\",\"default\":true},{\"name\":\"allow_drag\",\"kind\":\"Any\",\"default\":true},{\"name\":\"state\",\"kind\":\"Any\",\"default\":[]}]},{\"type\":\"model\",\"name\":\"drag1\",\"properties\":[{\"name\":\"slider_width\",\"kind\":\"Any\",\"default\":5},{\"name\":\"slider_color\",\"kind\":\"Any\",\"default\":\"black\"},{\"name\":\"value\",\"kind\":\"Any\",\"default\":50}]},{\"type\":\"model\",\"name\":\"click1\",\"properties\":[{\"name\":\"terminal_output\",\"kind\":\"Any\",\"default\":\"\"},{\"name\":\"debug_name\",\"kind\":\"Any\",\"default\":\"\"},{\"name\":\"clears\",\"kind\":\"Any\",\"default\":0}]},{\"type\":\"model\",\"name\":\"FastWrapper1\",\"properties\":[{\"name\":\"object\",\"kind\":\"Any\",\"default\":null},{\"name\":\"style\",\"kind\":\"Any\",\"default\":null}]},{\"type\":\"model\",\"name\":\"NotificationAreaBase1\",\"properties\":[{\"name\":\"js_events\",\"kind\":\"Any\",\"default\":{\"type\":\"map\"}},{\"name\":\"position\",\"kind\":\"Any\",\"default\":\"bottom-right\"},{\"name\":\"_clear\",\"kind\":\"Any\",\"default\":0}]},{\"type\":\"model\",\"name\":\"NotificationArea1\",\"properties\":[{\"name\":\"js_events\",\"kind\":\"Any\",\"default\":{\"type\":\"map\"}},{\"name\":\"notifications\",\"kind\":\"Any\",\"default\":[]},{\"name\":\"position\",\"kind\":\"Any\",\"default\":\"bottom-right\"},{\"name\":\"_clear\",\"kind\":\"Any\",\"default\":0},{\"name\":\"types\",\"kind\":\"Any\",\"default\":[{\"type\":\"map\",\"entries\":[[\"type\",\"warning\"],[\"background\",\"#ffc107\"],[\"icon\",{\"type\":\"map\",\"entries\":[[\"className\",\"fas fa-exclamation-triangle\"],[\"tagName\",\"i\"],[\"color\",\"white\"]]}]]},{\"type\":\"map\",\"entries\":[[\"type\",\"info\"],[\"background\",\"#007bff\"],[\"icon\",{\"type\":\"map\",\"entries\":[[\"className\",\"fas fa-info-circle\"],[\"tagName\",\"i\"],[\"color\",\"white\"]]}]]}]}]},{\"type\":\"model\",\"name\":\"Notification\",\"properties\":[{\"name\":\"background\",\"kind\":\"Any\",\"default\":null},{\"name\":\"duration\",\"kind\":\"Any\",\"default\":3000},{\"name\":\"icon\",\"kind\":\"Any\",\"default\":null},{\"name\":\"message\",\"kind\":\"Any\",\"default\":\"\"},{\"name\":\"notification_type\",\"kind\":\"Any\",\"default\":null},{\"name\":\"_destroyed\",\"kind\":\"Any\",\"default\":false}]},{\"type\":\"model\",\"name\":\"TemplateActions1\",\"properties\":[{\"name\":\"open_modal\",\"kind\":\"Any\",\"default\":0},{\"name\":\"close_modal\",\"kind\":\"Any\",\"default\":0}]},{\"type\":\"model\",\"name\":\"BootstrapTemplateActions1\",\"properties\":[{\"name\":\"open_modal\",\"kind\":\"Any\",\"default\":0},{\"name\":\"close_modal\",\"kind\":\"Any\",\"default\":0}]},{\"type\":\"model\",\"name\":\"TemplateEditor1\",\"properties\":[{\"name\":\"layout\",\"kind\":\"Any\",\"default\":[]}]},{\"type\":\"model\",\"name\":\"MaterialTemplateActions1\",\"properties\":[{\"name\":\"open_modal\",\"kind\":\"Any\",\"default\":0},{\"name\":\"close_modal\",\"kind\":\"Any\",\"default\":0}]},{\"type\":\"model\",\"name\":\"copy_to_clipboard1\",\"properties\":[{\"name\":\"fill\",\"kind\":\"Any\",\"default\":\"none\"},{\"name\":\"value\",\"kind\":\"Any\",\"default\":null}]}]}};\n",
              "  var render_items = [{\"docid\":\"f361c70e-cc4d-43eb-96c3-640a37b2d578\",\"roots\":{\"p1004\":\"cdab4225-c61b-44ea-b712-21291a064db4\"},\"root_ids\":[\"p1004\"]}];\n",
              "  var docs = Object.values(docs_json)\n",
              "  if (!docs) {\n",
              "    return\n",
              "  }\n",
              "  const py_version = docs[0].version.replace('rc', '-rc.').replace('.dev', '-dev.')\n",
              "  async function embed_document(root) {\n",
              "    var Bokeh = get_bokeh(root)\n",
              "    await Bokeh.embed.embed_items_notebook(docs_json, render_items);\n",
              "    for (const render_item of render_items) {\n",
              "      for (const root_id of render_item.root_ids) {\n",
              "\tconst id_el = document.getElementById(root_id)\n",
              "\tif (id_el.children.length && id_el.children[0].hasAttribute('data-root-id')) {\n",
              "\t  const root_el = id_el.children[0]\n",
              "\t  root_el.id = root_el.id + '-rendered'\n",
              "\t  for (const child of root_el.children) {\n",
              "            // Ensure JupyterLab does not capture keyboard shortcuts\n",
              "            // see: https://jupyterlab.readthedocs.io/en/4.1.x/extension/notebook.html#keyboard-interaction-model\n",
              "\t    child.setAttribute('data-lm-suppress-shortcuts', 'true')\n",
              "\t  }\n",
              "\t}\n",
              "      }\n",
              "    }\n",
              "  }\n",
              "  function get_bokeh(root) {\n",
              "    if (root.Bokeh === undefined) {\n",
              "      return null\n",
              "    } else if (root.Bokeh.version !== py_version) {\n",
              "      if (root.Bokeh.versions === undefined || !root.Bokeh.versions.has(py_version)) {\n",
              "\treturn null\n",
              "      }\n",
              "      return root.Bokeh.versions.get(py_version);\n",
              "    } else if (root.Bokeh.version === py_version) {\n",
              "      return root.Bokeh\n",
              "    }\n",
              "    return null\n",
              "  }\n",
              "  function is_loaded(root) {\n",
              "    var Bokeh = get_bokeh(root)\n",
              "    return (Bokeh != null && Bokeh.Panel !== undefined)\n",
              "  }\n",
              "  if (is_loaded(root)) {\n",
              "    embed_document(root);\n",
              "  } else {\n",
              "    var attempts = 0;\n",
              "    var timer = setInterval(function(root) {\n",
              "      if (is_loaded(root)) {\n",
              "        clearInterval(timer);\n",
              "        embed_document(root);\n",
              "      } else if (document.readyState == \"complete\") {\n",
              "        attempts++;\n",
              "        if (attempts > 200) {\n",
              "          clearInterval(timer);\n",
              "\t  var Bokeh = get_bokeh(root)\n",
              "\t  if (Bokeh == null || Bokeh.Panel == null) {\n",
              "            console.warn(\"Panel: ERROR: Unable to run Panel code because Bokeh or Panel library is missing\");\n",
              "\t  } else {\n",
              "\t    console.warn(\"Panel: WARNING: Attempting to render but not all required libraries could be resolved.\")\n",
              "\t    embed_document(root)\n",
              "\t  }\n",
              "        }\n",
              "      }\n",
              "    }, 25, root)\n",
              "  }\n",
              "})(window);</script>"
            ],
            "application/vnd.holoviews_exec.v0+json": "",
            "text/plain": [
              ":NdOverlay   [EXP_TYPE]\n",
              "   :Scatter   [year-mon]   (AMOUNT)"
            ]
          },
          "metadata": {
            "application/vnd.holoviews_exec.v0+json": {
              "id": "p1004"
            }
          },
          "execution_count": 28
        }
      ],
      "source": [
        "res = res.with_columns(\n",
        "    pl.datetime(pl.col(\"YEAR\"), pl.col(\"MONTH\"), day=1)\n",
        "    .alias(\"year-mon\")\n",
        ")\n",
        "\n",
        "res.hvplot.scatter(x=\"year-mon\", y=\"AMOUNT\", by=\"EXP_TYPE\")"
      ]
    },
    {
      "cell_type": "code",
      "execution_count": 29,
      "id": "ZbOWHP_YY3Am",
      "metadata": {
        "colab": {
          "base_uri": "https://localhost:8080/",
          "height": 443
        },
        "id": "ZbOWHP_YY3Am",
        "outputId": "df34a41e-15e5-4e5d-ecc2-3274eaeb7b75"
      },
      "outputs": [
        {
          "output_type": "execute_result",
          "data": {
            "text/plain": [
              "shape: (1_584, 5)\n",
              "┌─────────────────────┬──────┬───────┬────────────┬─────────────────────┐\n",
              "│ EXP_TYPE            ┆ YEAR ┆ MONTH ┆ AMOUNT     ┆ year-mon            │\n",
              "│ ---                 ┆ ---  ┆ ---   ┆ ---        ┆ ---                 │\n",
              "│ str                 ┆ i64  ┆ i64   ┆ f64        ┆ datetime[μs]        │\n",
              "╞═════════════════════╪══════╪═══════╪════════════╪═════════════════════╡\n",
              "│ Bills and Utilities ┆ 2010 ┆ 1     ┆ 85.415487  ┆ 2010-01-01 00:00:00 │\n",
              "│ Bills and Utilities ┆ 2010 ┆ 2     ┆ 90.495608  ┆ 2010-02-01 00:00:00 │\n",
              "│ Bills and Utilities ┆ 2010 ┆ 3     ┆ 94.857936  ┆ 2010-03-01 00:00:00 │\n",
              "│ Bills and Utilities ┆ 2010 ┆ 4     ┆ 95.238054  ┆ 2010-04-01 00:00:00 │\n",
              "│ Bills and Utilities ┆ 2010 ┆ 5     ┆ 94.464738  ┆ 2010-05-01 00:00:00 │\n",
              "│ …                   ┆ …    ┆ …     ┆ …          ┆ …                   │\n",
              "│ Tax                 ┆ 2020 ┆ 8     ┆ 233.777692 ┆ 2020-08-01 00:00:00 │\n",
              "│ Tax                 ┆ 2020 ┆ 9     ┆ 234.608419 ┆ 2020-09-01 00:00:00 │\n",
              "│ Tax                 ┆ 2020 ┆ 10    ┆ 234.351233 ┆ 2020-10-01 00:00:00 │\n",
              "│ Tax                 ┆ 2020 ┆ 11    ┆ 234.432279 ┆ 2020-11-01 00:00:00 │\n",
              "│ Tax                 ┆ 2020 ┆ 12    ┆ 234.278336 ┆ 2020-12-01 00:00:00 │\n",
              "└─────────────────────┴──────┴───────┴────────────┴─────────────────────┘"
            ],
            "text/html": [
              "<div><style>\n",
              ".dataframe > thead > tr,\n",
              ".dataframe > tbody > tr {\n",
              "  text-align: right;\n",
              "  white-space: pre-wrap;\n",
              "}\n",
              "</style>\n",
              "<small>shape: (1_584, 5)</small><table border=\"1\" class=\"dataframe\"><thead><tr><th>EXP_TYPE</th><th>YEAR</th><th>MONTH</th><th>AMOUNT</th><th>year-mon</th></tr><tr><td>str</td><td>i64</td><td>i64</td><td>f64</td><td>datetime[μs]</td></tr></thead><tbody><tr><td>&quot;Bills and Utilities&quot;</td><td>2010</td><td>1</td><td>85.415487</td><td>2010-01-01 00:00:00</td></tr><tr><td>&quot;Bills and Utilities&quot;</td><td>2010</td><td>2</td><td>90.495608</td><td>2010-02-01 00:00:00</td></tr><tr><td>&quot;Bills and Utilities&quot;</td><td>2010</td><td>3</td><td>94.857936</td><td>2010-03-01 00:00:00</td></tr><tr><td>&quot;Bills and Utilities&quot;</td><td>2010</td><td>4</td><td>95.238054</td><td>2010-04-01 00:00:00</td></tr><tr><td>&quot;Bills and Utilities&quot;</td><td>2010</td><td>5</td><td>94.464738</td><td>2010-05-01 00:00:00</td></tr><tr><td>&hellip;</td><td>&hellip;</td><td>&hellip;</td><td>&hellip;</td><td>&hellip;</td></tr><tr><td>&quot;Tax&quot;</td><td>2020</td><td>8</td><td>233.777692</td><td>2020-08-01 00:00:00</td></tr><tr><td>&quot;Tax&quot;</td><td>2020</td><td>9</td><td>234.608419</td><td>2020-09-01 00:00:00</td></tr><tr><td>&quot;Tax&quot;</td><td>2020</td><td>10</td><td>234.351233</td><td>2020-10-01 00:00:00</td></tr><tr><td>&quot;Tax&quot;</td><td>2020</td><td>11</td><td>234.432279</td><td>2020-11-01 00:00:00</td></tr><tr><td>&quot;Tax&quot;</td><td>2020</td><td>12</td><td>234.278336</td><td>2020-12-01 00:00:00</td></tr></tbody></table></div>"
            ]
          },
          "metadata": {},
          "execution_count": 29
        }
      ],
      "source": [
        "res"
      ]
    },
    {
      "cell_type": "markdown",
      "id": "649143e3-cd2c-4f4b-9fb0-120c395beb41",
      "metadata": {
        "id": "649143e3-cd2c-4f4b-9fb0-120c395beb41"
      },
      "source": [
        "Interoperability goes in the other direction, too. We can use materialized CPU DataFrames in downstream operations on the GPU. Polars will handle any necessary CPU/GPU conversions for us, which we'll see shortly."
      ]
    },
    {
      "cell_type": "markdown",
      "id": "6adda121-d709-4f4d-abc2-66e8f056873e",
      "metadata": {
        "id": "6adda121-d709-4f4d-abc2-66e8f056873e"
      },
      "source": [
        "# Moving Beyond Our Single Dataset\n",
        "\n",
        "Let's bring in some weather data to evaluate if transactions are impacted by weather. For example, spending behavior for certain categories could be influenced by whether it's raining or even _how much_ it's raining.\n",
        "\n",
        "Like our transactions dataset, here we'll use a simulated rainfall dataset."
      ]
    },
    {
      "cell_type": "markdown",
      "id": "cba0ded1-05bd-4bc4-9e87-70db2231fe92",
      "metadata": {
        "id": "cba0ded1-05bd-4bc4-9e87-70db2231fe92"
      },
      "source": [
        "## Is more rain related to more transactions across specific categories?\n",
        "\n",
        "Our rainfall dataset is a CSV file, so we'll use the CSV reader here and take a look at a few rows.\n",
        "\n",
        "In this case, we'll load the data using the CPU to highlight how smoothly Polars handles mixing CPU and GPU objects."
      ]
    },
    {
      "cell_type": "code",
      "execution_count": 60,
      "id": "8756b895-59fb-42b6-8d85-2c38a69c06a0",
      "metadata": {
        "colab": {
          "base_uri": "https://localhost:8080/",
          "height": 254
        },
        "id": "8756b895-59fb-42b6-8d85-2c38a69c06a0",
        "outputId": "fb1f808e-ee1a-4c5a-ce41-4cc18834a7bd"
      },
      "outputs": [
        {
          "output_type": "execute_result",
          "data": {
            "text/plain": [
              "shape: (5, 6)\n",
              "┌──────────┬───────────────────┬──────────┬──────┬───────┬─────┐\n",
              "│ Location ┆ Rainfall (inches) ┆ Date     ┆ YEAR ┆ MONTH ┆ DAY │\n",
              "│ ---      ┆ ---               ┆ ---      ┆ ---  ┆ ---   ┆ --- │\n",
              "│ str      ┆ f64               ┆ i64      ┆ i64  ┆ i64   ┆ i64 │\n",
              "╞══════════╪═══════════════════╪══════════╪══════╪═══════╪═════╡\n",
              "│ Tatooine ┆ 0.33              ┆ 20100101 ┆ 2010 ┆ 1     ┆ 1   │\n",
              "│ Tatooine ┆ 0.0               ┆ 20100102 ┆ 2010 ┆ 1     ┆ 2   │\n",
              "│ Tatooine ┆ 0.28              ┆ 20100103 ┆ 2010 ┆ 1     ┆ 3   │\n",
              "│ Tatooine ┆ 0.26              ┆ 20100104 ┆ 2010 ┆ 1     ┆ 4   │\n",
              "│ Tatooine ┆ 0.39              ┆ 20100105 ┆ 2010 ┆ 1     ┆ 5   │\n",
              "└──────────┴───────────────────┴──────────┴──────┴───────┴─────┘"
            ],
            "text/html": [
              "<div><style>\n",
              ".dataframe > thead > tr,\n",
              ".dataframe > tbody > tr {\n",
              "  text-align: right;\n",
              "  white-space: pre-wrap;\n",
              "}\n",
              "</style>\n",
              "<small>shape: (5, 6)</small><table border=\"1\" class=\"dataframe\"><thead><tr><th>Location</th><th>Rainfall (inches)</th><th>Date</th><th>YEAR</th><th>MONTH</th><th>DAY</th></tr><tr><td>str</td><td>f64</td><td>i64</td><td>i64</td><td>i64</td><td>i64</td></tr></thead><tbody><tr><td>&quot;Tatooine&quot;</td><td>0.33</td><td>20100101</td><td>2010</td><td>1</td><td>1</td></tr><tr><td>&quot;Tatooine&quot;</td><td>0.0</td><td>20100102</td><td>2010</td><td>1</td><td>2</td></tr><tr><td>&quot;Tatooine&quot;</td><td>0.28</td><td>20100103</td><td>2010</td><td>1</td><td>3</td></tr><tr><td>&quot;Tatooine&quot;</td><td>0.26</td><td>20100104</td><td>2010</td><td>1</td><td>4</td></tr><tr><td>&quot;Tatooine&quot;</td><td>0.39</td><td>20100105</td><td>2010</td><td>1</td><td>5</td></tr></tbody></table></div>"
            ]
          },
          "metadata": {},
          "execution_count": 60
        }
      ],
      "source": [
        "names = ['Location', 'Rainfall (inches)', 'Date', 'YEAR', 'MONTH', 'DAY']\n",
        "\n",
        "weather = pl.scan_csv(\"rainfall_data_2010_2020.csv\", new_columns=names)\n",
        "weather.head().collect()"
      ]
    },
    {
      "cell_type": "markdown",
      "id": "412ce849-c518-4e70-a236-fb6077b0010a",
      "metadata": {
        "id": "412ce849-c518-4e70-a236-fb6077b0010a"
      },
      "source": [
        "Data is often messy. We've got dates in this CSV file, but they weren't parsed as dates by the CSV reader due to the format. We can easily clean this up by typecasting, after which we'll materialize the DataFrame in CPU memory."
      ]
    },
    {
      "cell_type": "code",
      "execution_count": 61,
      "id": "fc9f8525-d80c-430d-8baa-6bde0f1d7753",
      "metadata": {
        "id": "fc9f8525-d80c-430d-8baa-6bde0f1d7753"
      },
      "outputs": [],
      "source": [
        "weather_cleaned = (\n",
        "    weather\n",
        "    .with_columns(pl.col(\"Date\").cast(pl.Utf8).str.strptime(pl.Date(), \"%Y%m%d\"))\n",
        "    .collect()\n",
        ")"
      ]
    },
    {
      "cell_type": "markdown",
      "id": "e0e84402-6b5d-4a2b-878e-cd72a0613fb1",
      "metadata": {
        "id": "e0e84402-6b5d-4a2b-878e-cd72a0613fb1"
      },
      "source": [
        "To answer the original question about rainfall and spending, we need to join these datasets together.\n",
        "\n",
        "We can pass this CPU in-memory DataFrame to a Polars Lazy API query by calling `.lazy()`."
      ]
    },
    {
      "cell_type": "code",
      "execution_count": 62,
      "id": "899d0901-a4f5-4f08-87dc-90464c15796f",
      "metadata": {
        "colab": {
          "base_uri": "https://localhost:8080/",
          "height": 289
        },
        "id": "899d0901-a4f5-4f08-87dc-90464c15796f",
        "outputId": "fc15eab7-0606-40da-8863-cab4ca8b2c54"
      },
      "outputs": [
        {
          "output_type": "stream",
          "name": "stdout",
          "text": [
            "CPU times: user 14.2 s, sys: 4.95 s, total: 19.2 s\n",
            "Wall time: 15 s\n"
          ]
        },
        {
          "output_type": "execute_result",
          "data": {
            "text/plain": [
              "shape: (5, 3)\n",
              "┌─────────────────────┬────────────┬───────────────────┐\n",
              "│ EXP_TYPE            ┆ DATE       ┆ Rainfall (inches) │\n",
              "│ ---                 ┆ ---        ┆ ---               │\n",
              "│ str                 ┆ date       ┆ f64               │\n",
              "╞═════════════════════╪════════════╪═══════════════════╡\n",
              "│ Bills and Utilities ┆ 2010-01-01 ┆ 0.33              │\n",
              "│ Clothing            ┆ 2010-01-01 ┆ 0.33              │\n",
              "│ Education           ┆ 2010-01-01 ┆ 0.33              │\n",
              "│ Entertainment       ┆ 2010-01-01 ┆ 0.33              │\n",
              "│ Fines               ┆ 2010-01-01 ┆ 0.33              │\n",
              "└─────────────────────┴────────────┴───────────────────┘"
            ],
            "text/html": [
              "<div><style>\n",
              ".dataframe > thead > tr,\n",
              ".dataframe > tbody > tr {\n",
              "  text-align: right;\n",
              "  white-space: pre-wrap;\n",
              "}\n",
              "</style>\n",
              "<small>shape: (5, 3)</small><table border=\"1\" class=\"dataframe\"><thead><tr><th>EXP_TYPE</th><th>DATE</th><th>Rainfall (inches)</th></tr><tr><td>str</td><td>date</td><td>f64</td></tr></thead><tbody><tr><td>&quot;Bills and Utilities&quot;</td><td>2010-01-01</td><td>0.33</td></tr><tr><td>&quot;Clothing&quot;</td><td>2010-01-01</td><td>0.33</td></tr><tr><td>&quot;Education&quot;</td><td>2010-01-01</td><td>0.33</td></tr><tr><td>&quot;Entertainment&quot;</td><td>2010-01-01</td><td>0.33</td></tr><tr><td>&quot;Fines&quot;</td><td>2010-01-01</td><td>0.33</td></tr></tbody></table></div>"
            ]
          },
          "metadata": {},
          "execution_count": 62
        }
      ],
      "source": [
        "%%time\n",
        "\n",
        "(\n",
        "    transactions\n",
        "    .join(\n",
        "        other=weather_cleaned.lazy(),\n",
        "        left_on=\"DATE\",\n",
        "        right_on=\"Date\",\n",
        "        how=\"inner\"\n",
        "    )\n",
        "    .group_by([\"EXP_TYPE\", \"DATE\"])\n",
        "    .agg(pl.mean(\"Rainfall (inches)\"))\n",
        "    .sort([\"DATE\", \"EXP_TYPE\", \"Rainfall (inches)\"])\n",
        "    .head()\n",
        "    .collect()\n",
        ")"
      ]
    },
    {
      "cell_type": "markdown",
      "id": "8d45dbf4-cc57-4b4a-a8bd-4877c9044c64",
      "metadata": {
        "id": "8d45dbf4-cc57-4b4a-a8bd-4877c9044c64"
      },
      "source": [
        "When we run the same query on the GPU, Polars handles the CPU / GPU transfers for us under the hood."
      ]
    },
    {
      "cell_type": "code",
      "execution_count": 63,
      "id": "1d959209-4803-4c31-8f22-1fda809ca1d0",
      "metadata": {
        "colab": {
          "base_uri": "https://localhost:8080/",
          "height": 289
        },
        "id": "1d959209-4803-4c31-8f22-1fda809ca1d0",
        "outputId": "07530e61-1d21-4dd5-dc8a-abab6b06232a"
      },
      "outputs": [
        {
          "output_type": "stream",
          "name": "stdout",
          "text": [
            "CPU times: user 462 ms, sys: 92.8 ms, total: 554 ms\n",
            "Wall time: 3.02 s\n"
          ]
        },
        {
          "output_type": "execute_result",
          "data": {
            "text/plain": [
              "shape: (5, 3)\n",
              "┌─────────────────────┬────────────┬───────────────────┐\n",
              "│ EXP_TYPE            ┆ DATE       ┆ Rainfall (inches) │\n",
              "│ ---                 ┆ ---        ┆ ---               │\n",
              "│ str                 ┆ date       ┆ f64               │\n",
              "╞═════════════════════╪════════════╪═══════════════════╡\n",
              "│ Bills and Utilities ┆ 2010-01-01 ┆ 0.33              │\n",
              "│ Clothing            ┆ 2010-01-01 ┆ 0.33              │\n",
              "│ Education           ┆ 2010-01-01 ┆ 0.33              │\n",
              "│ Entertainment       ┆ 2010-01-01 ┆ 0.33              │\n",
              "│ Fines               ┆ 2010-01-01 ┆ 0.33              │\n",
              "└─────────────────────┴────────────┴───────────────────┘"
            ],
            "text/html": [
              "<div><style>\n",
              ".dataframe > thead > tr,\n",
              ".dataframe > tbody > tr {\n",
              "  text-align: right;\n",
              "  white-space: pre-wrap;\n",
              "}\n",
              "</style>\n",
              "<small>shape: (5, 3)</small><table border=\"1\" class=\"dataframe\"><thead><tr><th>EXP_TYPE</th><th>DATE</th><th>Rainfall (inches)</th></tr><tr><td>str</td><td>date</td><td>f64</td></tr></thead><tbody><tr><td>&quot;Bills and Utilities&quot;</td><td>2010-01-01</td><td>0.33</td></tr><tr><td>&quot;Clothing&quot;</td><td>2010-01-01</td><td>0.33</td></tr><tr><td>&quot;Education&quot;</td><td>2010-01-01</td><td>0.33</td></tr><tr><td>&quot;Entertainment&quot;</td><td>2010-01-01</td><td>0.33</td></tr><tr><td>&quot;Fines&quot;</td><td>2010-01-01</td><td>0.33</td></tr></tbody></table></div>"
            ]
          },
          "metadata": {},
          "execution_count": 63
        }
      ],
      "source": [
        "%%time\n",
        "\n",
        "(\n",
        "    transactions\n",
        "    .join(\n",
        "        other=weather_cleaned.lazy(),\n",
        "        left_on=\"DATE\",\n",
        "        right_on=\"Date\",\n",
        "        how=\"inner\"\n",
        "    )\n",
        "    .group_by([\"EXP_TYPE\", \"DATE\"])\n",
        "    .agg(pl.mean(\"Rainfall (inches)\"))\n",
        "    .sort([\"DATE\", \"EXP_TYPE\", \"Rainfall (inches)\"])\n",
        "    .head()\n",
        "    .collect(engine=gpu_engine)\n",
        ")"
      ]
    },
    {
      "cell_type": "markdown",
      "id": "4a91bde7-5366-4843-9103-1a8067605d97",
      "metadata": {
        "id": "4a91bde7-5366-4843-9103-1a8067605d97"
      },
      "source": [
        "Let's demonstrate some more of the native plotting facilities in Polars by answering the question in more holistic fashion.\n",
        "\n",
        "We'll make a plot of total rainfall and total amount spent per month for each year and each type of expenditure."
      ]
    },
    {
      "cell_type": "code",
      "execution_count": 64,
      "id": "96d4bdd5-1513-4ab9-8706-8efe69697c89",
      "metadata": {
        "colab": {
          "base_uri": "https://localhost:8080/",
          "height": 443
        },
        "id": "96d4bdd5-1513-4ab9-8706-8efe69697c89",
        "outputId": "614fa8e2-9448-4e93-e0ad-84aa69aaa3da"
      },
      "outputs": [
        {
          "output_type": "execute_result",
          "data": {
            "text/plain": [
              "shape: (1_584, 5)\n",
              "┌─────────────────────┬──────┬───────┬───────────────────┬───────────┐\n",
              "│ EXP_TYPE            ┆ YEAR ┆ MONTH ┆ Rainfall (inches) ┆ AMOUNT    │\n",
              "│ ---                 ┆ ---  ┆ ---   ┆ ---               ┆ ---       │\n",
              "│ str                 ┆ i64  ┆ i64   ┆ f64               ┆ f64       │\n",
              "╞═════════════════════╪══════╪═══════╪═══════════════════╪═══════════╡\n",
              "│ Health              ┆ 2010 ┆ 1     ┆ 51.45             ┆ 12852.68  │\n",
              "│ Groceries           ┆ 2010 ┆ 1     ┆ 294.3             ┆ 26341.02  │\n",
              "│ Bills and Utilities ┆ 2010 ┆ 1     ┆ 59.41             ┆ 26307.97  │\n",
              "│ Fines               ┆ 2010 ┆ 1     ┆ 0.91              ┆ 315.2     │\n",
              "│ Education           ┆ 2010 ┆ 1     ┆ 25.67             ┆ 20602.49  │\n",
              "│ …                   ┆ …    ┆ …     ┆ …                 ┆ …         │\n",
              "│ Fines               ┆ 2020 ┆ 12    ┆ 3.43              ┆ 13707.66  │\n",
              "│ Clothing            ┆ 2020 ┆ 12    ┆ 413.24            ┆ 5.5658e6  │\n",
              "│ Motor/Travel        ┆ 2020 ┆ 12    ┆ 1434.55           ┆ 1.5570e7  │\n",
              "│ Groceries           ┆ 2020 ┆ 12    ┆ 2246.48           ┆ 4.2694e6  │\n",
              "│ Savings             ┆ 2020 ┆ 12    ┆ 129.21            ┆ 559804.01 │\n",
              "└─────────────────────┴──────┴───────┴───────────────────┴───────────┘"
            ],
            "text/html": [
              "<div><style>\n",
              ".dataframe > thead > tr,\n",
              ".dataframe > tbody > tr {\n",
              "  text-align: right;\n",
              "  white-space: pre-wrap;\n",
              "}\n",
              "</style>\n",
              "<small>shape: (1_584, 5)</small><table border=\"1\" class=\"dataframe\"><thead><tr><th>EXP_TYPE</th><th>YEAR</th><th>MONTH</th><th>Rainfall (inches)</th><th>AMOUNT</th></tr><tr><td>str</td><td>i64</td><td>i64</td><td>f64</td><td>f64</td></tr></thead><tbody><tr><td>&quot;Health&quot;</td><td>2010</td><td>1</td><td>51.45</td><td>12852.68</td></tr><tr><td>&quot;Groceries&quot;</td><td>2010</td><td>1</td><td>294.3</td><td>26341.02</td></tr><tr><td>&quot;Bills and Utilities&quot;</td><td>2010</td><td>1</td><td>59.41</td><td>26307.97</td></tr><tr><td>&quot;Fines&quot;</td><td>2010</td><td>1</td><td>0.91</td><td>315.2</td></tr><tr><td>&quot;Education&quot;</td><td>2010</td><td>1</td><td>25.67</td><td>20602.49</td></tr><tr><td>&hellip;</td><td>&hellip;</td><td>&hellip;</td><td>&hellip;</td><td>&hellip;</td></tr><tr><td>&quot;Fines&quot;</td><td>2020</td><td>12</td><td>3.43</td><td>13707.66</td></tr><tr><td>&quot;Clothing&quot;</td><td>2020</td><td>12</td><td>413.24</td><td>5.5658e6</td></tr><tr><td>&quot;Motor/Travel&quot;</td><td>2020</td><td>12</td><td>1434.55</td><td>1.5570e7</td></tr><tr><td>&quot;Groceries&quot;</td><td>2020</td><td>12</td><td>2246.48</td><td>4.2694e6</td></tr><tr><td>&quot;Savings&quot;</td><td>2020</td><td>12</td><td>129.21</td><td>559804.01</td></tr></tbody></table></div>"
            ]
          },
          "metadata": {},
          "execution_count": 64
        }
      ],
      "source": [
        "res = (\n",
        "    transactions\n",
        "    .join(\n",
        "        other=weather_cleaned.lazy(),\n",
        "        left_on=\"DATE\",\n",
        "        right_on=\"Date\",\n",
        "        how=\"inner\"\n",
        "    )\n",
        "    .group_by([\"EXP_TYPE\", \"YEAR\", \"MONTH\"])\n",
        "    .agg(pl.sum(\"Rainfall (inches)\"), pl.sum(\"AMOUNT\"))\n",
        "    .sort([\"YEAR\", \"MONTH\"])\n",
        "    .collect(engine=gpu_engine)\n",
        ")\n",
        "\n",
        "res"
      ]
    },
    {
      "cell_type": "code",
      "execution_count": 65,
      "id": "af3df206-7379-409d-b0c1-e03b04c09a4c",
      "metadata": {
        "colab": {
          "base_uri": "https://localhost:8080/",
          "height": 327
        },
        "id": "af3df206-7379-409d-b0c1-e03b04c09a4c",
        "outputId": "f07d7b62-7f6b-4091-bd0a-cd951bb378d3"
      },
      "outputs": [
        {
          "output_type": "display_data",
          "data": {
            "application/javascript": [
              "(function(root) {\n",
              "  function now() {\n",
              "    return new Date();\n",
              "  }\n",
              "\n",
              "  var force = true;\n",
              "  var py_version = '3.4.3'.replace('rc', '-rc.').replace('.dev', '-dev.');\n",
              "  var reloading = false;\n",
              "  var Bokeh = root.Bokeh;\n",
              "\n",
              "  if (typeof (root._bokeh_timeout) === \"undefined\" || force) {\n",
              "    root._bokeh_timeout = Date.now() + 5000;\n",
              "    root._bokeh_failed_load = false;\n",
              "  }\n",
              "\n",
              "  function run_callbacks() {\n",
              "    try {\n",
              "      root._bokeh_onload_callbacks.forEach(function(callback) {\n",
              "        if (callback != null)\n",
              "          callback();\n",
              "      });\n",
              "    } finally {\n",
              "      delete root._bokeh_onload_callbacks;\n",
              "    }\n",
              "    console.debug(\"Bokeh: all callbacks have finished\");\n",
              "  }\n",
              "\n",
              "  function load_libs(css_urls, js_urls, js_modules, js_exports, callback) {\n",
              "    if (css_urls == null) css_urls = [];\n",
              "    if (js_urls == null) js_urls = [];\n",
              "    if (js_modules == null) js_modules = [];\n",
              "    if (js_exports == null) js_exports = {};\n",
              "\n",
              "    root._bokeh_onload_callbacks.push(callback);\n",
              "\n",
              "    if (root._bokeh_is_loading > 0) {\n",
              "      console.debug(\"Bokeh: BokehJS is being loaded, scheduling callback at\", now());\n",
              "      return null;\n",
              "    }\n",
              "    if (js_urls.length === 0 && js_modules.length === 0 && Object.keys(js_exports).length === 0) {\n",
              "      run_callbacks();\n",
              "      return null;\n",
              "    }\n",
              "    if (!reloading) {\n",
              "      console.debug(\"Bokeh: BokehJS not loaded, scheduling load and callback at\", now());\n",
              "    }\n",
              "\n",
              "    function on_load() {\n",
              "      root._bokeh_is_loading--;\n",
              "      if (root._bokeh_is_loading === 0) {\n",
              "        console.debug(\"Bokeh: all BokehJS libraries/stylesheets loaded\");\n",
              "        run_callbacks()\n",
              "      }\n",
              "    }\n",
              "    window._bokeh_on_load = on_load\n",
              "\n",
              "    function on_error() {\n",
              "      console.error(\"failed to load \" + url);\n",
              "    }\n",
              "\n",
              "    var skip = [];\n",
              "    if (window.requirejs) {\n",
              "      window.requirejs.config({'packages': {}, 'paths': {}, 'shim': {}});\n",
              "      root._bokeh_is_loading = css_urls.length + 0;\n",
              "    } else {\n",
              "      root._bokeh_is_loading = css_urls.length + js_urls.length + js_modules.length + Object.keys(js_exports).length;\n",
              "    }\n",
              "\n",
              "    var existing_stylesheets = []\n",
              "    var links = document.getElementsByTagName('link')\n",
              "    for (var i = 0; i < links.length; i++) {\n",
              "      var link = links[i]\n",
              "      if (link.href != null) {\n",
              "\texisting_stylesheets.push(link.href)\n",
              "      }\n",
              "    }\n",
              "    for (var i = 0; i < css_urls.length; i++) {\n",
              "      var url = css_urls[i];\n",
              "      if (existing_stylesheets.indexOf(url) !== -1) {\n",
              "\ton_load()\n",
              "\tcontinue;\n",
              "      }\n",
              "      const element = document.createElement(\"link\");\n",
              "      element.onload = on_load;\n",
              "      element.onerror = on_error;\n",
              "      element.rel = \"stylesheet\";\n",
              "      element.type = \"text/css\";\n",
              "      element.href = url;\n",
              "      console.debug(\"Bokeh: injecting link tag for BokehJS stylesheet: \", url);\n",
              "      document.body.appendChild(element);\n",
              "    }    var existing_scripts = []\n",
              "    var scripts = document.getElementsByTagName('script')\n",
              "    for (var i = 0; i < scripts.length; i++) {\n",
              "      var script = scripts[i]\n",
              "      if (script.src != null) {\n",
              "\texisting_scripts.push(script.src)\n",
              "      }\n",
              "    }\n",
              "    for (var i = 0; i < js_urls.length; i++) {\n",
              "      var url = js_urls[i];\n",
              "      if (skip.indexOf(url) !== -1 || existing_scripts.indexOf(url) !== -1) {\n",
              "\tif (!window.requirejs) {\n",
              "\t  on_load();\n",
              "\t}\n",
              "\tcontinue;\n",
              "      }\n",
              "      var element = document.createElement('script');\n",
              "      element.onload = on_load;\n",
              "      element.onerror = on_error;\n",
              "      element.async = false;\n",
              "      element.src = url;\n",
              "      console.debug(\"Bokeh: injecting script tag for BokehJS library: \", url);\n",
              "      document.head.appendChild(element);\n",
              "    }\n",
              "    for (var i = 0; i < js_modules.length; i++) {\n",
              "      var url = js_modules[i];\n",
              "      if (skip.indexOf(url) !== -1 || existing_scripts.indexOf(url) !== -1) {\n",
              "\tif (!window.requirejs) {\n",
              "\t  on_load();\n",
              "\t}\n",
              "\tcontinue;\n",
              "      }\n",
              "      var element = document.createElement('script');\n",
              "      element.onload = on_load;\n",
              "      element.onerror = on_error;\n",
              "      element.async = false;\n",
              "      element.src = url;\n",
              "      element.type = \"module\";\n",
              "      console.debug(\"Bokeh: injecting script tag for BokehJS library: \", url);\n",
              "      document.head.appendChild(element);\n",
              "    }\n",
              "    for (const name in js_exports) {\n",
              "      var url = js_exports[name];\n",
              "      if (skip.indexOf(url) >= 0 || root[name] != null) {\n",
              "\tif (!window.requirejs) {\n",
              "\t  on_load();\n",
              "\t}\n",
              "\tcontinue;\n",
              "      }\n",
              "      var element = document.createElement('script');\n",
              "      element.onerror = on_error;\n",
              "      element.async = false;\n",
              "      element.type = \"module\";\n",
              "      console.debug(\"Bokeh: injecting script tag for BokehJS library: \", url);\n",
              "      element.textContent = `\n",
              "      import ${name} from \"${url}\"\n",
              "      window.${name} = ${name}\n",
              "      window._bokeh_on_load()\n",
              "      `\n",
              "      document.head.appendChild(element);\n",
              "    }\n",
              "    if (!js_urls.length && !js_modules.length) {\n",
              "      on_load()\n",
              "    }\n",
              "  };\n",
              "\n",
              "  function inject_raw_css(css) {\n",
              "    const element = document.createElement(\"style\");\n",
              "    element.appendChild(document.createTextNode(css));\n",
              "    document.body.appendChild(element);\n",
              "  }\n",
              "\n",
              "  var js_urls = [\"https://cdn.bokeh.org/bokeh/release/bokeh-3.4.3.min.js\", \"https://cdn.bokeh.org/bokeh/release/bokeh-gl-3.4.3.min.js\", \"https://cdn.bokeh.org/bokeh/release/bokeh-widgets-3.4.3.min.js\", \"https://cdn.bokeh.org/bokeh/release/bokeh-tables-3.4.3.min.js\", \"https://cdn.holoviz.org/panel/1.4.5/dist/panel.min.js\"];\n",
              "  var js_modules = [];\n",
              "  var js_exports = {};\n",
              "  var css_urls = [];\n",
              "  var inline_js = [    function(Bokeh) {\n",
              "      Bokeh.set_log_level(\"info\");\n",
              "    },\n",
              "function(Bokeh) {} // ensure no trailing comma for IE\n",
              "  ];\n",
              "\n",
              "  function run_inline_js() {\n",
              "    if ((root.Bokeh !== undefined) || (force === true)) {\n",
              "      for (var i = 0; i < inline_js.length; i++) {\n",
              "\ttry {\n",
              "          inline_js[i].call(root, root.Bokeh);\n",
              "\t} catch(e) {\n",
              "\t  if (!reloading) {\n",
              "\t    throw e;\n",
              "\t  }\n",
              "\t}\n",
              "      }\n",
              "      // Cache old bokeh versions\n",
              "      if (Bokeh != undefined && !reloading) {\n",
              "\tvar NewBokeh = root.Bokeh;\n",
              "\tif (Bokeh.versions === undefined) {\n",
              "\t  Bokeh.versions = new Map();\n",
              "\t}\n",
              "\tif (NewBokeh.version !== Bokeh.version) {\n",
              "\t  Bokeh.versions.set(NewBokeh.version, NewBokeh)\n",
              "\t}\n",
              "\troot.Bokeh = Bokeh;\n",
              "      }} else if (Date.now() < root._bokeh_timeout) {\n",
              "      setTimeout(run_inline_js, 100);\n",
              "    } else if (!root._bokeh_failed_load) {\n",
              "      console.log(\"Bokeh: BokehJS failed to load within specified timeout.\");\n",
              "      root._bokeh_failed_load = true;\n",
              "    }\n",
              "    root._bokeh_is_initializing = false\n",
              "  }\n",
              "\n",
              "  function load_or_wait() {\n",
              "    // Implement a backoff loop that tries to ensure we do not load multiple\n",
              "    // versions of Bokeh and its dependencies at the same time.\n",
              "    // In recent versions we use the root._bokeh_is_initializing flag\n",
              "    // to determine whether there is an ongoing attempt to initialize\n",
              "    // bokeh, however for backward compatibility we also try to ensure\n",
              "    // that we do not start loading a newer (Panel>=1.0 and Bokeh>3) version\n",
              "    // before older versions are fully initialized.\n",
              "    if (root._bokeh_is_initializing && Date.now() > root._bokeh_timeout) {\n",
              "      root._bokeh_is_initializing = false;\n",
              "      root._bokeh_onload_callbacks = undefined;\n",
              "      console.log(\"Bokeh: BokehJS was loaded multiple times but one version failed to initialize.\");\n",
              "      load_or_wait();\n",
              "    } else if (root._bokeh_is_initializing || (typeof root._bokeh_is_initializing === \"undefined\" && root._bokeh_onload_callbacks !== undefined)) {\n",
              "      setTimeout(load_or_wait, 100);\n",
              "    } else {\n",
              "      root._bokeh_is_initializing = true\n",
              "      root._bokeh_onload_callbacks = []\n",
              "      var bokeh_loaded = Bokeh != null && (Bokeh.version === py_version || (Bokeh.versions !== undefined && Bokeh.versions.has(py_version)));\n",
              "      if (!reloading && !bokeh_loaded) {\n",
              "\troot.Bokeh = undefined;\n",
              "      }\n",
              "      load_libs(css_urls, js_urls, js_modules, js_exports, function() {\n",
              "\tconsole.debug(\"Bokeh: BokehJS plotting callback run at\", now());\n",
              "\trun_inline_js();\n",
              "      });\n",
              "    }\n",
              "  }\n",
              "  // Give older versions of the autoload script a head-start to ensure\n",
              "  // they initialize before we start loading newer version.\n",
              "  setTimeout(load_or_wait, 100)\n",
              "}(window));"
            ],
            "application/vnd.holoviews_load.v0+json": "(function(root) {\n  function now() {\n    return new Date();\n  }\n\n  var force = true;\n  var py_version = '3.4.3'.replace('rc', '-rc.').replace('.dev', '-dev.');\n  var reloading = false;\n  var Bokeh = root.Bokeh;\n\n  if (typeof (root._bokeh_timeout) === \"undefined\" || force) {\n    root._bokeh_timeout = Date.now() + 5000;\n    root._bokeh_failed_load = false;\n  }\n\n  function run_callbacks() {\n    try {\n      root._bokeh_onload_callbacks.forEach(function(callback) {\n        if (callback != null)\n          callback();\n      });\n    } finally {\n      delete root._bokeh_onload_callbacks;\n    }\n    console.debug(\"Bokeh: all callbacks have finished\");\n  }\n\n  function load_libs(css_urls, js_urls, js_modules, js_exports, callback) {\n    if (css_urls == null) css_urls = [];\n    if (js_urls == null) js_urls = [];\n    if (js_modules == null) js_modules = [];\n    if (js_exports == null) js_exports = {};\n\n    root._bokeh_onload_callbacks.push(callback);\n\n    if (root._bokeh_is_loading > 0) {\n      console.debug(\"Bokeh: BokehJS is being loaded, scheduling callback at\", now());\n      return null;\n    }\n    if (js_urls.length === 0 && js_modules.length === 0 && Object.keys(js_exports).length === 0) {\n      run_callbacks();\n      return null;\n    }\n    if (!reloading) {\n      console.debug(\"Bokeh: BokehJS not loaded, scheduling load and callback at\", now());\n    }\n\n    function on_load() {\n      root._bokeh_is_loading--;\n      if (root._bokeh_is_loading === 0) {\n        console.debug(\"Bokeh: all BokehJS libraries/stylesheets loaded\");\n        run_callbacks()\n      }\n    }\n    window._bokeh_on_load = on_load\n\n    function on_error() {\n      console.error(\"failed to load \" + url);\n    }\n\n    var skip = [];\n    if (window.requirejs) {\n      window.requirejs.config({'packages': {}, 'paths': {}, 'shim': {}});\n      root._bokeh_is_loading = css_urls.length + 0;\n    } else {\n      root._bokeh_is_loading = css_urls.length + js_urls.length + js_modules.length + Object.keys(js_exports).length;\n    }\n\n    var existing_stylesheets = []\n    var links = document.getElementsByTagName('link')\n    for (var i = 0; i < links.length; i++) {\n      var link = links[i]\n      if (link.href != null) {\n\texisting_stylesheets.push(link.href)\n      }\n    }\n    for (var i = 0; i < css_urls.length; i++) {\n      var url = css_urls[i];\n      if (existing_stylesheets.indexOf(url) !== -1) {\n\ton_load()\n\tcontinue;\n      }\n      const element = document.createElement(\"link\");\n      element.onload = on_load;\n      element.onerror = on_error;\n      element.rel = \"stylesheet\";\n      element.type = \"text/css\";\n      element.href = url;\n      console.debug(\"Bokeh: injecting link tag for BokehJS stylesheet: \", url);\n      document.body.appendChild(element);\n    }    var existing_scripts = []\n    var scripts = document.getElementsByTagName('script')\n    for (var i = 0; i < scripts.length; i++) {\n      var script = scripts[i]\n      if (script.src != null) {\n\texisting_scripts.push(script.src)\n      }\n    }\n    for (var i = 0; i < js_urls.length; i++) {\n      var url = js_urls[i];\n      if (skip.indexOf(url) !== -1 || existing_scripts.indexOf(url) !== -1) {\n\tif (!window.requirejs) {\n\t  on_load();\n\t}\n\tcontinue;\n      }\n      var element = document.createElement('script');\n      element.onload = on_load;\n      element.onerror = on_error;\n      element.async = false;\n      element.src = url;\n      console.debug(\"Bokeh: injecting script tag for BokehJS library: \", url);\n      document.head.appendChild(element);\n    }\n    for (var i = 0; i < js_modules.length; i++) {\n      var url = js_modules[i];\n      if (skip.indexOf(url) !== -1 || existing_scripts.indexOf(url) !== -1) {\n\tif (!window.requirejs) {\n\t  on_load();\n\t}\n\tcontinue;\n      }\n      var element = document.createElement('script');\n      element.onload = on_load;\n      element.onerror = on_error;\n      element.async = false;\n      element.src = url;\n      element.type = \"module\";\n      console.debug(\"Bokeh: injecting script tag for BokehJS library: \", url);\n      document.head.appendChild(element);\n    }\n    for (const name in js_exports) {\n      var url = js_exports[name];\n      if (skip.indexOf(url) >= 0 || root[name] != null) {\n\tif (!window.requirejs) {\n\t  on_load();\n\t}\n\tcontinue;\n      }\n      var element = document.createElement('script');\n      element.onerror = on_error;\n      element.async = false;\n      element.type = \"module\";\n      console.debug(\"Bokeh: injecting script tag for BokehJS library: \", url);\n      element.textContent = `\n      import ${name} from \"${url}\"\n      window.${name} = ${name}\n      window._bokeh_on_load()\n      `\n      document.head.appendChild(element);\n    }\n    if (!js_urls.length && !js_modules.length) {\n      on_load()\n    }\n  };\n\n  function inject_raw_css(css) {\n    const element = document.createElement(\"style\");\n    element.appendChild(document.createTextNode(css));\n    document.body.appendChild(element);\n  }\n\n  var js_urls = [\"https://cdn.bokeh.org/bokeh/release/bokeh-3.4.3.min.js\", \"https://cdn.bokeh.org/bokeh/release/bokeh-gl-3.4.3.min.js\", \"https://cdn.bokeh.org/bokeh/release/bokeh-widgets-3.4.3.min.js\", \"https://cdn.bokeh.org/bokeh/release/bokeh-tables-3.4.3.min.js\", \"https://cdn.holoviz.org/panel/1.4.5/dist/panel.min.js\"];\n  var js_modules = [];\n  var js_exports = {};\n  var css_urls = [];\n  var inline_js = [    function(Bokeh) {\n      Bokeh.set_log_level(\"info\");\n    },\nfunction(Bokeh) {} // ensure no trailing comma for IE\n  ];\n\n  function run_inline_js() {\n    if ((root.Bokeh !== undefined) || (force === true)) {\n      for (var i = 0; i < inline_js.length; i++) {\n\ttry {\n          inline_js[i].call(root, root.Bokeh);\n\t} catch(e) {\n\t  if (!reloading) {\n\t    throw e;\n\t  }\n\t}\n      }\n      // Cache old bokeh versions\n      if (Bokeh != undefined && !reloading) {\n\tvar NewBokeh = root.Bokeh;\n\tif (Bokeh.versions === undefined) {\n\t  Bokeh.versions = new Map();\n\t}\n\tif (NewBokeh.version !== Bokeh.version) {\n\t  Bokeh.versions.set(NewBokeh.version, NewBokeh)\n\t}\n\troot.Bokeh = Bokeh;\n      }} else if (Date.now() < root._bokeh_timeout) {\n      setTimeout(run_inline_js, 100);\n    } else if (!root._bokeh_failed_load) {\n      console.log(\"Bokeh: BokehJS failed to load within specified timeout.\");\n      root._bokeh_failed_load = true;\n    }\n    root._bokeh_is_initializing = false\n  }\n\n  function load_or_wait() {\n    // Implement a backoff loop that tries to ensure we do not load multiple\n    // versions of Bokeh and its dependencies at the same time.\n    // In recent versions we use the root._bokeh_is_initializing flag\n    // to determine whether there is an ongoing attempt to initialize\n    // bokeh, however for backward compatibility we also try to ensure\n    // that we do not start loading a newer (Panel>=1.0 and Bokeh>3) version\n    // before older versions are fully initialized.\n    if (root._bokeh_is_initializing && Date.now() > root._bokeh_timeout) {\n      root._bokeh_is_initializing = false;\n      root._bokeh_onload_callbacks = undefined;\n      console.log(\"Bokeh: BokehJS was loaded multiple times but one version failed to initialize.\");\n      load_or_wait();\n    } else if (root._bokeh_is_initializing || (typeof root._bokeh_is_initializing === \"undefined\" && root._bokeh_onload_callbacks !== undefined)) {\n      setTimeout(load_or_wait, 100);\n    } else {\n      root._bokeh_is_initializing = true\n      root._bokeh_onload_callbacks = []\n      var bokeh_loaded = Bokeh != null && (Bokeh.version === py_version || (Bokeh.versions !== undefined && Bokeh.versions.has(py_version)));\n      if (!reloading && !bokeh_loaded) {\n\troot.Bokeh = undefined;\n      }\n      load_libs(css_urls, js_urls, js_modules, js_exports, function() {\n\tconsole.debug(\"Bokeh: BokehJS plotting callback run at\", now());\n\trun_inline_js();\n      });\n    }\n  }\n  // Give older versions of the autoload script a head-start to ensure\n  // they initialize before we start loading newer version.\n  setTimeout(load_or_wait, 100)\n}(window));"
          },
          "metadata": {}
        },
        {
          "output_type": "display_data",
          "data": {
            "application/vnd.holoviews_load.v0+json": "\nif ((window.PyViz === undefined) || (window.PyViz instanceof HTMLElement)) {\n  window.PyViz = {comms: {}, comm_status:{}, kernels:{}, receivers: {}, plot_index: []}\n}\n\n\n    function JupyterCommManager() {\n    }\n\n    JupyterCommManager.prototype.register_target = function(plot_id, comm_id, msg_handler) {\n      if (window.comm_manager || ((window.Jupyter !== undefined) && (Jupyter.notebook.kernel != null))) {\n        var comm_manager = window.comm_manager || Jupyter.notebook.kernel.comm_manager;\n        comm_manager.register_target(comm_id, function(comm) {\n          comm.on_msg(msg_handler);\n        });\n      } else if ((plot_id in window.PyViz.kernels) && (window.PyViz.kernels[plot_id])) {\n        window.PyViz.kernels[plot_id].registerCommTarget(comm_id, function(comm) {\n          comm.onMsg = msg_handler;\n        });\n      } else if (typeof google != 'undefined' && google.colab.kernel != null) {\n        google.colab.kernel.comms.registerTarget(comm_id, (comm) => {\n          var messages = comm.messages[Symbol.asyncIterator]();\n          function processIteratorResult(result) {\n            var message = result.value;\n            console.log(message)\n            var content = {data: message.data, comm_id};\n            var buffers = []\n            for (var buffer of message.buffers || []) {\n              buffers.push(new DataView(buffer))\n            }\n            var metadata = message.metadata || {};\n            var msg = {content, buffers, metadata}\n            msg_handler(msg);\n            return messages.next().then(processIteratorResult);\n          }\n          return messages.next().then(processIteratorResult);\n        })\n      }\n    }\n\n    JupyterCommManager.prototype.get_client_comm = function(plot_id, comm_id, msg_handler) {\n      if (comm_id in window.PyViz.comms) {\n        return window.PyViz.comms[comm_id];\n      } else if (window.comm_manager || ((window.Jupyter !== undefined) && (Jupyter.notebook.kernel != null))) {\n        var comm_manager = window.comm_manager || Jupyter.notebook.kernel.comm_manager;\n        var comm = comm_manager.new_comm(comm_id, {}, {}, {}, comm_id);\n        if (msg_handler) {\n          comm.on_msg(msg_handler);\n        }\n      } else if ((plot_id in window.PyViz.kernels) && (window.PyViz.kernels[plot_id])) {\n        var comm = window.PyViz.kernels[plot_id].connectToComm(comm_id);\n        comm.open();\n        if (msg_handler) {\n          comm.onMsg = msg_handler;\n        }\n      } else if (typeof google != 'undefined' && google.colab.kernel != null) {\n        var comm_promise = google.colab.kernel.comms.open(comm_id)\n        comm_promise.then((comm) => {\n          window.PyViz.comms[comm_id] = comm;\n          if (msg_handler) {\n            var messages = comm.messages[Symbol.asyncIterator]();\n            function processIteratorResult(result) {\n              var message = result.value;\n              var content = {data: message.data};\n              var metadata = message.metadata || {comm_id};\n              var msg = {content, metadata}\n              msg_handler(msg);\n              return messages.next().then(processIteratorResult);\n            }\n            return messages.next().then(processIteratorResult);\n          }\n        }) \n        var sendClosure = (data, metadata, buffers, disposeOnDone) => {\n          return comm_promise.then((comm) => {\n            comm.send(data, metadata, buffers, disposeOnDone);\n          });\n        };\n        var comm = {\n          send: sendClosure\n        };\n      }\n      window.PyViz.comms[comm_id] = comm;\n      return comm;\n    }\n    window.PyViz.comm_manager = new JupyterCommManager();\n    \n\n\nvar JS_MIME_TYPE = 'application/javascript';\nvar HTML_MIME_TYPE = 'text/html';\nvar EXEC_MIME_TYPE = 'application/vnd.holoviews_exec.v0+json';\nvar CLASS_NAME = 'output';\n\n/**\n * Render data to the DOM node\n */\nfunction render(props, node) {\n  var div = document.createElement(\"div\");\n  var script = document.createElement(\"script\");\n  node.appendChild(div);\n  node.appendChild(script);\n}\n\n/**\n * Handle when a new output is added\n */\nfunction handle_add_output(event, handle) {\n  var output_area = handle.output_area;\n  var output = handle.output;\n  if ((output.data == undefined) || (!output.data.hasOwnProperty(EXEC_MIME_TYPE))) {\n    return\n  }\n  var id = output.metadata[EXEC_MIME_TYPE][\"id\"];\n  var toinsert = output_area.element.find(\".\" + CLASS_NAME.split(' ')[0]);\n  if (id !== undefined) {\n    var nchildren = toinsert.length;\n    var html_node = toinsert[nchildren-1].children[0];\n    html_node.innerHTML = output.data[HTML_MIME_TYPE];\n    var scripts = [];\n    var nodelist = html_node.querySelectorAll(\"script\");\n    for (var i in nodelist) {\n      if (nodelist.hasOwnProperty(i)) {\n        scripts.push(nodelist[i])\n      }\n    }\n\n    scripts.forEach( function (oldScript) {\n      var newScript = document.createElement(\"script\");\n      var attrs = [];\n      var nodemap = oldScript.attributes;\n      for (var j in nodemap) {\n        if (nodemap.hasOwnProperty(j)) {\n          attrs.push(nodemap[j])\n        }\n      }\n      attrs.forEach(function(attr) { newScript.setAttribute(attr.name, attr.value) });\n      newScript.appendChild(document.createTextNode(oldScript.innerHTML));\n      oldScript.parentNode.replaceChild(newScript, oldScript);\n    });\n    if (JS_MIME_TYPE in output.data) {\n      toinsert[nchildren-1].children[1].textContent = output.data[JS_MIME_TYPE];\n    }\n    output_area._hv_plot_id = id;\n    if ((window.Bokeh !== undefined) && (id in Bokeh.index)) {\n      window.PyViz.plot_index[id] = Bokeh.index[id];\n    } else {\n      window.PyViz.plot_index[id] = null;\n    }\n  } else if (output.metadata[EXEC_MIME_TYPE][\"server_id\"] !== undefined) {\n    var bk_div = document.createElement(\"div\");\n    bk_div.innerHTML = output.data[HTML_MIME_TYPE];\n    var script_attrs = bk_div.children[0].attributes;\n    for (var i = 0; i < script_attrs.length; i++) {\n      toinsert[toinsert.length - 1].childNodes[1].setAttribute(script_attrs[i].name, script_attrs[i].value);\n    }\n    // store reference to server id on output_area\n    output_area._bokeh_server_id = output.metadata[EXEC_MIME_TYPE][\"server_id\"];\n  }\n}\n\n/**\n * Handle when an output is cleared or removed\n */\nfunction handle_clear_output(event, handle) {\n  var id = handle.cell.output_area._hv_plot_id;\n  var server_id = handle.cell.output_area._bokeh_server_id;\n  if (((id === undefined) || !(id in PyViz.plot_index)) && (server_id !== undefined)) { return; }\n  var comm = window.PyViz.comm_manager.get_client_comm(\"hv-extension-comm\", \"hv-extension-comm\", function () {});\n  if (server_id !== null) {\n    comm.send({event_type: 'server_delete', 'id': server_id});\n    return;\n  } else if (comm !== null) {\n    comm.send({event_type: 'delete', 'id': id});\n  }\n  delete PyViz.plot_index[id];\n  if ((window.Bokeh !== undefined) & (id in window.Bokeh.index)) {\n    var doc = window.Bokeh.index[id].model.document\n    doc.clear();\n    const i = window.Bokeh.documents.indexOf(doc);\n    if (i > -1) {\n      window.Bokeh.documents.splice(i, 1);\n    }\n  }\n}\n\n/**\n * Handle kernel restart event\n */\nfunction handle_kernel_cleanup(event, handle) {\n  delete PyViz.comms[\"hv-extension-comm\"];\n  window.PyViz.plot_index = {}\n}\n\n/**\n * Handle update_display_data messages\n */\nfunction handle_update_output(event, handle) {\n  handle_clear_output(event, {cell: {output_area: handle.output_area}})\n  handle_add_output(event, handle)\n}\n\nfunction register_renderer(events, OutputArea) {\n  function append_mime(data, metadata, element) {\n    // create a DOM node to render to\n    var toinsert = this.create_output_subarea(\n    metadata,\n    CLASS_NAME,\n    EXEC_MIME_TYPE\n    );\n    this.keyboard_manager.register_events(toinsert);\n    // Render to node\n    var props = {data: data, metadata: metadata[EXEC_MIME_TYPE]};\n    render(props, toinsert[0]);\n    element.append(toinsert);\n    return toinsert\n  }\n\n  events.on('output_added.OutputArea', handle_add_output);\n  events.on('output_updated.OutputArea', handle_update_output);\n  events.on('clear_output.CodeCell', handle_clear_output);\n  events.on('delete.Cell', handle_clear_output);\n  events.on('kernel_ready.Kernel', handle_kernel_cleanup);\n\n  OutputArea.prototype.register_mime_type(EXEC_MIME_TYPE, append_mime, {\n    safe: true,\n    index: 0\n  });\n}\n\nif (window.Jupyter !== undefined) {\n  try {\n    var events = require('base/js/events');\n    var OutputArea = require('notebook/js/outputarea').OutputArea;\n    if (OutputArea.prototype.mime_types().indexOf(EXEC_MIME_TYPE) == -1) {\n      register_renderer(events, OutputArea);\n    }\n  } catch(err) {\n  }\n}\n",
            "application/javascript": [
              "\n",
              "if ((window.PyViz === undefined) || (window.PyViz instanceof HTMLElement)) {\n",
              "  window.PyViz = {comms: {}, comm_status:{}, kernels:{}, receivers: {}, plot_index: []}\n",
              "}\n",
              "\n",
              "\n",
              "    function JupyterCommManager() {\n",
              "    }\n",
              "\n",
              "    JupyterCommManager.prototype.register_target = function(plot_id, comm_id, msg_handler) {\n",
              "      if (window.comm_manager || ((window.Jupyter !== undefined) && (Jupyter.notebook.kernel != null))) {\n",
              "        var comm_manager = window.comm_manager || Jupyter.notebook.kernel.comm_manager;\n",
              "        comm_manager.register_target(comm_id, function(comm) {\n",
              "          comm.on_msg(msg_handler);\n",
              "        });\n",
              "      } else if ((plot_id in window.PyViz.kernels) && (window.PyViz.kernels[plot_id])) {\n",
              "        window.PyViz.kernels[plot_id].registerCommTarget(comm_id, function(comm) {\n",
              "          comm.onMsg = msg_handler;\n",
              "        });\n",
              "      } else if (typeof google != 'undefined' && google.colab.kernel != null) {\n",
              "        google.colab.kernel.comms.registerTarget(comm_id, (comm) => {\n",
              "          var messages = comm.messages[Symbol.asyncIterator]();\n",
              "          function processIteratorResult(result) {\n",
              "            var message = result.value;\n",
              "            console.log(message)\n",
              "            var content = {data: message.data, comm_id};\n",
              "            var buffers = []\n",
              "            for (var buffer of message.buffers || []) {\n",
              "              buffers.push(new DataView(buffer))\n",
              "            }\n",
              "            var metadata = message.metadata || {};\n",
              "            var msg = {content, buffers, metadata}\n",
              "            msg_handler(msg);\n",
              "            return messages.next().then(processIteratorResult);\n",
              "          }\n",
              "          return messages.next().then(processIteratorResult);\n",
              "        })\n",
              "      }\n",
              "    }\n",
              "\n",
              "    JupyterCommManager.prototype.get_client_comm = function(plot_id, comm_id, msg_handler) {\n",
              "      if (comm_id in window.PyViz.comms) {\n",
              "        return window.PyViz.comms[comm_id];\n",
              "      } else if (window.comm_manager || ((window.Jupyter !== undefined) && (Jupyter.notebook.kernel != null))) {\n",
              "        var comm_manager = window.comm_manager || Jupyter.notebook.kernel.comm_manager;\n",
              "        var comm = comm_manager.new_comm(comm_id, {}, {}, {}, comm_id);\n",
              "        if (msg_handler) {\n",
              "          comm.on_msg(msg_handler);\n",
              "        }\n",
              "      } else if ((plot_id in window.PyViz.kernels) && (window.PyViz.kernels[plot_id])) {\n",
              "        var comm = window.PyViz.kernels[plot_id].connectToComm(comm_id);\n",
              "        comm.open();\n",
              "        if (msg_handler) {\n",
              "          comm.onMsg = msg_handler;\n",
              "        }\n",
              "      } else if (typeof google != 'undefined' && google.colab.kernel != null) {\n",
              "        var comm_promise = google.colab.kernel.comms.open(comm_id)\n",
              "        comm_promise.then((comm) => {\n",
              "          window.PyViz.comms[comm_id] = comm;\n",
              "          if (msg_handler) {\n",
              "            var messages = comm.messages[Symbol.asyncIterator]();\n",
              "            function processIteratorResult(result) {\n",
              "              var message = result.value;\n",
              "              var content = {data: message.data};\n",
              "              var metadata = message.metadata || {comm_id};\n",
              "              var msg = {content, metadata}\n",
              "              msg_handler(msg);\n",
              "              return messages.next().then(processIteratorResult);\n",
              "            }\n",
              "            return messages.next().then(processIteratorResult);\n",
              "          }\n",
              "        }) \n",
              "        var sendClosure = (data, metadata, buffers, disposeOnDone) => {\n",
              "          return comm_promise.then((comm) => {\n",
              "            comm.send(data, metadata, buffers, disposeOnDone);\n",
              "          });\n",
              "        };\n",
              "        var comm = {\n",
              "          send: sendClosure\n",
              "        };\n",
              "      }\n",
              "      window.PyViz.comms[comm_id] = comm;\n",
              "      return comm;\n",
              "    }\n",
              "    window.PyViz.comm_manager = new JupyterCommManager();\n",
              "    \n",
              "\n",
              "\n",
              "var JS_MIME_TYPE = 'application/javascript';\n",
              "var HTML_MIME_TYPE = 'text/html';\n",
              "var EXEC_MIME_TYPE = 'application/vnd.holoviews_exec.v0+json';\n",
              "var CLASS_NAME = 'output';\n",
              "\n",
              "/**\n",
              " * Render data to the DOM node\n",
              " */\n",
              "function render(props, node) {\n",
              "  var div = document.createElement(\"div\");\n",
              "  var script = document.createElement(\"script\");\n",
              "  node.appendChild(div);\n",
              "  node.appendChild(script);\n",
              "}\n",
              "\n",
              "/**\n",
              " * Handle when a new output is added\n",
              " */\n",
              "function handle_add_output(event, handle) {\n",
              "  var output_area = handle.output_area;\n",
              "  var output = handle.output;\n",
              "  if ((output.data == undefined) || (!output.data.hasOwnProperty(EXEC_MIME_TYPE))) {\n",
              "    return\n",
              "  }\n",
              "  var id = output.metadata[EXEC_MIME_TYPE][\"id\"];\n",
              "  var toinsert = output_area.element.find(\".\" + CLASS_NAME.split(' ')[0]);\n",
              "  if (id !== undefined) {\n",
              "    var nchildren = toinsert.length;\n",
              "    var html_node = toinsert[nchildren-1].children[0];\n",
              "    html_node.innerHTML = output.data[HTML_MIME_TYPE];\n",
              "    var scripts = [];\n",
              "    var nodelist = html_node.querySelectorAll(\"script\");\n",
              "    for (var i in nodelist) {\n",
              "      if (nodelist.hasOwnProperty(i)) {\n",
              "        scripts.push(nodelist[i])\n",
              "      }\n",
              "    }\n",
              "\n",
              "    scripts.forEach( function (oldScript) {\n",
              "      var newScript = document.createElement(\"script\");\n",
              "      var attrs = [];\n",
              "      var nodemap = oldScript.attributes;\n",
              "      for (var j in nodemap) {\n",
              "        if (nodemap.hasOwnProperty(j)) {\n",
              "          attrs.push(nodemap[j])\n",
              "        }\n",
              "      }\n",
              "      attrs.forEach(function(attr) { newScript.setAttribute(attr.name, attr.value) });\n",
              "      newScript.appendChild(document.createTextNode(oldScript.innerHTML));\n",
              "      oldScript.parentNode.replaceChild(newScript, oldScript);\n",
              "    });\n",
              "    if (JS_MIME_TYPE in output.data) {\n",
              "      toinsert[nchildren-1].children[1].textContent = output.data[JS_MIME_TYPE];\n",
              "    }\n",
              "    output_area._hv_plot_id = id;\n",
              "    if ((window.Bokeh !== undefined) && (id in Bokeh.index)) {\n",
              "      window.PyViz.plot_index[id] = Bokeh.index[id];\n",
              "    } else {\n",
              "      window.PyViz.plot_index[id] = null;\n",
              "    }\n",
              "  } else if (output.metadata[EXEC_MIME_TYPE][\"server_id\"] !== undefined) {\n",
              "    var bk_div = document.createElement(\"div\");\n",
              "    bk_div.innerHTML = output.data[HTML_MIME_TYPE];\n",
              "    var script_attrs = bk_div.children[0].attributes;\n",
              "    for (var i = 0; i < script_attrs.length; i++) {\n",
              "      toinsert[toinsert.length - 1].childNodes[1].setAttribute(script_attrs[i].name, script_attrs[i].value);\n",
              "    }\n",
              "    // store reference to server id on output_area\n",
              "    output_area._bokeh_server_id = output.metadata[EXEC_MIME_TYPE][\"server_id\"];\n",
              "  }\n",
              "}\n",
              "\n",
              "/**\n",
              " * Handle when an output is cleared or removed\n",
              " */\n",
              "function handle_clear_output(event, handle) {\n",
              "  var id = handle.cell.output_area._hv_plot_id;\n",
              "  var server_id = handle.cell.output_area._bokeh_server_id;\n",
              "  if (((id === undefined) || !(id in PyViz.plot_index)) && (server_id !== undefined)) { return; }\n",
              "  var comm = window.PyViz.comm_manager.get_client_comm(\"hv-extension-comm\", \"hv-extension-comm\", function () {});\n",
              "  if (server_id !== null) {\n",
              "    comm.send({event_type: 'server_delete', 'id': server_id});\n",
              "    return;\n",
              "  } else if (comm !== null) {\n",
              "    comm.send({event_type: 'delete', 'id': id});\n",
              "  }\n",
              "  delete PyViz.plot_index[id];\n",
              "  if ((window.Bokeh !== undefined) & (id in window.Bokeh.index)) {\n",
              "    var doc = window.Bokeh.index[id].model.document\n",
              "    doc.clear();\n",
              "    const i = window.Bokeh.documents.indexOf(doc);\n",
              "    if (i > -1) {\n",
              "      window.Bokeh.documents.splice(i, 1);\n",
              "    }\n",
              "  }\n",
              "}\n",
              "\n",
              "/**\n",
              " * Handle kernel restart event\n",
              " */\n",
              "function handle_kernel_cleanup(event, handle) {\n",
              "  delete PyViz.comms[\"hv-extension-comm\"];\n",
              "  window.PyViz.plot_index = {}\n",
              "}\n",
              "\n",
              "/**\n",
              " * Handle update_display_data messages\n",
              " */\n",
              "function handle_update_output(event, handle) {\n",
              "  handle_clear_output(event, {cell: {output_area: handle.output_area}})\n",
              "  handle_add_output(event, handle)\n",
              "}\n",
              "\n",
              "function register_renderer(events, OutputArea) {\n",
              "  function append_mime(data, metadata, element) {\n",
              "    // create a DOM node to render to\n",
              "    var toinsert = this.create_output_subarea(\n",
              "    metadata,\n",
              "    CLASS_NAME,\n",
              "    EXEC_MIME_TYPE\n",
              "    );\n",
              "    this.keyboard_manager.register_events(toinsert);\n",
              "    // Render to node\n",
              "    var props = {data: data, metadata: metadata[EXEC_MIME_TYPE]};\n",
              "    render(props, toinsert[0]);\n",
              "    element.append(toinsert);\n",
              "    return toinsert\n",
              "  }\n",
              "\n",
              "  events.on('output_added.OutputArea', handle_add_output);\n",
              "  events.on('output_updated.OutputArea', handle_update_output);\n",
              "  events.on('clear_output.CodeCell', handle_clear_output);\n",
              "  events.on('delete.Cell', handle_clear_output);\n",
              "  events.on('kernel_ready.Kernel', handle_kernel_cleanup);\n",
              "\n",
              "  OutputArea.prototype.register_mime_type(EXEC_MIME_TYPE, append_mime, {\n",
              "    safe: true,\n",
              "    index: 0\n",
              "  });\n",
              "}\n",
              "\n",
              "if (window.Jupyter !== undefined) {\n",
              "  try {\n",
              "    var events = require('base/js/events');\n",
              "    var OutputArea = require('notebook/js/outputarea').OutputArea;\n",
              "    if (OutputArea.prototype.mime_types().indexOf(EXEC_MIME_TYPE) == -1) {\n",
              "      register_renderer(events, OutputArea);\n",
              "    }\n",
              "  } catch(err) {\n",
              "  }\n",
              "}\n"
            ]
          },
          "metadata": {}
        },
        {
          "output_type": "display_data",
          "data": {
            "text/html": [
              "<style>*[data-root-id],\n",
              "*[data-root-id] > * {\n",
              "  box-sizing: border-box;\n",
              "  font-family: var(--jp-ui-font-family);\n",
              "  font-size: var(--jp-ui-font-size1);\n",
              "  color: var(--vscode-editor-foreground, var(--jp-ui-font-color1));\n",
              "}\n",
              "\n",
              "/* Override VSCode background color */\n",
              ".cell-output-ipywidget-background:has(\n",
              "    > .cell-output-ipywidget-background > .lm-Widget > *[data-root-id]\n",
              "  ),\n",
              ".cell-output-ipywidget-background:has(> .lm-Widget > *[data-root-id]) {\n",
              "  background-color: transparent !important;\n",
              "}\n",
              "</style>"
            ]
          },
          "metadata": {}
        },
        {
          "output_type": "display_data",
          "data": {},
          "metadata": {}
        },
        {
          "output_type": "execute_result",
          "data": {
            "text/html": [
              "<div id='p1403'>\n",
              "  <div id=\"e6085672-a13b-4d22-9ea7-e122a90de6a8\" data-root-id=\"p1403\" style=\"display: contents;\"></div>\n",
              "</div>\n",
              "<script type=\"application/javascript\">(function(root) {\n",
              "  var docs_json = {\"bd7e76a8-542e-41c9-87b1-53f8b0adf758\":{\"version\":\"3.4.3\",\"title\":\"Bokeh Application\",\"roots\":[{\"type\":\"object\",\"name\":\"Row\",\"id\":\"p1403\",\"attributes\":{\"name\":\"Row01332\",\"tags\":[\"embedded\"],\"stylesheets\":[\"\\n:host(.pn-loading):before, .pn-loading:before {\\n  background-color: #c3c3c3;\\n  mask-size: auto calc(min(50%, 400px));\\n  -webkit-mask-size: auto calc(min(50%, 400px));\\n}\",{\"type\":\"object\",\"name\":\"ImportedStyleSheet\",\"id\":\"p1406\",\"attributes\":{\"url\":\"https://cdn.holoviz.org/panel/1.4.5/dist/css/loading.css\"}},{\"type\":\"object\",\"name\":\"ImportedStyleSheet\",\"id\":\"p1493\",\"attributes\":{\"url\":\"https://cdn.holoviz.org/panel/1.4.5/dist/css/listpanel.css\"}},{\"type\":\"object\",\"name\":\"ImportedStyleSheet\",\"id\":\"p1404\",\"attributes\":{\"url\":\"https://cdn.holoviz.org/panel/1.4.5/dist/bundled/theme/default.css\"}},{\"type\":\"object\",\"name\":\"ImportedStyleSheet\",\"id\":\"p1405\",\"attributes\":{\"url\":\"https://cdn.holoviz.org/panel/1.4.5/dist/bundled/theme/native.css\"}}],\"min_width\":700,\"margin\":0,\"sizing_mode\":\"stretch_width\",\"align\":\"start\",\"children\":[{\"type\":\"object\",\"name\":\"Spacer\",\"id\":\"p1407\",\"attributes\":{\"name\":\"HSpacer01339\",\"stylesheets\":[\"\\n:host(.pn-loading):before, .pn-loading:before {\\n  background-color: #c3c3c3;\\n  mask-size: auto calc(min(50%, 400px));\\n  -webkit-mask-size: auto calc(min(50%, 400px));\\n}\",{\"id\":\"p1406\"},{\"id\":\"p1404\"},{\"id\":\"p1405\"}],\"margin\":0,\"sizing_mode\":\"stretch_width\",\"align\":\"start\"}},{\"type\":\"object\",\"name\":\"Figure\",\"id\":\"p1418\",\"attributes\":{\"width\":700,\"height\":300,\"margin\":[5,10],\"sizing_mode\":\"fixed\",\"align\":\"start\",\"x_range\":{\"type\":\"object\",\"name\":\"Range1d\",\"id\":\"p1408\",\"attributes\":{\"tags\":[[[\"date-month\",null]],[]],\"start\":1262304000000.0,\"end\":1606780800000.0,\"reset_start\":1262304000000.0,\"reset_end\":1606780800000.0}},\"y_range\":{\"type\":\"object\",\"name\":\"Range1d\",\"id\":\"p1409\",\"attributes\":{\"tags\":[[[\"value\",null]],{\"type\":\"map\",\"entries\":[[\"invert_yaxis\",false],[\"autorange\",false]]}],\"start\":-1583264.985999997,\"end\":17416070.845999967,\"reset_start\":-1583264.985999997,\"reset_end\":17416070.845999967}},\"x_scale\":{\"type\":\"object\",\"name\":\"LinearScale\",\"id\":\"p1428\"},\"y_scale\":{\"type\":\"object\",\"name\":\"LinearScale\",\"id\":\"p1429\"},\"title\":{\"type\":\"object\",\"name\":\"Title\",\"id\":\"p1421\",\"attributes\":{\"text_color\":\"black\",\"text_font_size\":\"12pt\"}},\"renderers\":[{\"type\":\"object\",\"name\":\"GlyphRenderer\",\"id\":\"p1470\",\"attributes\":{\"name\":\"AMOUNT\",\"data_source\":{\"type\":\"object\",\"name\":\"ColumnDataSource\",\"id\":\"p1461\",\"attributes\":{\"selected\":{\"type\":\"object\",\"name\":\"Selection\",\"id\":\"p1462\",\"attributes\":{\"indices\":[],\"line_indices\":[]}},\"selection_policy\":{\"type\":\"object\",\"name\":\"UnionRenderers\",\"id\":\"p1463\"},\"data\":{\"type\":\"map\",\"entries\":[[\"date-month\",{\"type\":\"ndarray\",\"array\":{\"type\":\"bytes\",\"data\":\"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\"},\"shape\":[1584],\"dtype\":\"float64\",\"order\":\"little\"}],[\"AMOUNT\",{\"type\":\"ndarray\",\"array\":{\"type\":\"bytes\",\"data\":\"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\"},\"shape\":[1584],\"dtype\":\"float64\",\"order\":\"little\"}],[\"date_hyphen_minus_month\",{\"type\":\"ndarray\",\"array\":{\"type\":\"bytes\",\"data\":\"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\"},\"shape\":[1584],\"dtype\":\"float64\",\"order\":\"little\"}],[\"Variable\",[\"AMOUNT\",\"AMOUNT\",\"AMOUNT\",\"AMOUNT\",\"AMOUNT\",\"AMOUNT\",\"AMOUNT\",\"AMOUNT\",\"AMOUNT\",\"AMOUNT\",\"AMOUNT\",\"AMOUNT\",\"AMOUNT\",\"AMOUNT\",\"AMOUNT\",\"AMOUNT\",\"AMOUNT\",\"AMOUNT\",\"AMOUNT\",\"AMOUNT\",\"AMOUNT\",\"AMOUNT\",\"AMOUNT\",\"AMOUNT\",\"AMOUNT\",\"AMOUNT\",\"AMOUNT\",\"AMOUNT\",\"AMOUNT\",\"AMOUNT\",\"AMOUNT\",\"AMOUNT\",\"AMOUNT\",\"AMOUNT\",\"AMOUNT\",\"AMOUNT\",\"AMOUNT\",\"AMOUNT\",\"AMOUNT\",\"AMOUNT\",\"AMOUNT\",\"AMOUNT\",\"AMOUNT\",\"AMOUNT\",\"AMOUNT\",\"AMOUNT\",\"AMOUNT\",\"AMOUNT\",\"AMOUNT\",\"AMOUNT\",\"AMOUNT\",\"AMOUNT\",\"AMOUNT\",\"AMOUNT\",\"AMOUNT\",\"AMOUNT\",\"AMOUNT\",\"AMOUNT\",\"AMOUNT\",\"AMOUNT\",\"AMOUNT\",\"AMOUNT\",\"AMOUNT\",\"AMOUNT\",\"AMOUNT\",\"AMOUNT\",\"AMOUNT\",\"AMOUNT\",\"AMOUNT\",\"AMOUNT\",\"AMOUNT\",\"AMOUNT\",\"AMOUNT\",\"AMOUNT\",\"AMOUNT\",\"AMOUNT\",\"AMOUNT\",\"AMOUNT\",\"AMOUNT\",\"AMOUNT\",\"AMOUNT\",\"AMOUNT\",\"AMOUNT\",\"AMOUNT\",\"AMOUNT\",\"AMOUNT\",\"AMOUNT\",\"AMOUNT\",\"AMOUNT\",\"AMOUNT\",\"AMOUNT\",\"AMOUNT\",\"AMOUNT\",\"AMOUNT\",\"AMOUNT\",\"AMOUNT\",\"AMOUNT\",\"AMOUNT\",\"AMOUNT\",\"AMOUNT\",\"AMOUNT\",\"AMOUNT\",\"AMOUNT\",\"AMOUNT\",\"AMOUNT\",\"AMOUNT\",\"AMOUNT\",\"AMOUNT\",\"AMOUNT\",\"AMOUNT\",\"AMOUNT\",\"AMOUNT\",\"AMOUNT\",\"AMOUNT\",\"AMOUNT\",\"AMOUNT\",\"AMOUNT\",\"AMOUNT\",\"AMOUNT\",\"AMOUNT\",\"AMOUNT\",\"AMOUNT\",\"AMOUNT\",\"AMOUNT\",\"AMOUNT\",\"AMOUNT\",\"AMOUNT\",\"AMOUNT\",\"AMOUNT\",\"AMOUNT\",\"AMOUNT\",\"AMOUNT\",\"AMOUNT\",\"AMOUNT\",\"AMOUNT\",\"AMOUNT\",\"AMOUNT\",\"AMOUNT\",\"AMOUNT\",\"AMOUNT\",\"AMOUNT\",\"AMOUNT\",\"AMOUNT\",\"AMOUNT\",\"AMOUNT\",\"AMOUNT\",\"AMOUNT\",\"AMOUNT\",\"AMOUNT\",\"AMOUNT\",\"AMOUNT\",\"AMOUNT\",\"AMOUNT\",\"AMOUNT\",\"AMOUNT\",\"AMOUNT\",\"AMOUNT\",\"AMOUNT\",\"AMOUNT\",\"AMOUNT\",\"AMOUNT\",\"AMOUNT\",\"AMOUNT\",\"AMOUNT\",\"AMOUNT\",\"AMOUNT\",\"AMOUNT\",\"AMOUNT\",\"AMOUNT\",\"AMOUNT\",\"AMOUNT\",\"AMOUNT\",\"AMOUNT\",\"AMOUNT\",\"AMOUNT\",\"AMOUNT\",\"AMOUNT\",\"AMOUNT\",\"AMOUNT\",\"AMOUNT\",\"AMOUNT\",\"AMOUNT\",\"AMOUNT\",\"AMOUNT\",\"AMOUNT\",\"AMOUNT\",\"AMOUNT\",\"AMOUNT\",\"AMOUNT\",\"AMOUNT\",\"AMOUNT\",\"AMOUNT\",\"AMOUNT\",\"AMOUNT\",\"AMOUNT\",\"AMOUNT\",\"AMOUNT\",\"AMOUNT\",\"AMOUNT\",\"AMOUNT\",\"AMOUNT\",\"AMOUNT\",\"AMOUNT\",\"AMOUNT\",\"AMOUNT\",\"AMOUNT\",\"AMOUNT\",\"AMOUNT\",\"AMOUNT\",\"AMOUNT\",\"AMOUNT\",\"AMOUNT\",\"AMOUNT\",\"AMOUNT\",\"AMOUNT\",\"AMOUNT\",\"AMOUNT\",\"AMOUNT\",\"AMOUNT\",\"AMOUNT\",\"AMOUNT\",\"AMOUNT\",\"AMOUNT\",\"AMOUNT\",\"AMOUNT\",\"AMOUNT\",\"AMOUNT\",\"AMOUNT\",\"AMOUNT\",\"AMOUNT\",\"AMOUNT\",\"AMOUNT\",\"AMOUNT\",\"AMOUNT\",\"AMOUNT\",\"AMOUNT\",\"AMOUNT\",\"AMOUNT\",\"AMOUNT\",\"AMOUNT\",\"AMOUNT\",\"AMOUNT\",\"AMOUNT\",\"AMOUNT\",\"AMOUNT\",\"AMOUNT\",\"AMOUNT\",\"AMOUNT\",\"AMOUNT\",\"AMOUNT\",\"AMOUNT\",\"AMOUNT\",\"AMOUNT\",\"AMOUNT\",\"AMOUNT\",\"AMOUNT\",\"AMOUNT\",\"AMOUNT\",\"AMOUNT\",\"AMOUNT\",\"AMOUNT\",\"AMOUNT\",\"AMOUNT\",\"AMOUNT\",\"AMOUNT\",\"AMOUNT\",\"AMOUNT\",\"AMOUNT\",\"AMOUNT\",\"AMOUNT\",\"AMOUNT\",\"AMOUNT\",\"AMOUNT\",\"AMOUNT\",\"AMOUNT\",\"AMOUNT\",\"AMOUNT\",\"AMOUNT\",\"AMOUNT\",\"AMOUNT\",\"AMOUNT\",\"AMOUNT\",\"AMOUNT\",\"AMOUNT\",\"AMOUNT\",\"AMOUNT\",\"AMOUNT\",\"AMOUNT\",\"AMOUNT\",\"AMOUNT\",\"AMOUNT\",\"AMOUNT\",\"AMOUNT\",\"AMOUNT\",\"AMOUNT\",\"AMOUNT\",\"AMOUNT\",\"AMOUNT\",\"AMOUNT\",\"AMOUNT\",\"AMOUNT\",\"AMOUNT\",\"AMOUNT\",\"AMOUNT\",\"AMOUNT\",\"AMOUNT\",\"AMOUNT\",\"AMOUNT\",\"AMOUNT\",\"AMOUNT\",\"AMOUNT\",\"AMOUNT\",\"AMOUNT\",\"AMOUNT\",\"AMOUNT\",\"AMOUNT\",\"AMOUNT\",\"AMOUNT\",\"AMOUNT\",\"AMOUNT\",\"AMOUNT\",\"AMOUNT\",\"AMOUNT\",\"AMOUNT\",\"AMOUNT\",\"AMOUNT\",\"AMOUNT\",\"AMOUNT\",\"AMOUNT\",\"AMOUNT\",\"AMOUNT\",\"AMOUNT\",\"AMOUNT\",\"AMOUNT\",\"AMOUNT\",\"AMOUNT\",\"AMOUNT\",\"AMOUNT\",\"AMOUNT\",\"AMOUNT\",\"AMOUNT\",\"AMOUNT\",\"AMOUNT\",\"AMOUNT\",\"AMOUNT\",\"AMOUNT\",\"AMOUNT\",\"AMOUNT\",\"AMOUNT\",\"AMOUNT\",\"AMOUNT\",\"AMOUNT\",\"AMOUNT\",\"AMOUNT\",\"AMOUNT\",\"AMOUNT\",\"AMOUNT\",\"AMOUNT\",\"AMOUNT\",\"AMOUNT\",\"AMOUNT\",\"AMOUNT\",\"AMOUNT\",\"AMOUNT\",\"AMOUNT\",\"AMOUNT\",\"AMOUNT\",\"AMOUNT\",\"AMOUNT\",\"AMOUNT\",\"AMOUNT\",\"AMOUNT\",\"AMOUNT\",\"AMOUNT\",\"AMOUNT\",\"AMOUNT\",\"AMOUNT\",\"AMOUNT\",\"AMOUNT\",\"AMOUNT\",\"AMOUNT\",\"AMOUNT\",\"AMOUNT\",\"AMOUNT\",\"AMOUNT\",\"AMOUNT\",\"AMOUNT\",\"AMOUNT\",\"AMOUNT\",\"AMOUNT\",\"AMOUNT\",\"AMOUNT\",\"AMOUNT\",\"AMOUNT\",\"AMOUNT\",\"AMOUNT\",\"AMOUNT\",\"AMOUNT\",\"AMOUNT\",\"AMOUNT\",\"AMOUNT\",\"AMOUNT\",\"AMOUNT\",\"AMOUNT\",\"AMOUNT\",\"AMOUNT\",\"AMOUNT\",\"AMOUNT\",\"AMOUNT\",\"AMOUNT\",\"AMOUNT\",\"AMOUNT\",\"AMOUNT\",\"AMOUNT\",\"AMOUNT\",\"AMOUNT\",\"AMOUNT\",\"AMOUNT\",\"AMOUNT\",\"AMOUNT\",\"AMOUNT\",\"AMOUNT\",\"AMOUNT\",\"AMOUNT\",\"AMOUNT\",\"AMOUNT\",\"AMOUNT\",\"AMOUNT\",\"AMOUNT\",\"AMOUNT\",\"AMOUNT\",\"AMOUNT\",\"AMOUNT\",\"AMOUNT\",\"AMOUNT\",\"AMOUNT\",\"AMOUNT\",\"AMOUNT\",\"AMOUNT\",\"AMOUNT\",\"AMOUNT\",\"AMOUNT\",\"AMOUNT\",\"AMOUNT\",\"AMOUNT\",\"AMOUNT\",\"AMOUNT\",\"AMOUNT\",\"AMOUNT\",\"AMOUNT\",\"AMOUNT\",\"AMOUNT\",\"AMOUNT\",\"AMOUNT\",\"AMOUNT\",\"AMOUNT\",\"AMOUNT\",\"AMOUNT\",\"AMOUNT\",\"AMOUNT\",\"AMOUNT\",\"AMOUNT\",\"AMOUNT\",\"AMOUNT\",\"AMOUNT\",\"AMOUNT\",\"AMOUNT\",\"AMOUNT\",\"AMOUNT\",\"AMOUNT\",\"AMOUNT\",\"AMOUNT\",\"AMOUNT\",\"AMOUNT\",\"AMOUNT\",\"AMOUNT\",\"AMOUNT\",\"AMOUNT\",\"AMOUNT\",\"AMOUNT\",\"AMOUNT\",\"AMOUNT\",\"AMOUNT\",\"AMOUNT\",\"AMOUNT\",\"AMOUNT\",\"AMOUNT\",\"AMOUNT\",\"AMOUNT\",\"AMOUNT\",\"AMOUNT\",\"AMOUNT\",\"AMOUNT\",\"AMOUNT\",\"AMOUNT\",\"AMOUNT\",\"AMOUNT\",\"AMOUNT\",\"AMOUNT\",\"AMOUNT\",\"AMOUNT\",\"AMOUNT\",\"AMOUNT\",\"AMOUNT\",\"AMOUNT\",\"AMOUNT\",\"AMOUNT\",\"AMOUNT\",\"AMOUNT\",\"AMOUNT\",\"AMOUNT\",\"AMOUNT\",\"AMOUNT\",\"AMOUNT\",\"AMOUNT\",\"AMOUNT\",\"AMOUNT\",\"AMOUNT\",\"AMOUNT\",\"AMOUNT\",\"AMOUNT\",\"AMOUNT\",\"AMOUNT\",\"AMOUNT\",\"AMOUNT\",\"AMOUNT\",\"AMOUNT\",\"AMOUNT\",\"AMOUNT\",\"AMOUNT\",\"AMOUNT\",\"AMOUNT\",\"AMOUNT\",\"AMOUNT\",\"AMOUNT\",\"AMOUNT\",\"AMOUNT\",\"AMOUNT\",\"AMOUNT\",\"AMOUNT\",\"AMOUNT\",\"AMOUNT\",\"AMOUNT\",\"AMOUNT\",\"AMOUNT\",\"AMOUNT\",\"AMOUNT\",\"AMOUNT\",\"AMOUNT\",\"AMOUNT\",\"AMOUNT\",\"AMOUNT\",\"AMOUNT\",\"AMOUNT\",\"AMOUNT\",\"AMOUNT\",\"AMOUNT\",\"AMOUNT\",\"AMOUNT\",\"AMOUNT\",\"AMOUNT\",\"AMOUNT\",\"AMOUNT\",\"AMOUNT\",\"AMOUNT\",\"AMOUNT\",\"AMOUNT\",\"AMOUNT\",\"AMOUNT\",\"AMOUNT\",\"AMOUNT\",\"AMOUNT\",\"AMOUNT\",\"AMOUNT\",\"AMOUNT\",\"AMOUNT\",\"AMOUNT\",\"AMOUNT\",\"AMOUNT\",\"AMOUNT\",\"AMOUNT\",\"AMOUNT\",\"AMOUNT\",\"AMOUNT\",\"AMOUNT\",\"AMOUNT\",\"AMOUNT\",\"AMOUNT\",\"AMOUNT\",\"AMOUNT\",\"AMOUNT\",\"AMOUNT\",\"AMOUNT\",\"AMOUNT\",\"AMOUNT\",\"AMOUNT\",\"AMOUNT\",\"AMOUNT\",\"AMOUNT\",\"AMOUNT\",\"AMOUNT\",\"AMOUNT\",\"AMOUNT\",\"AMOUNT\",\"AMOUNT\",\"AMOUNT\",\"AMOUNT\",\"AMOUNT\",\"AMOUNT\",\"AMOUNT\",\"AMOUNT\",\"AMOUNT\",\"AMOUNT\",\"AMOUNT\",\"AMOUNT\",\"AMOUNT\",\"AMOUNT\",\"AMOUNT\",\"AMOUNT\",\"AMOUNT\",\"AMOUNT\",\"AMOUNT\",\"AMOUNT\",\"AMOUNT\",\"AMOUNT\",\"AMOUNT\",\"AMOUNT\",\"AMOUNT\",\"AMOUNT\",\"AMOUNT\",\"AMOUNT\",\"AMOUNT\",\"AMOUNT\",\"AMOUNT\",\"AMOUNT\",\"AMOUNT\",\"AMOUNT\",\"AMOUNT\",\"AMOUNT\",\"AMOUNT\",\"AMOUNT\",\"AMOUNT\",\"AMOUNT\",\"AMOUNT\",\"AMOUNT\",\"AMOUNT\",\"AMOUNT\",\"AMOUNT\",\"AMOUNT\",\"AMOUNT\",\"AMOUNT\",\"AMOUNT\",\"AMOUNT\",\"AMOUNT\",\"AMOUNT\",\"AMOUNT\",\"AMOUNT\",\"AMOUNT\",\"AMOUNT\",\"AMOUNT\",\"AMOUNT\",\"AMOUNT\",\"AMOUNT\",\"AMOUNT\",\"AMOUNT\",\"AMOUNT\",\"AMOUNT\",\"AMOUNT\",\"AMOUNT\",\"AMOUNT\",\"AMOUNT\",\"AMOUNT\",\"AMOUNT\",\"AMOUNT\",\"AMOUNT\",\"AMOUNT\",\"AMOUNT\",\"AMOUNT\",\"AMOUNT\",\"AMOUNT\",\"AMOUNT\",\"AMOUNT\",\"AMOUNT\",\"AMOUNT\",\"AMOUNT\",\"AMOUNT\",\"AMOUNT\",\"AMOUNT\",\"AMOUNT\",\"AMOUNT\",\"AMOUNT\",\"AMOUNT\",\"AMOUNT\",\"AMOUNT\",\"AMOUNT\",\"AMOUNT\",\"AMOUNT\",\"AMOUNT\",\"AMOUNT\",\"AMOUNT\",\"AMOUNT\",\"AMOUNT\",\"AMOUNT\",\"AMOUNT\",\"AMOUNT\",\"AMOUNT\",\"AMOUNT\",\"AMOUNT\",\"AMOUNT\",\"AMOUNT\",\"AMOUNT\",\"AMOUNT\",\"AMOUNT\",\"AMOUNT\",\"AMOUNT\",\"AMOUNT\",\"AMOUNT\",\"AMOUNT\",\"AMOUNT\",\"AMOUNT\",\"AMOUNT\",\"AMOUNT\",\"AMOUNT\",\"AMOUNT\",\"AMOUNT\",\"AMOUNT\",\"AMOUNT\",\"AMOUNT\",\"AMOUNT\",\"AMOUNT\",\"AMOUNT\",\"AMOUNT\",\"AMOUNT\",\"AMOUNT\",\"AMOUNT\",\"AMOUNT\",\"AMOUNT\",\"AMOUNT\",\"AMOUNT\",\"AMOUNT\",\"AMOUNT\",\"AMOUNT\",\"AMOUNT\",\"AMOUNT\",\"AMOUNT\",\"AMOUNT\",\"AMOUNT\",\"AMOUNT\",\"AMOUNT\",\"AMOUNT\",\"AMOUNT\",\"AMOUNT\",\"AMOUNT\",\"AMOUNT\",\"AMOUNT\",\"AMOUNT\",\"AMOUNT\",\"AMOUNT\",\"AMOUNT\",\"AMOUNT\",\"AMOUNT\",\"AMOUNT\",\"AMOUNT\",\"AMOUNT\",\"AMOUNT\",\"AMOUNT\",\"AMOUNT\",\"AMOUNT\",\"AMOUNT\",\"AMOUNT\",\"AMOUNT\",\"AMOUNT\",\"AMOUNT\",\"AMOUNT\",\"AMOUNT\",\"AMOUNT\",\"AMOUNT\",\"AMOUNT\",\"AMOUNT\",\"AMOUNT\",\"AMOUNT\",\"AMOUNT\",\"AMOUNT\",\"AMOUNT\",\"AMOUNT\",\"AMOUNT\",\"AMOUNT\",\"AMOUNT\",\"AMOUNT\",\"AMOUNT\",\"AMOUNT\",\"AMOUNT\",\"AMOUNT\",\"AMOUNT\",\"AMOUNT\",\"AMOUNT\",\"AMOUNT\",\"AMOUNT\",\"AMOUNT\",\"AMOUNT\",\"AMOUNT\",\"AMOUNT\",\"AMOUNT\",\"AMOUNT\",\"AMOUNT\",\"AMOUNT\",\"AMOUNT\",\"AMOUNT\",\"AMOUNT\",\"AMOUNT\",\"AMOUNT\",\"AMOUNT\",\"AMOUNT\",\"AMOUNT\",\"AMOUNT\",\"AMOUNT\",\"AMOUNT\",\"AMOUNT\",\"AMOUNT\",\"AMOUNT\",\"AMOUNT\",\"AMOUNT\",\"AMOUNT\",\"AMOUNT\",\"AMOUNT\",\"AMOUNT\",\"AMOUNT\",\"AMOUNT\",\"AMOUNT\",\"AMOUNT\",\"AMOUNT\",\"AMOUNT\",\"AMOUNT\",\"AMOUNT\",\"AMOUNT\",\"AMOUNT\",\"AMOUNT\",\"AMOUNT\",\"AMOUNT\",\"AMOUNT\",\"AMOUNT\",\"AMOUNT\",\"AMOUNT\",\"AMOUNT\",\"AMOUNT\",\"AMOUNT\",\"AMOUNT\",\"AMOUNT\",\"AMOUNT\",\"AMOUNT\",\"AMOUNT\",\"AMOUNT\",\"AMOUNT\",\"AMOUNT\",\"AMOUNT\",\"AMOUNT\",\"AMOUNT\",\"AMOUNT\",\"AMOUNT\",\"AMOUNT\",\"AMOUNT\",\"AMOUNT\",\"AMOUNT\",\"AMOUNT\",\"AMOUNT\",\"AMOUNT\",\"AMOUNT\",\"AMOUNT\",\"AMOUNT\",\"AMOUNT\",\"AMOUNT\",\"AMOUNT\",\"AMOUNT\",\"AMOUNT\",\"AMOUNT\",\"AMOUNT\",\"AMOUNT\",\"AMOUNT\",\"AMOUNT\",\"AMOUNT\",\"AMOUNT\",\"AMOUNT\",\"AMOUNT\",\"AMOUNT\",\"AMOUNT\",\"AMOUNT\",\"AMOUNT\",\"AMOUNT\",\"AMOUNT\",\"AMOUNT\",\"AMOUNT\",\"AMOUNT\",\"AMOUNT\",\"AMOUNT\",\"AMOUNT\",\"AMOUNT\",\"AMOUNT\",\"AMOUNT\",\"AMOUNT\",\"AMOUNT\",\"AMOUNT\",\"AMOUNT\",\"AMOUNT\",\"AMOUNT\",\"AMOUNT\",\"AMOUNT\",\"AMOUNT\",\"AMOUNT\",\"AMOUNT\",\"AMOUNT\",\"AMOUNT\",\"AMOUNT\",\"AMOUNT\",\"AMOUNT\",\"AMOUNT\",\"AMOUNT\",\"AMOUNT\",\"AMOUNT\",\"AMOUNT\",\"AMOUNT\",\"AMOUNT\",\"AMOUNT\",\"AMOUNT\",\"AMOUNT\",\"AMOUNT\",\"AMOUNT\",\"AMOUNT\",\"AMOUNT\",\"AMOUNT\",\"AMOUNT\",\"AMOUNT\",\"AMOUNT\",\"AMOUNT\",\"AMOUNT\",\"AMOUNT\",\"AMOUNT\",\"AMOUNT\",\"AMOUNT\",\"AMOUNT\",\"AMOUNT\",\"AMOUNT\",\"AMOUNT\",\"AMOUNT\",\"AMOUNT\",\"AMOUNT\",\"AMOUNT\",\"AMOUNT\",\"AMOUNT\",\"AMOUNT\",\"AMOUNT\",\"AMOUNT\",\"AMOUNT\",\"AMOUNT\",\"AMOUNT\",\"AMOUNT\",\"AMOUNT\",\"AMOUNT\",\"AMOUNT\",\"AMOUNT\",\"AMOUNT\",\"AMOUNT\",\"AMOUNT\",\"AMOUNT\",\"AMOUNT\",\"AMOUNT\",\"AMOUNT\",\"AMOUNT\",\"AMOUNT\",\"AMOUNT\",\"AMOUNT\",\"AMOUNT\",\"AMOUNT\",\"AMOUNT\",\"AMOUNT\",\"AMOUNT\",\"AMOUNT\",\"AMOUNT\",\"AMOUNT\",\"AMOUNT\",\"AMOUNT\",\"AMOUNT\",\"AMOUNT\",\"AMOUNT\",\"AMOUNT\",\"AMOUNT\",\"AMOUNT\",\"AMOUNT\",\"AMOUNT\",\"AMOUNT\",\"AMOUNT\",\"AMOUNT\",\"AMOUNT\",\"AMOUNT\",\"AMOUNT\",\"AMOUNT\",\"AMOUNT\",\"AMOUNT\",\"AMOUNT\",\"AMOUNT\",\"AMOUNT\",\"AMOUNT\",\"AMOUNT\",\"AMOUNT\",\"AMOUNT\",\"AMOUNT\",\"AMOUNT\",\"AMOUNT\",\"AMOUNT\",\"AMOUNT\",\"AMOUNT\",\"AMOUNT\",\"AMOUNT\",\"AMOUNT\",\"AMOUNT\",\"AMOUNT\",\"AMOUNT\",\"AMOUNT\",\"AMOUNT\",\"AMOUNT\",\"AMOUNT\",\"AMOUNT\",\"AMOUNT\",\"AMOUNT\",\"AMOUNT\",\"AMOUNT\",\"AMOUNT\",\"AMOUNT\",\"AMOUNT\",\"AMOUNT\",\"AMOUNT\",\"AMOUNT\",\"AMOUNT\",\"AMOUNT\",\"AMOUNT\",\"AMOUNT\",\"AMOUNT\",\"AMOUNT\",\"AMOUNT\",\"AMOUNT\",\"AMOUNT\",\"AMOUNT\",\"AMOUNT\",\"AMOUNT\",\"AMOUNT\",\"AMOUNT\",\"AMOUNT\",\"AMOUNT\",\"AMOUNT\",\"AMOUNT\",\"AMOUNT\",\"AMOUNT\",\"AMOUNT\",\"AMOUNT\",\"AMOUNT\",\"AMOUNT\",\"AMOUNT\",\"AMOUNT\",\"AMOUNT\",\"AMOUNT\",\"AMOUNT\",\"AMOUNT\",\"AMOUNT\",\"AMOUNT\",\"AMOUNT\",\"AMOUNT\",\"AMOUNT\",\"AMOUNT\",\"AMOUNT\",\"AMOUNT\",\"AMOUNT\",\"AMOUNT\",\"AMOUNT\",\"AMOUNT\",\"AMOUNT\",\"AMOUNT\",\"AMOUNT\",\"AMOUNT\",\"AMOUNT\",\"AMOUNT\",\"AMOUNT\",\"AMOUNT\",\"AMOUNT\",\"AMOUNT\",\"AMOUNT\",\"AMOUNT\",\"AMOUNT\",\"AMOUNT\",\"AMOUNT\",\"AMOUNT\",\"AMOUNT\",\"AMOUNT\",\"AMOUNT\",\"AMOUNT\",\"AMOUNT\",\"AMOUNT\",\"AMOUNT\",\"AMOUNT\",\"AMOUNT\",\"AMOUNT\",\"AMOUNT\",\"AMOUNT\",\"AMOUNT\",\"AMOUNT\",\"AMOUNT\",\"AMOUNT\",\"AMOUNT\",\"AMOUNT\",\"AMOUNT\",\"AMOUNT\",\"AMOUNT\",\"AMOUNT\",\"AMOUNT\",\"AMOUNT\",\"AMOUNT\",\"AMOUNT\",\"AMOUNT\",\"AMOUNT\",\"AMOUNT\",\"AMOUNT\",\"AMOUNT\",\"AMOUNT\",\"AMOUNT\",\"AMOUNT\",\"AMOUNT\",\"AMOUNT\",\"AMOUNT\",\"AMOUNT\",\"AMOUNT\",\"AMOUNT\",\"AMOUNT\",\"AMOUNT\",\"AMOUNT\",\"AMOUNT\",\"AMOUNT\",\"AMOUNT\",\"AMOUNT\",\"AMOUNT\",\"AMOUNT\",\"AMOUNT\",\"AMOUNT\",\"AMOUNT\",\"AMOUNT\",\"AMOUNT\",\"AMOUNT\",\"AMOUNT\",\"AMOUNT\",\"AMOUNT\",\"AMOUNT\",\"AMOUNT\",\"AMOUNT\",\"AMOUNT\",\"AMOUNT\",\"AMOUNT\",\"AMOUNT\",\"AMOUNT\",\"AMOUNT\",\"AMOUNT\",\"AMOUNT\",\"AMOUNT\",\"AMOUNT\",\"AMOUNT\",\"AMOUNT\",\"AMOUNT\",\"AMOUNT\",\"AMOUNT\",\"AMOUNT\",\"AMOUNT\",\"AMOUNT\",\"AMOUNT\",\"AMOUNT\",\"AMOUNT\",\"AMOUNT\",\"AMOUNT\",\"AMOUNT\",\"AMOUNT\",\"AMOUNT\",\"AMOUNT\",\"AMOUNT\",\"AMOUNT\",\"AMOUNT\",\"AMOUNT\",\"AMOUNT\",\"AMOUNT\",\"AMOUNT\",\"AMOUNT\",\"AMOUNT\",\"AMOUNT\",\"AMOUNT\",\"AMOUNT\",\"AMOUNT\",\"AMOUNT\",\"AMOUNT\",\"AMOUNT\",\"AMOUNT\",\"AMOUNT\",\"AMOUNT\",\"AMOUNT\",\"AMOUNT\",\"AMOUNT\",\"AMOUNT\",\"AMOUNT\",\"AMOUNT\",\"AMOUNT\",\"AMOUNT\",\"AMOUNT\",\"AMOUNT\",\"AMOUNT\",\"AMOUNT\",\"AMOUNT\",\"AMOUNT\",\"AMOUNT\",\"AMOUNT\",\"AMOUNT\",\"AMOUNT\",\"AMOUNT\",\"AMOUNT\",\"AMOUNT\",\"AMOUNT\",\"AMOUNT\",\"AMOUNT\",\"AMOUNT\",\"AMOUNT\",\"AMOUNT\",\"AMOUNT\",\"AMOUNT\",\"AMOUNT\",\"AMOUNT\",\"AMOUNT\",\"AMOUNT\",\"AMOUNT\",\"AMOUNT\",\"AMOUNT\",\"AMOUNT\",\"AMOUNT\",\"AMOUNT\",\"AMOUNT\",\"AMOUNT\",\"AMOUNT\",\"AMOUNT\",\"AMOUNT\",\"AMOUNT\",\"AMOUNT\",\"AMOUNT\",\"AMOUNT\",\"AMOUNT\",\"AMOUNT\",\"AMOUNT\",\"AMOUNT\",\"AMOUNT\",\"AMOUNT\",\"AMOUNT\",\"AMOUNT\",\"AMOUNT\",\"AMOUNT\",\"AMOUNT\",\"AMOUNT\",\"AMOUNT\",\"AMOUNT\",\"AMOUNT\",\"AMOUNT\",\"AMOUNT\",\"AMOUNT\",\"AMOUNT\",\"AMOUNT\",\"AMOUNT\",\"AMOUNT\",\"AMOUNT\",\"AMOUNT\",\"AMOUNT\",\"AMOUNT\",\"AMOUNT\",\"AMOUNT\",\"AMOUNT\",\"AMOUNT\",\"AMOUNT\",\"AMOUNT\",\"AMOUNT\",\"AMOUNT\",\"AMOUNT\",\"AMOUNT\",\"AMOUNT\",\"AMOUNT\",\"AMOUNT\",\"AMOUNT\",\"AMOUNT\",\"AMOUNT\",\"AMOUNT\",\"AMOUNT\",\"AMOUNT\",\"AMOUNT\",\"AMOUNT\",\"AMOUNT\",\"AMOUNT\",\"AMOUNT\",\"AMOUNT\",\"AMOUNT\",\"AMOUNT\",\"AMOUNT\",\"AMOUNT\",\"AMOUNT\",\"AMOUNT\",\"AMOUNT\",\"AMOUNT\",\"AMOUNT\",\"AMOUNT\",\"AMOUNT\",\"AMOUNT\",\"AMOUNT\",\"AMOUNT\",\"AMOUNT\",\"AMOUNT\",\"AMOUNT\",\"AMOUNT\",\"AMOUNT\",\"AMOUNT\",\"AMOUNT\",\"AMOUNT\",\"AMOUNT\",\"AMOUNT\",\"AMOUNT\",\"AMOUNT\",\"AMOUNT\",\"AMOUNT\",\"AMOUNT\",\"AMOUNT\",\"AMOUNT\",\"AMOUNT\",\"AMOUNT\",\"AMOUNT\",\"AMOUNT\",\"AMOUNT\",\"AMOUNT\",\"AMOUNT\",\"AMOUNT\",\"AMOUNT\",\"AMOUNT\",\"AMOUNT\",\"AMOUNT\",\"AMOUNT\",\"AMOUNT\",\"AMOUNT\",\"AMOUNT\",\"AMOUNT\",\"AMOUNT\",\"AMOUNT\",\"AMOUNT\",\"AMOUNT\",\"AMOUNT\",\"AMOUNT\",\"AMOUNT\",\"AMOUNT\",\"AMOUNT\",\"AMOUNT\",\"AMOUNT\",\"AMOUNT\",\"AMOUNT\",\"AMOUNT\",\"AMOUNT\",\"AMOUNT\",\"AMOUNT\",\"AMOUNT\",\"AMOUNT\",\"AMOUNT\",\"AMOUNT\",\"AMOUNT\",\"AMOUNT\",\"AMOUNT\",\"AMOUNT\",\"AMOUNT\",\"AMOUNT\",\"AMOUNT\",\"AMOUNT\",\"AMOUNT\",\"AMOUNT\",\"AMOUNT\",\"AMOUNT\",\"AMOUNT\",\"AMOUNT\",\"AMOUNT\",\"AMOUNT\",\"AMOUNT\",\"AMOUNT\",\"AMOUNT\",\"AMOUNT\",\"AMOUNT\",\"AMOUNT\",\"AMOUNT\",\"AMOUNT\",\"AMOUNT\",\"AMOUNT\",\"AMOUNT\",\"AMOUNT\",\"AMOUNT\",\"AMOUNT\",\"AMOUNT\",\"AMOUNT\",\"AMOUNT\",\"AMOUNT\",\"AMOUNT\",\"AMOUNT\",\"AMOUNT\",\"AMOUNT\",\"AMOUNT\",\"AMOUNT\",\"AMOUNT\",\"AMOUNT\",\"AMOUNT\",\"AMOUNT\",\"AMOUNT\",\"AMOUNT\",\"AMOUNT\",\"AMOUNT\",\"AMOUNT\",\"AMOUNT\",\"AMOUNT\",\"AMOUNT\",\"AMOUNT\",\"AMOUNT\",\"AMOUNT\",\"AMOUNT\",\"AMOUNT\",\"AMOUNT\",\"AMOUNT\",\"AMOUNT\",\"AMOUNT\",\"AMOUNT\",\"AMOUNT\",\"AMOUNT\",\"AMOUNT\",\"AMOUNT\",\"AMOUNT\",\"AMOUNT\",\"AMOUNT\",\"AMOUNT\",\"AMOUNT\",\"AMOUNT\",\"AMOUNT\",\"AMOUNT\",\"AMOUNT\",\"AMOUNT\",\"AMOUNT\",\"AMOUNT\",\"AMOUNT\",\"AMOUNT\",\"AMOUNT\",\"AMOUNT\",\"AMOUNT\",\"AMOUNT\",\"AMOUNT\",\"AMOUNT\",\"AMOUNT\",\"AMOUNT\",\"AMOUNT\",\"AMOUNT\",\"AMOUNT\",\"AMOUNT\",\"AMOUNT\",\"AMOUNT\",\"AMOUNT\",\"AMOUNT\",\"AMOUNT\",\"AMOUNT\",\"AMOUNT\",\"AMOUNT\",\"AMOUNT\",\"AMOUNT\",\"AMOUNT\",\"AMOUNT\",\"AMOUNT\",\"AMOUNT\",\"AMOUNT\",\"AMOUNT\",\"AMOUNT\",\"AMOUNT\",\"AMOUNT\",\"AMOUNT\",\"AMOUNT\",\"AMOUNT\",\"AMOUNT\",\"AMOUNT\",\"AMOUNT\",\"AMOUNT\",\"AMOUNT\",\"AMOUNT\",\"AMOUNT\",\"AMOUNT\",\"AMOUNT\",\"AMOUNT\",\"AMOUNT\",\"AMOUNT\",\"AMOUNT\",\"AMOUNT\",\"AMOUNT\",\"AMOUNT\",\"AMOUNT\",\"AMOUNT\",\"AMOUNT\",\"AMOUNT\",\"AMOUNT\",\"AMOUNT\",\"AMOUNT\",\"AMOUNT\",\"AMOUNT\",\"AMOUNT\",\"AMOUNT\",\"AMOUNT\",\"AMOUNT\",\"AMOUNT\",\"AMOUNT\",\"AMOUNT\",\"AMOUNT\",\"AMOUNT\",\"AMOUNT\",\"AMOUNT\",\"AMOUNT\",\"AMOUNT\",\"AMOUNT\",\"AMOUNT\",\"AMOUNT\",\"AMOUNT\",\"AMOUNT\",\"AMOUNT\",\"AMOUNT\",\"AMOUNT\",\"AMOUNT\",\"AMOUNT\",\"AMOUNT\",\"AMOUNT\",\"AMOUNT\",\"AMOUNT\",\"AMOUNT\",\"AMOUNT\",\"AMOUNT\",\"AMOUNT\",\"AMOUNT\",\"AMOUNT\",\"AMOUNT\",\"AMOUNT\",\"AMOUNT\",\"AMOUNT\",\"AMOUNT\",\"AMOUNT\",\"AMOUNT\",\"AMOUNT\",\"AMOUNT\",\"AMOUNT\",\"AMOUNT\",\"AMOUNT\",\"AMOUNT\",\"AMOUNT\",\"AMOUNT\",\"AMOUNT\",\"AMOUNT\",\"AMOUNT\",\"AMOUNT\",\"AMOUNT\",\"AMOUNT\",\"AMOUNT\",\"AMOUNT\",\"AMOUNT\",\"AMOUNT\",\"AMOUNT\",\"AMOUNT\",\"AMOUNT\",\"AMOUNT\",\"AMOUNT\",\"AMOUNT\",\"AMOUNT\",\"AMOUNT\",\"AMOUNT\",\"AMOUNT\",\"AMOUNT\",\"AMOUNT\",\"AMOUNT\",\"AMOUNT\",\"AMOUNT\",\"AMOUNT\",\"AMOUNT\",\"AMOUNT\",\"AMOUNT\",\"AMOUNT\",\"AMOUNT\",\"AMOUNT\",\"AMOUNT\"]]]}}},\"view\":{\"type\":\"object\",\"name\":\"CDSView\",\"id\":\"p1471\",\"attributes\":{\"filter\":{\"type\":\"object\",\"name\":\"AllIndices\",\"id\":\"p1472\"}}},\"glyph\":{\"type\":\"object\",\"name\":\"Line\",\"id\":\"p1467\",\"attributes\":{\"tags\":[\"apply_ranges\"],\"x\":{\"type\":\"field\",\"field\":\"date-month\"},\"y\":{\"type\":\"field\",\"field\":\"AMOUNT\"},\"line_color\":\"#30a2da\",\"line_width\":2}},\"selection_glyph\":{\"type\":\"object\",\"name\":\"Line\",\"id\":\"p1475\",\"attributes\":{\"tags\":[\"apply_ranges\"],\"x\":{\"type\":\"field\",\"field\":\"date-month\"},\"y\":{\"type\":\"field\",\"field\":\"AMOUNT\"},\"line_color\":\"#30a2da\",\"line_width\":2}},\"nonselection_glyph\":{\"type\":\"object\",\"name\":\"Line\",\"id\":\"p1468\",\"attributes\":{\"tags\":[\"apply_ranges\"],\"x\":{\"type\":\"field\",\"field\":\"date-month\"},\"y\":{\"type\":\"field\",\"field\":\"AMOUNT\"},\"line_color\":\"#30a2da\",\"line_alpha\":0.1,\"line_width\":2}},\"muted_glyph\":{\"type\":\"object\",\"name\":\"Line\",\"id\":\"p1469\",\"attributes\":{\"tags\":[\"apply_ranges\"],\"x\":{\"type\":\"field\",\"field\":\"date-month\"},\"y\":{\"type\":\"field\",\"field\":\"AMOUNT\"},\"line_color\":\"#30a2da\",\"line_alpha\":0.2,\"line_width\":2}}}},{\"type\":\"object\",\"name\":\"GlyphRenderer\",\"id\":\"p1485\",\"attributes\":{\"name\":\"Rainfall (inches)\",\"data_source\":{\"type\":\"object\",\"name\":\"ColumnDataSource\",\"id\":\"p1476\",\"attributes\":{\"selected\":{\"type\":\"object\",\"name\":\"Selection\",\"id\":\"p1477\",\"attributes\":{\"indices\":[],\"line_indices\":[]}},\"selection_policy\":{\"type\":\"object\",\"name\":\"UnionRenderers\",\"id\":\"p1478\"},\"data\":{\"type\":\"map\",\"entries\":[[\"date-month\",{\"type\":\"ndarray\",\"array\":{\"type\":\"bytes\",\"data\":\"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\"},\"shape\":[1584],\"dtype\":\"float64\",\"order\":\"little\"}],[\"Rainfall (inches)\",{\"type\":\"ndarray\",\"array\":{\"type\":\"bytes\",\"data\":\"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\"},\"shape\":[1584],\"dtype\":\"float64\",\"order\":\"little\"}],[\"date_hyphen_minus_month\",{\"type\":\"ndarray\",\"array\":{\"type\":\"bytes\",\"data\":\"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\"},\"shape\":[1584],\"dtype\":\"float64\",\"order\":\"little\"}],[\"Rainfall_left_parenthesis_inches_right_parenthesis\",{\"type\":\"ndarray\",\"array\":{\"type\":\"bytes\",\"data\":\"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\"},\"shape\":[1584],\"dtype\":\"float64\",\"order\":\"little\"}],[\"Variable\",[\"Rainfall (inches)\",\"Rainfall (inches)\",\"Rainfall (inches)\",\"Rainfall (inches)\",\"Rainfall (inches)\",\"Rainfall (inches)\",\"Rainfall (inches)\",\"Rainfall (inches)\",\"Rainfall (inches)\",\"Rainfall (inches)\",\"Rainfall (inches)\",\"Rainfall (inches)\",\"Rainfall (inches)\",\"Rainfall (inches)\",\"Rainfall (inches)\",\"Rainfall (inches)\",\"Rainfall (inches)\",\"Rainfall (inches)\",\"Rainfall (inches)\",\"Rainfall (inches)\",\"Rainfall (inches)\",\"Rainfall (inches)\",\"Rainfall (inches)\",\"Rainfall (inches)\",\"Rainfall (inches)\",\"Rainfall (inches)\",\"Rainfall (inches)\",\"Rainfall (inches)\",\"Rainfall (inches)\",\"Rainfall (inches)\",\"Rainfall (inches)\",\"Rainfall (inches)\",\"Rainfall (inches)\",\"Rainfall (inches)\",\"Rainfall (inches)\",\"Rainfall (inches)\",\"Rainfall (inches)\",\"Rainfall (inches)\",\"Rainfall (inches)\",\"Rainfall (inches)\",\"Rainfall (inches)\",\"Rainfall (inches)\",\"Rainfall (inches)\",\"Rainfall (inches)\",\"Rainfall (inches)\",\"Rainfall (inches)\",\"Rainfall (inches)\",\"Rainfall (inches)\",\"Rainfall (inches)\",\"Rainfall (inches)\",\"Rainfall (inches)\",\"Rainfall (inches)\",\"Rainfall (inches)\",\"Rainfall (inches)\",\"Rainfall (inches)\",\"Rainfall (inches)\",\"Rainfall (inches)\",\"Rainfall (inches)\",\"Rainfall (inches)\",\"Rainfall (inches)\",\"Rainfall (inches)\",\"Rainfall (inches)\",\"Rainfall (inches)\",\"Rainfall (inches)\",\"Rainfall (inches)\",\"Rainfall (inches)\",\"Rainfall (inches)\",\"Rainfall (inches)\",\"Rainfall (inches)\",\"Rainfall (inches)\",\"Rainfall (inches)\",\"Rainfall (inches)\",\"Rainfall (inches)\",\"Rainfall (inches)\",\"Rainfall (inches)\",\"Rainfall (inches)\",\"Rainfall (inches)\",\"Rainfall (inches)\",\"Rainfall (inches)\",\"Rainfall (inches)\",\"Rainfall (inches)\",\"Rainfall (inches)\",\"Rainfall (inches)\",\"Rainfall (inches)\",\"Rainfall (inches)\",\"Rainfall (inches)\",\"Rainfall (inches)\",\"Rainfall (inches)\",\"Rainfall (inches)\",\"Rainfall (inches)\",\"Rainfall (inches)\",\"Rainfall (inches)\",\"Rainfall (inches)\",\"Rainfall (inches)\",\"Rainfall (inches)\",\"Rainfall (inches)\",\"Rainfall (inches)\",\"Rainfall (inches)\",\"Rainfall (inches)\",\"Rainfall (inches)\",\"Rainfall (inches)\",\"Rainfall (inches)\",\"Rainfall (inches)\",\"Rainfall (inches)\",\"Rainfall (inches)\",\"Rainfall (inches)\",\"Rainfall (inches)\",\"Rainfall (inches)\",\"Rainfall (inches)\",\"Rainfall (inches)\",\"Rainfall (inches)\",\"Rainfall (inches)\",\"Rainfall (inches)\",\"Rainfall (inches)\",\"Rainfall (inches)\",\"Rainfall (inches)\",\"Rainfall (inches)\",\"Rainfall (inches)\",\"Rainfall (inches)\",\"Rainfall (inches)\",\"Rainfall (inches)\",\"Rainfall (inches)\",\"Rainfall (inches)\",\"Rainfall (inches)\",\"Rainfall (inches)\",\"Rainfall (inches)\",\"Rainfall (inches)\",\"Rainfall (inches)\",\"Rainfall (inches)\",\"Rainfall (inches)\",\"Rainfall (inches)\",\"Rainfall (inches)\",\"Rainfall (inches)\",\"Rainfall (inches)\",\"Rainfall (inches)\",\"Rainfall (inches)\",\"Rainfall (inches)\",\"Rainfall (inches)\",\"Rainfall (inches)\",\"Rainfall (inches)\",\"Rainfall (inches)\",\"Rainfall (inches)\",\"Rainfall (inches)\",\"Rainfall (inches)\",\"Rainfall (inches)\",\"Rainfall (inches)\",\"Rainfall (inches)\",\"Rainfall (inches)\",\"Rainfall (inches)\",\"Rainfall (inches)\",\"Rainfall (inches)\",\"Rainfall (inches)\",\"Rainfall (inches)\",\"Rainfall (inches)\",\"Rainfall (inches)\",\"Rainfall (inches)\",\"Rainfall (inches)\",\"Rainfall (inches)\",\"Rainfall (inches)\",\"Rainfall (inches)\",\"Rainfall (inches)\",\"Rainfall (inches)\",\"Rainfall (inches)\",\"Rainfall (inches)\",\"Rainfall (inches)\",\"Rainfall (inches)\",\"Rainfall (inches)\",\"Rainfall (inches)\",\"Rainfall (inches)\",\"Rainfall (inches)\",\"Rainfall (inches)\",\"Rainfall (inches)\",\"Rainfall (inches)\",\"Rainfall (inches)\",\"Rainfall (inches)\",\"Rainfall (inches)\",\"Rainfall (inches)\",\"Rainfall (inches)\",\"Rainfall (inches)\",\"Rainfall (inches)\",\"Rainfall (inches)\",\"Rainfall (inches)\",\"Rainfall (inches)\",\"Rainfall (inches)\",\"Rainfall (inches)\",\"Rainfall (inches)\",\"Rainfall (inches)\",\"Rainfall (inches)\",\"Rainfall (inches)\",\"Rainfall (inches)\",\"Rainfall (inches)\",\"Rainfall (inches)\",\"Rainfall (inches)\",\"Rainfall (inches)\",\"Rainfall (inches)\",\"Rainfall (inches)\",\"Rainfall (inches)\",\"Rainfall (inches)\",\"Rainfall (inches)\",\"Rainfall (inches)\",\"Rainfall (inches)\",\"Rainfall (inches)\",\"Rainfall (inches)\",\"Rainfall (inches)\",\"Rainfall (inches)\",\"Rainfall (inches)\",\"Rainfall (inches)\",\"Rainfall (inches)\",\"Rainfall (inches)\",\"Rainfall (inches)\",\"Rainfall (inches)\",\"Rainfall (inches)\",\"Rainfall (inches)\",\"Rainfall (inches)\",\"Rainfall (inches)\",\"Rainfall (inches)\",\"Rainfall (inches)\",\"Rainfall (inches)\",\"Rainfall (inches)\",\"Rainfall (inches)\",\"Rainfall (inches)\",\"Rainfall (inches)\",\"Rainfall (inches)\",\"Rainfall (inches)\",\"Rainfall (inches)\",\"Rainfall (inches)\",\"Rainfall (inches)\",\"Rainfall (inches)\",\"Rainfall (inches)\",\"Rainfall (inches)\",\"Rainfall (inches)\",\"Rainfall (inches)\",\"Rainfall (inches)\",\"Rainfall (inches)\",\"Rainfall (inches)\",\"Rainfall (inches)\",\"Rainfall (inches)\",\"Rainfall (inches)\",\"Rainfall (inches)\",\"Rainfall (inches)\",\"Rainfall (inches)\",\"Rainfall (inches)\",\"Rainfall (inches)\",\"Rainfall (inches)\",\"Rainfall (inches)\",\"Rainfall (inches)\",\"Rainfall (inches)\",\"Rainfall (inches)\",\"Rainfall (inches)\",\"Rainfall (inches)\",\"Rainfall (inches)\",\"Rainfall (inches)\",\"Rainfall (inches)\",\"Rainfall (inches)\",\"Rainfall (inches)\",\"Rainfall (inches)\",\"Rainfall (inches)\",\"Rainfall (inches)\",\"Rainfall (inches)\",\"Rainfall (inches)\",\"Rainfall (inches)\",\"Rainfall (inches)\",\"Rainfall (inches)\",\"Rainfall (inches)\",\"Rainfall (inches)\",\"Rainfall (inches)\",\"Rainfall (inches)\",\"Rainfall (inches)\",\"Rainfall (inches)\",\"Rainfall (inches)\",\"Rainfall (inches)\",\"Rainfall (inches)\",\"Rainfall (inches)\",\"Rainfall (inches)\",\"Rainfall (inches)\",\"Rainfall (inches)\",\"Rainfall (inches)\",\"Rainfall (inches)\",\"Rainfall (inches)\",\"Rainfall (inches)\",\"Rainfall (inches)\",\"Rainfall (inches)\",\"Rainfall (inches)\",\"Rainfall (inches)\",\"Rainfall (inches)\",\"Rainfall (inches)\",\"Rainfall (inches)\",\"Rainfall (inches)\",\"Rainfall (inches)\",\"Rainfall (inches)\",\"Rainfall (inches)\",\"Rainfall (inches)\",\"Rainfall (inches)\",\"Rainfall (inches)\",\"Rainfall (inches)\",\"Rainfall (inches)\",\"Rainfall (inches)\",\"Rainfall (inches)\",\"Rainfall (inches)\",\"Rainfall (inches)\",\"Rainfall (inches)\",\"Rainfall (inches)\",\"Rainfall (inches)\",\"Rainfall (inches)\",\"Rainfall (inches)\",\"Rainfall (inches)\",\"Rainfall (inches)\",\"Rainfall (inches)\",\"Rainfall (inches)\",\"Rainfall (inches)\",\"Rainfall (inches)\",\"Rainfall (inches)\",\"Rainfall (inches)\",\"Rainfall (inches)\",\"Rainfall (inches)\",\"Rainfall (inches)\",\"Rainfall (inches)\",\"Rainfall (inches)\",\"Rainfall (inches)\",\"Rainfall (inches)\",\"Rainfall (inches)\",\"Rainfall (inches)\",\"Rainfall (inches)\",\"Rainfall (inches)\",\"Rainfall (inches)\",\"Rainfall (inches)\",\"Rainfall (inches)\",\"Rainfall (inches)\",\"Rainfall (inches)\",\"Rainfall (inches)\",\"Rainfall (inches)\",\"Rainfall (inches)\",\"Rainfall (inches)\",\"Rainfall (inches)\",\"Rainfall (inches)\",\"Rainfall (inches)\",\"Rainfall (inches)\",\"Rainfall (inches)\",\"Rainfall (inches)\",\"Rainfall (inches)\",\"Rainfall (inches)\",\"Rainfall (inches)\",\"Rainfall (inches)\",\"Rainfall (inches)\",\"Rainfall (inches)\",\"Rainfall (inches)\",\"Rainfall (inches)\",\"Rainfall (inches)\",\"Rainfall (inches)\",\"Rainfall (inches)\",\"Rainfall (inches)\",\"Rainfall (inches)\",\"Rainfall (inches)\",\"Rainfall (inches)\",\"Rainfall (inches)\",\"Rainfall (inches)\",\"Rainfall (inches)\",\"Rainfall (inches)\",\"Rainfall (inches)\",\"Rainfall (inches)\",\"Rainfall (inches)\",\"Rainfall (inches)\",\"Rainfall (inches)\",\"Rainfall (inches)\",\"Rainfall (inches)\",\"Rainfall (inches)\",\"Rainfall (inches)\",\"Rainfall (inches)\",\"Rainfall (inches)\",\"Rainfall (inches)\",\"Rainfall (inches)\",\"Rainfall (inches)\",\"Rainfall (inches)\",\"Rainfall (inches)\",\"Rainfall (inches)\",\"Rainfall (inches)\",\"Rainfall (inches)\",\"Rainfall (inches)\",\"Rainfall (inches)\",\"Rainfall (inches)\",\"Rainfall (inches)\",\"Rainfall (inches)\",\"Rainfall (inches)\",\"Rainfall (inches)\",\"Rainfall (inches)\",\"Rainfall (inches)\",\"Rainfall (inches)\",\"Rainfall (inches)\",\"Rainfall (inches)\",\"Rainfall (inches)\",\"Rainfall (inches)\",\"Rainfall (inches)\",\"Rainfall (inches)\",\"Rainfall (inches)\",\"Rainfall (inches)\",\"Rainfall (inches)\",\"Rainfall (inches)\",\"Rainfall (inches)\",\"Rainfall (inches)\",\"Rainfall (inches)\",\"Rainfall (inches)\",\"Rainfall (inches)\",\"Rainfall (inches)\",\"Rainfall (inches)\",\"Rainfall (inches)\",\"Rainfall (inches)\",\"Rainfall (inches)\",\"Rainfall (inches)\",\"Rainfall (inches)\",\"Rainfall (inches)\",\"Rainfall (inches)\",\"Rainfall (inches)\",\"Rainfall (inches)\",\"Rainfall (inches)\",\"Rainfall (inches)\",\"Rainfall (inches)\",\"Rainfall (inches)\",\"Rainfall (inches)\",\"Rainfall (inches)\",\"Rainfall (inches)\",\"Rainfall (inches)\",\"Rainfall (inches)\",\"Rainfall (inches)\",\"Rainfall (inches)\",\"Rainfall (inches)\",\"Rainfall (inches)\",\"Rainfall (inches)\",\"Rainfall (inches)\",\"Rainfall (inches)\",\"Rainfall (inches)\",\"Rainfall (inches)\",\"Rainfall (inches)\",\"Rainfall (inches)\",\"Rainfall (inches)\",\"Rainfall (inches)\",\"Rainfall (inches)\",\"Rainfall (inches)\",\"Rainfall (inches)\",\"Rainfall (inches)\",\"Rainfall (inches)\",\"Rainfall (inches)\",\"Rainfall (inches)\",\"Rainfall (inches)\",\"Rainfall (inches)\",\"Rainfall (inches)\",\"Rainfall (inches)\",\"Rainfall (inches)\",\"Rainfall (inches)\",\"Rainfall (inches)\",\"Rainfall (inches)\",\"Rainfall (inches)\",\"Rainfall (inches)\",\"Rainfall (inches)\",\"Rainfall (inches)\",\"Rainfall (inches)\",\"Rainfall (inches)\",\"Rainfall (inches)\",\"Rainfall (inches)\",\"Rainfall (inches)\",\"Rainfall (inches)\",\"Rainfall (inches)\",\"Rainfall (inches)\",\"Rainfall (inches)\",\"Rainfall (inches)\",\"Rainfall (inches)\",\"Rainfall (inches)\",\"Rainfall (inches)\",\"Rainfall (inches)\",\"Rainfall (inches)\",\"Rainfall (inches)\",\"Rainfall (inches)\",\"Rainfall (inches)\",\"Rainfall (inches)\",\"Rainfall (inches)\",\"Rainfall (inches)\",\"Rainfall (inches)\",\"Rainfall (inches)\",\"Rainfall (inches)\",\"Rainfall (inches)\",\"Rainfall (inches)\",\"Rainfall (inches)\",\"Rainfall (inches)\",\"Rainfall (inches)\",\"Rainfall (inches)\",\"Rainfall (inches)\",\"Rainfall (inches)\",\"Rainfall (inches)\",\"Rainfall (inches)\",\"Rainfall (inches)\",\"Rainfall (inches)\",\"Rainfall (inches)\",\"Rainfall (inches)\",\"Rainfall (inches)\",\"Rainfall (inches)\",\"Rainfall (inches)\",\"Rainfall (inches)\",\"Rainfall (inches)\",\"Rainfall (inches)\",\"Rainfall (inches)\",\"Rainfall (inches)\",\"Rainfall (inches)\",\"Rainfall (inches)\",\"Rainfall (inches)\",\"Rainfall (inches)\",\"Rainfall (inches)\",\"Rainfall (inches)\",\"Rainfall (inches)\",\"Rainfall (inches)\",\"Rainfall (inches)\",\"Rainfall (inches)\",\"Rainfall (inches)\",\"Rainfall (inches)\",\"Rainfall (inches)\",\"Rainfall (inches)\",\"Rainfall (inches)\",\"Rainfall (inches)\",\"Rainfall (inches)\",\"Rainfall (inches)\",\"Rainfall (inches)\",\"Rainfall (inches)\",\"Rainfall (inches)\",\"Rainfall (inches)\",\"Rainfall (inches)\",\"Rainfall (inches)\",\"Rainfall (inches)\",\"Rainfall (inches)\",\"Rainfall (inches)\",\"Rainfall (inches)\",\"Rainfall (inches)\",\"Rainfall (inches)\",\"Rainfall (inches)\",\"Rainfall (inches)\",\"Rainfall (inches)\",\"Rainfall (inches)\",\"Rainfall (inches)\",\"Rainfall (inches)\",\"Rainfall (inches)\",\"Rainfall (inches)\",\"Rainfall (inches)\",\"Rainfall (inches)\",\"Rainfall (inches)\",\"Rainfall (inches)\",\"Rainfall (inches)\",\"Rainfall (inches)\",\"Rainfall (inches)\",\"Rainfall (inches)\",\"Rainfall (inches)\",\"Rainfall (inches)\",\"Rainfall (inches)\",\"Rainfall (inches)\",\"Rainfall (inches)\",\"Rainfall (inches)\",\"Rainfall (inches)\",\"Rainfall (inches)\",\"Rainfall (inches)\",\"Rainfall (inches)\",\"Rainfall (inches)\",\"Rainfall (inches)\",\"Rainfall (inches)\",\"Rainfall (inches)\",\"Rainfall (inches)\",\"Rainfall (inches)\",\"Rainfall (inches)\",\"Rainfall (inches)\",\"Rainfall (inches)\",\"Rainfall (inches)\",\"Rainfall (inches)\",\"Rainfall (inches)\",\"Rainfall (inches)\",\"Rainfall (inches)\",\"Rainfall (inches)\",\"Rainfall (inches)\",\"Rainfall (inches)\",\"Rainfall (inches)\",\"Rainfall (inches)\",\"Rainfall (inches)\",\"Rainfall (inches)\",\"Rainfall (inches)\",\"Rainfall (inches)\",\"Rainfall (inches)\",\"Rainfall (inches)\",\"Rainfall (inches)\",\"Rainfall (inches)\",\"Rainfall (inches)\",\"Rainfall (inches)\",\"Rainfall (inches)\",\"Rainfall (inches)\",\"Rainfall (inches)\",\"Rainfall (inches)\",\"Rainfall (inches)\",\"Rainfall (inches)\",\"Rainfall (inches)\",\"Rainfall (inches)\",\"Rainfall (inches)\",\"Rainfall (inches)\",\"Rainfall (inches)\",\"Rainfall (inches)\",\"Rainfall (inches)\",\"Rainfall (inches)\",\"Rainfall (inches)\",\"Rainfall (inches)\",\"Rainfall (inches)\",\"Rainfall (inches)\",\"Rainfall (inches)\",\"Rainfall (inches)\",\"Rainfall (inches)\",\"Rainfall (inches)\",\"Rainfall (inches)\",\"Rainfall (inches)\",\"Rainfall (inches)\",\"Rainfall (inches)\",\"Rainfall (inches)\",\"Rainfall (inches)\",\"Rainfall (inches)\",\"Rainfall (inches)\",\"Rainfall (inches)\",\"Rainfall (inches)\",\"Rainfall (inches)\",\"Rainfall (inches)\",\"Rainfall (inches)\",\"Rainfall (inches)\",\"Rainfall (inches)\",\"Rainfall (inches)\",\"Rainfall (inches)\",\"Rainfall (inches)\",\"Rainfall (inches)\",\"Rainfall (inches)\",\"Rainfall (inches)\",\"Rainfall (inches)\",\"Rainfall (inches)\",\"Rainfall (inches)\",\"Rainfall (inches)\",\"Rainfall (inches)\",\"Rainfall (inches)\",\"Rainfall (inches)\",\"Rainfall (inches)\",\"Rainfall (inches)\",\"Rainfall (inches)\",\"Rainfall (inches)\",\"Rainfall (inches)\",\"Rainfall (inches)\",\"Rainfall (inches)\",\"Rainfall (inches)\",\"Rainfall (inches)\",\"Rainfall (inches)\",\"Rainfall (inches)\",\"Rainfall (inches)\",\"Rainfall (inches)\",\"Rainfall (inches)\",\"Rainfall (inches)\",\"Rainfall (inches)\",\"Rainfall (inches)\",\"Rainfall (inches)\",\"Rainfall (inches)\",\"Rainfall (inches)\",\"Rainfall (inches)\",\"Rainfall (inches)\",\"Rainfall (inches)\",\"Rainfall (inches)\",\"Rainfall (inches)\",\"Rainfall (inches)\",\"Rainfall (inches)\",\"Rainfall (inches)\",\"Rainfall (inches)\",\"Rainfall (inches)\",\"Rainfall (inches)\",\"Rainfall (inches)\",\"Rainfall (inches)\",\"Rainfall (inches)\",\"Rainfall (inches)\",\"Rainfall (inches)\",\"Rainfall (inches)\",\"Rainfall (inches)\",\"Rainfall (inches)\",\"Rainfall (inches)\",\"Rainfall (inches)\",\"Rainfall (inches)\",\"Rainfall (inches)\",\"Rainfall (inches)\",\"Rainfall (inches)\",\"Rainfall (inches)\",\"Rainfall (inches)\",\"Rainfall (inches)\",\"Rainfall (inches)\",\"Rainfall (inches)\",\"Rainfall (inches)\",\"Rainfall (inches)\",\"Rainfall (inches)\",\"Rainfall (inches)\",\"Rainfall (inches)\",\"Rainfall (inches)\",\"Rainfall (inches)\",\"Rainfall (inches)\",\"Rainfall (inches)\",\"Rainfall (inches)\",\"Rainfall (inches)\",\"Rainfall (inches)\",\"Rainfall (inches)\",\"Rainfall (inches)\",\"Rainfall (inches)\",\"Rainfall (inches)\",\"Rainfall (inches)\",\"Rainfall (inches)\",\"Rainfall (inches)\",\"Rainfall (inches)\",\"Rainfall (inches)\",\"Rainfall (inches)\",\"Rainfall (inches)\",\"Rainfall (inches)\",\"Rainfall (inches)\",\"Rainfall (inches)\",\"Rainfall (inches)\",\"Rainfall (inches)\",\"Rainfall (inches)\",\"Rainfall (inches)\",\"Rainfall (inches)\",\"Rainfall (inches)\",\"Rainfall (inches)\",\"Rainfall (inches)\",\"Rainfall (inches)\",\"Rainfall (inches)\",\"Rainfall (inches)\",\"Rainfall (inches)\",\"Rainfall (inches)\",\"Rainfall (inches)\",\"Rainfall (inches)\",\"Rainfall (inches)\",\"Rainfall (inches)\",\"Rainfall (inches)\",\"Rainfall (inches)\",\"Rainfall (inches)\",\"Rainfall (inches)\",\"Rainfall (inches)\",\"Rainfall (inches)\",\"Rainfall (inches)\",\"Rainfall (inches)\",\"Rainfall (inches)\",\"Rainfall (inches)\",\"Rainfall (inches)\",\"Rainfall (inches)\",\"Rainfall (inches)\",\"Rainfall (inches)\",\"Rainfall (inches)\",\"Rainfall (inches)\",\"Rainfall (inches)\",\"Rainfall (inches)\",\"Rainfall (inches)\",\"Rainfall (inches)\",\"Rainfall (inches)\",\"Rainfall (inches)\",\"Rainfall (inches)\",\"Rainfall (inches)\",\"Rainfall (inches)\",\"Rainfall (inches)\",\"Rainfall (inches)\",\"Rainfall (inches)\",\"Rainfall (inches)\",\"Rainfall (inches)\",\"Rainfall (inches)\",\"Rainfall (inches)\",\"Rainfall (inches)\",\"Rainfall (inches)\",\"Rainfall (inches)\",\"Rainfall (inches)\",\"Rainfall (inches)\",\"Rainfall (inches)\",\"Rainfall (inches)\",\"Rainfall (inches)\",\"Rainfall (inches)\",\"Rainfall (inches)\",\"Rainfall (inches)\",\"Rainfall (inches)\",\"Rainfall (inches)\",\"Rainfall (inches)\",\"Rainfall (inches)\",\"Rainfall (inches)\",\"Rainfall (inches)\",\"Rainfall (inches)\",\"Rainfall (inches)\",\"Rainfall (inches)\",\"Rainfall (inches)\",\"Rainfall (inches)\",\"Rainfall (inches)\",\"Rainfall (inches)\",\"Rainfall (inches)\",\"Rainfall (inches)\",\"Rainfall (inches)\",\"Rainfall (inches)\",\"Rainfall (inches)\",\"Rainfall (inches)\",\"Rainfall (inches)\",\"Rainfall (inches)\",\"Rainfall (inches)\",\"Rainfall (inches)\",\"Rainfall (inches)\",\"Rainfall (inches)\",\"Rainfall (inches)\",\"Rainfall (inches)\",\"Rainfall (inches)\",\"Rainfall (inches)\",\"Rainfall (inches)\",\"Rainfall (inches)\",\"Rainfall (inches)\",\"Rainfall (inches)\",\"Rainfall (inches)\",\"Rainfall (inches)\",\"Rainfall (inches)\",\"Rainfall (inches)\",\"Rainfall (inches)\",\"Rainfall (inches)\",\"Rainfall (inches)\",\"Rainfall (inches)\",\"Rainfall (inches)\",\"Rainfall (inches)\",\"Rainfall (inches)\",\"Rainfall (inches)\",\"Rainfall (inches)\",\"Rainfall (inches)\",\"Rainfall (inches)\",\"Rainfall (inches)\",\"Rainfall (inches)\",\"Rainfall (inches)\",\"Rainfall (inches)\",\"Rainfall (inches)\",\"Rainfall (inches)\",\"Rainfall (inches)\",\"Rainfall (inches)\",\"Rainfall (inches)\",\"Rainfall (inches)\",\"Rainfall (inches)\",\"Rainfall (inches)\",\"Rainfall (inches)\",\"Rainfall (inches)\",\"Rainfall (inches)\",\"Rainfall (inches)\",\"Rainfall (inches)\",\"Rainfall (inches)\",\"Rainfall (inches)\",\"Rainfall (inches)\",\"Rainfall (inches)\",\"Rainfall (inches)\",\"Rainfall (inches)\",\"Rainfall (inches)\",\"Rainfall (inches)\",\"Rainfall (inches)\",\"Rainfall (inches)\",\"Rainfall (inches)\",\"Rainfall (inches)\",\"Rainfall (inches)\",\"Rainfall (inches)\",\"Rainfall (inches)\",\"Rainfall (inches)\",\"Rainfall (inches)\",\"Rainfall (inches)\",\"Rainfall (inches)\",\"Rainfall (inches)\",\"Rainfall (inches)\",\"Rainfall (inches)\",\"Rainfall (inches)\",\"Rainfall (inches)\",\"Rainfall (inches)\",\"Rainfall (inches)\",\"Rainfall (inches)\",\"Rainfall (inches)\",\"Rainfall (inches)\",\"Rainfall (inches)\",\"Rainfall (inches)\",\"Rainfall (inches)\",\"Rainfall (inches)\",\"Rainfall (inches)\",\"Rainfall (inches)\",\"Rainfall (inches)\",\"Rainfall (inches)\",\"Rainfall (inches)\",\"Rainfall (inches)\",\"Rainfall (inches)\",\"Rainfall (inches)\",\"Rainfall (inches)\",\"Rainfall (inches)\",\"Rainfall (inches)\",\"Rainfall (inches)\",\"Rainfall (inches)\",\"Rainfall (inches)\",\"Rainfall (inches)\",\"Rainfall (inches)\",\"Rainfall (inches)\",\"Rainfall (inches)\",\"Rainfall (inches)\",\"Rainfall (inches)\",\"Rainfall (inches)\",\"Rainfall (inches)\",\"Rainfall (inches)\",\"Rainfall (inches)\",\"Rainfall (inches)\",\"Rainfall (inches)\",\"Rainfall (inches)\",\"Rainfall (inches)\",\"Rainfall (inches)\",\"Rainfall (inches)\",\"Rainfall (inches)\",\"Rainfall (inches)\",\"Rainfall (inches)\",\"Rainfall (inches)\",\"Rainfall (inches)\",\"Rainfall (inches)\",\"Rainfall (inches)\",\"Rainfall (inches)\",\"Rainfall (inches)\",\"Rainfall (inches)\",\"Rainfall (inches)\",\"Rainfall (inches)\",\"Rainfall (inches)\",\"Rainfall (inches)\",\"Rainfall (inches)\",\"Rainfall (inches)\",\"Rainfall (inches)\",\"Rainfall (inches)\",\"Rainfall (inches)\",\"Rainfall (inches)\",\"Rainfall (inches)\",\"Rainfall (inches)\",\"Rainfall (inches)\",\"Rainfall (inches)\",\"Rainfall (inches)\",\"Rainfall (inches)\",\"Rainfall (inches)\",\"Rainfall (inches)\",\"Rainfall (inches)\",\"Rainfall (inches)\",\"Rainfall (inches)\",\"Rainfall (inches)\",\"Rainfall (inches)\",\"Rainfall (inches)\",\"Rainfall (inches)\",\"Rainfall (inches)\",\"Rainfall (inches)\",\"Rainfall (inches)\",\"Rainfall (inches)\",\"Rainfall (inches)\",\"Rainfall (inches)\",\"Rainfall (inches)\",\"Rainfall (inches)\",\"Rainfall (inches)\",\"Rainfall (inches)\",\"Rainfall (inches)\",\"Rainfall (inches)\",\"Rainfall (inches)\",\"Rainfall (inches)\",\"Rainfall (inches)\",\"Rainfall (inches)\",\"Rainfall (inches)\",\"Rainfall (inches)\",\"Rainfall (inches)\",\"Rainfall (inches)\",\"Rainfall (inches)\",\"Rainfall (inches)\",\"Rainfall (inches)\",\"Rainfall (inches)\",\"Rainfall (inches)\",\"Rainfall (inches)\",\"Rainfall (inches)\",\"Rainfall (inches)\",\"Rainfall (inches)\",\"Rainfall (inches)\",\"Rainfall (inches)\",\"Rainfall (inches)\",\"Rainfall (inches)\",\"Rainfall (inches)\",\"Rainfall (inches)\",\"Rainfall (inches)\",\"Rainfall (inches)\",\"Rainfall (inches)\",\"Rainfall (inches)\",\"Rainfall (inches)\",\"Rainfall (inches)\",\"Rainfall (inches)\",\"Rainfall (inches)\",\"Rainfall (inches)\",\"Rainfall (inches)\",\"Rainfall (inches)\",\"Rainfall (inches)\",\"Rainfall (inches)\",\"Rainfall (inches)\",\"Rainfall (inches)\",\"Rainfall (inches)\",\"Rainfall (inches)\",\"Rainfall (inches)\",\"Rainfall (inches)\",\"Rainfall (inches)\",\"Rainfall (inches)\",\"Rainfall (inches)\",\"Rainfall (inches)\",\"Rainfall (inches)\",\"Rainfall (inches)\",\"Rainfall (inches)\",\"Rainfall (inches)\",\"Rainfall (inches)\",\"Rainfall (inches)\",\"Rainfall (inches)\",\"Rainfall (inches)\",\"Rainfall (inches)\",\"Rainfall (inches)\",\"Rainfall (inches)\",\"Rainfall (inches)\",\"Rainfall (inches)\",\"Rainfall (inches)\",\"Rainfall (inches)\",\"Rainfall (inches)\",\"Rainfall (inches)\",\"Rainfall (inches)\",\"Rainfall (inches)\",\"Rainfall (inches)\",\"Rainfall (inches)\",\"Rainfall (inches)\",\"Rainfall (inches)\",\"Rainfall (inches)\",\"Rainfall (inches)\",\"Rainfall (inches)\",\"Rainfall (inches)\",\"Rainfall (inches)\",\"Rainfall (inches)\",\"Rainfall (inches)\",\"Rainfall (inches)\",\"Rainfall (inches)\",\"Rainfall (inches)\",\"Rainfall (inches)\",\"Rainfall (inches)\",\"Rainfall (inches)\",\"Rainfall (inches)\",\"Rainfall (inches)\",\"Rainfall (inches)\",\"Rainfall (inches)\",\"Rainfall (inches)\",\"Rainfall (inches)\",\"Rainfall (inches)\",\"Rainfall (inches)\",\"Rainfall (inches)\",\"Rainfall (inches)\",\"Rainfall (inches)\",\"Rainfall (inches)\",\"Rainfall (inches)\",\"Rainfall (inches)\",\"Rainfall (inches)\",\"Rainfall (inches)\",\"Rainfall (inches)\",\"Rainfall (inches)\",\"Rainfall (inches)\",\"Rainfall (inches)\",\"Rainfall (inches)\",\"Rainfall (inches)\",\"Rainfall (inches)\",\"Rainfall (inches)\",\"Rainfall (inches)\",\"Rainfall (inches)\",\"Rainfall (inches)\",\"Rainfall (inches)\",\"Rainfall (inches)\",\"Rainfall (inches)\",\"Rainfall (inches)\",\"Rainfall (inches)\",\"Rainfall (inches)\",\"Rainfall (inches)\",\"Rainfall (inches)\",\"Rainfall (inches)\",\"Rainfall (inches)\",\"Rainfall (inches)\",\"Rainfall (inches)\",\"Rainfall (inches)\",\"Rainfall (inches)\",\"Rainfall (inches)\",\"Rainfall (inches)\",\"Rainfall (inches)\",\"Rainfall (inches)\",\"Rainfall (inches)\",\"Rainfall (inches)\",\"Rainfall (inches)\",\"Rainfall (inches)\",\"Rainfall (inches)\",\"Rainfall (inches)\",\"Rainfall (inches)\",\"Rainfall (inches)\",\"Rainfall (inches)\",\"Rainfall (inches)\",\"Rainfall (inches)\",\"Rainfall (inches)\",\"Rainfall (inches)\",\"Rainfall (inches)\",\"Rainfall (inches)\",\"Rainfall (inches)\",\"Rainfall (inches)\",\"Rainfall (inches)\",\"Rainfall (inches)\",\"Rainfall (inches)\",\"Rainfall (inches)\",\"Rainfall (inches)\",\"Rainfall (inches)\",\"Rainfall (inches)\",\"Rainfall (inches)\",\"Rainfall (inches)\",\"Rainfall (inches)\",\"Rainfall (inches)\",\"Rainfall (inches)\",\"Rainfall (inches)\",\"Rainfall (inches)\",\"Rainfall (inches)\",\"Rainfall (inches)\",\"Rainfall (inches)\",\"Rainfall (inches)\",\"Rainfall (inches)\",\"Rainfall (inches)\",\"Rainfall (inches)\",\"Rainfall (inches)\",\"Rainfall (inches)\",\"Rainfall (inches)\",\"Rainfall (inches)\",\"Rainfall (inches)\",\"Rainfall (inches)\",\"Rainfall (inches)\",\"Rainfall (inches)\",\"Rainfall (inches)\",\"Rainfall (inches)\",\"Rainfall (inches)\",\"Rainfall (inches)\",\"Rainfall (inches)\",\"Rainfall (inches)\",\"Rainfall (inches)\",\"Rainfall (inches)\",\"Rainfall (inches)\",\"Rainfall (inches)\",\"Rainfall (inches)\",\"Rainfall (inches)\",\"Rainfall (inches)\",\"Rainfall (inches)\",\"Rainfall (inches)\",\"Rainfall (inches)\",\"Rainfall (inches)\",\"Rainfall (inches)\",\"Rainfall (inches)\",\"Rainfall (inches)\",\"Rainfall (inches)\",\"Rainfall (inches)\",\"Rainfall (inches)\",\"Rainfall (inches)\",\"Rainfall (inches)\",\"Rainfall (inches)\",\"Rainfall (inches)\",\"Rainfall (inches)\",\"Rainfall (inches)\",\"Rainfall (inches)\",\"Rainfall (inches)\",\"Rainfall (inches)\",\"Rainfall (inches)\",\"Rainfall (inches)\",\"Rainfall (inches)\",\"Rainfall (inches)\",\"Rainfall (inches)\",\"Rainfall (inches)\",\"Rainfall (inches)\",\"Rainfall (inches)\",\"Rainfall (inches)\",\"Rainfall (inches)\",\"Rainfall (inches)\",\"Rainfall (inches)\",\"Rainfall (inches)\",\"Rainfall (inches)\",\"Rainfall (inches)\",\"Rainfall (inches)\",\"Rainfall (inches)\",\"Rainfall (inches)\",\"Rainfall (inches)\",\"Rainfall (inches)\",\"Rainfall (inches)\",\"Rainfall (inches)\",\"Rainfall (inches)\",\"Rainfall (inches)\",\"Rainfall (inches)\",\"Rainfall (inches)\",\"Rainfall (inches)\",\"Rainfall (inches)\",\"Rainfall (inches)\",\"Rainfall (inches)\",\"Rainfall (inches)\",\"Rainfall (inches)\",\"Rainfall (inches)\",\"Rainfall (inches)\",\"Rainfall (inches)\",\"Rainfall (inches)\",\"Rainfall (inches)\",\"Rainfall (inches)\",\"Rainfall (inches)\",\"Rainfall (inches)\",\"Rainfall (inches)\",\"Rainfall (inches)\",\"Rainfall (inches)\",\"Rainfall (inches)\",\"Rainfall (inches)\",\"Rainfall (inches)\",\"Rainfall (inches)\",\"Rainfall (inches)\",\"Rainfall (inches)\",\"Rainfall (inches)\",\"Rainfall (inches)\",\"Rainfall (inches)\",\"Rainfall (inches)\",\"Rainfall (inches)\",\"Rainfall (inches)\",\"Rainfall (inches)\",\"Rainfall (inches)\",\"Rainfall (inches)\",\"Rainfall (inches)\",\"Rainfall (inches)\",\"Rainfall (inches)\",\"Rainfall (inches)\",\"Rainfall (inches)\",\"Rainfall (inches)\",\"Rainfall (inches)\",\"Rainfall (inches)\",\"Rainfall (inches)\",\"Rainfall (inches)\",\"Rainfall (inches)\",\"Rainfall (inches)\",\"Rainfall (inches)\",\"Rainfall (inches)\",\"Rainfall (inches)\",\"Rainfall (inches)\",\"Rainfall (inches)\",\"Rainfall (inches)\",\"Rainfall (inches)\",\"Rainfall (inches)\",\"Rainfall (inches)\",\"Rainfall (inches)\",\"Rainfall (inches)\",\"Rainfall (inches)\",\"Rainfall (inches)\",\"Rainfall (inches)\",\"Rainfall (inches)\",\"Rainfall (inches)\",\"Rainfall (inches)\",\"Rainfall (inches)\",\"Rainfall (inches)\",\"Rainfall (inches)\",\"Rainfall (inches)\",\"Rainfall (inches)\",\"Rainfall (inches)\",\"Rainfall (inches)\",\"Rainfall (inches)\",\"Rainfall (inches)\",\"Rainfall (inches)\",\"Rainfall (inches)\",\"Rainfall (inches)\",\"Rainfall (inches)\",\"Rainfall (inches)\",\"Rainfall (inches)\",\"Rainfall (inches)\",\"Rainfall (inches)\",\"Rainfall (inches)\",\"Rainfall (inches)\",\"Rainfall (inches)\",\"Rainfall (inches)\",\"Rainfall (inches)\",\"Rainfall (inches)\",\"Rainfall (inches)\",\"Rainfall (inches)\",\"Rainfall (inches)\",\"Rainfall (inches)\",\"Rainfall (inches)\",\"Rainfall (inches)\",\"Rainfall (inches)\",\"Rainfall (inches)\",\"Rainfall (inches)\",\"Rainfall (inches)\",\"Rainfall (inches)\",\"Rainfall (inches)\",\"Rainfall (inches)\",\"Rainfall (inches)\",\"Rainfall (inches)\",\"Rainfall (inches)\",\"Rainfall (inches)\",\"Rainfall (inches)\",\"Rainfall (inches)\",\"Rainfall (inches)\",\"Rainfall (inches)\",\"Rainfall (inches)\",\"Rainfall (inches)\",\"Rainfall (inches)\",\"Rainfall (inches)\",\"Rainfall (inches)\",\"Rainfall (inches)\",\"Rainfall (inches)\",\"Rainfall (inches)\",\"Rainfall (inches)\",\"Rainfall (inches)\",\"Rainfall (inches)\",\"Rainfall (inches)\",\"Rainfall (inches)\",\"Rainfall (inches)\",\"Rainfall (inches)\",\"Rainfall (inches)\",\"Rainfall (inches)\",\"Rainfall (inches)\",\"Rainfall (inches)\",\"Rainfall (inches)\",\"Rainfall (inches)\",\"Rainfall (inches)\",\"Rainfall (inches)\",\"Rainfall (inches)\",\"Rainfall (inches)\",\"Rainfall (inches)\",\"Rainfall (inches)\",\"Rainfall (inches)\",\"Rainfall (inches)\",\"Rainfall (inches)\",\"Rainfall (inches)\",\"Rainfall (inches)\",\"Rainfall (inches)\",\"Rainfall (inches)\",\"Rainfall (inches)\",\"Rainfall (inches)\",\"Rainfall (inches)\",\"Rainfall (inches)\",\"Rainfall (inches)\",\"Rainfall (inches)\",\"Rainfall (inches)\",\"Rainfall (inches)\",\"Rainfall (inches)\",\"Rainfall (inches)\",\"Rainfall (inches)\",\"Rainfall (inches)\",\"Rainfall (inches)\",\"Rainfall (inches)\",\"Rainfall (inches)\",\"Rainfall (inches)\",\"Rainfall (inches)\",\"Rainfall (inches)\",\"Rainfall (inches)\",\"Rainfall (inches)\",\"Rainfall (inches)\",\"Rainfall (inches)\",\"Rainfall (inches)\",\"Rainfall (inches)\",\"Rainfall (inches)\",\"Rainfall (inches)\",\"Rainfall (inches)\",\"Rainfall (inches)\",\"Rainfall (inches)\",\"Rainfall (inches)\",\"Rainfall (inches)\",\"Rainfall (inches)\",\"Rainfall (inches)\",\"Rainfall (inches)\",\"Rainfall (inches)\",\"Rainfall (inches)\",\"Rainfall (inches)\",\"Rainfall (inches)\",\"Rainfall (inches)\",\"Rainfall (inches)\",\"Rainfall (inches)\",\"Rainfall (inches)\",\"Rainfall (inches)\",\"Rainfall (inches)\",\"Rainfall (inches)\",\"Rainfall (inches)\",\"Rainfall (inches)\",\"Rainfall (inches)\",\"Rainfall (inches)\",\"Rainfall (inches)\",\"Rainfall (inches)\",\"Rainfall (inches)\",\"Rainfall (inches)\",\"Rainfall (inches)\",\"Rainfall (inches)\",\"Rainfall (inches)\",\"Rainfall (inches)\",\"Rainfall (inches)\",\"Rainfall (inches)\",\"Rainfall (inches)\",\"Rainfall (inches)\",\"Rainfall (inches)\",\"Rainfall (inches)\",\"Rainfall (inches)\",\"Rainfall (inches)\",\"Rainfall (inches)\",\"Rainfall (inches)\",\"Rainfall (inches)\",\"Rainfall (inches)\",\"Rainfall (inches)\",\"Rainfall (inches)\",\"Rainfall (inches)\",\"Rainfall (inches)\",\"Rainfall (inches)\",\"Rainfall (inches)\",\"Rainfall (inches)\",\"Rainfall (inches)\",\"Rainfall (inches)\",\"Rainfall (inches)\",\"Rainfall (inches)\",\"Rainfall (inches)\",\"Rainfall (inches)\",\"Rainfall (inches)\",\"Rainfall (inches)\",\"Rainfall (inches)\",\"Rainfall (inches)\",\"Rainfall (inches)\",\"Rainfall (inches)\",\"Rainfall (inches)\",\"Rainfall (inches)\",\"Rainfall (inches)\",\"Rainfall (inches)\",\"Rainfall (inches)\",\"Rainfall (inches)\",\"Rainfall (inches)\",\"Rainfall (inches)\",\"Rainfall (inches)\",\"Rainfall (inches)\",\"Rainfall (inches)\",\"Rainfall (inches)\",\"Rainfall (inches)\",\"Rainfall (inches)\",\"Rainfall (inches)\",\"Rainfall (inches)\",\"Rainfall (inches)\",\"Rainfall (inches)\",\"Rainfall (inches)\",\"Rainfall (inches)\",\"Rainfall (inches)\",\"Rainfall (inches)\",\"Rainfall (inches)\",\"Rainfall (inches)\",\"Rainfall (inches)\",\"Rainfall (inches)\",\"Rainfall (inches)\",\"Rainfall (inches)\",\"Rainfall (inches)\",\"Rainfall (inches)\",\"Rainfall (inches)\",\"Rainfall (inches)\",\"Rainfall (inches)\",\"Rainfall (inches)\",\"Rainfall (inches)\",\"Rainfall (inches)\",\"Rainfall (inches)\",\"Rainfall (inches)\",\"Rainfall (inches)\",\"Rainfall (inches)\",\"Rainfall (inches)\",\"Rainfall (inches)\",\"Rainfall (inches)\",\"Rainfall (inches)\",\"Rainfall (inches)\",\"Rainfall (inches)\",\"Rainfall (inches)\",\"Rainfall (inches)\",\"Rainfall (inches)\",\"Rainfall (inches)\",\"Rainfall (inches)\",\"Rainfall (inches)\",\"Rainfall (inches)\",\"Rainfall (inches)\",\"Rainfall (inches)\",\"Rainfall (inches)\",\"Rainfall (inches)\",\"Rainfall (inches)\",\"Rainfall (inches)\",\"Rainfall (inches)\",\"Rainfall (inches)\",\"Rainfall (inches)\",\"Rainfall (inches)\",\"Rainfall (inches)\",\"Rainfall (inches)\",\"Rainfall (inches)\",\"Rainfall (inches)\",\"Rainfall (inches)\",\"Rainfall (inches)\",\"Rainfall (inches)\",\"Rainfall (inches)\",\"Rainfall (inches)\",\"Rainfall (inches)\",\"Rainfall (inches)\",\"Rainfall (inches)\",\"Rainfall (inches)\",\"Rainfall (inches)\",\"Rainfall (inches)\",\"Rainfall (inches)\",\"Rainfall (inches)\",\"Rainfall (inches)\",\"Rainfall (inches)\",\"Rainfall (inches)\",\"Rainfall (inches)\",\"Rainfall (inches)\",\"Rainfall (inches)\",\"Rainfall (inches)\",\"Rainfall (inches)\",\"Rainfall (inches)\",\"Rainfall (inches)\",\"Rainfall (inches)\",\"Rainfall (inches)\",\"Rainfall (inches)\",\"Rainfall (inches)\",\"Rainfall (inches)\",\"Rainfall (inches)\",\"Rainfall (inches)\",\"Rainfall (inches)\",\"Rainfall (inches)\",\"Rainfall (inches)\",\"Rainfall (inches)\",\"Rainfall (inches)\",\"Rainfall (inches)\",\"Rainfall (inches)\",\"Rainfall (inches)\",\"Rainfall (inches)\",\"Rainfall (inches)\",\"Rainfall (inches)\",\"Rainfall (inches)\",\"Rainfall (inches)\",\"Rainfall (inches)\",\"Rainfall (inches)\",\"Rainfall (inches)\",\"Rainfall (inches)\",\"Rainfall (inches)\",\"Rainfall (inches)\",\"Rainfall (inches)\",\"Rainfall (inches)\",\"Rainfall (inches)\",\"Rainfall (inches)\",\"Rainfall (inches)\",\"Rainfall (inches)\",\"Rainfall (inches)\",\"Rainfall (inches)\",\"Rainfall (inches)\",\"Rainfall (inches)\",\"Rainfall (inches)\",\"Rainfall (inches)\",\"Rainfall (inches)\",\"Rainfall (inches)\",\"Rainfall (inches)\",\"Rainfall (inches)\",\"Rainfall (inches)\",\"Rainfall (inches)\",\"Rainfall (inches)\",\"Rainfall (inches)\",\"Rainfall (inches)\",\"Rainfall (inches)\",\"Rainfall (inches)\",\"Rainfall (inches)\",\"Rainfall (inches)\",\"Rainfall (inches)\",\"Rainfall (inches)\",\"Rainfall (inches)\",\"Rainfall (inches)\",\"Rainfall (inches)\",\"Rainfall (inches)\",\"Rainfall (inches)\",\"Rainfall (inches)\",\"Rainfall (inches)\",\"Rainfall (inches)\",\"Rainfall (inches)\",\"Rainfall (inches)\",\"Rainfall (inches)\",\"Rainfall (inches)\",\"Rainfall (inches)\",\"Rainfall (inches)\",\"Rainfall (inches)\",\"Rainfall (inches)\",\"Rainfall (inches)\",\"Rainfall (inches)\",\"Rainfall (inches)\",\"Rainfall (inches)\",\"Rainfall (inches)\",\"Rainfall (inches)\",\"Rainfall (inches)\",\"Rainfall (inches)\",\"Rainfall (inches)\",\"Rainfall (inches)\",\"Rainfall (inches)\",\"Rainfall (inches)\",\"Rainfall (inches)\",\"Rainfall (inches)\",\"Rainfall (inches)\",\"Rainfall (inches)\",\"Rainfall (inches)\",\"Rainfall (inches)\",\"Rainfall (inches)\",\"Rainfall (inches)\",\"Rainfall (inches)\"]]]}}},\"view\":{\"type\":\"object\",\"name\":\"CDSView\",\"id\":\"p1486\",\"attributes\":{\"filter\":{\"type\":\"object\",\"name\":\"AllIndices\",\"id\":\"p1487\"}}},\"glyph\":{\"type\":\"object\",\"name\":\"Line\",\"id\":\"p1482\",\"attributes\":{\"tags\":[\"apply_ranges\"],\"x\":{\"type\":\"field\",\"field\":\"date-month\"},\"y\":{\"type\":\"field\",\"field\":\"Rainfall (inches)\"},\"line_color\":\"#fc4f30\",\"line_width\":2}},\"selection_glyph\":{\"type\":\"object\",\"name\":\"Line\",\"id\":\"p1489\",\"attributes\":{\"tags\":[\"apply_ranges\"],\"x\":{\"type\":\"field\",\"field\":\"date-month\"},\"y\":{\"type\":\"field\",\"field\":\"Rainfall (inches)\"},\"line_color\":\"#fc4f30\",\"line_width\":2}},\"nonselection_glyph\":{\"type\":\"object\",\"name\":\"Line\",\"id\":\"p1483\",\"attributes\":{\"tags\":[\"apply_ranges\"],\"x\":{\"type\":\"field\",\"field\":\"date-month\"},\"y\":{\"type\":\"field\",\"field\":\"Rainfall (inches)\"},\"line_color\":\"#fc4f30\",\"line_alpha\":0.1,\"line_width\":2}},\"muted_glyph\":{\"type\":\"object\",\"name\":\"Line\",\"id\":\"p1484\",\"attributes\":{\"tags\":[\"apply_ranges\"],\"x\":{\"type\":\"field\",\"field\":\"date-month\"},\"y\":{\"type\":\"field\",\"field\":\"Rainfall (inches)\"},\"line_color\":\"#fc4f30\",\"line_alpha\":0.2,\"line_width\":2}}}}],\"toolbar\":{\"type\":\"object\",\"name\":\"Toolbar\",\"id\":\"p1427\",\"attributes\":{\"tools\":[{\"type\":\"object\",\"name\":\"WheelZoomTool\",\"id\":\"p1413\",\"attributes\":{\"tags\":[\"hv_created\"],\"renderers\":\"auto\",\"zoom_together\":\"none\"}},{\"type\":\"object\",\"name\":\"HoverTool\",\"id\":\"p1414\",\"attributes\":{\"tags\":[\"hv_created\"],\"renderers\":[{\"id\":\"p1470\"}],\"tooltips\":[[\"Variable\",\"@{Variable}\"],[\"date-month\",\"@{date_hyphen_minus_month}{%F %T}\"],[\"value\",\"@{AMOUNT}\"]],\"formatters\":{\"type\":\"map\",\"entries\":[[\"@{date-month}\",\"datetime\"],[\"@{date_hyphen_minus_month}\",\"datetime\"]]}}},{\"type\":\"object\",\"name\":\"HoverTool\",\"id\":\"p1417\",\"attributes\":{\"tags\":[\"hv_created\"],\"renderers\":[{\"id\":\"p1485\"}],\"tooltips\":[[\"Variable\",\"@{Variable}\"],[\"date-month\",\"@{date_hyphen_minus_month}{%F %T}\"],[\"value\",\"@{Rainfall_left_parenthesis_inches_right_parenthesis}\"]],\"formatters\":{\"type\":\"map\",\"entries\":[[\"@{date-month}\",\"datetime\"],[\"@{date_hyphen_minus_month}\",\"datetime\"]]}}},{\"type\":\"object\",\"name\":\"SaveTool\",\"id\":\"p1452\"},{\"type\":\"object\",\"name\":\"PanTool\",\"id\":\"p1453\"},{\"type\":\"object\",\"name\":\"BoxZoomTool\",\"id\":\"p1454\",\"attributes\":{\"overlay\":{\"type\":\"object\",\"name\":\"BoxAnnotation\",\"id\":\"p1455\",\"attributes\":{\"syncable\":false,\"level\":\"overlay\",\"visible\":false,\"left\":{\"type\":\"number\",\"value\":\"nan\"},\"right\":{\"type\":\"number\",\"value\":\"nan\"},\"top\":{\"type\":\"number\",\"value\":\"nan\"},\"bottom\":{\"type\":\"number\",\"value\":\"nan\"},\"left_units\":\"canvas\",\"right_units\":\"canvas\",\"top_units\":\"canvas\",\"bottom_units\":\"canvas\",\"line_color\":\"black\",\"line_alpha\":1.0,\"line_width\":2,\"line_dash\":[4,4],\"fill_color\":\"lightgrey\",\"fill_alpha\":0.5}}}},{\"type\":\"object\",\"name\":\"ResetTool\",\"id\":\"p1460\"}],\"active_drag\":{\"id\":\"p1453\"},\"active_scroll\":{\"id\":\"p1413\"}}},\"left\":[{\"type\":\"object\",\"name\":\"LinearAxis\",\"id\":\"p1447\",\"attributes\":{\"ticker\":{\"type\":\"object\",\"name\":\"BasicTicker\",\"id\":\"p1448\",\"attributes\":{\"mantissas\":[1,2,5]}},\"formatter\":{\"type\":\"object\",\"name\":\"BasicTickFormatter\",\"id\":\"p1449\"},\"axis_label\":\"\",\"major_label_policy\":{\"type\":\"object\",\"name\":\"AllLabels\",\"id\":\"p1450\"}}}],\"right\":[{\"type\":\"object\",\"name\":\"Legend\",\"id\":\"p1473\",\"attributes\":{\"location\":[0,0],\"title\":\"Variable\",\"click_policy\":\"mute\",\"items\":[{\"type\":\"object\",\"name\":\"LegendItem\",\"id\":\"p1474\",\"attributes\":{\"label\":{\"type\":\"value\",\"value\":\"AMOUNT\"},\"renderers\":[{\"id\":\"p1470\"}]}},{\"type\":\"object\",\"name\":\"LegendItem\",\"id\":\"p1488\",\"attributes\":{\"label\":{\"type\":\"value\",\"value\":\"Rainfall (inches)\"},\"renderers\":[{\"id\":\"p1485\"}]}}]}}],\"below\":[{\"type\":\"object\",\"name\":\"DatetimeAxis\",\"id\":\"p1430\",\"attributes\":{\"ticker\":{\"type\":\"object\",\"name\":\"DatetimeTicker\",\"id\":\"p1431\",\"attributes\":{\"num_minor_ticks\":5,\"tickers\":[{\"type\":\"object\",\"name\":\"AdaptiveTicker\",\"id\":\"p1432\",\"attributes\":{\"num_minor_ticks\":0,\"mantissas\":[1,2,5],\"max_interval\":500.0}},{\"type\":\"object\",\"name\":\"AdaptiveTicker\",\"id\":\"p1433\",\"attributes\":{\"num_minor_ticks\":0,\"base\":60,\"mantissas\":[1,2,5,10,15,20,30],\"min_interval\":1000.0,\"max_interval\":1800000.0}},{\"type\":\"object\",\"name\":\"AdaptiveTicker\",\"id\":\"p1434\",\"attributes\":{\"num_minor_ticks\":0,\"base\":24,\"mantissas\":[1,2,4,6,8,12],\"min_interval\":3600000.0,\"max_interval\":43200000.0}},{\"type\":\"object\",\"name\":\"DaysTicker\",\"id\":\"p1435\",\"attributes\":{\"days\":[1,2,3,4,5,6,7,8,9,10,11,12,13,14,15,16,17,18,19,20,21,22,23,24,25,26,27,28,29,30,31]}},{\"type\":\"object\",\"name\":\"DaysTicker\",\"id\":\"p1436\",\"attributes\":{\"days\":[1,4,7,10,13,16,19,22,25,28]}},{\"type\":\"object\",\"name\":\"DaysTicker\",\"id\":\"p1437\",\"attributes\":{\"days\":[1,8,15,22]}},{\"type\":\"object\",\"name\":\"DaysTicker\",\"id\":\"p1438\",\"attributes\":{\"days\":[1,15]}},{\"type\":\"object\",\"name\":\"MonthsTicker\",\"id\":\"p1439\",\"attributes\":{\"months\":[0,1,2,3,4,5,6,7,8,9,10,11]}},{\"type\":\"object\",\"name\":\"MonthsTicker\",\"id\":\"p1440\",\"attributes\":{\"months\":[0,2,4,6,8,10]}},{\"type\":\"object\",\"name\":\"MonthsTicker\",\"id\":\"p1441\",\"attributes\":{\"months\":[0,4,8]}},{\"type\":\"object\",\"name\":\"MonthsTicker\",\"id\":\"p1442\",\"attributes\":{\"months\":[0,6]}},{\"type\":\"object\",\"name\":\"YearsTicker\",\"id\":\"p1443\"}]}},\"formatter\":{\"type\":\"object\",\"name\":\"DatetimeTickFormatter\",\"id\":\"p1444\"},\"axis_label\":\"date-month\",\"major_label_orientation\":0.7853981633974483,\"major_label_policy\":{\"type\":\"object\",\"name\":\"AllLabels\",\"id\":\"p1445\"}}}],\"center\":[{\"type\":\"object\",\"name\":\"Grid\",\"id\":\"p1446\",\"attributes\":{\"axis\":{\"id\":\"p1430\"},\"grid_line_color\":null}},{\"type\":\"object\",\"name\":\"Grid\",\"id\":\"p1451\",\"attributes\":{\"dimension\":1,\"axis\":{\"id\":\"p1447\"},\"grid_line_color\":null}}],\"min_border_top\":10,\"min_border_bottom\":10,\"min_border_left\":10,\"min_border_right\":10,\"output_backend\":\"webgl\"}},{\"type\":\"object\",\"name\":\"Spacer\",\"id\":\"p1491\",\"attributes\":{\"name\":\"HSpacer01340\",\"stylesheets\":[\"\\n:host(.pn-loading):before, .pn-loading:before {\\n  background-color: #c3c3c3;\\n  mask-size: auto calc(min(50%, 400px));\\n  -webkit-mask-size: auto calc(min(50%, 400px));\\n}\",{\"id\":\"p1406\"},{\"id\":\"p1404\"},{\"id\":\"p1405\"}],\"margin\":0,\"sizing_mode\":\"stretch_width\",\"align\":\"start\"}}]}}],\"defs\":[{\"type\":\"model\",\"name\":\"ReactiveHTML1\"},{\"type\":\"model\",\"name\":\"FlexBox1\",\"properties\":[{\"name\":\"align_content\",\"kind\":\"Any\",\"default\":\"flex-start\"},{\"name\":\"align_items\",\"kind\":\"Any\",\"default\":\"flex-start\"},{\"name\":\"flex_direction\",\"kind\":\"Any\",\"default\":\"row\"},{\"name\":\"flex_wrap\",\"kind\":\"Any\",\"default\":\"wrap\"},{\"name\":\"gap\",\"kind\":\"Any\",\"default\":\"\"},{\"name\":\"justify_content\",\"kind\":\"Any\",\"default\":\"flex-start\"}]},{\"type\":\"model\",\"name\":\"FloatPanel1\",\"properties\":[{\"name\":\"config\",\"kind\":\"Any\",\"default\":{\"type\":\"map\"}},{\"name\":\"contained\",\"kind\":\"Any\",\"default\":true},{\"name\":\"position\",\"kind\":\"Any\",\"default\":\"right-top\"},{\"name\":\"offsetx\",\"kind\":\"Any\",\"default\":null},{\"name\":\"offsety\",\"kind\":\"Any\",\"default\":null},{\"name\":\"theme\",\"kind\":\"Any\",\"default\":\"primary\"},{\"name\":\"status\",\"kind\":\"Any\",\"default\":\"normalized\"}]},{\"type\":\"model\",\"name\":\"GridStack1\",\"properties\":[{\"name\":\"mode\",\"kind\":\"Any\",\"default\":\"warn\"},{\"name\":\"ncols\",\"kind\":\"Any\",\"default\":null},{\"name\":\"nrows\",\"kind\":\"Any\",\"default\":null},{\"name\":\"allow_resize\",\"kind\":\"Any\",\"default\":true},{\"name\":\"allow_drag\",\"kind\":\"Any\",\"default\":true},{\"name\":\"state\",\"kind\":\"Any\",\"default\":[]}]},{\"type\":\"model\",\"name\":\"drag1\",\"properties\":[{\"name\":\"slider_width\",\"kind\":\"Any\",\"default\":5},{\"name\":\"slider_color\",\"kind\":\"Any\",\"default\":\"black\"},{\"name\":\"value\",\"kind\":\"Any\",\"default\":50}]},{\"type\":\"model\",\"name\":\"click1\",\"properties\":[{\"name\":\"terminal_output\",\"kind\":\"Any\",\"default\":\"\"},{\"name\":\"debug_name\",\"kind\":\"Any\",\"default\":\"\"},{\"name\":\"clears\",\"kind\":\"Any\",\"default\":0}]},{\"type\":\"model\",\"name\":\"FastWrapper1\",\"properties\":[{\"name\":\"object\",\"kind\":\"Any\",\"default\":null},{\"name\":\"style\",\"kind\":\"Any\",\"default\":null}]},{\"type\":\"model\",\"name\":\"NotificationAreaBase1\",\"properties\":[{\"name\":\"js_events\",\"kind\":\"Any\",\"default\":{\"type\":\"map\"}},{\"name\":\"position\",\"kind\":\"Any\",\"default\":\"bottom-right\"},{\"name\":\"_clear\",\"kind\":\"Any\",\"default\":0}]},{\"type\":\"model\",\"name\":\"NotificationArea1\",\"properties\":[{\"name\":\"js_events\",\"kind\":\"Any\",\"default\":{\"type\":\"map\"}},{\"name\":\"notifications\",\"kind\":\"Any\",\"default\":[]},{\"name\":\"position\",\"kind\":\"Any\",\"default\":\"bottom-right\"},{\"name\":\"_clear\",\"kind\":\"Any\",\"default\":0},{\"name\":\"types\",\"kind\":\"Any\",\"default\":[{\"type\":\"map\",\"entries\":[[\"type\",\"warning\"],[\"background\",\"#ffc107\"],[\"icon\",{\"type\":\"map\",\"entries\":[[\"className\",\"fas fa-exclamation-triangle\"],[\"tagName\",\"i\"],[\"color\",\"white\"]]}]]},{\"type\":\"map\",\"entries\":[[\"type\",\"info\"],[\"background\",\"#007bff\"],[\"icon\",{\"type\":\"map\",\"entries\":[[\"className\",\"fas fa-info-circle\"],[\"tagName\",\"i\"],[\"color\",\"white\"]]}]]}]}]},{\"type\":\"model\",\"name\":\"Notification\",\"properties\":[{\"name\":\"background\",\"kind\":\"Any\",\"default\":null},{\"name\":\"duration\",\"kind\":\"Any\",\"default\":3000},{\"name\":\"icon\",\"kind\":\"Any\",\"default\":null},{\"name\":\"message\",\"kind\":\"Any\",\"default\":\"\"},{\"name\":\"notification_type\",\"kind\":\"Any\",\"default\":null},{\"name\":\"_destroyed\",\"kind\":\"Any\",\"default\":false}]},{\"type\":\"model\",\"name\":\"TemplateActions1\",\"properties\":[{\"name\":\"open_modal\",\"kind\":\"Any\",\"default\":0},{\"name\":\"close_modal\",\"kind\":\"Any\",\"default\":0}]},{\"type\":\"model\",\"name\":\"BootstrapTemplateActions1\",\"properties\":[{\"name\":\"open_modal\",\"kind\":\"Any\",\"default\":0},{\"name\":\"close_modal\",\"kind\":\"Any\",\"default\":0}]},{\"type\":\"model\",\"name\":\"TemplateEditor1\",\"properties\":[{\"name\":\"layout\",\"kind\":\"Any\",\"default\":[]}]},{\"type\":\"model\",\"name\":\"MaterialTemplateActions1\",\"properties\":[{\"name\":\"open_modal\",\"kind\":\"Any\",\"default\":0},{\"name\":\"close_modal\",\"kind\":\"Any\",\"default\":0}]},{\"type\":\"model\",\"name\":\"copy_to_clipboard1\",\"properties\":[{\"name\":\"fill\",\"kind\":\"Any\",\"default\":\"none\"},{\"name\":\"value\",\"kind\":\"Any\",\"default\":null}]}]}};\n",
              "  var render_items = [{\"docid\":\"bd7e76a8-542e-41c9-87b1-53f8b0adf758\",\"roots\":{\"p1403\":\"e6085672-a13b-4d22-9ea7-e122a90de6a8\"},\"root_ids\":[\"p1403\"]}];\n",
              "  var docs = Object.values(docs_json)\n",
              "  if (!docs) {\n",
              "    return\n",
              "  }\n",
              "  const py_version = docs[0].version.replace('rc', '-rc.').replace('.dev', '-dev.')\n",
              "  async function embed_document(root) {\n",
              "    var Bokeh = get_bokeh(root)\n",
              "    await Bokeh.embed.embed_items_notebook(docs_json, render_items);\n",
              "    for (const render_item of render_items) {\n",
              "      for (const root_id of render_item.root_ids) {\n",
              "\tconst id_el = document.getElementById(root_id)\n",
              "\tif (id_el.children.length && id_el.children[0].hasAttribute('data-root-id')) {\n",
              "\t  const root_el = id_el.children[0]\n",
              "\t  root_el.id = root_el.id + '-rendered'\n",
              "\t  for (const child of root_el.children) {\n",
              "            // Ensure JupyterLab does not capture keyboard shortcuts\n",
              "            // see: https://jupyterlab.readthedocs.io/en/4.1.x/extension/notebook.html#keyboard-interaction-model\n",
              "\t    child.setAttribute('data-lm-suppress-shortcuts', 'true')\n",
              "\t  }\n",
              "\t}\n",
              "      }\n",
              "    }\n",
              "  }\n",
              "  function get_bokeh(root) {\n",
              "    if (root.Bokeh === undefined) {\n",
              "      return null\n",
              "    } else if (root.Bokeh.version !== py_version) {\n",
              "      if (root.Bokeh.versions === undefined || !root.Bokeh.versions.has(py_version)) {\n",
              "\treturn null\n",
              "      }\n",
              "      return root.Bokeh.versions.get(py_version);\n",
              "    } else if (root.Bokeh.version === py_version) {\n",
              "      return root.Bokeh\n",
              "    }\n",
              "    return null\n",
              "  }\n",
              "  function is_loaded(root) {\n",
              "    var Bokeh = get_bokeh(root)\n",
              "    return (Bokeh != null && Bokeh.Panel !== undefined)\n",
              "  }\n",
              "  if (is_loaded(root)) {\n",
              "    embed_document(root);\n",
              "  } else {\n",
              "    var attempts = 0;\n",
              "    var timer = setInterval(function(root) {\n",
              "      if (is_loaded(root)) {\n",
              "        clearInterval(timer);\n",
              "        embed_document(root);\n",
              "      } else if (document.readyState == \"complete\") {\n",
              "        attempts++;\n",
              "        if (attempts > 200) {\n",
              "          clearInterval(timer);\n",
              "\t  var Bokeh = get_bokeh(root)\n",
              "\t  if (Bokeh == null || Bokeh.Panel == null) {\n",
              "            console.warn(\"Panel: ERROR: Unable to run Panel code because Bokeh or Panel library is missing\");\n",
              "\t  } else {\n",
              "\t    console.warn(\"Panel: WARNING: Attempting to render but not all required libraries could be resolved.\")\n",
              "\t    embed_document(root)\n",
              "\t  }\n",
              "        }\n",
              "      }\n",
              "    }, 25, root)\n",
              "  }\n",
              "})(window);</script>"
            ],
            "application/vnd.holoviews_exec.v0+json": "",
            "text/plain": [
              ":NdOverlay   [Variable]\n",
              "   :Curve   [date-month]   (value)"
            ]
          },
          "metadata": {
            "application/vnd.holoviews_exec.v0+json": {
              "id": "p1403"
            }
          },
          "execution_count": 65
        }
      ],
      "source": [
        "(\n",
        "    res\n",
        "    .with_columns(\n",
        "        pl.date(pl.col(\"YEAR\"), pl.col(\"MONTH\"), 1).alias(\"date-month\"),\n",
        "        pl.col(\"Rainfall (inches)\")*100,\n",
        "    )\n",
        "    .hvplot.line(\n",
        "        x=\"date-month\", y=[\"AMOUNT\", \"Rainfall (inches)\"],\n",
        "        by=['EXP_TYPE'],\n",
        "        rot=45,\n",
        "    )\n",
        ")"
      ]
    },
    {
      "cell_type": "markdown",
      "id": "1bf4c85a-c0d6-449a-afc0-9ddfa972a6f8",
      "metadata": {
        "id": "1bf4c85a-c0d6-449a-afc0-9ddfa972a6f8"
      },
      "source": [
        "We intially constructed the GPU engine with `raise_on_fail=True` to demonstrate the breadth of GPU support. Now, we'll demonstrate how a not yet GPU supported feature is handled gracefully when we set `raise_on_fail=False` (the default behavior for `engine=\"gpu\"`).\n",
        "\n",
        "When we use `rolling_mean`, our query smoothly falls back to the CPU to continue running rather than failing."
      ]
    },
    {
      "cell_type": "code",
      "execution_count": 66,
      "id": "d981aadf-240e-4b42-bd07-923b36c2f74a",
      "metadata": {
        "id": "d981aadf-240e-4b42-bd07-923b36c2f74a"
      },
      "outputs": [],
      "source": [
        "engine_with_fallback = pl.GPUEngine(\n",
        "    device=0, # This is the default\n",
        "    raise_on_fail=False, # Fallback to CPU if we can't run on the GPU (this is the default)\n",
        ")"
      ]
    },
    {
      "cell_type": "code",
      "execution_count": null,
      "id": "242bd5cc-9aa3-4e9a-8095-c7c46cea5075",
      "metadata": {
        "id": "242bd5cc-9aa3-4e9a-8095-c7c46cea5075"
      },
      "outputs": [],
      "source": [
        "%%time\n",
        "\n",
        "result = transactions.with_columns(\n",
        "    pl.col('AMOUNT').rolling_mean(\n",
        "        window_size=7\n",
        "    )\n",
        "     .alias('rolling_avg')\n",
        ").collect(engine=engine_with_fallback)\n",
        "\n",
        "result.head()"
      ]
    },
    {
      "cell_type": "markdown",
      "id": "0f1117ca-8667-49d7-a97e-1e01d9b2aa4b",
      "metadata": {
        "id": "0f1117ca-8667-49d7-a97e-1e01d9b2aa4b"
      },
      "source": [
        "# Conclusion\n",
        "\n",
        "With the new Polars GPU engine powered by cuDF, you can potentially get significant performance gains and lower costs for workflows processing 10-100+ GB of data.\n",
        "\n",
        "To learn more, we encourage you to visit the Polars GPU Support documentation or visit rapids.ai/cudf-polars."
      ]
    },
    {
      "cell_type": "code",
      "execution_count": null,
      "id": "5oxdKkfnnFq9",
      "metadata": {
        "id": "5oxdKkfnnFq9"
      },
      "outputs": [],
      "source": []
    }
  ],
  "metadata": {
    "accelerator": "GPU",
    "colab": {
      "gpuType": "T4",
      "provenance": []
    },
    "kernelspec": {
      "display_name": "Python 3",
      "name": "python3"
    },
    "language_info": {
      "codemirror_mode": {
        "name": "ipython",
        "version": 3
      },
      "file_extension": ".py",
      "mimetype": "text/x-python",
      "name": "python",
      "nbconvert_exporter": "python",
      "pygments_lexer": "ipython3",
      "version": "3.11.9"
    }
  },
  "nbformat": 4,
  "nbformat_minor": 5
}